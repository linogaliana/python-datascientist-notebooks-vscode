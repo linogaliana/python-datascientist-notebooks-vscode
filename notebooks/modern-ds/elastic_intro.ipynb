{
  "cells": [
    {
      "cell_type": "markdown",
      "metadata": {},
      "source": [
        "# Introduction à ElasticSearch pour la recherche textuelle\n",
        "\n",
        "Lino Galiana  \n",
        "2025-03-19\n",
        "\n",
        "Pour essayer les exemples présents dans ce tutoriel :\n",
        "\n",
        "Ce chapitre a été écrit avec [Milena Suarez-Castillo](https://milenasuarezcastillo.netlify.app/)\n",
        "et présente quelques éléments qui servent de base à un travail en cours\n",
        "sur les inégalités socioéconomiques dans les\n",
        "choix de consommation alimentaire.\n",
        "\n",
        "# 1. Introduction\n",
        "\n",
        "## 1.1 Réplication de ce chapitre\n",
        "\n",
        "Ce chapitre est plus exigeant en termes d’infrastructures que les précédents.\n",
        "Si la première partie de ce chapitre peut être menée avec une\n",
        "installation standard de `Python`, ce n’est pas le cas de la\n",
        "deuxième qui nécessite un serveur `ElasticSearch`. Les utilisateurs du\n",
        "[SSP Cloud](datalab.sspcloud.fr/) pourront répliquer les exemples de ce cours\n",
        "car cette technologie est disponible (que ce soit pour indexer une base ou\n",
        "pour requêter une base existante).\n",
        "\n",
        "⚠️ Ce\n",
        "chapitre nécessite une version particulière du\n",
        "package `ElasticSearch` pour tenir compte de l’héritage de la version 7 du moteur `Elastic`.\n",
        "Pour cela, faire"
      ],
      "id": "42d57641-7bf1-441c-83f4-c50ab3b0f9c9"
    },
    {
      "cell_type": "code",
      "execution_count": 1,
      "metadata": {},
      "outputs": [],
      "source": [
        "!pip install elasticsearch==8.2.0\n",
        "!pip install unidecode\n",
        "!pip install rapidfuzz\n",
        "!pip install xlrd"
      ],
      "id": "35fba6c3"
    },
    {
      "cell_type": "markdown",
      "metadata": {},
      "source": [
        "La première partie de ce tutoriel ne nécessite pas d’architecture particulière et\n",
        "peut ainsi être exécutée en utilisant les packages suivants :"
      ],
      "id": "7d01810b-33af-4ed2-aed8-a24ea1b4d7ee"
    },
    {
      "cell_type": "code",
      "execution_count": 2,
      "metadata": {},
      "outputs": [],
      "source": [
        "import time\n",
        "import pandas as pd"
      ],
      "id": "7684062e"
    },
    {
      "cell_type": "markdown",
      "metadata": {},
      "source": [
        "Le script `functions.py`, disponible sur `Github`,\n",
        "regroupe un certain nombre de fonctions utiles permettant\n",
        "d’automatiser certaines tâches de nettoyage classiques\n",
        "en NLP."
      ],
      "id": "9ccb18c1-93aa-4d38-8816-6ab1f2eeeebe"
    },
    {
      "cell_type": "markdown",
      "metadata": {},
      "source": [
        "<div class=\"alert alert-warning\" role=\"alert\">\n",
        "<h3 class=\"alert-heading\"><i class=\"fa-solid fa-lightbulb\"></i> Hint</h3>\n",
        "\n",
        "Plusieurs méthodes peuvent être mises en oeuvre pour récupérer\n",
        "le script d’utilitaires. Vous pouvez trouver en dessous\n",
        "de cet encadré une méthode qui va chercher la dernière\n",
        "version sur le dépôt `Github` du cours\n",
        "\n",
        "</div>"
      ],
      "id": "df2c36af-585a-4010-9130-96a5aa374065"
    },
    {
      "cell_type": "code",
      "execution_count": 3,
      "metadata": {},
      "outputs": [],
      "source": [
        "import requests\n",
        "url = \"https://github.com/linogaliana/python-datascientist/raw/main/content/modern-ds/functions.py\"\n",
        "r = requests.get(url, allow_redirects=True)\n",
        "\n",
        "open('functions.py', 'wb').write(r.content)"
      ],
      "id": "ec56b228"
    },
    {
      "cell_type": "markdown",
      "metadata": {},
      "source": [
        "Après l’avoir récupéré (cf. encadré dédié),\n",
        "il convient d’importer les fonctions sous forme de module:"
      ],
      "id": "fb3d8953-b849-4b2c-85f5-86e555d8fdbd"
    },
    {
      "cell_type": "code",
      "execution_count": 4,
      "metadata": {},
      "outputs": [],
      "source": [
        "import functions as fc"
      ],
      "id": "22c4547d"
    },
    {
      "cell_type": "markdown",
      "metadata": {},
      "source": [
        "## 1.2 Cas d’usage\n",
        "\n",
        "Ce *notebook* recense et propose d’appréhender quelques outils utilisés\n",
        "pour le papier présenté aux\n",
        "[Journées de Méthodologie Statistiques 2022: Galiana and Suarez-Castillo, *“Fuzzy matching on big-data: an illustration with scanner data and crowd-sourced nutritional data”*](http://jms-insee.fr/jms2022s28_2/)\n",
        "(travail en cours!)\n",
        "\n",
        "On va partir du cas d’usage suivant :\n",
        "\n",
        "> Combien de calories dans ma recette de cuisine de ce soir? Combien de calories dans mes courses de la semaine?\n",
        "\n",
        "L’objectif est de reconstituer, à partir de libellés de produits, les caractéristiques nutritionnelles d’une recette.\n",
        "Le problème est que les libellés des tickets de caisse ne sont pas des champs textuels très propres, ils contiennent,\n",
        "par exemple, beaucoup d’abbréviations, toutes n’étant pas évidentes.\n",
        "\n",
        "Voici par exemple une série de noms de produits qu’on va utiliser par la suite:"
      ],
      "id": "ff199e86-3cb4-4c8c-8e5e-533536ca82d8"
    },
    {
      "cell_type": "code",
      "execution_count": 5,
      "metadata": {},
      "outputs": [],
      "source": [
        "ticket = ['CROISSANTS X6 400G',\n",
        "          'MAQUEREAUX MOUTAR.',\n",
        "          'IGP OC SAUVIGNON B',\n",
        "          'LAIT 1/2 ECRM UHT',\n",
        "          '6 OEUFS FRAIS LOCA',\n",
        "          'ANANAS C2',\n",
        "          'L POMME FUDJI X6 CAL 75/80 1KG ENV',\n",
        "          'PLT MIEL',\n",
        "          'STELLA ARTOIS X6',\n",
        "          'COTES DU LUBERON AIGUEBRUN 75C']"
      ],
      "id": "c381cd2a"
    },
    {
      "cell_type": "markdown",
      "metadata": {},
      "source": [
        "A ces produits, s’ajoutent les ingrédients suivants, issus de la\n",
        "[recette du velouté de potiron et carottes de Marmiton](https://www.marmiton.org/recettes/recette_veloute-de-potiron-et-carottes_19009.aspx)\n",
        "qui sera notre plat principal :"
      ],
      "id": "4a13478a-df47-4d59-920f-6ab7ea6e4e56"
    },
    {
      "cell_type": "code",
      "execution_count": 6,
      "metadata": {},
      "outputs": [],
      "source": [
        "ingredients = ['500 g de carottes',\n",
        " '2 pommes de terre',\n",
        " \"1 gousse d'ail\",\n",
        " '1/2 l de lait',\n",
        " '1/2 l de bouillon de volaille',\n",
        " \"1 cuillère à soupe de huile d'olive\",\n",
        " '1 kg de potiron',\n",
        " '1 oignon',\n",
        " '10 cl de crème liquide (facultatif)']"
      ],
      "id": "89dc2dab"
    },
    {
      "cell_type": "markdown",
      "metadata": {},
      "source": [
        "Essayer de récupérer par web scraping cette liste est un bon exercice pour réviser\n",
        "les concepts [vus précédemment](#webscraping)\n",
        "\n",
        "On va donc créer une liste de course compilant\n",
        "ces deux\n",
        "listes hétérogènes de noms de produits:"
      ],
      "id": "4bd594d2-bec1-431f-b53f-d9eae88510ad"
    },
    {
      "cell_type": "code",
      "execution_count": 7,
      "metadata": {},
      "outputs": [],
      "source": [
        "libelles = ticket + ingredients"
      ],
      "id": "1dfe4d48"
    },
    {
      "cell_type": "markdown",
      "metadata": {},
      "source": [
        "On part avec cette liste dans notre supermarché virtuel. L’objectif sera de trouver\n",
        "une méthode permettant de passer à l’échelle:\n",
        "automatiser les traitements, effectuer des recherches efficaces, garder une certaine généralité et flexibilité.\n",
        "\n",
        "Ce chapitre montrera par l’exemple l’intérêt d’`Elastic` par rapport à une solution\n",
        "qui n’utiliserait que du `Python`.\n",
        "\n",
        "# 2. Données utilisées\n",
        "\n",
        "## 2.1 Les bases offrant des informations nutritionnelles\n",
        "\n",
        "Pour un nombre restreint de produits, on pourrait bien sûr chercher à\n",
        "la main les caractéristiques des produits en utilisant les\n",
        "fonctionalités d’un moteur de recherche:\n",
        "\n",
        "![](https://minio.lab.sspcloud.fr/lgaliana/generative-art/pythonds/fraise.png)\n",
        "\n",
        "Cependant, cette approche serait très fastidieuse et\n",
        "nécessiterait de récuperer, à la main, chaque caractéristique\n",
        "pour chaque produit. Ce n’est donc pas envisageable.\n",
        "\n",
        "Les données disponibles sur `Google` viennent de l’[USDA](https://fdc.nal.usda.gov/),\n",
        "l’équivalent américain de notre Ministère de l’Agriculture.\n",
        "Cependant, pour des recettes comportant des noms de produits français, ainsi que\n",
        "des produits potentiellement transformés, ce n’est pas très pratique d’utiliser\n",
        "une base de données de produits agricoles en Français. Pour cette raison,\n",
        "nous proposons d’utiliser les deux bases suivantes,\n",
        "qui servent de base au travail de\n",
        "[Galiana et Suarez Castillo (2022)](https://dl.acm.org/doi/10.1145/3524458.3547244)\n",
        "\n",
        "-   L’[`OpenFoodFacts` database](https://fr.openfoodfacts.org/) qui est une base  \n",
        "    collaborative française de produits alimentaires. Issue d’un projet [Data4Good](https://dataforgood.fr/), il s’agit d’une\n",
        "    alternative *opensource* et *opendata* à la base de données de l’application [Yuka](https://yuka.io/).\n",
        "-   La table de composition nutritionnelle [`Ciqual`](https://ciqual.anses.fr) produite par l’Anses. Celle-ci\n",
        "    propose la composition nutritionnelle *moyenne* des aliments les plus consommés en France. Il s’agit d’une base de données\n",
        "    enrichie par rapport à celle de l’USDA puisqu’elle ne se cantonne pas aux produits agricoles non transformés.\n",
        "    Avec cette base, il ne s’agit pas de trouver un produit exact mais essayer de trouver un produit type proche du produit\n",
        "    dont on désire connaître les caractéristiques.\n",
        "\n",
        "![](https://minio.lab.sspcloud.fr/lgaliana/generative-art/pythonds/openfood.png)\n",
        "\n",
        "## 2.2 Import\n",
        "\n",
        "Quelques fonctions utiles sont regroupées dans le script `functions.py` et importées dans le *notebook*.\n",
        "\n",
        "La base `OpenFood` peut être récupérée en ligne\n",
        "via la fonction `fc.import_openfood`. Néanmoins, cette opération nécessitant\n",
        "un certain temps (les données brutes faisant autour de 2Go), nous proposons une méthode\n",
        "pour les utilisateurs du `SSP Cloud` où une version est disponible sur\n",
        "l’espace de stockage.\n",
        "\n",
        "La base `Ciqual`, qui plus légère, est récupérée elle directement en ligne\n",
        "via la fonction `fc.import_ciqual`."
      ],
      "id": "b2fe6554-6b08-44cf-8ee7-edd61f0e5f50"
    },
    {
      "cell_type": "code",
      "execution_count": 8,
      "metadata": {},
      "outputs": [],
      "source": [
        "# Pour les utilisateurs du SSP Cloud\n",
        "openfood = fc.import_openfood_s3()\n",
        "# Pour les utilisateurs hors du SSP Cloud\n",
        "# openfood = fc.import_openfood()\n",
        "ciqual = fc.import_ciqual()"
      ],
      "id": "78514317"
    },
    {
      "cell_type": "code",
      "execution_count": 10,
      "metadata": {},
      "outputs": [],
      "source": [
        "openfood.head()"
      ],
      "id": "26809eab"
    },
    {
      "cell_type": "code",
      "execution_count": 11,
      "metadata": {},
      "outputs": [],
      "source": [
        "ciqual.head()"
      ],
      "id": "941ca64d"
    },
    {
      "cell_type": "markdown",
      "metadata": {},
      "source": [
        "# 3. ElasticSearch ? Mais ce n’est pas du Python ?!\n",
        "\n",
        "## 3.1 Qu’est-ce qu’Elastic ?\n",
        "\n",
        "`ElasticSearch` c’est un logiciel qui fournit un moteur de recherche installé sur\n",
        "un serveur (ou une machine personnelle) qu’il est possible de requêter depuis un client\n",
        "(une session `Python` par exemple).\n",
        "C’est un moteur de recherche\n",
        "très performant, puissant et flexible, extrêmement utilisé dans le domaine de la datascience\n",
        "sur données textuelles.\n",
        "\n",
        "Un cas d’usage est par exemple de trouver,\n",
        "dans un corpus de grande dimension\n",
        "(plusieurs sites web, livres…), un certain texte en s’autorisant des termes voisins\n",
        "(verbes conjugués, fautes de frappes…).\n",
        "\n",
        "Un **index** est une collection de documents dans lesquels on souhaite chercher, préalablement ingérés dans un moteur de recherche les documents sont les établissements.\n",
        "L’**indexation** consiste à pré-réaliser les traitements des termes des documents pour gagner en efficacité lors de la phase de recherche.\n",
        "L’indexation est faite une fois pour de nombreuses recherches potentielles, pour lesquelles la rapidité de réponse peut être cruciale.\n",
        "Après avoir indexé une base, on effectuera des **requêtes** qui sont des recherches\n",
        "d’un document dans la base indexé (équivalent de notre *web*) à partir de\n",
        "termes de recherche normalisés.\n",
        "\n",
        "Le principe est le même que celui d’un moteur de recherche du web comme `Google`.\n",
        "D’un côté, l’ensemble à parcourir est indexé pour être en\n",
        "mesure de parcourir de manière efficace l’ensemble du corpus.\n",
        "De l’autre côté, la phase de recherche permet de retrouver l’élément du corpus le\n",
        "plus cohérent avec la requête de recherche.\n",
        "L’indexation consiste, par exemple,\n",
        "à pré-définir des traitements des termes du corpus pour gagner en efficacité\n",
        "lors de la phase de recherche. En effet, l’indexation est une opération peu fréquente\n",
        "par rapport à la recherche. Pour cette dernière, l’efficacité est cruciale (un site web\n",
        "qui prend plusieurs secondes à interpréter une requête simple ne sera pas utilisé). Mais, pour\n",
        "l’indexation, ceci est moins crucial.\n",
        "\n",
        "Les documents sont constitués de variables, les **champs** (*‘fields’*),\n",
        "dont le type est spécifié (*“text”*, *“keywoard”*, *“geo_point”*, *“numeric”*…) à l’indexation.\n",
        "\n",
        "`ElasticSearch` propose une interface graphique nommée `Kibana`.\n",
        "Celle-ci est pratique\n",
        "pour tester des requêtes et pour superviser le serveur Elastic. Cependant,\n",
        "pour le passage à l’échelle, notamment pour mettre en lien une base indexée dans\n",
        "Elastic avec une autre source de données, les API proposées par `ElasticSearch`\n",
        "sont beaucoup plus pratiques. Ces API permettent de connecter une session `Python` (idem pour `R`)\n",
        "à un serveur `Elastic` afin de communiquer avec lui\n",
        "(échanger des flux via une API REST).\n",
        "\n",
        "## 3.2 `ElasticSearch` et `Python`\n",
        "\n",
        "En `Python`, le package officiel est [`elasticsearch`](https://elasticsearch-py.readthedocs.io/en/v7.12.0/).\n",
        "Ce dernier permet de configurer les paramètres pour interagir avec un serveur, indexer\n",
        "une ou plusieurs bases, envoyer de manière automatisée un ensemble de requêtes\n",
        "au serveur, récupérer les résultats directement dans une session `Python`…\n",
        "\n",
        "# 4. Premières limites de la distance de Levenshtein\n",
        "\n",
        "Pour évaluer la similarité entre deux données textuelles, il est\n",
        "nécessaire de transformer l’information qualitative qu’est le nom\n",
        "du produit en information quantitative qui permettra de rapprocher\n",
        "différents types de produits.\n",
        "Les ordinateurs ont en effet besoin de transformer les informations\n",
        "textuelles en information numérique pour être en mesure\n",
        "de les exploiter.\n",
        "\n",
        "On appelle **distance de Levenshtein** entre deux chaînes de caractères\n",
        "le coût minimal (en nombre d’opérations)\n",
        "pour transformer la première en la seconde par:\n",
        "\n",
        "-   substitution\n",
        "-   insertion\n",
        "-   suppression\n",
        "\n",
        "La distance de Levenshtein est une mesure très utilisée pour comparer la similarité entre deux\n",
        "chaînes de caractères. Il existe plusieurs packages pour calculer cette dernière.\n",
        "`fuzzywuzzy` est le plus connu mais ce dernier est assez lent (implémentation en pur `Python`).\n",
        "Le package `rapidfuzz`, présenté ici, propose les mêmes fonctionalités mais est plus rapide car implémenté\n",
        "en `C++` qui est plus efficace.\n",
        "Cependant, nous allons le voir, ce package ne nous\n",
        "offrira pas des performances\n",
        "assez bonnes pour que nous puissions\n",
        "passer à l’échelle.\n",
        "\n",
        "Voici trois exemples pour évaluer le coût de chaque\n",
        "opération:"
      ],
      "id": "19859e5d-200d-461b-8ec0-bcd9ce0f610d"
    },
    {
      "cell_type": "code",
      "execution_count": 12,
      "metadata": {},
      "outputs": [],
      "source": [
        "import rapidfuzz\n",
        "\n",
        "[\n",
        "  rapidfuzz.distance.Levenshtein.distance('salut','slut', weights =(1,1,1)), # Suppression \n",
        "  rapidfuzz.distance.Levenshtein.distance('salut','saalut', weights =(1,1,1)), # Addition \n",
        "  rapidfuzz.distance.Levenshtein.distance('salut','selut', weights =(1,1,1)) # Substitution\n",
        "] "
      ],
      "id": "387ca910"
    },
    {
      "cell_type": "markdown",
      "metadata": {},
      "source": [
        "## 4.1 Premier essai: les produits `Ciqual` les plus similaires aux produits de la recette\n",
        "\n",
        "On pourrait écrire une fonction qui prend en argument\n",
        "une liste de libellés d’intérêt et une liste de candidat au *match* et\n",
        "renvoie le libellé le plus proche.\n",
        "Cependant, le risque est que cet algorithme soit relativement lent s’il n’est pas codé\n",
        "parfaitement.\n",
        "\n",
        "Il est, à mon avis, plus simple, quand\n",
        "on est habitué à la logique `Pandas`,\n",
        "de faire un produit cartésien pour obtenir un vecteur mettant en miroir\n",
        "chaque produit de notre recette avec l’ensembles des produits `Ciqual` et ensuite comparer les deux vecteurs pour prendre,\n",
        "pour chaque produit, le meilleur *match*.\n",
        "\n",
        "Les bases étant de taille limitée, le produit cartésien n’est pas problématique.\n",
        "Avec des bases plus conséquentes, une stratégie plus parcimonieuse en mémoire devrait être envisagée.\n",
        "\n",
        "Pour faire cette opération, on va utiliser la fonction `match_product` de\n",
        "note script d’utilitaires."
      ],
      "id": "61d63288-af45-4c69-9add-87d2efdc979b"
    },
    {
      "cell_type": "code",
      "execution_count": 13,
      "metadata": {},
      "outputs": [],
      "source": [
        "dist_leven = fc.match_product(libelles, ciqual)\n",
        "dist_leven"
      ],
      "id": "288867ce"
    },
    {
      "cell_type": "markdown",
      "metadata": {},
      "source": [
        "Cette première étape naïve est décevante à plusieurs égards:\n",
        "\n",
        "-   Certes, on a des matches cohérent (par exemple “Oignon rouge, cru” et “1 oignon”)\n",
        "    mais on a plus de couples incohérents ;\n",
        "-   Le temps de calcul peut apparaître faible mais le passage à l’échelle risque d’être compliqué ;\n",
        "-   Les besoins mémoires sont potentiellement importants lors de l’appel à\n",
        "    `rapidfuzz.process.extract` ce qui peut bloquer le passage à l’échelle ;\n",
        "-   La distance textuelle n’est pas nécessairement la plus pertinente.\n",
        "\n",
        "On a, en fait, négligé une étape importante: la normalisation (ou nettoyage des textes) présentée dans la\n",
        "partie [NLP](#nlp), notamment:\n",
        "\n",
        "-   harmonisation de la casse, suppression des accents…\n",
        "-   suppressions des mots outils (e.g. ici on va d’abord négliger les quantités pour trouver la nature de l’aliment, en particulier pour `Ciqual`)\n",
        "\n",
        "<table>\n",
        "<colgroup>\n",
        "<col style=\"width: 50%\" />\n",
        "<col style=\"width: 50%\" />\n",
        "</colgroup>\n",
        "<tbody>\n",
        "<tr class=\"odd\">\n",
        "<td style=\"text-align: left;\"><div width=\"50.0%\" data-layout-align=\"left\">\n",
        "<figure>\n",
        "<img src=\"https://minio.lab.sspcloud.fr/lgaliana/generative-art/pythonds/wordcloud_relevanc_start.png\" alt=\"Scanner-data avant nettoyage\" />\n",
        "<figcaption aria-hidden=\"true\">Scanner-data avant nettoyage</figcaption>\n",
        "</figure>\n",
        "</div></td>\n",
        "<td style=\"text-align: left;\"><div width=\"50.0%\" data-layout-align=\"left\">\n",
        "<figure>\n",
        "<img src=\"https://minio.lab.sspcloud.fr/lgaliana/generative-art/pythonds/wordcloud_openfood_start.png\" alt=\"OpenFood data avant nettoyage\" />\n",
        "<figcaption aria-hidden=\"true\">OpenFood data avant nettoyage</figcaption>\n",
        "</figure>\n",
        "</div></td>\n",
        "</tr>\n",
        "</tbody>\n",
        "</table>\n",
        "\n",
        "<table>\n",
        "<colgroup>\n",
        "<col style=\"width: 50%\" />\n",
        "<col style=\"width: 50%\" />\n",
        "</colgroup>\n",
        "<tbody>\n",
        "<tr class=\"odd\">\n",
        "<td style=\"text-align: left;\"><div width=\"50.0%\" data-layout-align=\"left\">\n",
        "<figure>\n",
        "<img src=\"https://minio.lab.sspcloud.fr/lgaliana/generative-art/pythonds/wordcloud_relevanc_clean.png\" alt=\"Scanner-data après nettoyage\" />\n",
        "<figcaption aria-hidden=\"true\">Scanner-data après nettoyage</figcaption>\n",
        "</figure>\n",
        "</div></td>\n",
        "<td style=\"text-align: left;\"><div width=\"50.0%\" data-layout-align=\"left\">\n",
        "<figure>\n",
        "<img src=\"https://minio.lab.sspcloud.fr/lgaliana/generative-art/pythonds/wordcloud_openfood_clean.png\" alt=\"OpenFood data après nettoyage\" />\n",
        "<figcaption aria-hidden=\"true\">OpenFood data après nettoyage</figcaption>\n",
        "</figure>\n",
        "</div></td>\n",
        "</tr>\n",
        "</tbody>\n",
        "</table>\n",
        "\n",
        "Faisons donc en apparence un retour en arrière qui sera\n",
        "néanmoins salvateur pour améliorer\n",
        "la pertinence des liens faits entre nos\n",
        "bases de données.\n",
        "\n",
        "# 5. Preprocessing pour améliorer la pertinence des matches\n",
        "\n",
        "## 5.1 Objectif\n",
        "\n",
        "Le *preprocessing* correspond à l’ensemble des opérations\n",
        "ayant lieu avant l’analyse à proprement parler.\n",
        "Ici, ce *preprocessing* est intéressant à plusieurs\n",
        "égards:\n",
        "\n",
        "-   Il réduit le bruit dans nos jeux de données (par exemple des mots de liaisons) ;\n",
        "-   Il permet de normaliser et harmoniser les syntaxes dans nos différentes sources.\n",
        "\n",
        "L’objectif est ainsi de réduire nos noms de produits à la substantifique moelle\n",
        "pour améliorer la pertinence de la recherche.\n",
        "\n",
        "Pour être pertinent, le *preprocessing* comporte généralement deux types de\n",
        "traitements. En premier lieu, ceux qui sont généraux et applicables\n",
        "à tous types de corpus textuels: retrait des *stopwords*, de la ponctuation, etc.\n",
        "les méthodes disponibles dans la partie [NLP](#NLP).\n",
        "Ensuite, il est nécessaire de mettre en oeuvre des nettoyages plus spécifiques à chaque corpus.\n",
        "Par exemple dans la source `Ciqual`,\n",
        "la cuisson est souvent renseignée et bruite les appariemments.\n",
        "\n",
        "## 5.2 Démarche"
      ],
      "id": "c37a9f87-0cb6-420d-aae9-dd03443792bd"
    },
    {
      "cell_type": "markdown",
      "metadata": {},
      "source": [
        "<div class=\"alert alert-success\" role=\"alert\">\n",
        "<h3 class=\"alert-heading\"><i class=\"fa-solid fa-pencil\"></i> Exercice 1: preprocessing</h3>\n",
        "\n",
        "1.  Pour transformer les lettres avec accents en leur équivalent\n",
        "    sans accent, la fonction `unidecode`\n",
        "    (du package du même nom) est pratique.\n",
        "    La tester sur le jeu de données `ciqual` en créant une nouvelle\n",
        "    colonne nommée `libel_clean`\n",
        "\n",
        "2.  La casse différente selon les jeux de données peut être pénalisante\n",
        "    pour trouver des produits similaires. Pour éviter ces problèmes,\n",
        "    mettre tout en majuscule.\n",
        "\n",
        "3.  Les informations sur les quantités ou le *packaging* peuvent apporter\n",
        "    du bruit dans notre comparaison. Nous allons retirer ces mots,\n",
        "    à travers la liste `['KG','CL','G','L','CRUE?S?', 'PREEMBALLEE?S?']`,\n",
        "    qu’on peut considérer comme un dictionnaire de *stop-words* métier.\n",
        "    Pour cela, il convient d’utiliser une expression régulière dans la méthode\n",
        "    `str.replace` de `Pandas`.\n",
        "    Avec ceux-ci, on va utiliser la liste des *stop-words* de\n",
        "    la librairie `nltk` pour retirer les *stop-words* classiques (\\_“le”,“la”, etc.).\n",
        "    La librairie `SpaCy`, plus riche, pourrait être utilisée ; nous laissons\n",
        "    cela sous la forme d’exercice supplémentaire.\n",
        "\n",
        "4.  On a encore des signes de ponctuation ou des chiffres qui peuvent\n",
        "    poluer la comparaison. Les retirer grâce à la méthode `replace` et\n",
        "    une regex `[^a-zA-Z]`\n",
        "\n",
        "5.  Enfin, par sécurité, on peut supprimer les espaces multiples.\n",
        "    Utiliser la regex `'([ ]{2,})'` pour cela. Observer le résultat\n",
        "    final.\n",
        "\n",
        "6.  **(Optionnel)**. Comme exercice supplémentaire, faire la même chose avec les\n",
        "    *pipelines* `SpaCy`.\n",
        "\n",
        "</div>"
      ],
      "id": "2c183492-4580-4acc-a19a-c4a1236e624a"
    },
    {
      "cell_type": "markdown",
      "metadata": {},
      "source": [
        "A l’issue de la question 1, le jeu de données `ciqual` devrait\n",
        "ressembler à celui-ci :\n",
        "\n",
        "Après avoir mis en majuscule, on se retrouve avec le jeu de données\n",
        "suivant :\n",
        "\n",
        "Après retrait des *stop-words*, nos libellés prennent\n",
        "la forme suivante :\n",
        "\n",
        "La regex pour éliminer les caractères de ponctuation permet ainsi d’obtenir:\n",
        "\n",
        "Enfin, à l’issue de la question 5, le `DataFrame` obtenu est le suivant :\n",
        "\n",
        "Ces étapes de nettoyage ont ainsi permis de concentrer l’information\n",
        "dans les noms de produits sur ce qui l’identifie vraiment.\n",
        "\n",
        "## 5.3 Approche systématique\n",
        "\n",
        "Pour systématiser cette approche à nos différents `DataFrame`, rien de mieux\n",
        "qu’une fonction. Celle-ci est présente dans le module `functions`\n",
        "sous le nom `clean_libelle`."
      ],
      "id": "5c223c82-5d82-4788-bc60-b4e249686562"
    },
    {
      "cell_type": "code",
      "execution_count": 19,
      "metadata": {},
      "outputs": [],
      "source": [
        "from functions import clean_libelle"
      ],
      "id": "c4d4d213"
    },
    {
      "cell_type": "markdown",
      "metadata": {},
      "source": [
        "Pour résumer l’exercice précédent, cette fonction va :\n",
        "\n",
        "-   Harmoniser la casse et retirer les accents (voir `functions.py`) ;\n",
        "-   Retirer tout les caractères qui ne sont pas des lettres (chiffres, ponctuations) ;\n",
        "-   Retirer les caractères isolés."
      ],
      "id": "4aa279b5-8cd5-4523-8a64-a368fe44cd81"
    },
    {
      "cell_type": "code",
      "execution_count": 20,
      "metadata": {},
      "outputs": [],
      "source": [
        "import nltk\n",
        "from nltk.corpus import stopwords\n",
        "nltk.download('stopwords')\n",
        "\n",
        "stop_words = ['KG','CL','G','L','CRUE?S?', 'PREEMBALLEE?S?']\n",
        "stop_words += [l.upper() for l in stopwords.words('french')]\n",
        "\n",
        "replace_regex = {r'[^A-Z]': ' ', r'\\b[A-Z0-9]{1,2}?\\b':' '} # "
      ],
      "id": "14ae122c"
    },
    {
      "cell_type": "markdown",
      "metadata": {},
      "source": [
        "Cela permet d’obtenir les bases nettoyées suivantes :"
      ],
      "id": "e6524e3c-af88-4574-be65-610c9bf15551"
    },
    {
      "cell_type": "code",
      "execution_count": 21,
      "metadata": {},
      "outputs": [],
      "source": [
        "ciqual = clean_libelle(ciqual, yvar = 'alim_nom_fr', replace_regex = replace_regex, stopWords = stop_words)\n",
        "ciqual.sample(10)"
      ],
      "id": "e1d76764"
    },
    {
      "cell_type": "code",
      "execution_count": 22,
      "metadata": {},
      "outputs": [],
      "source": [
        "openfood = clean_libelle(openfood, yvar = 'product_name', replace_regex = replace_regex, stopWords = stop_words)\n",
        "openfood.sample(10)"
      ],
      "id": "02f6569e"
    },
    {
      "cell_type": "code",
      "execution_count": 23,
      "metadata": {},
      "outputs": [],
      "source": [
        "courses = pd.DataFrame(libelles, columns = ['libel'])\n",
        "courses = clean_libelle(courses, yvar = 'libel', replace_regex = replace_regex, stopWords = stop_words)\n",
        "courses.sample(10)"
      ],
      "id": "8d3e7e8f"
    },
    {
      "cell_type": "markdown",
      "metadata": {},
      "source": [
        "Les noms de produits sont déjà plus harmonisés.\n",
        "Voyons voir si cela permet de trouver un\n",
        "*match* dans l’Openfood database:"
      ],
      "id": "3446d8d9-3e10-4f69-9736-d42ba636618a"
    },
    {
      "cell_type": "code",
      "execution_count": 24,
      "metadata": {},
      "outputs": [],
      "source": [
        "dist_leven_openfood = fc.match_product(courses[\"libel_clean\"], openfood, \"libel_clean\")\n",
        "dist_leven_openfood.sample(10)"
      ],
      "id": "588cfd7d"
    },
    {
      "cell_type": "markdown",
      "metadata": {},
      "source": [
        "Pas encore parfait, mais on progresse sur les produits appariés!\n",
        "Concernant le temps de calcul, les quelques secondes nécessaires à\n",
        "ce calcul peuvent apparaître un faible prix à payer. Cependant,\n",
        "il convient de rappeler que le nombre de produits dans l’ensemble\n",
        "de recherche est faible. Cette solution n’est donc pas généralisable.\n",
        "\n",
        "## 5.4 Réduire les temps de recherche\n",
        "\n",
        "Finalement, l’idéal serait de disposer d’un **moteur de recherche** adapté à notre besoin,\n",
        "contenant les produits candidats, que l’on pourrait interroger, rapide en lecture, capable de classer les échos renvoyés par pertinence, que l’on pourrait requêter de manière flexible.\n",
        "\n",
        "Par exemple, on pourrait vouloir signaler qu’un\n",
        "écho nous intéresse seulement si la donnée calorique n’est pas manquante.\n",
        "On pourrait même vouloir qu’il effectue pour nous des prétraitements sur les données.\n",
        "\n",
        "Cela paraît beaucoup demander. Mais c’est exactement ce que fait `ElasticSearch`.\n",
        "\n",
        "# 6. Indexer une base\n",
        "\n",
        "A partir de maintenant, commence, à proprement parler, la démonstration `Elastic`.\n",
        "Cette\n",
        "partie développe les éléments les plus techniques, à savoir l’indexation d’une base.\n",
        "Tous les utilisateurs d’`Elastic` n’ont pas nécessairement à passer par là, ils peuvent\n",
        "trouver une base déjà indexée, idéalement par un *data engineer* qui aura optimisé\n",
        "les traitements.\n",
        "\n",
        "Les utilisateurs du [SSP Cloud](https://datalab.sspcloud.fr/accueil), architecture qui\n",
        "repose sur la technologie [Kubernetes](https://kubernetes.io/) peuvent\n",
        "répliquer les éléments de la suite du document.\n",
        "\n",
        "## 6.1 Créer un cluster `Elastic` sur le DataLab\n",
        "\n",
        "Pour lancer un service `Elastic`, il faut cliquer sur [ce lien](https://datalab.sspcloud.fr/launcher/databases/elastic?autoLaunch=false).\n",
        "\n",
        "Une fois créé, vous pouvez explorer l’interface graphique `Kibana`.\n",
        "Cependant, grâce à l’API `Elastic`\n",
        "de `Python`, on se passera de celle-ci. Donc, en pratique,\n",
        "une fois lancé, pas besoin d’ouvrir ce service `Elastic` pour continuer à suivre[1].\n",
        "\n",
        "Dans un terminal, vous pouvez aussi vérifier que vous êtes en mesure de dialoguer avec votre cluster `Elastic`,\n",
        "qui est prêt à vous écouter:\n",
        "\n",
        "``` shell\n",
        "kubectl get statefulset\n",
        "```\n",
        "\n",
        "Passer par la ligne de commande serait peu commode pour industrialiser notre\n",
        "recherche.\n",
        "Nous allons utiliser la librairie `elasticsearch` pour dialoguer avec notre moteur de recherche Elastic.\n",
        "Les instructions ci-dessous indiquent comment établir la connection.\n",
        "\n",
        "[1] Le lancement du service a créé dans votre `NAMESPACE Kubernetes` (l’ensemble de tout vos services) un cluster `Elastic`.\n",
        "Vous n’avez droit qu’à un cluster par *namespace* (ou compte d’utilisateur).\n",
        "Votre service `Jupyter`, `VSCode`, `RStudio`, etc. est associé au même *namespace*.\n",
        "De même qu’il n’est pas nécessaire de comprendre comment fonctionne le moteur d’une voiture pour conduire,\n",
        "il n’est pas nécessaire de comprendre la manière dont tout ce beau monde dialogue pour pouvoir utiliser le `SSP Cloud`."
      ],
      "id": "a4027b5f-1463-4308-94f3-2a159018f530"
    },
    {
      "cell_type": "code",
      "execution_count": 25,
      "metadata": {},
      "outputs": [],
      "source": [
        "from elasticsearch import Elasticsearch\n",
        "HOST = 'elasticsearch-master'\n",
        "\n",
        "def elastic():\n",
        "    \"\"\"Connection avec Elastic sur le data lab\"\"\"\n",
        "    es = Elasticsearch([{'host': HOST, 'port': 9200, 'scheme': 'http'}], http_compress=True, request_timeout=200)\n",
        "    return es\n",
        "\n",
        "es = elastic()"
      ],
      "id": "f3dbcfb6"
    },
    {
      "cell_type": "markdown",
      "metadata": {},
      "source": [
        "    <Elasticsearch([{'host': 'elasticsearch-master', 'port': 9200}])>\n",
        "\n",
        "Maintenant que la connection est établie, deux étapes nous attendent:\n",
        "\n",
        "1.  **Indexation** Envoyer les documents parmi lesquels on veut chercher des echos pertinents dans notre elastic. Un index est une collection de document. Nous pourrions en créer deux : un pour les produits ciqual, un pour les produits openfood\n",
        "2.  **Requête** Chercher les documents les plus pertinents suivant une recherche textuelle flexible. Nous allons rechercher les libellés de notre recette et de notre liste de course.\n",
        "\n",
        "## 6.2 Première indexation\n",
        "\n",
        "On crée donc nos deux index:"
      ],
      "id": "fddac0e7-4067-4fef-bb2e-66952486e304"
    },
    {
      "cell_type": "code",
      "execution_count": 26,
      "metadata": {},
      "outputs": [],
      "source": [
        "if not es.indices.exists(index = 'openfood'):\n",
        "    es.indices.create(index = 'openfood')\n",
        "if not es.indices.exists(index = 'ciqual'):\n",
        "    es.indices.create(index = 'ciqual')"
      ],
      "id": "b52d6938"
    },
    {
      "cell_type": "markdown",
      "metadata": {},
      "source": [
        "Pour l’instant, nos index sont vides! Ils contiennent 0 documents."
      ],
      "id": "b7387d73-acda-40ed-adfa-022855982327"
    },
    {
      "cell_type": "code",
      "execution_count": 27,
      "metadata": {},
      "outputs": [],
      "source": [
        "es.count(index = 'openfood')"
      ],
      "id": "f3560b7d"
    },
    {
      "cell_type": "markdown",
      "metadata": {},
      "source": [
        "    {'count': 0, '_shards': {'total': 1, 'successful': 1, 'skipped': 0, 'failed': 0}}\n",
        "\n",
        "Nous allons en rajouter quelques-uns !"
      ],
      "id": "6b62be64-ca25-4109-83c9-f11201ac7414"
    },
    {
      "cell_type": "code",
      "execution_count": 28,
      "metadata": {},
      "outputs": [],
      "source": [
        "es.create(index = 'openfood',  id = 1, body = {'product_name': 'Tarte noix de coco', 'product_name_clean': 'TARTE NOIX COCO'})\n",
        "es.create(index = 'openfood',  id = 2, body = {'product_name': 'Noix de coco', 'product_name_clean': 'NOIX COCO'})\n",
        "es.create(index = 'openfood',  id = 3, body = {'product_name': 'Beurre doux', 'product_name_clean': 'BEURRE DOUX'})"
      ],
      "id": "8f384f17"
    },
    {
      "cell_type": "code",
      "execution_count": 29,
      "metadata": {},
      "outputs": [],
      "source": [
        "es.count(index = 'openfood')"
      ],
      "id": "75b07c1e"
    },
    {
      "cell_type": "markdown",
      "metadata": {},
      "source": [
        "    {'count': 3, '_shards': {'total': 1, 'successful': 1, 'skipped': 0, 'failed': 0}}\n",
        "\n",
        "Dans l’interface graphique `Kibana`,\n",
        "on peut vérifier que l’indexation\n",
        "a bien eue lieu en allant dans `Management > Stack Management`\n",
        "\n",
        "![](https://minio.lab.sspcloud.fr/lgaliana/generative-art/pythonds/index_management.png)\n",
        "\n",
        "## 6.3 Première recherche\n",
        "\n",
        "Faisons notre première recherche: cherchons des noix de pécan!"
      ],
      "id": "f02fd0de-6db1-480d-a00d-3ae527dc743c"
    },
    {
      "cell_type": "code",
      "execution_count": 30,
      "metadata": {},
      "outputs": [],
      "source": [
        "es.search(index = 'openfood', q = 'noix de pécan')"
      ],
      "id": "7fcdc991"
    },
    {
      "cell_type": "markdown",
      "metadata": {},
      "source": [
        "    ObjectApiResponse({'took': 116, 'timed_out': False, '_shards': {'total': 1, 'successful': 1, 'skipped': 0, 'failed': 0}, 'hits': {'total': {'value': 2, 'relation': 'eq'}, 'max_score': 0.9400072, 'hits': [{'_index': 'openfood', '_type': '_doc', '_id': '2', '_score': 0.9400072, '_source': {'product_name': 'Noix de coco', 'product_name_clean': 'NOIX COCO'}}, {'_index': 'openfood', '_type': '_doc', '_id': '1', '_score': 0.8272065, '_source': {'product_name': 'Tarte noix de coco', 'product_name_clean': 'TARTE NOIX COCO'}}]}})\n",
        "\n",
        "Intéressons nous aux `hits` (résultats pertinents, ou echos) : nous en avons 2.\n",
        "Le score maximal parmi les hits est mentionné dans `max_score` et correspond à celui du deuxième document indexé.\n",
        "\n",
        "`Elastic` nous fournit ici un **score de pertinence** dans notre recherche d’information, et classe ainsi les documents renvoyés.\n",
        "\n",
        "Ici nous utilisons la configuration par défaut. Mais comment est calculé ce score? Demandons à Elastic de nous expliquer le score du document `2` dans la requête `\"noix de pécan\"`."
      ],
      "id": "3b548ff0-e8e4-4d25-9f76-b6449522a17c"
    },
    {
      "cell_type": "code",
      "execution_count": 31,
      "metadata": {},
      "outputs": [],
      "source": [
        "es.explain(index = 'openfood', id = 2, q = 'noix de pécan')"
      ],
      "id": "79ea5544"
    },
    {
      "cell_type": "markdown",
      "metadata": {},
      "source": [
        "    ObjectApiResponse({'_index': 'openfood', '_type': '_doc', '_id': '2', 'matched': True, 'explanation': {'value': 0.9400072, 'description': 'max of:', 'details': [{'value': 0.49917626, 'description': 'sum of:', 'details': [{'value': 0.49917626, 'description': 'weight(product_name_clean:noix in 1) [PerFieldSimilarity], result of:', 'details': [{'value': 0.49917626, 'description': 'score(freq=1.0), computed as boost * idf * tf from:', 'details': [{'value': 2.2, 'description': 'boost', 'details': []}, {'value': 0.47000363, 'description': 'idf, computed as log(1 + (N - n + 0.5) / (n + 0.5)) from:', 'details': [{'value': 2, 'description': 'n, number of documents containing term', 'details': []}, {'value': 3, 'description': 'N, total number of documents with field', 'details': []}]}, {'value': 0.48275858, 'description': 'tf, computed as freq / (freq + k1 * (1 - b + b * dl / avgdl)) from:', 'details': [{'value': 1.0, 'description': 'freq, occurrences of term within document', 'details': []}, {'value': 1.2, 'description': 'k1, term saturation parameter', 'details': []}, {'value': 0.75, 'description': 'b, length normalization parameter', 'details': []}, {'value': 2.0, 'description': 'dl, length of field', 'details': []}, {'value': 2.3333333, 'description': 'avgdl, average length of field', 'details': []}]}]}]}]}, {'value': 0.9400072, 'description': 'sum of:', 'details': [{'value': 0.4700036, 'description': 'weight(product_name:noix in 1) [PerFieldSimilarity], result of:', 'details': [{'value': 0.4700036, 'description': 'score(freq=1.0), computed as boost * idf * tf from:', 'details': [{'value': 2.2, 'description': 'boost', 'details': []}, {'value': 0.47000363, 'description': 'idf, computed as log(1 + (N - n + 0.5) / (n + 0.5)) from:', 'details': [{'value': 2, 'description': 'n, number of documents containing term', 'details': []}, {'value': 3, 'description': 'N, total number of documents with field', 'details': []}]}, {'value': 0.45454544, 'description': 'tf, computed as freq / (freq + k1 * (1 - b + b * dl / avgdl)) from:', 'details': [{'value': 1.0, 'description': 'freq, occurrences of term within document', 'details': []}, {'value': 1.2, 'description': 'k1, term saturation parameter', 'details': []}, {'value': 0.75, 'description': 'b, length normalization parameter', 'details': []}, {'value': 3.0, 'description': 'dl, length of field', 'details': []}, {'value': 3.0, 'description': 'avgdl, average length of field', 'details': []}]}]}]}, {'value': 0.4700036, 'description': 'weight(product_name:de in 1) [PerFieldSimilarity], result of:', 'details': [{'value': 0.4700036, 'description': 'score(freq=1.0), computed as boost * idf * tf from:', 'details': [{'value': 2.2, 'description': 'boost', 'details': []}, {'value': 0.47000363, 'description': 'idf, computed as log(1 + (N - n + 0.5) / (n + 0.5)) from:', 'details': [{'value': 2, 'description': 'n, number of documents containing term', 'details': []}, {'value': 3, 'description': 'N, total number of documents with field', 'details': []}]}, {'value': 0.45454544, 'description': 'tf, computed as freq / (freq + k1 * (1 - b + b * dl / avgdl)) from:', 'details': [{'value': 1.0, 'description': 'freq, occurrences of term within document', 'details': []}, {'value': 1.2, 'description': 'k1, term saturation parameter', 'details': []}, {'value': 0.75, 'description': 'b, length normalization parameter', 'details': []}, {'value': 3.0, 'description': 'dl, length of field', 'details': []}, {'value': 3.0, 'description': 'avgdl, average length of field', 'details': []}]}]}]}]}]}})\n",
        "\n",
        "`Elastic` nous explique donc que le score `0.9400072` est le maximum entre deux sous-scores, `0.4991` et `0.9400072`.\n",
        "\n",
        "Pour chacun de ces sous-scores, le détail de son calcul est donné.\n",
        "Le premier sous-score n’a accordé un score que par rapport au premier mot (noix), tandis que le second a accordé un score sur la base des deux mots déjà connu dans les documents (“noix” et “de”). Il a ignoré pécan! Jusqu’à présent, ce terme n’est pas connu dans l’index.\n",
        "\n",
        "La pertinence d’un mot pour notre recherche est construite sur une variante de la `TF-IDF`,\n",
        "considérant qu’un terme est pertinent s’il est souvent présent dans le document (Term Frequency)\n",
        "alors qu’il est peu fréquent dans les autres document (inverse document frequency).\n",
        "Ici les notations des documents 1 et 2 sont très proches, la différence est dûe à des IDF plus faibles dans le document 1,\n",
        "qui est pénalisé pour être légérement plus long.\n",
        "\n",
        "Bref, tout ça est un peu lourd, mais assez efficace,\n",
        "en tout cas moins rudimentaire que les distances caractères à caractères pour ramener des echos pertinents.\n",
        "\n",
        "## 6.4 Limite de cette première indexation\n",
        "\n",
        "Pour l’instant, Elastic n’a pas l’air de gérer les fautes de frappes!\n",
        "Pas le droit à l’erreur dans la requête:"
      ],
      "id": "d493f51a-8660-4628-b1e1-d84e4036c9cf"
    },
    {
      "cell_type": "code",
      "execution_count": 32,
      "metadata": {},
      "outputs": [],
      "source": [
        "es.search(index = 'openfood',q = 'TART NOI')"
      ],
      "id": "6fcac37e"
    },
    {
      "cell_type": "markdown",
      "metadata": {},
      "source": [
        "    ObjectApiResponse({'took': 38, 'timed_out': False, '_shards': {'total': 1, 'successful': 1, 'skipped': 0, 'failed': 0}, 'hits': {'total': {'value': 0, 'relation': 'eq'}, 'max_score': None, 'hits': []}})\n",
        "\n",
        "Cela s’explique par la représentation des champs (*‘product_name’* par exemple) qu’`Elastic` a inféré,\n",
        "puisque nous n’avons rien spécifié.\n",
        "La représentation d’une variable conditionne la façon dont les champs sont analysés pour calculer la pertinence.\n",
        "Par exemple, regardons la représentation du champ `product_name`"
      ],
      "id": "57bdebae-76c0-4c1a-8dc2-707b07099b68"
    },
    {
      "cell_type": "code",
      "execution_count": 33,
      "metadata": {},
      "outputs": [],
      "source": [
        "es.indices.get_field_mapping(index = 'openfood', fields = 'product_name')"
      ],
      "id": "37750fbf"
    },
    {
      "cell_type": "markdown",
      "metadata": {},
      "source": [
        "    ObjectApiResponse({'openfood': {'mappings': {'product_name': {'full_name': 'product_name', 'mapping': {'product_name': {'type': 'text', 'fields': {'keyword': {'type': 'keyword', 'ignore_above': 256}}}}}}}})\n",
        "\n",
        "`Elastic` a compris qu’il s’agissait d’un champ textuel.\n",
        "En revanche, le type est `keyword` n’autorise pas des analyses approximatives donc\n",
        "ne permet pas de tenir compte de fautes de frappes.\n",
        "\n",
        "Pour qu’un echo remonte, un des termes doit matcher exactement. Dommage !\n",
        "Mais c’est parce qu’on a utilisé le *mapping* par défaut.\n",
        "En réalité, il est assez simple de préciser un *mapping* plus riche,\n",
        "autorisant une analyse *“fuzzy”* ou *“flou”*.\n",
        "\n",
        "# 7. Améliorer l’indexation\n",
        "\n",
        "On peut spécifier la façon dont l’on souhaite analyser le texte.\n",
        "Par exemple, on peut préciser que l’on souhaite enlever des *stopwords*, raciniser, analyser les termes via des *n-grammes*\n",
        "pour rendre la recherche plus robuste aux fautes de frappes…\n",
        "\n",
        "Ces concepts sont présentés dans la partie [NLP](#nlp).\n",
        "Pour une présentation plus complète, voir\n",
        "[la documentation officielle d’Elastic](https://www.elastic.co/guide/en/elasticsearch/reference/current/mapping.html)\n",
        "\n",
        "On propose les analyseurs stockés dans un fichier [schema.json](#schema.json)\n",
        "\n",
        "Les *n-grammes* sont des séquences de *n* caractères ou plus généralement *n* éléments qui s’enchaînent séquentiellement.\n",
        "Par exemple, NOI et OIX sont des tri-grammes de caractères dans NOIX.\n",
        "\n",
        "Comparer les *n-grammes* composant des libellés peut permettre d’avoir dans des comparaisons à fautes de frappe/abbréviations près.\n",
        "Cela fait aussi plus de comparaisons à opérer ! D’où également, l’intérêt d’Elastic, qui intégre facilement et efficacement ces comparaisons.\n",
        "\n",
        "On va préciser un peu le schéma de données qu’on souhaite *indexer*, et aussi préciser comment les différents champs seront *analysés*.\n",
        "\n",
        "### 7.0.1 Une indexation plus adaptée"
      ],
      "id": "668beb9f-8b4c-488d-a114-cb3757f36f79"
    },
    {
      "cell_type": "code",
      "execution_count": 34,
      "metadata": {},
      "outputs": [],
      "source": [
        "import json\n",
        "\n",
        "if es.indices.exists(index = 'openfood'):\n",
        "    es.indices.delete(index = 'openfood')\n",
        "\n",
        "with open('schema.json') as f:\n",
        "    mapping = json.load(f)\n",
        "    \n",
        "es.indices.create(index = \"openfood\", body = mapping)    "
      ],
      "id": "7f6b4fd1"
    },
    {
      "cell_type": "markdown",
      "metadata": {},
      "source": [
        "Maintenant, les champs textuels *“product_name”* et *“product_name_clean”*\n",
        "vont pouvoir être analysé aussi via leur n-grammes et après racinisation (et l’un n’exclut pas l’autre!)"
      ],
      "id": "0957f37e-f94e-4803-a384-5283dace657e"
    },
    {
      "cell_type": "code",
      "execution_count": 35,
      "metadata": {},
      "outputs": [],
      "source": [
        "es.indices.get_field_mapping(\n",
        "  index = 'openfood', fields = 'product_name'\n",
        "  )"
      ],
      "id": "97f084bc"
    },
    {
      "cell_type": "markdown",
      "metadata": {},
      "source": [
        "    ObjectApiResponse({'openfood': {'mappings': {'product_name': {'full_name': 'product_name', 'mapping': {'product_name': {'type': 'text', 'fields': {'keyword': {'type': 'keyword', 'ignore_above': 256}, 'ngr': {'type': 'text', 'analyzer': 'ngram_analyzer'}, 'stem': {'type': 'text', 'analyzer': 'stem_analyzer'}}}}}}}})\n",
        "\n",
        "C’est parti, on envoie toute notre base OpenFood pour pouvoir la requêter !\n",
        "La fonction suivante (`index_elastic`) va vous faire gagner du temps pour indexer\n",
        "car indexer chaque produit à la main n’est pas très efficace.\n",
        "\n",
        "Du coup ça prend quelques minutes… mais c’est pour nous en faire gagner ensuite.\n",
        "Cette opération est faite une fois, pour préparer des requêtes potentiellement nombreuses!"
      ],
      "id": "2d176b73-7629-418b-9de1-475c293c7ba4"
    },
    {
      "cell_type": "code",
      "execution_count": 36,
      "metadata": {},
      "outputs": [],
      "source": [
        "fc.index_elastic(es =es, index_name = \"openfood\",\n",
        "        setting_file = 'schema.json',\n",
        "        df = openfood[['product_name',\"libel_clean\",\"energy_100g\",\"nutriscore_score\"]].drop_duplicates())"
      ],
      "id": "51eced99"
    },
    {
      "cell_type": "markdown",
      "metadata": {},
      "source": [
        "    Temps d'exécution total : 125.57 secondes ---"
      ],
      "id": "16524b90-da80-46d2-80c0-c9e4203d01ad"
    },
    {
      "cell_type": "code",
      "execution_count": 37,
      "metadata": {},
      "outputs": [],
      "source": [
        "es.count(index = 'openfood')['count']"
      ],
      "id": "e4d4b30d"
    },
    {
      "cell_type": "markdown",
      "metadata": {},
      "source": [
        "    738366\n",
        "\n",
        "## 7.1 Nos premières requêtes\n",
        "\n",
        "Vérifions qu’on recupère quelques tartes aux noix même si l’on fait plein de fautes:"
      ],
      "id": "b1d7d0bf-48be-4565-8a76-98f234ffb253"
    },
    {
      "cell_type": "code",
      "execution_count": 38,
      "metadata": {},
      "outputs": [],
      "source": [
        "es.search(index = 'openfood', q = 'TART NOI', size = 3)"
      ],
      "id": "3fe01bec"
    },
    {
      "cell_type": "markdown",
      "metadata": {},
      "source": [
        "    ObjectApiResponse({'took': 60, 'timed_out': False, '_shards': {'total': 1, 'successful': 1, 'skipped': 0, 'failed': 0}, 'hits': {'total': {'value': 10000, 'relation': 'gte'}, 'max_score': 22.837925, 'hits': [{'_index': 'openfood', '_type': '_doc', '_id': '405332', '_score': 22.837925, '_source': {'product_name': 'Tarte noix', 'libel_clean': 'TARTE NOIX', 'energy_100g': 1833.0, 'nutriscore_score': 23.0}}, {'_index': 'openfood', '_type': '_doc', '_id': '1103594', '_score': 22.82367, '_source': {'product_name': 'Tarte aux noix', 'libel_clean': 'TARTE NOIX', 'energy_100g': 4.0, 'nutriscore_score': 4.0}}, {'_index': 'openfood', '_type': '_doc', '_id': '1150755', '_score': 22.82367, '_source': {'product_name': 'Tarte aux noix', 'libel_clean': 'TARTE NOIX', 'energy_100g': 1929.0, 'nutriscore_score': 21.0}}]}})\n",
        "\n",
        "Si on préfère sous une forme de `DataFrame`:"
      ],
      "id": "ddcca753-1d53-4f94-9775-a1a48f220acd"
    },
    {
      "cell_type": "code",
      "execution_count": 39,
      "metadata": {},
      "outputs": [],
      "source": [
        "df = pd.json_normalize(\n",
        "    es.search(index = 'openfood', q = 'TART NOI', size = 3)['hits']['hits']\n",
        ")\n",
        "df.columns = df.columns.str.replace(\"_source.\", \"\", regex = False)\n",
        "df.head(2)"
      ],
      "id": "1de8485b"
    },
    {
      "cell_type": "raw",
      "metadata": {
        "raw_mimetype": "text/html"
      },
      "source": [
        "<table border=\"1\" class=\"dataframe\">\\n  <thead>\\n    <tr style=\"text-align: right;\">\\n      <th></th>\\n      <th>_index</th>\\n      <th>_type</th>\\n      <th>_id</th>\\n      <th>_score</th>\\n      <th>product_name</th>\\n      <th>libel_clean</th>\\n      <th>energy_100g</th>\\n      <th>nutriscore_score</th>\\n    </tr>\\n  </thead>\\n  <tbody>\\n    <tr>\\n      <th>0</th>\\n      <td>openfood</td>\\n      <td>_doc</td>\\n      <td>405332</td>\\n      <td>22.837925</td>\\n      <td>Tarte noix</td>\\n      <td>TARTE NOIX</td>\\n      <td>1833.0</td>\\n      <td>23.0</td>\\n    </tr>\\n    <tr>\\n      <th>1</th>\\n      <td>openfood</td>\\n      <td>_doc</td>\\n      <td>1103594</td>\\n      <td>22.823670</td>\\n      <td>Tarte aux noix</td>\\n      <td>TARTE NOIX</td>\\n      <td>4.0</td>\\n      <td>4.0</td>\\n    </tr>\\n    <tr>\\n      <th>2</th>\\n      <td>openfood</td>\\n      <td>_doc</td>\\n      <td>1150755</td>\\n      <td>22.823670</td>\\n      <td>Tarte aux noix</td>\\n      <td>TARTE NOIX</td>\\n      <td>1929.0</td>\\n      <td>21.0</td>\\n    </tr>\\n  </tbody>\\n</table>"
      ],
      "id": "b8f57096-0165-4ec8-be27-f2c3fc53dc27"
    },
    {
      "cell_type": "markdown",
      "metadata": {},
      "source": [
        "Pour automatiser l’envoi de requêtes et la récupération du meilleur\n",
        "écho, on peut définir la fonction suivante"
      ],
      "id": "8e518cfc-261e-4941-bf2f-8ce149ccbd95"
    },
    {
      "cell_type": "code",
      "execution_count": 40,
      "metadata": {},
      "outputs": [],
      "source": [
        "def matchElastic(libelles):\n",
        "    start_time = time.time()\n",
        "    matches = {}\n",
        "    for l in libelles:\n",
        "        response = es.search(index = 'openfood', q = l, size = 1)\n",
        "        if len(response['hits']['hits'])>0:\n",
        "            matches[l] = pd.json_normalize(\n",
        "              response['hits']['hits']\n",
        "            )\n",
        "    print(80*'-')\n",
        "    print(f\"Temps d'exécution total : {(time.time() - start_time):.2f} secondes ---\")\n",
        "    \n",
        "    return matches"
      ],
      "id": "1792d5f4"
    },
    {
      "cell_type": "code",
      "execution_count": 41,
      "metadata": {},
      "outputs": [],
      "source": [
        "matches = matchElastic(courses['libel_clean'])\n",
        "matches = pd.concat(matches)\n",
        "matches.sample(3)"
      ],
      "id": "8e0ac795"
    },
    {
      "cell_type": "raw",
      "metadata": {
        "raw_mimetype": "text/html"
      },
      "source": [
        "<table border=\"1\" class=\"dataframe\">\\n  <thead>\\n    <tr style=\"text-align: right;\">\\n      <th></th>\\n      <th></th>\\n      <th>_index</th>\\n      <th>_type</th>\\n      <th>_id</th>\\n      <th>_score</th>\\n      <th>_source.product_name</th>\\n      <th>_source.libel_clean</th>\\n      <th>_source.energy_100g</th>\\n      <th>_source.nutriscore_score</th>\\n    </tr>\\n  </thead>\\n  <tbody>\\n    <tr>\\n      <th>GOUSSE AIL</th>\\n      <th>0</th>\\n      <td>openfood</td>\\n      <td>_doc</td>\\n      <td>1982062</td>\\n      <td>57.93140</td>\\n      <td>Gousse d\\'ail</td>\\n      <td>GOUSSE AIL</td>\\n      <td>498.0</td>\\n      <td>5.0</td>\\n    </tr>\\n    <tr>\\n      <th>IGP SAUVIGNON</th>\\n      <th>0</th>\\n      <td>openfood</td>\\n      <td>_doc</td>\\n      <td>1801406</td>\\n      <td>96.55756</td>\\n      <td>vin blanc Sauvignon</td>\\n      <td>VIN BLANC SAUVIGNON</td>\\n      <td>66.3</td>\\n      <td>1.0</td>\\n    </tr>\\n    <tr>\\n      <th>POTIRON</th>\\n      <th>0</th>\\n      <td>openfood</td>\\n      <td>_doc</td>\\n      <td>1043961</td>\\n      <td>75.96385</td>\\n      <td>Potiron</td>\\n      <td>POTIRON</td>\\n      <td>172.0</td>\\n      <td>0.0</td>\\n    </tr>\\n  </tbody>\\n</table>"
      ],
      "id": "1d12b009-d29d-44a0-8edf-4f99939c313b"
    },
    {
      "cell_type": "markdown",
      "metadata": {},
      "source": [
        "Et voilà, on a un outil très rapide de requête !\n",
        "La pertinence des résultats est encore douteuse.\n",
        "Pour cela, il conviendrait de préciser des requêtes plus sophistiquées![1]\n",
        "\n",
        "[1] Vous pouvez aussi explorer les possibilités de requêtes via la [doc Elastic](https://www.elastic.co/guide/en/elasticsearch/reference/6.8/query-dsl.html) et vous entrainer à un écrire avec votre index tout neuf."
      ],
      "id": "504ce73b-5dfc-4cdf-b8c7-b27c4aefcef0"
    },
    {
      "cell_type": "code",
      "execution_count": 42,
      "metadata": {},
      "outputs": [],
      "source": [
        "req = {\n",
        "    \"bool\": {\n",
        "      \"should\": [\n",
        "        { \"match\": { \"libel_clean\":  { \"query\":  \"HUILE OLIVE\" , \"boost\" : 10}}},\n",
        "        { \"match\": { \"libel_clean.ngr\":   \"HUILE OLIVE\" }}\n",
        "        ],\n",
        "      \"minimum_should_match\": 1,\n",
        "      \"filter\": [\n",
        "      { \n",
        "            \"range\" : {\n",
        "                \"nutriscore_score\" : {\n",
        "                    \"gte\" : 10,\n",
        "                    \"lte\" : 20\n",
        "                    }\n",
        "                    }\n",
        "                    }\n",
        "      ]\n",
        "    }\n",
        "}"
      ],
      "id": "fa93911b"
    },
    {
      "cell_type": "code",
      "execution_count": 43,
      "metadata": {},
      "outputs": [],
      "source": [
        "out = es.search(index = 'openfood', query = req, size = 1)\n",
        "pd.json_normalize(out['hits']['hits'])"
      ],
      "id": "dd6dd164"
    },
    {
      "cell_type": "raw",
      "metadata": {
        "raw_mimetype": "text/html"
      },
      "source": [
        "<table border=\"1\" class=\"dataframe\">\\n  <thead>\\n    <tr style=\"text-align: right;\">\\n      <th></th>\\n      <th>_index</th>\\n      <th>_type</th>\\n      <th>_id</th>\\n      <th>_score</th>\\n      <th>_source.product_name</th>\\n      <th>_source.libel_clean</th>\\n      <th>_source.energy_100g</th>\\n      <th>_source.nutriscore_score</th>\\n    </tr>\\n  </thead>\\n  <tbody>\\n    <tr>\\n      <th>0</th>\\n      <td>openfood</td>\\n      <td>_doc</td>\\n      <td>960041</td>\\n      <td>174.27896</td>\\n      <td>Huile d olive</td>\\n      <td>HUILE OLIVE</td>\\n      <td>3761.0</td>\\n      <td>11.0</td>\\n    </tr>\\n  </tbody>\\n</table>"
      ],
      "id": "a7aa902d-96db-4387-97c1-7d747be11426"
    },
    {
      "cell_type": "markdown",
      "metadata": {},
      "source": [
        "Qu’a-t-on demandé ici?\n",
        "- De renvoyer 1 et 1 seul echo (`\"size\":\"1\"`) et seulement si celui ci a:\n",
        "+ `\"should\"`: Au moins un (`\"minimum_should_match\":\"1\"`) des termes des deux champs `libel_clean` et `libel_clean.ngr` qui matche sur un terme de *HUILE OLIVE*, l’analyse (la définition du “terme”) étant réalisé soit en tant que `text` (“libel_clean”) soit en tant que n-gramme `ngr` (“libel_clean.ngr”, une analyse que nous avons spécifié dans le mapping)\n",
        "+ `\"filter\"`: Le champ `float` `nutriscore_score` doit être compris entre 10 et 20 (“filter”).\n",
        "\n",
        "A noter :\n",
        "\n",
        "1.  Les clauses (`\"should\"`+`\"minimum_should_match\":\"1\"`) peuvent être remplacé par un `\"must\"`. Auquel cas, l’écho doit obligatoirement matcher sur chaque clause.\n",
        "2.  Préciser dans `\"filter\"` (plutôt que dans `\"should\"`) une condition signifie que celle-ci ne participe pas au score de pertinence.\n",
        "\n",
        "On n’a pas encore un appariemment très satisfaisant, en particulier sur les boissons. Comment faire ? La réponse est dans Galiana et Suarez Castillo (2022)\n",
        "\n",
        "A vous, de calculer le nombre de calories de notre recette de course !\n",
        "\n",
        "Galiana, Lino, et Milena Suarez Castillo. 2022. « Fuzzy Matching on Big-Data: An Illustration with Scanner and Crowd-Sourced Nutritional Datasets ». In *Proceedings of the 2022 ACM Conference on Information Technology for Social Good*, 331‑37. GoodIT ’22. New York, NY, USA: Association for Computing Machinery. <https://doi.org/10.1145/3524458.3547244>."
      ],
      "id": "64f34a03-0d50-4d04-a7c6-625eb6814cf1"
    }
  ],
  "nbformat": 4,
  "nbformat_minor": 5,
  "metadata": {
    "kernelspec": {
      "name": "python3",
      "display_name": "Python 3 (ipykernel)",
      "language": "python",
      "path": "/opt/conda/share/jupyter/kernels/python3"
    },
    "language_info": {
      "name": "python",
      "codemirror_mode": {
        "name": "ipython",
        "version": "3"
      },
      "file_extension": ".py",
      "mimetype": "text/x-python",
      "nbconvert_exporter": "python",
      "pygments_lexer": "ipython3",
      "version": "3.12.6"
    }
  }
}