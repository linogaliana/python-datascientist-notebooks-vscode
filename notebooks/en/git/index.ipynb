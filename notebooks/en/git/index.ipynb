{
  "cells": [
    {
      "cell_type": "markdown",
      "metadata": {},
      "source": [
        "# Git: un outil nécessaire pour les data scientists\n",
        "\n",
        "Lino Galiana  \n",
        "2025-03-19\n",
        "\n",
        "Cette partie du site présente un élément qui n’est pas propre à\n",
        "`Python` mais qui est néanmoins indispensable : la pratique de `Git`.\n",
        "\n",
        "Une grande partie du contenu de la partie provient\n",
        "d’un [cours dédié fait avec Romain Avouac](https://inseefrlab.github.io/formation-bonnes-pratiques-git-R/slides/complete.html)"
      ],
      "id": "0ddee2f7-b1b3-40db-b04b-1f820a425d06"
    },
    {
      "cell_type": "raw",
      "metadata": {
        "raw_mimetype": "text/html"
      },
      "source": [
        "<details>"
      ],
      "id": "ee050128-2400-4cbf-8ed1-a603ed92a05c"
    },
    {
      "cell_type": "raw",
      "metadata": {
        "raw_mimetype": "text/html"
      },
      "source": [
        "<summary>"
      ],
      "id": "4804c8db-a874-4d46-adfa-0db7590fc7f5"
    },
    {
      "cell_type": "markdown",
      "metadata": {},
      "source": [
        "Dérouler les *slides* ci-dessous ou [cliquer ici](https://inseefrlab.github.io/formation-bonnes-pratiques-git-R/slides/complete.html#/partie-1-contr%C3%B4le-de-version-avec-git) pour afficher les slides en plein écran."
      ],
      "id": "cb6e9c7b-eab1-428f-8a87-5a4e6a4d6195"
    },
    {
      "cell_type": "raw",
      "metadata": {
        "raw_mimetype": "text/html"
      },
      "source": [
        "</summary>"
      ],
      "id": "555feca8-74b0-42d3-b8a8-0f755b100fad"
    },
    {
      "cell_type": "raw",
      "metadata": {
        "raw_mimetype": "text/html"
      },
      "source": [
        "<div class=\"sourceCode\" id=\"cb1\"><pre class=\"sourceCode yaml code-with-copy\"><code class=\"sourceCode yaml\"></code><button title=\"Copy to Clipboard\" class=\"code-copy-button\"><i class=\"bi\"></i></button></pre><iframe class=\"sourceCode yaml code-with-copy\" src=\"https://inseefrlab.github.io/formation-bonnes-pratiques-git-R/slides/complete.html#/partie-1-contr%C3%B4le-de-version-avec-git\"></iframe></div>"
      ],
      "id": "6cc89cb1-f730-421e-8b7d-40c3bc4b9883"
    },
    {
      "cell_type": "raw",
      "metadata": {
        "raw_mimetype": "text/html"
      },
      "source": [
        "</details>"
      ],
      "id": "6f938b60-2b6a-45ad-89b8-e8b48c642b47"
    },
    {
      "cell_type": "markdown",
      "metadata": {},
      "source": [
        "# 1. Introduction\n",
        "\n",
        "## 1.1 Le problème\n",
        "\n",
        "La démarche naturelle quand on commence à travailler longuement sur un projet pour lequel on veut éviter d’effacer et perdre son code à cause d’une erreur humaine est de dupliquer les fichiers et créer des **versions multiples d’un même code qui sont des instantanés à un moment donné** :\n",
        "\n",
        "<figure id=\"fig-version-control-inferno\">\n",
        "<img src=\"https://inseefrlab.github.io/formation-bonnes-pratiques-git-R/slides/img/fichiers_multiples.png\" />\n",
        "<figcaption>Figure 1.1: Le contrôle de version artisanal</figcaption>\n",
        "</figure>\n",
        "\n",
        "Ceci est une manière de sauvegarder l’évolution de son code et donc la vie d’un projet. Néanmoins c’est une manière très artisanale de procéder qui n’efface pas l’erreur humaine puisqu’il est toujours possible de faire une erreur lors de la duplication du fichier ou d’oublier de sauvegarder une version qui nous satisfaisait.\n",
        "\n",
        "Cette pratique présente de nombreux inconvénients. Le premier est le fait que la recherche d’information pertinente, par exemple sur l’introduction d’un bug, est compliquée par cette structure dupliquée. Il est difficile, sans rentrer dans le détail de chaque fichier, de connaître son évolution réelle entre deux dates. Pour l’extraction d’information, il serait beaucoup plus pertinent de construire des fichiers de l’évolution entre telle ou telle version mais cela requiert de nombreux gestes manuels et un temps conséquent. Le deuxième problème est qu’on ne sait pas forcément, quand on revient quelques jours plus tard sur le projet, pourquoi on a enregistré telle ou telle version : quand on est le 28 novembre, se souvient-on de ce qui distingue les versions du 4 mai 12:37 et 16:02 ?\n",
        "\n",
        "Si on ajoute la dimension collaborative du travail sur le code, on voit rapidement d’autres inconvénients à cette approche artisanale. En premier lieu, quelqu’un reprenant le projet aura du mal à rentrer dans celui-ci. De plus, il sera encore plus difficile pour cette personne de rechercher l’information pertinente sur les choix de version faits: cet historique lui est finalement inutile. D’autant que se pose la question du partage de ces codes: par quel biais cet ensemble de fichiers est-il partagé ? Par mails ? Sur un disque partagé ? Mais que se passe-t-il si plusieurs participants du projet travaillent en même temps dessus ? Comment organiser la collaboration et réconcilier les changements s’ils ont lieu de manière conjointe ?\n",
        "\n",
        "## 1.2 La solution technique: `Git`\n",
        "\n",
        "`Git` apporte une réponse technique à ces très nombreuses questions. Ce logiciel spécialisé dans le contrôle de version, c’est-à-dire dans le suivi des évolutions d’un projet, vient résoudre de nombreux problèmes liés à la mise en oeuvre de projets de *data science* dans les organisations. L’objet de ce chapitre est de présenter quelques concepts nécessaires à la compréhension de `Git` et présenter la manière dont celui-ci vient aider à gérer l’évolution d’un projet informatique. Le chapitre suivant introduira à la manière dont `Git` fluidifie la collaboration au sein d’équipes impliquées dans des projets de *data science*. Ceci est devenu indispensable car l’époque où les *data scientists* travaillaient tous seuls sur des *notebooks* est révolue. Les projets de *data science* sont devenus, dans la plupart des organisations, plus ambitieux et impliquent souvent plusieurs personnes avec des profils diverses[1], il est donc nécessaire d’avoir de la discipline pour que la collaboration soit fluide.\n",
        "\n",
        "# 2. Comment utiliser `Git`  quand on fait du `Python`  ?\n",
        "\n",
        "`Git` est un logiciel de contrôle de version, c’est-à-dire un logiciel en charge d’enregistrer les évolutions d’un fichier dans le temps (ce qu’on appelle versionner). Ce n’est pas un *package* `Python`, ce ne sera pas par ce biais que nous l’utiliserons.\n",
        "\n",
        "Les utilisateurs de `Python` peuvent utiliser `Git` par le biais de deux intermédiaires: par le biais de la ligne de commande ou par le biais d’extensions graphiques dans leurs environnements de développement (`VSCode`, `Jupyter`, etc.). Sur le `SSPCloud`, l’infrastructure recommandée pour ce cours, nous avons la possibilité pour faire du `Git` par les deux approches mais nous allons principalement utiliser l’interface graphique de `VSCode` qui réduit le coût d’entrée dans `Git`.\n",
        "\n",
        "<div class=\"alert alert-success\" role=\"alert\">\n",
        "<h3 class=\"alert-heading\"><i class=\"fa-solid fa-lightbulb\"></i> Où trouver de l’information complémentaire à ce cours ?</h3>\n",
        "\n",
        "`Git` fait parti des pratiques collaboratives\n",
        "devenues standards dans le domaine de l’*open-source*\n",
        "mais également de plus en plus communes dans les administrations et entreprises\n",
        "de la *data science*.\n",
        "\n",
        "Il existe de\n",
        "nombreuses ressources sur l’utilisation de `Git` sur internet.\n",
        "Malheureusement, beaucoup sont techniques et font l’hypothèse d’une connaissance déjà poussée de certaines notions informatiques utiles à la compréhension de `Git`. Ce cours ne fera pas de telles hypothèses, à l’exception d’une connaissance minimale de la logique de *filesystem*, c’est-à-dire de la manière dont s’organisent des fichiers sur un ordinateur.\n",
        "\n",
        "En ce qui concerne les contenus proches de celui-ci,\n",
        "une série de ressources de formation a été rassemblée\n",
        "par l’Insee [sur ce site](https://inseefrlab.github.io/formation-bonnes-pratiques-git-R/).\n",
        "\n",
        "</div>\n",
        "\n",
        "# 3. Contenu de la partie\n",
        "\n",
        "L’apprentissage de `Git` est décliné en deux chapitres:\n",
        "\n",
        "-   Le premier est consacré à présenter la logique générale de `Git`, les concepts importants et à illustrer ceux-ci par la pratique dans un cadre de travail individuel.\n",
        "-   Le second chapitre est consacré aux enjeux liés au travail collaboratif\n",
        "\n",
        "L’objectif général de cette partie est de démystifier `Git`. Si la découverte en autodidacte peut être particulièrement douloureuse, ce n’est pas le cas en étant accompagné par une ressource proposant une illustration des concepts importants par la pratique et complixifiant le cadre d’usage de `Git` de manière progressive.\n",
        "<span class=\"column-margin margin-aside\">👉️ Un certain nombre de termes nouveaux quand on découvre `Git` mais qui constituent les concepts utiles à sa compréhension sont définis dans les marges des deux prochains chapitres comme cela est montré ici.</span>\n",
        "\n",
        "[1] Ce constat est le point de départ du cours de “Mise en production de projets *data science*” disponible sur [ensae-reproductibilite.github.io/website/](https://ensae-reproductibilite.github.io/website/) que Romain Avouac et moi donnons à la fin de la scolarité de l’ENSAE."
      ],
      "id": "79df7387-fa21-4e12-9369-c9c98605f6ad"
    }
  ],
  "nbformat": 4,
  "nbformat_minor": 5,
  "metadata": {
    "kernelspec": {
      "display_name": "Python 3",
      "language": "python",
      "name": "python3"
    }
  }
}