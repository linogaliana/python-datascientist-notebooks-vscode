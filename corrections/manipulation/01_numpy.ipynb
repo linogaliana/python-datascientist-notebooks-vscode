{
  "cells": [
    {
      "cell_type": "markdown",
      "metadata": {},
      "source": [
        "# Numpy, la brique de base de la data science\n",
        "\n",
        "Lino Galiana  \n",
        "2025-03-19\n",
        "\n",
        "<div class=\"badge-container\"><div class=\"badge-text\">Pour essayer les exemples présents dans ce tutoriel :</div><a href=\"https://github.com/linogaliana/python-datascientist-notebooks/blob/main/notebooks/manipulation/01_numpy.ipynb\" target=\"_blank\" rel=\"noopener\"><img src=\"https://img.shields.io/static/v1?logo=github&label=&message=View%20on%20GitHub&color=181717\" alt=\"View on GitHub\"></a>\n",
        "<a href=\"https://datalab.sspcloud.fr/launcher/ide/vscode-python?autoLaunch=true&name=«01_numpy»&init.personalInit=«https%3A%2F%2Fraw.githubusercontent.com%2Flinogaliana%2Fpython-datascientist%2Fmain%2Fsspcloud%2Finit-vscode.sh»&init.personalInitArgs=«manipulation%2001_numpy%20correction»\" target=\"_blank\" rel=\"noopener\"><img src=\"https://custom-icon-badges.demolab.com/badge/SSP%20Cloud-Lancer_avec_VSCode-blue?logo=vsc&logoColor=white\" alt=\"Onyxia\"></a>\n",
        "<a href=\"https://datalab.sspcloud.fr/launcher/ide/jupyter-python?autoLaunch=true&name=«01_numpy»&init.personalInit=«https%3A%2F%2Fraw.githubusercontent.com%2Flinogaliana%2Fpython-datascientist%2Fmain%2Fsspcloud%2Finit-jupyter.sh»&init.personalInitArgs=«manipulation%2001_numpy%20correction»\" target=\"_blank\" rel=\"noopener\"><img src=\"https://img.shields.io/badge/SSP%20Cloud-Lancer_avec_Jupyter-orange?logo=Jupyter&logoColor=orange\" alt=\"Onyxia\"></a>\n",
        "<a href=\"https://colab.research.google.com/github/linogaliana/python-datascientist-notebooks-colab//blob/main//notebooks/manipulation/01_numpy.ipynb\" target=\"_blank\" rel=\"noopener\"><img src=\"https://colab.research.google.com/assets/colab-badge.svg\" alt=\"Open In Colab\"></a><br></div>\n",
        "\n",
        "<div class=\"callout callout-style-default callout-note callout-titled\">\n",
        "<div class=\"callout-header d-flex align-content-center\">\n",
        "<div class=\"callout-icon-container\"><i class=\"callout-icon\"></i>\n",
        "</div>\n",
        "<div class=\"callout-title-container flex-fill\">\n",
        "Version 🇫🇷\n",
        "</div>\n",
        "</div>\n",
        "<div class=\"callout-body-container callout-body\">\n",
        "This is the French version 🇫🇷 of that chapter,to see the English version go <a href=\"https://pythonds.linogaliana.fr/content/manipulation/01_numpy.html\">there</a>\n",
        "</div>\n",
        "</div>\n",
        "\n",
        "# 1. Introduction\n",
        "\n",
        "Ce chapitre constitue une introduction à *Numpy* pour\n",
        "s’assurer que les bases du calcul vectoriel avec `Python`\n",
        "soient maîtrisées. La première partie du chapitre\n",
        "présente des petits exercices pour pratiquer\n",
        "quelques fonctions basiques de `Numpy`. La fin du chapitre présente\n",
        "des exercices pratiques d’utilisation de `Numpy` plus approfondis.\n",
        "\n",
        "Il est recommandé de régulièrement se référer à\n",
        "la [*cheatsheet numpy*](https://www.datacamp.com/community/blog/python-numpy-cheat-sheet) et à la\n",
        "[doc officielle](https://numpy.org/doc/stable/) en cas de doute\n",
        "sur une fonction.\n",
        "\n",
        "Dans ce chapitre, on ne dérogera pas à la convention qui s’est imposée\n",
        "d’importer `Numpy` de la\n",
        "manière suivante :"
      ],
      "id": "de5bc19a-cbc7-40c7-aeea-ccfb44bce628"
    },
    {
      "cell_type": "code",
      "execution_count": 1,
      "metadata": {},
      "outputs": [],
      "source": [
        "import numpy as np"
      ],
      "id": "import-np"
    },
    {
      "cell_type": "markdown",
      "metadata": {},
      "source": [
        "Nous allons également fixer la racine du générateur aléatoire de nombres\n",
        "afin d’avoir des résultats reproductibles :"
      ],
      "id": "522ef5d4-ec0a-405e-bea0-1bfa152c1386"
    },
    {
      "cell_type": "code",
      "execution_count": 2,
      "metadata": {},
      "outputs": [],
      "source": [
        "np.random.seed(12345)"
      ],
      "id": "0fe6f60b"
    },
    {
      "cell_type": "markdown",
      "metadata": {},
      "source": [
        "<div class=\"alert alert-info\" role=\"alert\">\n",
        "<h3 class=\"alert-heading\"><i class=\"fa-solid fa-comment\"></i> Note</h3>\n",
        "\n",
        "Les auteurs\n",
        "de `numpy` [préconisent désormais](https://numpy.org/doc/stable/reference/random/index.html)\n",
        "de privilégier l’utilisation de\n",
        "générateurs via la fonction `default_rng()` plutôt que la simple utilisation de `numpy.random`.\n",
        "\n",
        "Afin d’être en phase avec les codes qu’on peut trouver partout sur internet, nous\n",
        "conservons encore `np.random.seed` mais cela peut être amené à évoluer.\n",
        "\n",
        "</div>\n",
        "\n",
        "<div class=\"alert alert-info\" role=\"alert\">\n",
        "<h3 class=\"alert-heading\"><i class=\"fa-solid fa-comment\"></i> Note</h3>\n",
        "\n",
        "The authors of `numpy` [now recommend](https://numpy.org/doc/stable/reference/random/index.html) using generators via the `default_rng()` function rather than simply using `numpy.random`.\n",
        "\n",
        "To stay consistent with the codes found everywhere on the internet, we still use `np.random.seed`, but this may change in the future.\n",
        "\n",
        "</div>\n",
        "\n",
        "# 2. Le concept d’*array*\n",
        "\n",
        "Dans le monde de la science des données, comme cela sera évoqué\n",
        "plus en profondeur dans les prochains chapitres,\n",
        "l’objet central est le tableau à deux dimensions de données.\n",
        "La première correspond aux lignes et la seconde aux colonnes.\n",
        "Si on ne se préoccupe que d’une dimension, on se rapporte\n",
        "à une variable (une colonne) de notre tableau de données.\n",
        "Il est donc naturel de faire le lien entre les\n",
        "tableaux de données et l’objet mathématique\n",
        "que sont les matrices et les vecteurs.\n",
        "\n",
        "`NumPy` (`Numerical Python`) est la brique de base\n",
        "pour traiter des listes numériques ou des chaines\n",
        "de textes comme des matrices.\n",
        "`NumPy` intervient pour proposer\n",
        "ce type d’objets, et\n",
        "les opérations standardisées associées qui n’existent\n",
        "pas dans le langage `Python` de base.\n",
        "\n",
        "L’objet central de `NumPy` est\n",
        "l’**`array`** qui est un tableau de données multidimensionnel.\n",
        "L’array `Numpy` peut être unidimensionnel et s’apparenter à un\n",
        "vecteur (`1d-array`),\n",
        "bidimensionnel et ainsi s’apparenter à une matrice (`2d-array`) ou,\n",
        "de manière plus générale,\n",
        "prendre la forme d’un objet\n",
        "multidimensionnel (`Nd-array`), sorte de tableau emboîté.\n",
        "\n",
        "Les tableaux simples (uni ou bi-dimensionnels) sont faciles à se représenter\n",
        "et représentent la majorité des besoins liés à `Numpy`.\n",
        "Nous découvrirons lors du chapitre suivant, sur `Pandas`, qu’en pratique\n",
        "on manipule rarement directement `Numpy` qui est une librairie\n",
        "bas niveau.\n",
        "Un *DataFrame* `Pandas` sera construit à partir d’une collection\n",
        "d’array uni-dimensionnels (les variables de la table), ce qui permettra d’effectuer des opérations cohérentes\n",
        "(et optimisées) avec le type de la variable.\n",
        "Avoir quelques notions `Numpy` est utile pour comprendre\n",
        "la logique de manipulation vectorielle\n",
        "rendant les traitements sur des données plus lisibles,\n",
        "plus efficaces et plus fiables.\n",
        "\n",
        "Par rapport à une liste,\n",
        "\n",
        "-   un *array* ne peut contenir qu’un type de données (`integer`, `string`, etc.),\n",
        "    contrairement à une liste.\n",
        "-   les opérations implémentées par `Numpy` seront plus efficaces et demanderont moins\n",
        "    de mémoire\n",
        "\n",
        "Les données géographiques constitueront une construction un peu plus complexe qu’un `DataFrame` traditionnel.\n",
        "La dimension géographique prend la forme d’un tableau plus profond, au moins bidimensionnel\n",
        "(coordonnées d’un point). Néanmoins, les librairies de manipulation\n",
        "de données géographiques permettront de ne pas se préoccuper de\n",
        "cette complexité accrue.\n",
        "\n",
        "## 2.1 Créer un array\n",
        "\n",
        "On peut créer un *array* de plusieurs manières. Pour créer un *array* à partir d’une liste,\n",
        "il suffit d’utiliser la méthode `array`:"
      ],
      "id": "97562586-de5b-42c5-aad4-1ba71f996f95"
    },
    {
      "cell_type": "code",
      "execution_count": 3,
      "metadata": {},
      "outputs": [
        {
          "output_type": "display_data",
          "metadata": {},
          "data": {
            "text/plain": [
              "array([1, 2, 5])"
            ]
          }
        }
      ],
      "source": [
        "np.array([1,2,5])"
      ],
      "id": "0b2f00b6"
    },
    {
      "cell_type": "markdown",
      "metadata": {},
      "source": [
        "Il est possible d’ajouter un argument `dtype` pour contraindre le type du *array* :"
      ],
      "id": "a6992a65-9eb5-4e61-975a-8dea75cc559a"
    },
    {
      "cell_type": "code",
      "execution_count": 4,
      "metadata": {},
      "outputs": [
        {
          "output_type": "display_data",
          "metadata": {},
          "data": {
            "text/plain": [
              "array([list(['a', 'z', 'e']), list(['r', 't']), list(['y'])], dtype=object)"
            ]
          }
        }
      ],
      "source": [
        "np.array([[\"a\",\"z\",\"e\"],[\"r\",\"t\"],[\"y\"]], dtype=\"object\")"
      ],
      "id": "a6a5991b"
    },
    {
      "cell_type": "markdown",
      "metadata": {},
      "source": [
        "Il existe aussi des méthodes pratiques pour créer des array:\n",
        "\n",
        "-   séquences logiques : `np.arange` (suite) ou `np.linspace` (interpolation linéaire entre deux bornes)\n",
        "-   séquences ordonnées : *array* rempli de zéros, de 1 ou d’un nombre désiré : `np.zeros`, `np.ones` ou `np.full`\n",
        "-   séquences aléatoires : fonctions de génération de nombres aléatoires : `np.rand.uniform`, `np.rand.normal`, etc.\n",
        "-   tableau sous forme de matrice identité : `np.eye`\n",
        "\n",
        "Ceci donne ainsi, pour les séquences logiques:"
      ],
      "id": "6cba0d24-0270-4312-a88b-8cef825549f2"
    },
    {
      "cell_type": "code",
      "execution_count": 5,
      "metadata": {},
      "outputs": [
        {
          "output_type": "display_data",
          "metadata": {},
          "data": {
            "text/plain": [
              "array([0, 1, 2, 3, 4, 5, 6, 7, 8, 9])"
            ]
          }
        }
      ],
      "source": [
        "np.arange(0,10)"
      ],
      "id": "a45b9975"
    },
    {
      "cell_type": "code",
      "execution_count": 6,
      "metadata": {},
      "outputs": [
        {
          "output_type": "display_data",
          "metadata": {},
          "data": {
            "text/plain": [
              "array([0, 3, 6, 9])"
            ]
          }
        }
      ],
      "source": [
        "np.arange(0,10,3)"
      ],
      "id": "0823a0b6"
    },
    {
      "cell_type": "code",
      "execution_count": 7,
      "metadata": {},
      "outputs": [
        {
          "output_type": "display_data",
          "metadata": {},
          "data": {
            "text/plain": [
              "array([0.  , 0.25, 0.5 , 0.75, 1.  ])"
            ]
          }
        }
      ],
      "source": [
        "np.linspace(0, 1, 5)"
      ],
      "id": "3b413d0e"
    },
    {
      "cell_type": "markdown",
      "metadata": {},
      "source": [
        "Pour un *array* initialisé à 0:"
      ],
      "id": "96345008-fcf2-42fb-937f-cd2e861b14a3"
    },
    {
      "cell_type": "code",
      "execution_count": 8,
      "metadata": {},
      "outputs": [
        {
          "output_type": "display_data",
          "metadata": {},
          "data": {
            "text/plain": [
              "array([0, 0, 0, 0, 0, 0, 0, 0, 0, 0])"
            ]
          }
        }
      ],
      "source": [
        "np.zeros(10, dtype=int)"
      ],
      "id": "d3d48787"
    },
    {
      "cell_type": "markdown",
      "metadata": {},
      "source": [
        "ou initialisé à 1:"
      ],
      "id": "e5341926-6909-4d09-b627-c1468c662429"
    },
    {
      "cell_type": "code",
      "execution_count": 9,
      "metadata": {},
      "outputs": [
        {
          "output_type": "display_data",
          "metadata": {},
          "data": {
            "text/plain": [
              "array([[1., 1., 1., 1., 1.],\n",
              "       [1., 1., 1., 1., 1.],\n",
              "       [1., 1., 1., 1., 1.]])"
            ]
          }
        }
      ],
      "source": [
        "np.ones((3, 5), dtype=float)"
      ],
      "id": "b90cce8a"
    },
    {
      "cell_type": "markdown",
      "metadata": {},
      "source": [
        "ou encore initialisé à 3.14:"
      ],
      "id": "568cac12-2a79-4f3e-aacd-c18b9526de45"
    },
    {
      "cell_type": "code",
      "execution_count": 10,
      "metadata": {},
      "outputs": [
        {
          "output_type": "display_data",
          "metadata": {},
          "data": {
            "text/plain": [
              "array([[3.14, 3.14, 3.14, 3.14, 3.14],\n",
              "       [3.14, 3.14, 3.14, 3.14, 3.14],\n",
              "       [3.14, 3.14, 3.14, 3.14, 3.14]])"
            ]
          }
        }
      ],
      "source": [
        "np.full((3, 5), 3.14)"
      ],
      "id": "68e2eb83"
    },
    {
      "cell_type": "markdown",
      "metadata": {},
      "source": [
        "Enfin, pour créer la matrice $I_3$:"
      ],
      "id": "2d283be6-116b-4602-abee-4101f6f27d41"
    },
    {
      "cell_type": "code",
      "execution_count": 11,
      "metadata": {},
      "outputs": [
        {
          "output_type": "display_data",
          "metadata": {},
          "data": {
            "text/plain": [
              "array([[1., 0., 0.],\n",
              "       [0., 1., 0.],\n",
              "       [0., 0., 1.]])"
            ]
          }
        }
      ],
      "source": [
        "np.eye(3)"
      ],
      "id": "015f8dac"
    },
    {
      "cell_type": "markdown",
      "metadata": {},
      "source": [
        "<div class=\"alert alert-success\" role=\"alert\">\n",
        "<h3 class=\"alert-heading\"><i class=\"fa-solid fa-pencil\"></i> Exercice 1</h3>\n",
        "\n",
        "Générer:\n",
        "\n",
        "-   $X$ une variable aléatoire, 1000 répétitions d’une loi $U(0,1)$\n",
        "-   $Y$ une variable aléatoire, 1000 répétitions d’une loi normale de moyenne nulle et de variance égale à 2\n",
        "-   Vérifier la variance de $Y$ avec `np.var`\n",
        "\n",
        "</div>"
      ],
      "id": "1815c248-ea58-4110-b9c5-119265fad92f"
    },
    {
      "cell_type": "code",
      "execution_count": 12,
      "metadata": {},
      "outputs": [],
      "source": [
        "X = np.random.uniform(0,1,1000)\n",
        "Y = np.random.normal(0,np.sqrt(2),1000)\n",
        "\n",
        "np.var(Y)"
      ],
      "id": "01977305"
    },
    {
      "cell_type": "markdown",
      "metadata": {},
      "source": [
        "# 3. Indexation et *slicing*\n",
        "\n",
        "## 3.1 Logique dans le cas d’un array unidimensionnel\n",
        "\n",
        "La structure la plus simple est l’*array* unidimensionnel:"
      ],
      "id": "a750194c-97f9-4763-8eca-fd272c564b3b"
    },
    {
      "cell_type": "code",
      "execution_count": 14,
      "metadata": {},
      "outputs": [
        {
          "output_type": "stream",
          "name": "stdout",
          "text": [
            "[0 1 2 3 4 5 6 7 8 9]"
          ]
        }
      ],
      "source": [
        "x = np.arange(10)\n",
        "print(x)"
      ],
      "id": "2caf8914"
    },
    {
      "cell_type": "markdown",
      "metadata": {},
      "source": [
        "L’indexation est dans ce cas similaire à celle d’une liste:\n",
        "\n",
        "-   le premier élément est 0\n",
        "-   le énième élément est accessible à la position $n-1$\n",
        "\n",
        "La logique d’accès aux éléments est ainsi la suivante :\n",
        "\n",
        "``` python\n",
        "x[start:stop:step]\n",
        "```\n",
        "\n",
        "Avec un *array* unidimensionnel, l’opération de *slicing* (garder une coupe du *array*) est très simple.\n",
        "Par exemple, pour garder les *K* premiers éléments d’un *array*, on fera:\n",
        "\n",
        "``` python\n",
        "x[:(K-1)]\n",
        "```\n",
        "\n",
        "En l’occurrence, on sélectionne le K$^{eme}$ élément en utilisant\n",
        "\n",
        "``` python\n",
        "x[K-1]\n",
        "```\n",
        "\n",
        "Pour sélectionner uniquement un élément, on fera ainsi:"
      ],
      "id": "38e86c17-a973-43cc-91f1-b86835d6e6e3"
    },
    {
      "cell_type": "code",
      "execution_count": 15,
      "metadata": {},
      "outputs": [
        {
          "output_type": "display_data",
          "metadata": {},
          "data": {
            "text/plain": [
              "np.int64(2)"
            ]
          }
        }
      ],
      "source": [
        "x = np.arange(10)\n",
        "x[2]"
      ],
      "id": "dbd7ceb1"
    },
    {
      "cell_type": "markdown",
      "metadata": {},
      "source": [
        "Les syntaxes qui permettent de sélectionner des indices particuliers d’une liste fonctionnent également\n",
        "avec les *arrays*.\n",
        "\n",
        "<div class=\"alert alert-success\" role=\"alert\">\n",
        "<h3 class=\"alert-heading\"><i class=\"fa-solid fa-pencil\"></i> Exercice 2</h3>\n",
        "\n",
        "Prenez `x = np.arange(10)` et…\n",
        "\n",
        "-   Sélectionner les éléments 0, 3, 5 de `x`\n",
        "-   Sélectionner les éléments pairs\n",
        "-   Sélectionner tous les éléments sauf le premier\n",
        "-   Sélectionner les 5 premiers éléments\n",
        "\n",
        "</div>"
      ],
      "id": "cea8ffb8-9b90-4f20-8faf-904f77254d67"
    },
    {
      "cell_type": "code",
      "execution_count": 17,
      "metadata": {},
      "outputs": [
        {
          "output_type": "display_data",
          "metadata": {},
          "data": {
            "text/plain": [
              "array([0, 1, 2, 3, 4, 5, 6, 7, 8, 9])"
            ]
          }
        }
      ],
      "source": [
        "np.arange(10)"
      ],
      "id": "010e5a95"
    },
    {
      "cell_type": "code",
      "execution_count": 18,
      "metadata": {},
      "outputs": [],
      "source": [
        "# Solution\n",
        "x[[0,3,5]]\n",
        "x[::2]\n",
        "x[1:]\n",
        "x[:5]\n",
        "# x2[0,:] # The first row"
      ],
      "id": "ff0982fa"
    },
    {
      "cell_type": "markdown",
      "metadata": {},
      "source": [
        "## 3.2 Sur la performance\n",
        "\n",
        "Un élément déterminant dans la performance de `Numpy` par rapport aux listes,\n",
        "lorsqu’il est question de\n",
        "*slicing* est qu’un array ne renvoie pas une\n",
        "copie de l’élément en question (copie qui coûte de la mémoire et du temps)\n",
        "mais simplement une vue de celui-ci.\n",
        "\n",
        "Lorsqu’il est nécessaire d’effectuer une copie,\n",
        "par exemple pour ne pas altérer l’*array* sous-jacent, on peut\n",
        "utiliser la méthode `copy`:\n",
        "\n",
        "``` python\n",
        "x_sub_copy = x[:2, :2].copy()\n",
        "```\n",
        "\n",
        "## 3.3 Filtres logiques\n",
        "\n",
        "Il est également possible, et plus pratique, de sélectionner des données à partir de conditions logiques\n",
        "(opération qu’on appelle un ***boolean mask***).\n",
        "Cette fonctionalité servira principalement à\n",
        "effectuer des opérations de filtre sur les données.\n",
        "\n",
        "Pour des opérations de comparaison simples, les comparateurs logiques peuvent être suffisants.\n",
        "Ces comparaisons fonctionnent aussi sur les tableaux multidimensionnels grâce au\n",
        "*broadcasting* sur lequel nous reviendrons :"
      ],
      "id": "d1e00650-2526-450d-9f0e-6537a3f080ec"
    },
    {
      "cell_type": "code",
      "execution_count": 21,
      "metadata": {},
      "outputs": [
        {
          "output_type": "stream",
          "name": "stdout",
          "text": [
            "[0 1 2 3 4 5 6 7 8 9]\n",
            "[[-1  1 -2]\n",
            " [-3  2  0]]"
          ]
        }
      ],
      "source": [
        "x = np.arange(10)\n",
        "x2 = np.array([[-1,1,-2],[-3,2,0]])\n",
        "print(x)\n",
        "print(x2)"
      ],
      "id": "c522ebe6"
    },
    {
      "cell_type": "code",
      "execution_count": 22,
      "metadata": {},
      "outputs": [
        {
          "output_type": "display_data",
          "metadata": {},
          "data": {
            "text/plain": [
              "array([[ True, False,  True],\n",
              "       [ True, False, False]])"
            ]
          }
        }
      ],
      "source": [
        "x==2\n",
        "x2<0"
      ],
      "id": "76ca384f"
    },
    {
      "cell_type": "markdown",
      "metadata": {},
      "source": [
        "Pour sélectionner les observations relatives à la condition logique,\n",
        "il suffit d’utiliser la logique de *slicing* de `numpy` qui fonctionne avec les conditions logiques\n",
        "\n",
        "<div class=\"alert alert-success\" role=\"alert\">\n",
        "<h3 class=\"alert-heading\"><i class=\"fa-solid fa-pencil\"></i> Exercice 3</h3>\n",
        "\n",
        "Soit\n",
        "\n",
        "``` python\n",
        "x = np.random.normal(size=10000)\n",
        "```\n",
        "\n",
        "1.  Ne conserver que les valeurs dont la valeur absolue est supérieure à 1.96\n",
        "2.  Compter le nombre de valeurs supérieures à 1.96 en valeur absolue et leur proportion dans l’ensemble\n",
        "3.  Sommer les valeurs absolues de toutes les observations supérieures (en valeur absolue) à 1.96\n",
        "    et rapportez les à la somme des valeurs de `x` (en valeur absolue)\n",
        "\n",
        "</div>"
      ],
      "id": "62f92928-a708-4c48-8a83-97d63c1150ed"
    },
    {
      "cell_type": "code",
      "execution_count": 23,
      "metadata": {},
      "outputs": [],
      "source": [
        "# Solution\n",
        "x = np.random.normal(size=10000)\n",
        "\n",
        "x2 = x[np.abs(x)>=1.96]\n",
        "\n",
        "print(x2.size)\n",
        "print(x2.size/x.size)\n",
        "np.sum(np.abs(x2))/np.sum(np.abs(x))"
      ],
      "id": "a28c1760"
    },
    {
      "cell_type": "markdown",
      "metadata": {},
      "source": [
        "Lorsque c’est possible, il est recommandé d’utiliser les fonctions logiques de `numpy` (optimisées et\n",
        "qui gèrent bien la dimension).\n",
        "Parmi elles, on peut retrouver:\n",
        "\n",
        "-   `count_nonzero` ;\n",
        "-   `isnan` ;\n",
        "-   `any` ou `all`, notamment avec l’argument `axis` ;\n",
        "-   `np.array_equal` pour vérifier, élément par élément, l’égalité.\n",
        "\n",
        "Soient `x` un *array* multidimensionnel et `y` un *array* unidimensionnel présentant une valeur manquante."
      ],
      "id": "4b7d41c3-6e5f-480c-a734-5dfce0a71cba"
    },
    {
      "cell_type": "code",
      "execution_count": 25,
      "metadata": {},
      "outputs": [],
      "source": [
        "x = np.random.normal(0, size=(3, 4))\n",
        "y = np.array([np.nan, 0, 1])"
      ],
      "id": "376ec878"
    },
    {
      "cell_type": "markdown",
      "metadata": {},
      "source": [
        "<div class=\"alert alert-success\" role=\"alert\">\n",
        "<h3 class=\"alert-heading\"><i class=\"fa-solid fa-pencil\"></i> Exercice 4</h3>\n",
        "\n",
        "1.  Utiliser `count_nonzero` sur `y`\n",
        "2.  Utiliser `isnan` sur `y` et compter le nombre de valeurs non NaN\n",
        "3.  Vérifier que `x` comporte au moins une valeur positive dans son ensemble, en parcourant les lignes puis les colonnes.\n",
        "\n",
        "<details>\n",
        "\n",
        "<summary>\n",
        "\n",
        "Aide\n",
        "\n",
        "</summary>\n",
        "\n",
        "Jetez un oeil au paramètre `axis` en vous documentant sur internet. Par exemple [ici](https://www.sharpsightlabs.com/blog/numpy-axes-explained/).\n",
        "\n",
        "</details>\n",
        "\n",
        "</div>\n",
        "\n",
        "# 4. Manipuler un *array*\n",
        "\n",
        "## 4.1 Fonctions de manipulation\n",
        "\n",
        "`Numpy` propose des méthodes ou des fonctions standardisées pour\n",
        "modifier un array, voici un tableau en présentant quelques-unes:\n",
        "\n",
        "| Opération | Implémentation |\n",
        "|------------------------------|------------------------------------------|\n",
        "| Aplatir un array | `x.flatten()` (méthode) |\n",
        "| Transposer un array | `x.T` (méthode) ou `np.transpose(x)` (fonction) |\n",
        "| Ajouter des éléments à la fin | `np.append(x, [1,2])` |\n",
        "| Ajouter des éléments à un endroit donné (aux positions 1 et 2) | `np.insert(x, [1,2], 3)` |\n",
        "| Supprimer des éléments (aux positions 0 et 3) | `np.delete(x, [0,3])` |\n",
        "\n",
        "Pour combiner des array, on peut utiliser, selon les cas,\n",
        "les fonctions `np.concatenate`, `np.vstack` ou la méthode `.r_` (concaténation *rowwise*).\n",
        "`np.hstack` ou la méthode `.column_stack` ou `.c_` (concaténation *column-wise*)"
      ],
      "id": "b070cbfd-77d3-4423-9b8e-2ef1cc31ee6d"
    },
    {
      "cell_type": "code",
      "execution_count": 27,
      "metadata": {},
      "outputs": [],
      "source": [
        "x = np.random.normal(size = 10)"
      ],
      "id": "22a99971"
    },
    {
      "cell_type": "markdown",
      "metadata": {},
      "source": [
        "Pour ordonner un array, on utilise `np.sort`"
      ],
      "id": "7c78253d-4c81-425b-8b37-445285f2e677"
    },
    {
      "cell_type": "code",
      "execution_count": 28,
      "metadata": {},
      "outputs": [
        {
          "output_type": "display_data",
          "metadata": {},
          "data": {
            "text/plain": [
              "array([1, 2, 3, 4, 5, 6, 7])"
            ]
          }
        }
      ],
      "source": [
        "x = np.array([7, 2, 3, 1, 6, 5, 4])\n",
        "\n",
        "np.sort(x)"
      ],
      "id": "ee1c658a"
    },
    {
      "cell_type": "markdown",
      "metadata": {},
      "source": [
        "Si on désire faire un ré-ordonnement partiel pour trouver les *k* valeurs les plus petites d’un `array` sans les ordonner, on utilise `partition`:"
      ],
      "id": "b332b5e8-54e7-4ef3-84f7-0afb0085110e"
    },
    {
      "cell_type": "code",
      "execution_count": 29,
      "metadata": {},
      "outputs": [
        {
          "output_type": "display_data",
          "metadata": {},
          "data": {
            "text/plain": [
              "array([1, 2, 3, 4, 5, 6, 7])"
            ]
          }
        }
      ],
      "source": [
        "np.partition(x, 3)"
      ],
      "id": "3d443064"
    },
    {
      "cell_type": "markdown",
      "metadata": {},
      "source": [
        "## 4.2 Statistiques sur un *array*\n",
        "\n",
        "Pour les statistiques descriptives classiques,\n",
        "`Numpy` propose un certain nombre de fonctions déjà implémentées,\n",
        "qui peuvent être combinées avec l’argument `axis`"
      ],
      "id": "58a23c6a-a280-4f85-b3b6-f0f6b0fac8cb"
    },
    {
      "cell_type": "code",
      "execution_count": 30,
      "metadata": {},
      "outputs": [],
      "source": [
        "x = np.random.normal(0, size=(3, 4))"
      ],
      "id": "2879f814"
    },
    {
      "cell_type": "markdown",
      "metadata": {},
      "source": [
        "<div class=\"alert alert-success\" role=\"alert\">\n",
        "<h3 class=\"alert-heading\"><i class=\"fa-solid fa-pencil\"></i> Exercice 5</h3>\n",
        "\n",
        "1.  Faire la somme de tous les éléments d’un `array`, des éléments en ligne et des éléments en colonne. Vérifier\n",
        "    la cohérence.\n",
        "2.  Ecrire une fonction `statdesc` pour renvoyer les valeurs suivantes : moyenne, médiane, écart-type, minimum et maximum.\n",
        "    L’appliquer sur `x` en jouant avec l’argument *axis*\n",
        "\n",
        "</div>"
      ],
      "id": "fb7cf2e7-67ca-4627-a8e8-2846caf2762c"
    },
    {
      "cell_type": "code",
      "execution_count": 31,
      "metadata": {},
      "outputs": [],
      "source": [
        "# Solution\n",
        "print(x)\n",
        "print(x.sum())\n",
        "print(x.sum(axis = 0))\n",
        "print(x.sum(axis = 1))\n",
        "# check coherence\n",
        "print(x.sum(axis = 0).sum())\n",
        "print(x.sum(axis = 1).sum())"
      ],
      "id": "ea356fe0"
    },
    {
      "cell_type": "code",
      "execution_count": 32,
      "metadata": {},
      "outputs": [],
      "source": [
        "# Solution\n",
        "\n",
        "def statdesc(x, axis = None):\n",
        "    \"\"\"\n",
        "    Aggregate statistics on a numpy array\n",
        "\n",
        "    :param x: Numpy array\n",
        "    :param axis: Numpy dimension that should be used\n",
        "    :return: A numpy array with mean, median, sd, min and max\n",
        "    \"\"\"\n",
        "\n",
        "    return np.array([\n",
        "        np.mean(x, axis = axis),\n",
        "        np.median(x, axis = axis),\n",
        "        np.std(x, axis = axis),\n",
        "        np.min(x, axis = axis),\n",
        "        np.max(x, axis = axis)\n",
        "        ])\n",
        "\n",
        "statdesc(x)\n",
        "statdesc(x, axis = 0)\n",
        "statdesc(x, axis = 1)"
      ],
      "id": "c568fd8d"
    },
    {
      "cell_type": "markdown",
      "metadata": {},
      "source": [
        "# 5. *Broadcasting*\n",
        "\n",
        "Le *broadcasting* désigne un ensemble de règles permettant\n",
        "d’appliquer des opérations sur des tableaux de dimensions différentes. En pratique,\n",
        "cela consiste généralement à appliquer une seule opération à l’ensemble des membres d’un tableau `numpy`.\n",
        "\n",
        "La différence peut être comprise à partir de l’exemple suivant. Le *broadcasting* permet\n",
        "de transformer le scalaire `5` en *array* de dimension 3:"
      ],
      "id": "6db7f1dd-ec7c-4884-b33c-510d320c9d76"
    },
    {
      "cell_type": "code",
      "execution_count": 35,
      "metadata": {},
      "outputs": [
        {
          "output_type": "display_data",
          "metadata": {},
          "data": {
            "text/plain": [
              "array([5, 6, 7])"
            ]
          }
        }
      ],
      "source": [
        "a = np.array([0, 1, 2])\n",
        "b = np.array([5, 5, 5])\n",
        "\n",
        "a + b\n",
        "a + 5"
      ],
      "id": "6f15179f"
    },
    {
      "cell_type": "markdown",
      "metadata": {},
      "source": [
        "Le *broadcasting* peut être très pratique pour effectuer de manière efficace des opérations sur des données à\n",
        "la structure complexe. Pour plus de détails, se rendre\n",
        "[ici](https://jakevdp.github.io/PythonDataScienceHandbook/02.05-computation-on-arrays-broadcasting.html) ou [ici](https://stackoverflow.com/questions/47435526/what-is-the-meaning-of-axis-1-in-keras-argmax).\n",
        "\n",
        "## 5.1 Une application: programmer ses propres k-nearest neighbors\n",
        "\n",
        "<div class=\"alert alert-success\" role=\"alert\">\n",
        "<h3 class=\"alert-heading\"><i class=\"fa-solid fa-pencil\"></i> Exercice (un peu plus corsé)</h3>\n",
        "\n",
        "1.  Créer `X` un tableau à deux dimensions (i.e. une matrice) comportant 10 lignes\n",
        "    et 2 colonnes. Les nombres dans le tableau sont aléatoires.\n",
        "2.  Importer le module `matplotlib.pyplot` sous le nom `plt`. Utiliser\n",
        "    `plt.scatter` pour représenter les données sous forme de nuage de points.\n",
        "3.  Constuire une matrice 10x10 stockant, à l’élément $(i,j)$, la distance euclidienne entre les points $X[i,]$ et $X[j,]$. Pour cela, il va falloir jouer avec les dimensions en créant des tableaux emboîtés à partir par des appels à `np.newaxis` :\n",
        "\n",
        "-   En premier lieu, utiliser `X1 = X[:, np.newaxis, :]` pour transformer la matrice en tableau emboîté. Vérifier les dimensions\n",
        "-   Créer `X2` de dimension `(1, 10, 2)` à partir de la même logique\n",
        "-   En déduire, pour chaque point, la distance avec les autres points pour chaque coordonnées. Elever celle-ci au carré\n",
        "-   A ce stade, vous devriez avoir un tableau de dimension `(10, 10, 2)`. La réduction à une matrice s’obtient en sommant sur le dernier axe. Regarder dans l’aide de `np.sum` comme effectuer une somme sur le dernier axe.\n",
        "-   Enfin, appliquer la racine carrée pour obtenir une distance euclidienne en bonne et due forme.\n",
        "\n",
        "1.  Vérifier que les termes diagonaux sont bien nuls (distance d’un point à lui-même…)\n",
        "2.  Il s’agit maintenant de classer, pour chaque point, les points dont les valeurs sont les plus similaires. Utiliser `np.argsort` pour obtenir, pour chaque ligne, le classement des points les plus proches\n",
        "3.  On va s’intéresser aux k-plus proches voisins. Pour le moment, fixons k=2. Utiliser `argpartition` pour réordonner chaque ligne de manière à avoir les 2 plus proches voisins de chaque point d’abord et le reste de la ligne ensuite\n",
        "4.  Utiliser le morceau de code ci-dessous\n",
        "\n",
        "</div>"
      ],
      "id": "4332cba0-eea9-46e3-a700-992c87ddc326"
    },
    {
      "cell_type": "markdown",
      "metadata": {},
      "source": [
        "<details><summary>Un indice pour représenter graphiquement les plus proches voisins</summary>\n",
        "\n",
        "``` python\n",
        "plt.scatter(X[:, 0], X[:, 1], s=100)\n",
        "\n",
        "# draw lines from each point to its two nearest neighbors\n",
        "K = 2\n",
        "\n",
        "for i in range(X.shape[0]):\n",
        "    for j in nearest_partition[i, :K+1]:\n",
        "        # plot a line from X[i] to X[j]\n",
        "        # use some zip magic to make it happen:\n",
        "        plt.plot(*zip(X[j], X[i]), color='black')\n",
        "```\n",
        "\n",
        "</details>"
      ],
      "id": "ea2862b1-4211-4e0a-b9fe-5fbef2a4826c"
    },
    {
      "cell_type": "code",
      "execution_count": 38,
      "metadata": {},
      "outputs": [],
      "source": [
        "# Correction\n",
        "\n",
        "# Question 1\n",
        "X = np.random.rand(10, 2)\n",
        "\n",
        "# Question 2 \n",
        "import matplotlib.pyplot as plt\n",
        "print(X[:,0])\n",
        "print(X[:,1])\n",
        "plt.scatter(X[:, 0], X[:, 1], s=100)"
      ],
      "id": "23fdf579"
    },
    {
      "cell_type": "markdown",
      "metadata": {},
      "source": [
        "Pour la question 2, vous devriez obtenir un graphique ayant cet aspect\n",
        "\n",
        "For question 2, you should get a graph that looks like this:"
      ],
      "id": "a2e54866-5ac6-4fa8-8ec5-63f6ded9b525"
    },
    {
      "cell_type": "code",
      "execution_count": 39,
      "metadata": {},
      "outputs": [
        {
          "output_type": "display_data",
          "metadata": {},
          "data": {
            "image/png": "[encoded data removed]"
          }
        }
      ],
      "source": [
        "fig = plt.figure()\n",
        "plt.scatter(X[:, 0], X[:, 1], s=100)\n",
        "fig\n",
        "plt.show()"
      ],
      "id": "52a0e98c"
    },
    {
      "cell_type": "code",
      "execution_count": 40,
      "metadata": {},
      "outputs": [],
      "source": [
        "# Question 3\n",
        "print(X.shape)\n",
        "X1 = X[:, np.newaxis, :]\n",
        "print(\"dimension X1 : \", X1.shape)\n",
        "X2 = X[np.newaxis, :,:]\n",
        "print(\"dimension X2 : \", X2.shape)\n",
        "dist1 = (X1 - X2) ** 2\n",
        "print(\"dimension dist1 : \", dist1.shape)\n",
        "dist = np.sqrt(np.sum((X1 - X2) ** 2, axis=-1))\n",
        "print(\"dimension dist : \", dist.shape)\n",
        "\n",
        "# Question 4\n",
        "print(dist)\n",
        "print(dist.diagonal())\n",
        "\n",
        "# Question 5 \n",
        "np.argsort(dist)\n",
        "\n",
        "# Question 6\n",
        "K = 2\n",
        "nearest_partition = np.argpartition(dist, K + 1, axis=1)\n",
        "print(nearest_partition) # NB: closest point is always itself !"
      ],
      "id": "c25a4398"
    },
    {
      "cell_type": "markdown",
      "metadata": {},
      "source": [
        "Le résultat de la question 7 est le suivant :"
      ],
      "id": "1b8c6501-8a7e-43a4-94b3-05b0c74305af"
    },
    {
      "cell_type": "code",
      "execution_count": 41,
      "metadata": {},
      "outputs": [
        {
          "output_type": "display_data",
          "metadata": {},
          "data": {
            "image/png": "[encoded data removed]"
          }
        }
      ],
      "source": [
        "# Question 7 \n",
        "# Each point in the plot has lines drawn to its two nearest neighbors.\n",
        "fig = plt.figure()\n",
        "for i in range(X.shape[0]):\n",
        "    for j in nearest_partition[i, :K+1]:\n",
        "        # plot a line from X[i] to X[j]\n",
        "        # use some zip magic to make it happen:\n",
        "        plt.plot(*zip(X[j], X[i]), color='black')\n",
        "fig\n",
        "plt.savefig(\"knn.png\", bbox_inches='tight')"
      ],
      "id": "f4d0b588"
    },
    {
      "cell_type": "markdown",
      "metadata": {},
      "source": [
        "Ai-je inventé cet exercice corsé ? Pas du tout, il vient de l’ouvrage [*Python Data Science Handbook*](https://jakevdp.github.io/PythonDataScienceHandbook/02.08-sorting.html#Example:-k-Nearest-Neighbors). Mais, si je vous l’avais indiqué immédiatement, auriez-vous cherché à répondre aux questions ?\n",
        "\n",
        "Par ailleurs, il ne serait pas une bonne idée de généraliser cet algorithme à de grosses données. La complexité de notre approche est $O(N^2)$. L’algorithme implémenté par `Scikit-Learn` est\n",
        "en $O[NlogN]$.\n",
        "\n",
        "De plus, le calcul de distances matricielles en utilisant la puissance des cartes graphiques serait plus rapide. A cet égard, la librairie [faiss](https://github.com/facebookresearch/faiss) ou les *frameworks* spécialisés dans le calcul de distance entre des vecteurs à haute dimension comme [ChromaDB](https://www.trychroma.com/)\n",
        "offrent des performances beaucoup plus satisfaisantes que celles que permettraient `Numpy` sur ce problème précis.\n",
        "\n",
        "# 6. Exercices supplémentaires\n",
        "\n",
        "<div class=\"alert alert-success\" role=\"alert\">\n",
        "<h3 class=\"alert-heading\"><i class=\"fa-solid fa-pencil\"></i> Comprendre le principe de l’algorithme PageRank</h3>\n",
        "\n",
        "`Google` est devenu célèbre grâce à son algorithme `PageRank`. Celui-ci permet, à partir\n",
        "de liens entre sites *web*, de donner un score d’importance à un site *web* qui va\n",
        "être utilisé pour évaluer sa centralité dans un réseau.\n",
        "L’objectif de cet exercice est d’utiliser `Numpy` pour mettre en oeuvre un tel\n",
        "algorithme à partir d’une matrice d’adjacence qui relie les sites entre eux.\n",
        "\n",
        "1.  Créer la matrice suivante avec `numpy`. L’appeler `M`:\n",
        "\n",
        "$$\n",
        "\\begin{bmatrix}\n",
        "0 & 0 & 0 & 0 & 1 \\\\\n",
        "0.5 & 0 & 0 & 0 & 0 \\\\\n",
        "0.5 & 0 & 0 & 0 & 0 \\\\\n",
        "0 & 1 & 0.5 & 0 & 0 \\\\\n",
        "0 & 0 & 0.5 & 1 & 0\n",
        "\\end{bmatrix}\n",
        "$$\n",
        "\n",
        "1.  Pour représenter visuellement ce *web* minimaliste,\n",
        "    convertir en objet `networkx` (une librairie spécialisée\n",
        "    dans l’analyse de réseau) et utiliser la fonction `draw`\n",
        "    de ce package.\n",
        "\n",
        "Il s’agit de la transposée de la matrice d’adjacence\n",
        "qui permet de relier les sites entre eux. Par exemple,\n",
        "le site 1 (première colonne) est référencé par\n",
        "les sites 2 et 3. Celui-ci ne référence que le site 5.\n",
        "\n",
        "1.  A partir de la page wikipedia anglaise de `PageRank`, tester\n",
        "    sur votre matrice.\n",
        "\n",
        "</div>"
      ],
      "id": "80cdf0b7-3cb9-420b-ae6c-187ed33402f9"
    },
    {
      "cell_type": "code",
      "execution_count": 47,
      "metadata": {},
      "outputs": [],
      "source": [
        "# Question 1\n",
        "M = np.array([[0, 0, 0, 0, 1],\n",
        "              [0.5, 0, 0, 0, 0],\n",
        "              [0.5, 0, 0, 0, 0],\n",
        "              [0, 1, 0.5, 0, 0],\n",
        "              [0, 0, 0.5, 1, 0]])"
      ],
      "id": "05217c45"
    },
    {
      "cell_type": "code",
      "execution_count": 48,
      "metadata": {},
      "outputs": [
        {
          "output_type": "display_data",
          "metadata": {},
          "data": {
            "image/png": "[encoded data removed]"
          }
        }
      ],
      "source": [
        "import networkx as nx\n",
        "\n",
        "G = nx.from_numpy_array(M)\n",
        "fig = plt.figure()\n",
        "nx.draw(G)\n",
        "plt.savefig(\"scatter_numpy.png\", bbox_inches = \"tight\")"
      ],
      "id": "ae362e75"
    },
    {
      "cell_type": "code",
      "execution_count": 49,
      "metadata": {},
      "outputs": [],
      "source": [
        "\"\"\"PageRank algorithm with explicit number of iterations.\n",
        "\n",
        "Returns\n",
        "-------\n",
        "ranking of nodes (pages) in the adjacency matrix\n",
        "\n",
        "\"\"\"\n",
        "\n",
        "import numpy as np\n",
        "\n",
        "def pagerank(M, num_iterations: int = 100, d: float = 0.85):\n",
        "    \"\"\"PageRank: The trillion dollar algorithm.\n",
        "\n",
        "    Parameters\n",
        "    ----------\n",
        "    M : numpy array\n",
        "        adjacency matrix where M_i,j represents the link from 'j' to 'i', such that for all 'j'\n",
        "        sum(i, M_i,j) = 1\n",
        "    num_iterations : int, optional\n",
        "        number of iterations, by default 100\n",
        "    d : float, optional\n",
        "        damping factor, by default 0.85\n",
        "\n",
        "    Returns\n",
        "    -------\n",
        "    numpy array\n",
        "        a vector of ranks such that v_i is the i-th rank from [0, 1],\n",
        "        v sums to 1\n",
        "\n",
        "    \"\"\"\n",
        "    N = M.shape[1]\n",
        "    v = np.random.rand(N, 1)\n",
        "    v = v / np.linalg.norm(v, 1)\n",
        "    M_hat = (d * M + (1 - d) / N)\n",
        "    for i in range(num_iterations):\n",
        "        v = M_hat @ v\n",
        "    return v\n",
        "\n",
        "v = pagerank(M, 100, 0.85)"
      ],
      "id": "92a411ff"
    },
    {
      "cell_type": "markdown",
      "metadata": {},
      "source": [
        "Le site 1 est assez central car il est référencé 2 fois. Le site\n",
        "5 est lui également central puisqu’il est référencé par le site 1."
      ],
      "id": "68811e05-22dd-4e98-a836-b42ccc22ec0e"
    },
    {
      "cell_type": "code",
      "execution_count": 50,
      "metadata": {},
      "outputs": [
        {
          "output_type": "display_data",
          "metadata": {},
          "data": {
            "text/plain": [
              "array([[0.25419178],\n",
              "       [0.13803151],\n",
              "       [0.13803151],\n",
              "       [0.20599017],\n",
              "       [0.26375504]])"
            ]
          }
        }
      ],
      "source": [
        "v"
      ],
      "id": "d8fc94c5"
    }
  ],
  "nbformat": 4,
  "nbformat_minor": 5,
  "metadata": {
    "kernelspec": {
      "name": "python3",
      "display_name": "Python 3 (ipykernel)",
      "language": "python",
      "path": "/opt/conda/share/jupyter/kernels/python3"
    },
    "language_info": {
      "name": "python",
      "codemirror_mode": {
        "name": "ipython",
        "version": "3"
      },
      "file_extension": ".py",
      "mimetype": "text/x-python",
      "nbconvert_exporter": "python",
      "pygments_lexer": "ipython3",
      "version": "3.12.6"
    }
  }
}