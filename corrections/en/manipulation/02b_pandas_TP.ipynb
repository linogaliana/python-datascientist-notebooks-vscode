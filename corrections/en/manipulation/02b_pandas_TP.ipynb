{
  "cells": [
    {
      "cell_type": "markdown",
      "metadata": {},
      "source": [
        "# Pratique de pandas : un exemple complet\n",
        "\n",
        "Lino Galiana  \n",
        "2025-03-19\n",
        "\n",
        "La partie `Pandas` a évolué récemment. Vous pouvez retrouver les contenus liés à `Pandas` dans les chapitres suivants:\n",
        "\n",
        "-   [Introduction à `Pandas` et à la logique du *DataFrame*](../../content/manipulation/02_pandas_intro.qmd) ;\n",
        "-   [Statistiques par groupe et association de plusieurs jeux de données avec `Pandas`](../../content/manipulation/02_pandas_suite.qmd) ;"
      ],
      "id": "b0e25023-3f3d-4f6a-a11a-011d34cb5d51"
    }
  ],
  "nbformat": 4,
  "nbformat_minor": 5,
  "metadata": {
    "kernelspec": {
      "display_name": "Python 3",
      "language": "python",
      "name": "python3"
    }
  }
}