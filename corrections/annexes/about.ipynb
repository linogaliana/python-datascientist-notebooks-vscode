{
  "cells": [
    {
      "cell_type": "markdown",
      "metadata": {},
      "source": [
        "# A propos de ce site\n",
        "\n",
        "Lino Galiana  \n",
        "2025-03-19\n",
        "\n",
        "Site web du cours [*Python pour la data science*](https://www.ensae.fr/courses/1425-python-pour-le-data-scientist)\n",
        "<a href=\"https://github.com/linogaliana/python-datascientist\" class=\"github\"><i class=\"fab fa-python\"></i></a>, une introduction à `Python` pour\n",
        "la deuxième année du cursus d’ingénieur de l’[`ENSAE`](https://www.ensae.fr/) (Master 1).\n",
        "\n",
        "<br>\n",
        "\n",
        "L’ensemble du contenu de ce groupe est librement disponible ici\n",
        "ou sur [`Github`](https://github.com/linogaliana/python-datascientist)\n",
        "<a href=\"https://github.com/linogaliana/python-datascientist\" class=\"github\"><i class=\"fab fa-github\"></i></a> et peut être testé\n",
        "sous forme de *notebooks* `Jupyter`.\n",
        "\n",
        "<br>"
      ],
      "id": "384e52bd-20a5-46c6-affc-8a7488f85c35"
    },
    {
      "cell_type": "raw",
      "metadata": {
        "raw_mimetype": "text/html"
      },
      "source": [
        "<details>"
      ],
      "id": "ca570de4-ac44-46ee-a3b1-00f53093f986"
    },
    {
      "cell_type": "raw",
      "metadata": {
        "raw_mimetype": "text/html"
      },
      "source": [
        "<summary>"
      ],
      "id": "3dc745a5-7a0c-47d6-8a4e-f7cacc6b1e2c"
    },
    {
      "cell_type": "markdown",
      "metadata": {},
      "source": [
        "Exemple avec l’introduction à `Pandas`"
      ],
      "id": "ed25f661-b602-4c92-befd-77a06f80ffe2"
    },
    {
      "cell_type": "raw",
      "metadata": {
        "raw_mimetype": "text/html"
      },
      "source": [
        "</summary>"
      ],
      "id": "faeaea18-5d5d-439b-af7f-bb39f0a0de47"
    },
    {
      "cell_type": "code",
      "execution_count": null,
      "metadata": {},
      "outputs": [
        {
          "output_type": "display_data",
          "metadata": {},
          "data": {}
        }
      ],
      "source": [],
      "id": "6701257d-25c0-4706-80ae-ba73cc0fa0f1"
    },
    {
      "cell_type": "raw",
      "metadata": {
        "raw_mimetype": "text/html"
      },
      "source": [
        "</details>"
      ],
      "id": "9594bad0-3468-4ebe-8cf7-d5f68d291893"
    },
    {
      "cell_type": "raw",
      "metadata": {
        "raw_mimetype": "text/html"
      },
      "source": [
        "<details>"
      ],
      "id": "a390d659-687f-49d6-92ae-bb2b9e627f93"
    },
    {
      "cell_type": "raw",
      "metadata": {
        "raw_mimetype": "text/html"
      },
      "source": [
        "<summary>"
      ],
      "id": "0bc10cdc-d438-4faa-8cf5-56417dd7632d"
    },
    {
      "cell_type": "markdown",
      "metadata": {},
      "source": [
        "Au programme:"
      ],
      "id": "0368ec87-d9dd-40e3-8bea-15a6bd69c960"
    },
    {
      "cell_type": "raw",
      "metadata": {
        "raw_mimetype": "text/html"
      },
      "source": [
        "</summary>"
      ],
      "id": "e4d2633e-bcf3-4fe1-9509-cd45d6055621"
    },
    {
      "cell_type": "markdown",
      "metadata": {},
      "source": [
        "Globalement, ce cours propose un contenu très complet pouvant autant\n",
        "satisfaire des débutants en\n",
        "*data science* que des personnes à la recherche de contenu plus avancé :\n",
        "<br>\n",
        "\n",
        "1.  **Manipulation de données** : manipulation de données standards (`Pandas`), données géographiques (`Geopandas`), récupération de données (webscraping, API)…\n",
        "2.  **Visualisation de données** : visualisations classiques (`Matplotlib`, `Seaborn`), cartographie, visualisations réactives (`Plotly`, `Folium`)\n",
        "3.  **Modélisation** : *machine learning* (`Scikit`), économétrie\n",
        "4.  **Traitement de données textuelles** (NLP): découverte de la tokenisation avec `NLTK` et `SpaCy`, modélisation…\n",
        "5.  **Introduction à la *data science* moderne** : *cloud computing*, `ElasticSearch`, intégration continue…\n",
        "\n",
        "L’ensemble du contenu de ce site s’appuie sur des **données\n",
        "ouvertes**, qu’il s’agisse de données françaises (principalement\n",
        "issues de la plateforme\n",
        "centralisatrice [`data.gouv`](https://www.data.gouv.fr) ou du site\n",
        "*web* de l’[Insee](https://www.insee.fr)) ou de données\n",
        "américaines. Le programme est présenté de manière linéaire dans la partie supérieure de cette page (👆️) ou de manière désordonnée ci-dessous (👇️).\n",
        "\n",
        "Un bon complément du contenu du site web est le cours que nous donnons avec Romain Avouac en dernière année de l’ENSAE plus tourné autour de la mise en production de projets *data science* : [https://ensae-reproductibilite.github.io/](https://ensae-reproductibilite.github.io/website/)"
      ],
      "id": "81b1bbcb-52de-4336-9f67-afee3d325820"
    },
    {
      "cell_type": "raw",
      "metadata": {
        "raw_mimetype": "text/html"
      },
      "source": [
        "</details>"
      ],
      "id": "cc23f6fc-1754-46f1-8f6c-7cce8599b281"
    },
    {
      "cell_type": "markdown",
      "metadata": {},
      "source": [
        ":::::\n",
        "\n",
        "![](https://minio.lab.sspcloud.fr/lgaliana/generative-art/pythonds/kiddos.png)\n",
        "\n",
        "::::\n",
        "\n",
        ":::"
      ],
      "id": "228e37e8-7af3-4744-9b17-8abbc64ec859"
    }
  ],
  "nbformat": 4,
  "nbformat_minor": 5,
  "metadata": {
    "kernelspec": {
      "display_name": "Python 3",
      "language": "python",
      "name": "python3"
    }
  }
}