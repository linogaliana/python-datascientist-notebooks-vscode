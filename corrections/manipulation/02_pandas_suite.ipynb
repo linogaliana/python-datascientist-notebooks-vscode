{
  "cells": [
    {
      "cell_type": "markdown",
      "metadata": {},
      "source": [
        "# Manipuler des données avec Pandas\n",
        "\n",
        "Lino Galiana  \n",
        "2025-03-19\n",
        "\n",
        "<div class=\"badge-container\"><div class=\"badge-text\">Pour essayer les exemples présents dans ce tutoriel :</div><a href=\"https://github.com/linogaliana/python-datascientist-notebooks/blob/main/notebooks/manipulation/02_pandas_suite.ipynb\" target=\"_blank\" rel=\"noopener\"><img src=\"https://img.shields.io/static/v1?logo=github&label=&message=View%20on%20GitHub&color=181717\" alt=\"View on GitHub\"></a>\n",
        "<a href=\"https://datalab.sspcloud.fr/launcher/ide/vscode-python?autoLaunch=true&name=«02_pandas_suite»&init.personalInit=«https%3A%2F%2Fraw.githubusercontent.com%2Flinogaliana%2Fpython-datascientist%2Fmain%2Fsspcloud%2Finit-vscode.sh»&init.personalInitArgs=«manipulation%2002_pandas_suite%20correction»\" target=\"_blank\" rel=\"noopener\"><img src=\"https://custom-icon-badges.demolab.com/badge/SSP%20Cloud-Lancer_avec_VSCode-blue?logo=vsc&logoColor=white\" alt=\"Onyxia\"></a>\n",
        "<a href=\"https://datalab.sspcloud.fr/launcher/ide/jupyter-python?autoLaunch=true&name=«02_pandas_suite»&init.personalInit=«https%3A%2F%2Fraw.githubusercontent.com%2Flinogaliana%2Fpython-datascientist%2Fmain%2Fsspcloud%2Finit-jupyter.sh»&init.personalInitArgs=«manipulation%2002_pandas_suite%20correction»\" target=\"_blank\" rel=\"noopener\"><img src=\"https://img.shields.io/badge/SSP%20Cloud-Lancer_avec_Jupyter-orange?logo=Jupyter&logoColor=orange\" alt=\"Onyxia\"></a>\n",
        "<a href=\"https://colab.research.google.com/github/linogaliana/python-datascientist-notebooks-colab//blob/main//notebooks/manipulation/02_pandas_suite.ipynb\" target=\"_blank\" rel=\"noopener\"><img src=\"https://colab.research.google.com/assets/colab-badge.svg\" alt=\"Open In Colab\"></a><br></div>\n",
        "\n",
        "<div class=\"callout callout-style-default callout-note callout-titled\">\n",
        "<div class=\"callout-header d-flex align-content-center\">\n",
        "<div class=\"callout-icon-container\"><i class=\"callout-icon\"></i>\n",
        "</div>\n",
        "<div class=\"callout-title-container flex-fill\">\n",
        "Version 🇫🇷\n",
        "</div>\n",
        "</div>\n",
        "<div class=\"callout-body-container callout-body\">\n",
        "This is the French version 🇫🇷 of that chapter,to see the English version go <a href=\"https://pythonds.linogaliana.fr/content/manipulation/02_pandas_suite.html\">there</a>\n",
        "</div>\n",
        "</div>\n",
        "\n",
        "<div class=\"alert alert-success\" role=\"alert\">\n",
        "<h3 class=\"alert-heading\"><i class=\"fa-solid fa-lightbulb\"></i> Compétences à l’issue de ce chapitre</h3>\n",
        "\n",
        "-   Savoir construire des statistiques agrégées fines grâce aux méthodes de `Pandas` ;\n",
        "-   Savoir restructurer ses données et joindre plusieurs `DataFrames` ensemble ;\n",
        "-   Créer des tableaux attractifs pour communiquer sur des résultats agrégés ;\n",
        "-   Connaître les limites de `Pandas` et les *packages* alternatifs.\n",
        "\n",
        "</div>\n",
        "\n",
        "# 1. Introduction\n",
        "\n",
        "Le [chapitre d’introduction à `Pandas`](../../content/manipulation/02_pandas_intro.qmd) a permis de présenter le principe de données organisées sous une forme de *DataFrame* et la praticité de l’écosystème `Pandas` pour effectuer des opérations simples sur un jeu de données.\n",
        "\n",
        "Il est rare de travailler exclusivement sur une source brute. Un jeu de données prend généralement de la valeur lorsqu’il est comparé à d’autres sources. Pour des chercheurs, cela permettra de contextualiser l’information présente dans une source en la comparant ou en l’associant à d’autres sources. Pour des *data scientists* dans le secteur privé, il s’agira souvent d’associer des informations sur une même personne dans plusieurs bases clientes ou comparer les clients entre eux.\n",
        "\n",
        "L’un des apports des outils modernes de *data science*, notamment `Pandas` est la simplicité par laquelle ils permettent de restructurer des sources pour travailler sur plusieurs données sur un projet.\n",
        "Ce chapitre consolide ainsi les principes vus précédemment en raffinant les traitements faits sur les données. Il va explorer principalement deux types d’opérations:\n",
        "\n",
        "-   les statistiques descriptives par groupe ;\n",
        "-   l’association de données par des caractéristiques communes.\n",
        "\n",
        "Effectuer ce travail de manière simple, fiable et efficace est indispensable pour les *data scientists* tant cette tâche est courante. Heureusement `Pandas` permet de faire cela très bien avec des données structurées. Nous verrons dans les prochains chapitres, mais aussi dans l’ensemble de la [partie sur le traitement des données textuelles](../../content/nlp/index.qmd), comment faire avec des données moins structurées.\n",
        "\n",
        "Grâce à ce travail, nous allons approfondir notre compréhension d’un phénomène réel par le biais de statistiques descriptives fines. Cela est une étape indispensable avant de basculer vers la [statistique inférentielle](https://fr.wikipedia.org/wiki/Inf%C3%A9rence_statistique#:~:text=L'inf%C3%A9rence%20statistique%20est%20l,%3A%20la%20probabilit%C3%A9%20d'erreur.), l’approche qui consiste à formaliser et généraliser des liens de corrélation ou de causalité entre des caractéristiques observées et un phénomène.\n",
        "\n",
        "<div class=\"alert alert-success\" role=\"alert\">\n",
        "<h3 class=\"alert-heading\"><i class=\"fa-solid fa-lightbulb\"></i> Compétences à l’issue de ce chapitre</h3>\n",
        "\n",
        "-   Récupérer un jeu de données officiel de l’Insee ;\n",
        "-   Construire des statistiques descriptives par groupe et jongler entre les niveaux des données ;\n",
        "-   Associer des données (*reshape*, *merge*) pour leur donner plus de valeur ;\n",
        "-   Faire un beau tableau pour communiquer des statistiques descriptives.\n",
        "\n",
        "</div>\n",
        "\n",
        "## 1.1 Environnement\n",
        "\n",
        "Le chapitre précédent utilisait quasi exclusivement la librairie `Pandas`. Nous allons dans ce chapitre utiliser d’autres *packages* en complément de celui-ci.\n",
        "\n",
        "Comme expliqué ci-dessous, nous allons utiliser une librairie nommée `pynsee` pour récupérer les données de l’Insee utiles à enrichir notre jeu de données de l’Ademe. Cette librairie n’est pas installée par défaut dans `Python`. Avant de pouvoir l’utiliser,\n",
        "il est nécessaire de l’installer, comme la librairie `great_tables` que nous verrons à la fin de ce chapitre:"
      ],
      "id": "694b4053-251e-460d-832a-e891dbc8c28d"
    },
    {
      "cell_type": "code",
      "execution_count": 1,
      "metadata": {},
      "outputs": [],
      "source": [
        "!pip install xlrd\n",
        "!pip install pynsee\n",
        "!pip install great_tables"
      ],
      "id": "291d1a6e"
    },
    {
      "cell_type": "markdown",
      "metadata": {},
      "source": [
        "L’instruction `!pip install <pkg>` est une manière de faire comprendre à `Jupyter`, le moteur d’exécution derrière les *notebooks* que la commande qui suit (`pip install` ce `<pkg>`)\n",
        "est une commande système, à exécuter hors de `Python` (dans le terminal par exemple pour un système `Linux`).\n",
        "\n",
        "Les premiers *packages* indispensables pour démarrer ce chapitre sont les suivants:"
      ],
      "id": "12abdfd5-5d6a-43e6-97ca-ab463c9dfd20"
    },
    {
      "cell_type": "code",
      "execution_count": 2,
      "metadata": {},
      "outputs": [],
      "source": [
        "import numpy as np\n",
        "import pandas as pd\n",
        "import matplotlib.pyplot as plt\n",
        "import pynsee\n",
        "import pynsee.download"
      ],
      "id": "b1d1b0a4"
    },
    {
      "cell_type": "markdown",
      "metadata": {},
      "source": [
        "Pour obtenir des résultats reproductibles, on peut fixer la racine du générateur\n",
        "pseudo-aléatoire."
      ],
      "id": "217fe7c7-5927-4e77-90e6-fcd5291fb1a2"
    },
    {
      "cell_type": "code",
      "execution_count": 3,
      "metadata": {},
      "outputs": [],
      "source": [
        "np.random.seed(123)"
      ],
      "id": "31875f77"
    },
    {
      "cell_type": "markdown",
      "metadata": {},
      "source": [
        "## 1.2 Données utilisées\n",
        "\n",
        "Ce tutoriel continue l’exploration du jeu de données du chapitre précédent:\n",
        "\n",
        "-   Les émissions de gaz à effet de serre estimées au niveau communal par l’ADEME. Le jeu de données est\n",
        "    disponible sur [data.gouv](https://www.data.gouv.fr/fr/datasets/inventaire-de-gaz-a-effet-de-serre-territorialise/#_)\n",
        "    et requêtable directement dans `Python` avec\n",
        "    [cet url](https://koumoul.com/s/data-fair/api/v1/datasets/igt-pouvoir-de-rechauffement-global/convert) ;\n",
        "\n",
        "Les problématiques d’enrichissement de données (association d’une source à une autre à partir de caractéristiques communes) seront présentées à partir de deux sources produites par l’Insee:\n",
        "\n",
        "-   Le\n",
        "    [code officiel géographique](https://www.insee.fr/fr/statistiques/fichier/6800675/v_commune_2023.csv),\n",
        "    un référentiel\n",
        "    produit par l’Insee utilisé pour identifier les communes à partir d’un code unique, contrairement au code postal ;\n",
        "-   Les données [*Filosofi*](https://www.insee.fr/fr/metadonnees/source/serie/s1172), une source sur les revenus des Français à une échelle spatiale fine construite par l’Insee à partir des déclarations fiscales et d’informations sur les prestations sociales. En l’occurrence, nous allons utiliser les niveaux de revenu et les populations[1] au niveau communal afin de les mettre en regard de nos données d’émissions.\n",
        "\n",
        "Pour faciliter l’import de données Insee, il est recommandé d’utiliser le *package*\n",
        "[`pynsee`](https://pynsee.readthedocs.io/en/latest/) qui simplifie l’accès aux principaux jeux de données\n",
        "de l’Insee disponibles sur le site web [insee.fr](https://www.insee.fr/fr/accueil)\n",
        "ou via des API.\n",
        "\n",
        "<div class=\"alert alert-info\" role=\"alert\">\n",
        "<h3 class=\"alert-heading\"><i class=\"fa-solid fa-comment\"></i> Note</h3>\n",
        "\n",
        "Le *package* `pynsee` comporte deux principaux points d’entrée :\n",
        "\n",
        "-   Les API de l’Insee, ce qui sera illustré dans le chapitre consacré.\n",
        "-   Quelques jeux de données directement issus du site web de\n",
        "    l’Insee ([insee.fr](https://www.insee.fr/fr/accueil))\n",
        "\n",
        "Dans ce chapitre, nous allons exclusivement utiliser cette deuxième\n",
        "approche. Cela se fera par le module `pynsee.download`.\n",
        "\n",
        "La liste des données disponibles depuis ce *package* est [ici](https://inseefrlab.github.io/DoReMIFaSol/articles/donnees_dispo.html).\n",
        "La fonction `download_file` attend un identifiant unique\n",
        "pour savoir quelle base de données aller chercher et\n",
        "restructurer depuis le\n",
        "site [insee.fr](https://www.insee.fr/fr/accueil).\n",
        "\n",
        "<details>\n",
        "\n",
        "<summary>\n",
        "\n",
        "Connaître la liste des bases disponibles\n",
        "\n",
        "</summary>\n",
        "\n",
        "Pour connaître la liste des bases disponibles, vous\n",
        "pouvez utiliser la fonction `meta = pynsee.get_file_list()`\n",
        "après avoir fait `import pynsee`.\n",
        "Celle-ci renvoie un `DataFrame` dans lequel on peut\n",
        "rechercher, par exemple grâce à une recherche\n",
        "de mots-clefs :\n",
        "\n",
        "``` python\n",
        "import pynsee\n",
        "meta = pynsee.get_file_list()\n",
        "meta.loc[meta['label'].str.contains(r\"Filosofi.*2016\")]\n",
        "```\n",
        "\n",
        "Ici, `meta['label'].str.contains(r\"Filosofi.*2016\")` signifie:\n",
        "“*`pandas` trouve moi tous les labels où sont contenus les termes Filosofi et 2016.*”\n",
        "(`.*` signifiant “*peu m’importe le nombre de mots ou caractères entre*”)\n",
        "\n",
        "</details>\n",
        "\n",
        "</div>\n",
        "\n",
        "# 2. Récupération des jeux de données\n",
        "\n",
        "## 2.1 Données d’émission de l’Ademe\n",
        "\n",
        "Comme expliqué au chapitre précédent, ces données peuvent être importées très simplement avec `Pandas`\n",
        "\n",
        "[1] Ideally, it would be more coherent, for demographic data, to use the [legal populations](https://www.insee.fr/fr/information/2008354), from the census. However, this base is not yet natively integrated into the `pynsee` library that we will use in this chapter. An open exercise is proposed to construct population aggregates from anonymized individual census data (the [detailed files](https://www.insee.fr/fr/information/2383306))."
      ],
      "id": "ee491208-27e9-44cb-88f4-fccc312178b3"
    },
    {
      "cell_type": "code",
      "execution_count": 6,
      "metadata": {},
      "outputs": [],
      "source": [
        "import pandas as pd\n",
        "\n",
        "url = \"https://koumoul.com/s/data-fair/api/v1/datasets/igt-pouvoir-de-rechauffement-global/convert\"\n",
        "emissions = pd.read_csv(url)\n",
        "emissions.head(2)"
      ],
      "id": "8938e63b"
    },
    {
      "cell_type": "markdown",
      "metadata": {},
      "source": [
        "Nous allons d’ores et déjà conserver le nom des secteurs émetteurs présents dans la base de données pour simplifier des utilisations ultérieures:"
      ],
      "id": "87330f83-d639-4c62-b286-99d3919fd14f"
    },
    {
      "cell_type": "code",
      "execution_count": 7,
      "metadata": {},
      "outputs": [],
      "source": [
        "secteurs = emissions.select_dtypes(include='number').columns"
      ],
      "id": "c3dd0424"
    },
    {
      "cell_type": "markdown",
      "metadata": {},
      "source": [
        "Les exploitations ultérieures de ces données utiliseront la dimension départementale dont nous avons montré la construction au chapitre précédent:"
      ],
      "id": "572b7567-3669-47ec-a776-dd6dec7a5cf8"
    },
    {
      "cell_type": "code",
      "execution_count": 8,
      "metadata": {},
      "outputs": [],
      "source": [
        "emissions['dep'] = emissions[\"INSEE commune\"].str[:2]"
      ],
      "id": "07ff7550"
    },
    {
      "cell_type": "markdown",
      "metadata": {},
      "source": [
        "## 2.2 Données *Filosofi*\n",
        "\n",
        "On va utiliser les données Filosofi (données de revenus) au niveau communal de 2016.\n",
        "Ce n’est pas la même année que les données d’émission de CO2, ce n’est donc pas parfaitement rigoureux,\n",
        "mais cela permettra tout de même d’illustrer\n",
        "les principales fonctionnalités de `Pandas`\n",
        "\n",
        "Le point d’entrée principal de la fonction `pynsee` est la fonction `download_file`.\n",
        "\n",
        "Le code pour télécharger les données est le suivant :"
      ],
      "id": "76a63719-d963-43a1-bf56-670b63ce685e"
    },
    {
      "cell_type": "code",
      "execution_count": 9,
      "metadata": {},
      "outputs": [],
      "source": [
        "from pynsee.download import download_file\n",
        "filosofi = download_file(\"FILOSOFI_COM_2016\")"
      ],
      "id": "46088e51"
    },
    {
      "cell_type": "markdown",
      "metadata": {},
      "source": [
        "Le *DataFrame* en question a l’aspect suivant :"
      ],
      "id": "9130414c-18e2-46e5-ae65-7709ff1be039"
    },
    {
      "cell_type": "code",
      "execution_count": 11,
      "metadata": {},
      "outputs": [],
      "source": [
        "filosofi.sample(3)"
      ],
      "id": "546aa4d8"
    },
    {
      "cell_type": "markdown",
      "metadata": {},
      "source": [
        "`Pandas` a géré automatiquement les types de variables. Il le fait relativement bien, mais une vérification est toujours utile pour les variables qui ont un statut spécifique.\n",
        "\n",
        "Pour les variables qui ne sont pas en type `float` alors qu’elles devraient l’être, on modifie leur type."
      ],
      "id": "d973dafc-2f8f-4702-9ea2-ef254c39b1c7"
    },
    {
      "cell_type": "code",
      "execution_count": 12,
      "metadata": {},
      "outputs": [],
      "source": [
        "filosofi = (\n",
        "  filosofi\n",
        "  .astype(\n",
        "    {c: \"float\" for c in filosofi.columns[2:]}\n",
        "  )\n",
        ")"
      ],
      "id": "a356e4c2"
    },
    {
      "cell_type": "markdown",
      "metadata": {},
      "source": [
        "Un simple coup d’oeil sur les données\n",
        "donne une idée assez précise de la manière dont les données sont organisées.\n",
        "On remarque que certaines variables de `filosofi` semblent avoir beaucoup de valeurs manquantes (secret statistique)\n",
        "alors que d’autres semblent complètes.\n",
        "Si on désire exploiter `filosofi`, il faut faire attention à la variable choisie.\n",
        "\n",
        "Notre objectif à terme va être de relier l’information contenue entre ces\n",
        "deux jeux de données. En effet, sinon, nous risquons d’être frustré : nous allons\n",
        "vouloir en savoir plus sur les émissions de gaz carbonique mais seront très\n",
        "limités dans les possibilités d’analyse sans ajout d’une information annexe\n",
        "issue de `filosofi`.\n",
        "\n",
        "# 3. Statistiques descriptives par groupe\n",
        "\n",
        "## 3.1 Principe\n",
        "\n",
        "Nous avons vu, lors du chapitre précédent, comment obtenir\n",
        "une statistique agrégée simplement grâce à `Pandas`.\n",
        "Il est néanmoins commun d’avoir des données avec des strates\n",
        "intermédiaires d’analyse pertinentes: des variables géographiques, l’appartenance à des groupes socio-démographiques liés à des caractéristiques renseignées, des indicatrices de période temporelle, etc.\n",
        "Pour mieux comprendre la structure de ses données, les *data scientists* sont donc souvent amenés à construire des statistiques descriptives sur des sous-groupes présents dans les données. Pour reprendre l’exemple sur les émissions, nous avions précédemment construit des statistiques d’émissions au niveau national. Mais qu’en est-il du profil d’émission des différents départements ? Pour répondre à cette question, il sera utile d’agréger nos données au niveau départemental. Ceci nous donnera une information différente du jeu de données initial (niveau communal) et du niveau le plus agrégé (niveau national).\n",
        "\n",
        "En `SQL`, il est très simple de découper des données pour\n",
        "effectuer des opérations sur des blocs cohérents et recollecter des résultats\n",
        "dans la dimension appropriée.\n",
        "La logique sous-jacente est celle du *split-apply-combine* qui est repris\n",
        "par les langages de manipulation de données, auxquels `pandas`\n",
        "[ne fait pas exception](https://pandas.pydata.org/pandas-docs/stable/user_guide/groupby.html).\n",
        "\n",
        "L’image suivante, issue de\n",
        "[ce site](https://unlhcc.github.io/r-novice-gapminder/16-plyr/),\n",
        "représente bien la manière dont fonctionne l’approche\n",
        "`split`-`apply`-`combine`:\n",
        "\n",
        "<figure>\n",
        "<img src=\"https://unlhcc.github.io/r-novice-gapminder/fig/12-plyr-fig1.png\" alt=\"Split-apply-combine (Source: unlhcc.github.io)\" />\n",
        "<figcaption aria-hidden=\"true\">Split-apply-combine (Source: <a href=\"https://unlhcc.github.io/r-novice-gapminder/16-plyr/\">unlhcc.github.io</a>)</figcaption>\n",
        "</figure>\n",
        "\n",
        "En `Pandas`, on utilise `groupby` pour découper les données selon un ou\n",
        "plusieurs axes (ce [tutoriel](https://realpython.com/pandas-groupby/) sur le sujet\n",
        "est particulièrement utile).\n",
        "L’ensemble des opérations d’agrégation (comptage, moyennes, etc.) que nous avions vues précédemment peut être mise en oeuvre par groupe.\n",
        "\n",
        "Techniquement, cette opération consiste à créer une association\n",
        "entre des labels (valeurs des variables de groupe) et des\n",
        "observations. Utiliser la méthode `groupby` ne déclenche pas d’opérations avant la mise en oeuvre d’une statistique, cela créé seulement une relation formelle entre des observations et des regroupemens qui seront utilisés *a posteriori*:"
      ],
      "id": "b13d2196-9bbe-48ee-a244-e31eefa04107"
    },
    {
      "cell_type": "code",
      "execution_count": 13,
      "metadata": {},
      "outputs": [],
      "source": [
        "filosofi[\"dep\"] = filosofi[\"CODGEO\"].str[:2]\n",
        "filosofi.groupby('dep').__class__"
      ],
      "id": "d932dd06"
    },
    {
      "cell_type": "markdown",
      "metadata": {},
      "source": [
        "Tant qu’on n’appelle pas une action sur un `DataFrame` par groupe, du type\n",
        "`head` ou `display`, `pandas` n’effectue aucune opération. On parle de\n",
        "*lazy evaluation*. Par exemple, le résultat de `df.groupby('dep')` est\n",
        "une transformation qui n’est pas encore évaluée :"
      ],
      "id": "8ec92637-b235-4173-955b-86dec67793e1"
    },
    {
      "cell_type": "code",
      "execution_count": 14,
      "metadata": {},
      "outputs": [],
      "source": [
        "filosofi.groupby('dep')"
      ],
      "id": "bf445d06"
    },
    {
      "cell_type": "markdown",
      "metadata": {},
      "source": [
        "## 3.2 Illustration 1: dénombrement par groupe\n",
        "\n",
        "Pour illustrer l’application de ce principe à un comptage, on peut dénombrer le nombre de communes par département en 2023 (chaque année cette statistique change du fait des fusions de communes). Pour cela, il suffit de prendre le référentiel des communes françaises issu du code officiel géographique (COG) et dénombrer par département grâce à `count`:"
      ],
      "id": "804b8814-6bdc-46e6-b63d-e41421e8055a"
    },
    {
      "cell_type": "code",
      "execution_count": 15,
      "metadata": {},
      "outputs": [],
      "source": [
        "import requests\n",
        "from io import StringIO\n",
        "import pandas as pd\n",
        "\n",
        "url_cog_2023 = \"https://www.insee.fr/fr/statistiques/fichier/6800675/v_commune_2023.csv\"\n",
        "url_backup = \"https://minio.lab.sspcloud.fr/lgaliana/data/python-ENSAE/cog_2023.csv\"\n",
        "\n",
        "# Try-except clause to avoid timout issue sometimes\n",
        "# Without timeout problem, pd.read_csv(url_cog_2023) would be sufficient\n",
        "try:\n",
        "  response = requests.get(url_cog_2023)\n",
        "  response.raise_for_status()\n",
        "  cog_2023 = pd.read_csv(StringIO(response.text))\n",
        "except requests.exceptions.Timeout:\n",
        "  print(\"Failing back to backup\")\n",
        "  cog_2023 = pd.read_csv(url_backup)"
      ],
      "id": "83fa8636"
    },
    {
      "cell_type": "markdown",
      "metadata": {},
      "source": [
        "Grâce à ce jeu de données, sans avoir recours aux statistiques par groupe, on peut déjà savoir combien on a, respectivement, de communes, départements et régions en France:"
      ],
      "id": "53f914af-dea1-4c23-a6f6-a2aad2265910"
    },
    {
      "cell_type": "code",
      "execution_count": 16,
      "metadata": {},
      "outputs": [],
      "source": [
        "communes = cog_2023.loc[cog_2023['TYPECOM']==\"COM\"]\n",
        "communes.loc[:, ['COM', 'DEP', 'REG']].nunique()"
      ],
      "id": "cf42fd55"
    },
    {
      "cell_type": "markdown",
      "metadata": {},
      "source": [
        "Maintenant, intéressons nous aux départements ayant le plus de communes. Il s’agit de la même fonction de dénombrement où on joue, cette fois, sur le groupe à partir duquel est calculé la statistique.\n",
        "\n",
        "Calculer cette statistique se fait de manière assez transparente lorsqu’on connaît le principe d’un calcul de statistiques avec `Pandas`:"
      ],
      "id": "0dafb7a2-2bb3-4a4e-b2f8-1ebd070f73fd"
    },
    {
      "cell_type": "code",
      "execution_count": 18,
      "metadata": {},
      "outputs": [],
      "source": [
        "communes = cog_2023.loc[cog_2023['TYPECOM']==\"COM\"]\n",
        "communes.groupby('DEP').agg({'COM': 'nunique'})"
      ],
      "id": "d78f304d"
    },
    {
      "cell_type": "markdown",
      "metadata": {},
      "source": [
        "En SQL, on utiliserait la requête suivante:\n",
        "\n",
        "``` sql\n",
        "SELECT dep, COUNT DISTINCT \"COM\" AS COM\n",
        "FROM communes\n",
        "GROUP BY dep\n",
        "WHERE TYPECOM == 'COM';\n",
        "```\n",
        "\n",
        "La sortie est une `Serie` indexée. Ce n’est pas très pratique comme nous avons pu l’évoquer au cours du chapitre précédent. Il est plus pratique de transformer cet objet en `DataFrame` avec `reset_index`. Enfin, avec `sort_values`, on obtient la statistique désirée:"
      ],
      "id": "2ec926d6-b517-480b-87ab-794891372e0b"
    },
    {
      "cell_type": "code",
      "execution_count": 19,
      "metadata": {},
      "outputs": [],
      "source": [
        "(\n",
        "    communes\n",
        "    .groupby('DEP')\n",
        "    .agg({'COM': 'nunique'})\n",
        "    .reset_index()\n",
        "    .sort_values('COM', ascending = False)\n",
        ")"
      ],
      "id": "3f193e70"
    },
    {
      "cell_type": "markdown",
      "metadata": {},
      "source": [
        "## 3.3 Illustration 2: agrégats par groupe\n",
        "\n",
        "Pour illustrer les agrégats par groupe nous pouvons prendre le jeu de données de l’Insee `filosofi` et compter la population grâce à la variable `NBPERSMENFISC16`.\n",
        "\n",
        "Pour calculer le total au niveau France entière nous pouvons faire de deux manières :"
      ],
      "id": "b5ec4084-99b8-4dd9-960b-329b4c6c4887"
    },
    {
      "cell_type": "code",
      "execution_count": 20,
      "metadata": {},
      "outputs": [],
      "source": [
        "filosofi['NBPERSMENFISC16'].sum()* 1e-6"
      ],
      "id": "fef84eb1"
    },
    {
      "cell_type": "code",
      "execution_count": 21,
      "metadata": {},
      "outputs": [],
      "source": [
        "filosofi.agg({\"NBPERSMENFISC16\": \"sum\"}).div(1e6)"
      ],
      "id": "287e75c3"
    },
    {
      "cell_type": "markdown",
      "metadata": {},
      "source": [
        "où les résultats sont reportés en millions de personnes. La logique est identique lorsqu’on fait des statistiques par groupe, il s’agit seulement de remplacer `filosofi` par `filosofi.groupby('dep')` pour créer une version partitionnée par département de notre jeu de données:"
      ],
      "id": "0eef7041-ea74-44c3-befd-f95734d05868"
    },
    {
      "cell_type": "code",
      "execution_count": 22,
      "metadata": {},
      "outputs": [],
      "source": [
        "filosofi.groupby('dep')['NBPERSMENFISC16'].sum()"
      ],
      "id": "6715c19f"
    },
    {
      "cell_type": "code",
      "execution_count": 24,
      "metadata": {},
      "outputs": [],
      "source": [
        "filosofi.groupby('dep').agg({\"NBPERSMENFISC16\": \"sum\"})"
      ],
      "id": "b092f730"
    },
    {
      "cell_type": "markdown",
      "metadata": {},
      "source": [
        "La seconde approche est plus pratique car elle donne directement un `DataFrame` `Pandas` et non une série indexée sans nom. A partir de celle-ci, quelques manipulations basiques peuvent suffire pour avoir un tableau diffusables sur la démographie départementale. Néanmoins, celui-ci, serait quelques peu brut de décoffrage car nous ne possédons à l’heure actuelle que les numéros de département. Pour avoir le nom de départements, il faudrait utiliser une deuxième base de données et croiser les informations communes entre elles (en l’occurrence le numéro du département). C’est l’objet de la prochaine partie.\n",
        "\n",
        "## 3.4 Exercice d’application\n",
        "\n",
        "Cet exercice d’application s’appuie sur le jeu de données de l’Ademe nommé `emissions` précédemment.\n",
        "\n",
        "<div class=\"alert alert-success\" role=\"alert\">\n",
        "<h3 class=\"alert-heading\"><i class=\"fa-solid fa-pencil\"></i> Exercice 1 : agrégations par groupe</h3>\n",
        "\n",
        "1.  Calculer les émissions totales du secteur “Résidentiel” par département et rapporter la valeur au département le plus polluant dans le domaine. En tirer des intutitions sur la réalité que cette statistique reflète.\n",
        "\n",
        "2.  Calculer, pour chaque département, les émissions totales de chaque secteur. Pour chaque département, calculer la proportion des émissions totales venant de chaque secteur.\n",
        "\n",
        "<details>\n",
        "\n",
        "<summary>\n",
        "\n",
        "Indice pour cette question\n",
        "\n",
        "</summary>\n",
        "\n",
        "-   *“Grouper par”* = `groupby`\n",
        "-   *“émissions totales”* = `agg({*** : \"sum\"})`\n",
        "\n",
        "</details>\n",
        "\n",
        "</div>\n",
        "\n",
        "A la question 1, le résultat obtenu devrait être le suivant:"
      ],
      "id": "a96f6cc8-7bc0-410a-9a14-ed4a4f389889"
    },
    {
      "cell_type": "code",
      "execution_count": 25,
      "metadata": {},
      "outputs": [],
      "source": [
        "# Question 1\n",
        "emissions_residentielles = (\n",
        "    emissions\n",
        "    .groupby(\"dep\")\n",
        "    .agg({\"Résidentiel\" : \"sum\"})\n",
        "    .reset_index()\n",
        "    .sort_values(\"Résidentiel\", ascending = False)\n",
        ")\n",
        "emissions_residentielles[\"Résidentiel (% valeur max)\"] = emissions_residentielles[\"Résidentiel\"]/emissions_residentielles[\"Résidentiel\"].max()\n",
        "emissions_residentielles.head(5)"
      ],
      "id": "ee53f910"
    },
    {
      "cell_type": "markdown",
      "metadata": {},
      "source": [
        "Ce classement reflète peut-être plus la démographie que le processus qu’on désire mesurer. Sans l’ajout d’une information annexe sur la population de chaque département pour contrôler ce facteur, on peut difficilement savoir s’il y a une différence structurelle de comportement entre les habitants du Nord (département 59) et ceux de la Moselle (département 57)."
      ],
      "id": "b339e976-d753-4588-969f-9199ab331680"
    },
    {
      "cell_type": "code",
      "execution_count": 26,
      "metadata": {},
      "outputs": [],
      "source": [
        "# Question 2\n",
        "emissions_par_departement = (\n",
        "    emissions.groupby('dep').sum(numeric_only=True)\n",
        ")\n",
        "emissions_par_departement['total'] = emissions_par_departement.sum(axis = 1)\n",
        "emissions_par_departement[\"Part \" + secteurs] = (\n",
        "    emissions_par_departement\n",
        "    .loc[:, secteurs]\n",
        "    .div(emissions_par_departement['total'], axis = 0)\n",
        "    .mul(100)\n",
        ")"
      ],
      "id": "5d768f1b"
    },
    {
      "cell_type": "markdown",
      "metadata": {},
      "source": [
        "A l’issue de la question 2, prenons la part des émissions de l’agriculture et du secteur tertiaire dans les émissions départementales:"
      ],
      "id": "3f082deb-0575-493d-bdc8-2bea2e50cb8b"
    },
    {
      "cell_type": "code",
      "execution_count": 27,
      "metadata": {},
      "outputs": [],
      "source": [
        "emissions_par_departement.sort_values(\"Part Agriculture\", ascending = False).head(5)"
      ],
      "id": "da186e47"
    },
    {
      "cell_type": "code",
      "execution_count": 28,
      "metadata": {},
      "outputs": [],
      "source": [
        "emissions_par_departement.sort_values(\"Part Tertiaire\", ascending = False).head(5)"
      ],
      "id": "027924d8"
    },
    {
      "cell_type": "markdown",
      "metadata": {},
      "source": [
        "Ces résultats sont assez logiques ; les départements ruraux ont une part plus importante de leur émission issue de l’agriculture, les départements urbains ont plus d’émissions issues du secteur tertiaire, ce qui est lié à la densité plus importante de ces espaces.\n",
        "\n",
        "Grâce à ces statistiques on progresse dans la connaissance de notre jeu de données et donc de la nature des émissions de C02 en France.\n",
        "Les statistiques descriptives par groupe nous permettent de mieux saisir l’hétérogénéité spatiale de notre phénomène.\n",
        "\n",
        "Cependant, on reste limité dans notre capacité à interpréter les statistiques obtenues sans recourir à l’utilisation d’information annexe. Pour donner du sens et de la valeur à une statistique, il faut généralement associer celle-ci à de la connaissance annexe sous peine qu’elle soit désincarnée.\n",
        "\n",
        "Dans la suite de ce chapitre, nous envisagerons une première voie qui est le croisement avec des données complémentaires. On appelle ceci un enrichissement de données. Ces données peuvent être des observations à un niveau identique à celui de la source d’origine. Par exemple, l’un des croisements les plus communs est d’associer une base client à une base d’achats afin de mettre en regard un comportement d’achat avec des caractéristiques pouvant expliquer celui-ci. Les associations de données peuvent aussi se faire à des niveaux conceptuels différents, en général à un niveau plus agrégé pour contextualiser la donnée plus fine et comparer une observation à des mesures dans un groupe similaire. Par exemple, on peut associer des temps et des modes de transports individuels à ceux d’une même classe d’âge ou de personnes résidant dans la même commune pour pouvoir comparer la différence entre certains individus et un groupe sociodémographique similaire.\n",
        "\n",
        "# 4. Restructurer les données\n",
        "\n",
        "## 4.1 Principe\n",
        "\n",
        "Quand on a plusieurs informations pour un même individu ou groupe, on\n",
        "retrouve généralement deux types de structure de données :\n",
        "\n",
        "-   format **wide** : les données comportent des observations répétées, pour un même individu (ou groupe), dans des colonnes différentes\n",
        "-   format **long** : les données comportent des observations répétées, pour un même individu, dans des lignes différentes avec une colonne permettant de distinguer les niveaux d’observations\n",
        "\n",
        "Un exemple de la distinction entre les deux peut être pris à l’ouvrage de référence d’Hadley Wickham, [*R for Data Science*](https://r4ds.hadley.nz/):\n",
        "\n",
        "<figure>\n",
        "<img src=\"https://d33wubrfki0l68.cloudfront.net/3aea19108d39606bbe49981acda07696c0c7fcd8/2de65/images/tidy-9.png\" alt=\"Données long et wide (Source: R for Data Science)\" />\n",
        "<figcaption aria-hidden=\"true\">Données <em>long</em> et <em>wide</em> (Source: <a href=\"https://r4ds.hadley.nz/\"><em>R for Data Science</em></a>)</figcaption>\n",
        "</figure>\n",
        "\n",
        "L’aide mémoire suivante aidera à se rappeler les fonctions à appliquer si besoin :\n",
        "\n",
        "![](https://minio.lab.sspcloud.fr/lgaliana/generative-art/pythonds/reshape.png)\n",
        "\n",
        "Le fait de passer d’un format *wide* au format *long* (ou vice-versa)\n",
        "peut être extrêmement pratique car certaines fonctions sont plus adéquates sur une forme de données ou sur l’autre.\n",
        "\n",
        "En règle générale, avec `Python` comme avec `R`, les **formats *long* sont souvent préférables**.\n",
        "Les formats *wide* sont plutôt pensés pour des tableurs comme `Excel` ou on dispose d’un nombre réduit\n",
        "de lignes à partir duquel faire des tableaux croisés dynamiques.\n",
        "\n",
        "## 4.2 Exercice d’application\n",
        "\n",
        "Les données de l’ADEME, et celles de l’Insee également, sont au format\n",
        "*wide*.\n",
        "Le prochain exercice illustre l’intérêt de faire la conversion *long* $\\to$ *wide*\n",
        "avant de faire un graphique avec la méthode `plot` vue au chapitre précédent\n",
        "\n",
        "<div class=\"alert alert-success\" role=\"alert\">\n",
        "<h3 class=\"alert-heading\"><i class=\"fa-solid fa-pencil\"></i> Exercice 2: Restructurer les données : wide to long</h3>\n",
        "\n",
        "1.  Créer une copie des données de l’`ADEME` en faisant `df_wide = emissions_wide.copy()`\n",
        "\n",
        "2.  Restructurer les données au format *long* pour avoir des données d’émissions par secteur en gardant comme niveau d’analyse la commune (attention aux autres variables identifiantes).\n",
        "\n",
        "3.  Faire la somme par secteur et représenter graphiquement\n",
        "\n",
        "4.  Garder, pour chaque département, le secteur le plus polluant\n",
        "\n",
        "</div>"
      ],
      "id": "df135b10-608e-4232-9232-17a03a4666c7"
    },
    {
      "cell_type": "code",
      "execution_count": 29,
      "metadata": {},
      "outputs": [],
      "source": [
        "# Question 1\n",
        "\n",
        "emissions_wide = emissions.copy()\n",
        "emissions_wide[['Commune','dep', \"Agriculture\", \"Tertiaire\"]].head() "
      ],
      "id": "question1"
    },
    {
      "cell_type": "code",
      "execution_count": 30,
      "metadata": {},
      "outputs": [],
      "source": [
        "# Question 2\n",
        "emissions_wide.reset_index().melt(id_vars = ['INSEE commune','Commune','dep'],\n",
        "                          var_name = \"secteur\", value_name = \"emissions\")"
      ],
      "id": "question2"
    },
    {
      "cell_type": "code",
      "execution_count": 31,
      "metadata": {},
      "outputs": [],
      "source": [
        "# Question 3\n",
        "\n",
        "emissions_totales = (\n",
        "  emissions_wide.reset_index()\n",
        " .melt(\n",
        "    id_vars = ['INSEE commune','Commune','dep'],\n",
        "    var_name = \"secteur\", value_name = \"emissions\"\n",
        "    )\n",
        " .groupby('secteur')\n",
        " .sum(numeric_only = True)\n",
        ")\n",
        "\n",
        "emissions_totales.plot(kind = \"barh\")"
      ],
      "id": "question3"
    },
    {
      "cell_type": "code",
      "execution_count": 32,
      "metadata": {},
      "outputs": [],
      "source": [
        "# Question 4\n",
        "\n",
        "top_commune_dep = (\n",
        "  emissions_wide\n",
        "  .reset_index()\n",
        "  .melt(\n",
        "    id_vars = ['INSEE commune','Commune','dep'],\n",
        "    var_name = \"secteur\", value_name = \"emissions\"\n",
        "  )\n",
        " .groupby(['secteur','dep'])\n",
        " .sum(numeric_only=True).reset_index()\n",
        " .sort_values(['dep','emissions'], ascending = False)\n",
        " .groupby('dep').head(1)\n",
        ")\n",
        "display(top_commune_dep)"
      ],
      "id": "question4"
    },
    {
      "cell_type": "markdown",
      "metadata": {},
      "source": [
        "# 5. Joindre des données\n",
        "\n",
        "## 5.1 Principe\n",
        "\n",
        "Nous allons ici nous focaliser sur le cas le plus favorable qui est la situation\n",
        "où une information permet d’apparier de manière exacte deux bases de données[1].\n",
        "C’est un besoin quotidien des *data scientists* d’associer des informations présentes dans plusieurs fichiers. Par exemple, dans des bases de données d’entreprises, les informations clients (adresse, âge, etc.) seront dans un fichier, les ventes dans un autre et les caractéristiques des produits dans un troisième fichier. Afin d’avoir une base complète mettant en regard toutes ces informations, il sera dès lors nécessaire de joindre ces trois fichiers sur la base d’informations communes.\n",
        "\n",
        "Cette pratique découle du fait que de nombreux systèmes d’information prennent la forme d’un schéma en étoile:\n",
        "\n",
        "<figure>\n",
        "<img src=\"https://www.databricks.com/wp-content/uploads/2022/04/star-schema-erd.png\" alt=\"Illustration du schéma en étoile (Source: Databricks)\" />\n",
        "<figcaption aria-hidden=\"true\">Illustration du schéma en étoile (Source: <a href=\"https://www.databricks.com/wp-content/uploads/2022/04/star-schema-erd.png\">Databricks</a>)</figcaption>\n",
        "</figure>\n",
        "\n",
        "Cette structuration de l’information est très liée au modèle des tables relationnelles des années 1980. Aujourd’hui, il existe des modèles de données plus flexibles où l’information est empilée dans un *data lake* sans structure *a priori*. Néanmoins ce modèle du schéma en étoile conserve une pertinence parce qu’il permet de partager l’information qu’à ceux qui en ont besoin laissant le soin à ceux qui ont besoin de lier des données entre elles de le faire.\n",
        "\n",
        "Puisque la logique du schéma en étoile vient historiquement des bases relationnelles, il est naturel qu’il s’agisse d’une approche intrinsèquement liée à la philosophie du SQL, jusque dans le vocabulaire. On parle souvent de jointure de données, un héritage du terme `JOIN` de SQL, et la manière de décrire les jointures (*left join*, *right join*…) est directement issue des instructions SQL associées.\n",
        "\n",
        "On parle généralement de base de gauche et de droite pour illustrer les jointures:\n",
        "\n",
        "![](https://minio.lab.sspcloud.fr/lgaliana/python-ENSAE/inputs/merge_pandas/join_initial.png)\n",
        "\n",
        "## 5.2 Mise en oeuvre avec `Pandas`\n",
        "\n",
        "En `Pandas`, la méthode la plus pratique pour associer des jeux de données à partir de caractéristiques communes est `merge`. Ses principaux arguments permettent de contrôler le comportement de jointure. Nous allons les explorer de manière visuelle.\n",
        "\n",
        "En l’occurrence, pour notre problématique de construction de statistiques\n",
        "sur les émissions de gaz carbonique, la base de gauche sera le *DataFrame* `emission` et la base de droite le *DataFrame* `filosofi`:\n",
        "\n",
        "[1] Otherwise, we enter the realm of fuzzy matching or probabilistic matching. Fuzzy matching occurs when we no longer have an exact identifier to link two databases but have partially noisy information between two sources to make the connection. For example, in a product database, we might have `Coca Cola 33CL` and in another `Coca Cola canette`, but these names hide the same product. The chapter on [Introduction to Textual Search with ElasticSearch](../../content/modern-ds/elastic.qmd) addresses this issue. Probabilistic matching is another approach. In these, observations in two databases are associated not based on an identifier but on the distance between a set of characteristics in both databases. This technique is widely used in medical statistics or in the evaluation of public policies based on [*propensity score matching*](https://en.wikipedia.org/wiki/Propensity_score_matching)."
      ],
      "id": "b9457320-e1d6-41a1-8aaf-ca1e9cd9bcae"
    },
    {
      "cell_type": "code",
      "execution_count": 33,
      "metadata": {},
      "outputs": [],
      "source": [
        "emissions.head(2)"
      ],
      "id": "c2520382"
    },
    {
      "cell_type": "code",
      "execution_count": 34,
      "metadata": {},
      "outputs": [],
      "source": [
        "filosofi.head(2)"
      ],
      "id": "662a9d7f"
    },
    {
      "cell_type": "markdown",
      "metadata": {},
      "source": [
        "On parle de clé(s) de jointure pour nommer la ou les variable(s) nécessaire(s) à la fusion de données. Ce sont les variables communes aux deux jeux de données. Il n’est pas nécessaire qu’elles aient le même nom en revanche elles doivent partager des valeurs communes autrement l’intersection entre ces deux bases est l’ensemble vide.\n",
        "\n",
        "On peut jouer sur deux dimensions dans la jointure (ceci sera plus clair ensuite avec les exemples graphiques).\n",
        "\n",
        "-   Il existe principalement trois types de fusions: *left join* et *right join* ou un combo des deux selon le type de pivot qu’on désire mettre en oeuvre.\n",
        "-   Ensuite, il existe deux manières de fusionner les valeurs une fois qu’on a choisi un pivot: *inner* ou *outer join*. Dans le premier cas, on ne conserve que les observations où les clés de jointures sont présentes dans les deux bases, dans le second on conserve toutes les observations de la clé de jointure des variables pivot quitte à avoir des valeurs manquantes si la deuxième base de données n’a pas de telles observations.\n",
        "\n",
        "Dans les exemples ci-dessous, nous allons utiliser les codes communes et les départements comme variables de jointure. En soi, l’usage du département n’est pas nécessaire puisqu’il se déduit directement du code commune mais cela permet d’illustrer le principe des jointures sur plusieurs variables. A noter que le nom de la commune est volontairement mis de côté pour effectuer des jointures alors que c’est une information commune aux deux bases. Cependant, comme il s’agit d’un champ textuel, dont le formattage peut suivre une norme différente dans les deux bases, ce n’est pas une information fiable pour faire une jointure exacte.\n",
        "\n",
        "Pour illustrer le principe du pivot à gauche ou à droite, on va créer deux variables identificatrices de la ligne de nos jeux de données de gauche et de droite. Cela nous permettra de trouver facilement les lignes présentes dans un jeu de données mais pas dans l’autre."
      ],
      "id": "ec18ddec-e10c-4cb2-afb1-de1bcc5f4c68"
    },
    {
      "cell_type": "code",
      "execution_count": 35,
      "metadata": {},
      "outputs": [],
      "source": [
        "emissions = emissions.reset_index(names = ['id_left'])\n",
        "filosofi = filosofi.reset_index(names = ['id_right'])"
      ],
      "id": "06e3bc58"
    },
    {
      "cell_type": "markdown",
      "metadata": {},
      "source": [
        "### 5.2.1 *Left join*\n",
        "\n",
        "Commençons avec la jointure à gauche. Comme son nom l’indique, on va prendre la variable de gauche en pivot:\n",
        "\n",
        "![](https://minio.lab.sspcloud.fr/lgaliana/python-ENSAE/inputs/merge_pandas/left_join.png)"
      ],
      "id": "9b9a1780-0df6-4b75-9001-f9647fc620ac"
    },
    {
      "cell_type": "code",
      "execution_count": 36,
      "metadata": {},
      "outputs": [],
      "source": [
        "left_merged = emissions.merge(\n",
        "  filosofi,\n",
        "  left_on = [\"INSEE commune\", \"dep\"],\n",
        "  right_on = [\"CODGEO\", \"dep\"],\n",
        "  how = \"left\"\n",
        ")\n",
        "left_merged.head(3)"
      ],
      "id": "b502ae51"
    },
    {
      "cell_type": "markdown",
      "metadata": {},
      "source": [
        "Il est recommandé de toujours expliciter les clés de jointures par le biais des arguments `left_on`, `right_on` ou `on` si les noms de variables sont communs dans les deux bases.\n",
        "Si on a des noms de variables communes entre les bases mais qu’elles ne sont pas définies comme clés de jointures, celles-ci ne seront pas utilisées pour joindre mais seront conservées avec un suffixe qui par défaut est `_x` et `_y` (paramétrable par le biais de l’argument `suffixes`).\n",
        "\n",
        "La syntaxe `Pandas` étant directement inspirée de SQL, on a une traduction assez transparente de l’instruction ci-dessus en SQL:\n",
        "\n",
        "``` sql\n",
        "SELECT *\n",
        "FROM emissions\n",
        "LEFT JOIN filosofi\n",
        "  ON emissions.`INSEE commune` = filosofi.CODGEO\n",
        "  AND emissions.dep = filosofi.dep;\n",
        "```\n",
        "\n",
        "En faisant une jointure à gauche, on doit en principe avoir autant de lignes que la base de données à gauche:"
      ],
      "id": "a080609a-f8ca-475f-b4c5-da306976782a"
    },
    {
      "cell_type": "code",
      "execution_count": 37,
      "metadata": {},
      "outputs": [],
      "source": [
        "left_merged.shape[0] == emissions.shape[0]"
      ],
      "id": "2a0e6a79"
    },
    {
      "cell_type": "markdown",
      "metadata": {},
      "source": [
        "Autrement, cela est signe qu’il y a une clé dupliquée à droite. Grâce à notre variable `id_right`, on peut savoir les codes communes à droite qui n’existent pas à gauche:"
      ],
      "id": "13204226-7e53-4097-b86c-5ebfb8c6d1e6"
    },
    {
      "cell_type": "code",
      "execution_count": 38,
      "metadata": {},
      "outputs": [],
      "source": [
        "left_merged.loc[left_merged['id_right'].isna()].tail(3)"
      ],
      "id": "e85e94f9"
    },
    {
      "cell_type": "markdown",
      "metadata": {},
      "source": [
        "Cela vient du fait que nous utilisons des données qui ne sont pas de la même année de référence du code officiel géographique (2016 vs 2018). Pendant cet intervalle, il y a eu des changements de géographie, notamment des fusions de communes. Par exemple, la commune de Courcouronnes qu’on a vu ci-dessus peut être retrouvée regroupée avec Evry dans le jeu de données filosofi (base de droite):"
      ],
      "id": "7e28c5d4-bb90-42f3-ad1c-7fe2f52dcb3c"
    },
    {
      "cell_type": "code",
      "execution_count": 39,
      "metadata": {},
      "outputs": [],
      "source": [
        "filosofi.loc[\n",
        "  filosofi['LIBGEO']\n",
        "  .str.lower()\n",
        "  .str.contains(\"courcouronnes\")\n",
        "]"
      ],
      "id": "5349c1f7"
    },
    {
      "cell_type": "markdown",
      "metadata": {},
      "source": [
        "Dans un exercice de construction de statistiques publiques, on ne pourrait donc se permettre cette disjonction des années.\n",
        "\n",
        "### 5.2.2 *Right join*\n",
        "\n",
        "![](https://minio.lab.sspcloud.fr/lgaliana/python-ENSAE/inputs/merge_pandas/right_join.png)\n",
        "\n",
        "Le principe est le même mais cette fois c’est la base de droite qui est prise sous forme de pivot:"
      ],
      "id": "4e16893d-1358-4ee6-9a1f-3045af6dc2b4"
    },
    {
      "cell_type": "code",
      "execution_count": 40,
      "metadata": {},
      "outputs": [],
      "source": [
        "right_merged = emissions.merge(\n",
        "  filosofi,\n",
        "  left_on = [\"INSEE commune\", \"dep\"],\n",
        "  right_on = [\"CODGEO\", \"dep\"],\n",
        "  how = \"right\"\n",
        ")\n",
        "right_merged.head(3)"
      ],
      "id": "18429e4d"
    },
    {
      "cell_type": "markdown",
      "metadata": {},
      "source": [
        "L’instruction équivalente en SQL serait\n",
        "\n",
        "``` sql\n",
        "SELECT *\n",
        "FROM filosofi\n",
        "RIGHT JOIN emissions\n",
        "  ON filosofi.CODGEO = emissions.`INSEE commune`\n",
        "  AND filosofi.dep = emissions.dep;\n",
        "```\n",
        "\n",
        "On peut, comme précédemment, vérifier la cohérence des dimensions:"
      ],
      "id": "6d0c372a-88b5-476f-9989-a262ed644c37"
    },
    {
      "cell_type": "code",
      "execution_count": 41,
      "metadata": {},
      "outputs": [],
      "source": [
        "right_merged.shape[0] == filosofi.shape[0]"
      ],
      "id": "03596ab0"
    },
    {
      "cell_type": "markdown",
      "metadata": {},
      "source": [
        "Pour vérifier le nombre de lignes des données Filosofi que nous n’avons pas dans notre jeu d’émissions de gaz carbonique, on peut faire"
      ],
      "id": "30f6ca01-6b95-4700-afb6-33c901fcf74c"
    },
    {
      "cell_type": "code",
      "execution_count": 42,
      "metadata": {},
      "outputs": [],
      "source": [
        "right_merged['id_left'].isna().sum()"
      ],
      "id": "0f8b35e5"
    },
    {
      "cell_type": "markdown",
      "metadata": {},
      "source": [
        "C’est un nombre faible. Quelles sont ces observations ?"
      ],
      "id": "844bbff3-2ba4-4eab-b337-685e44ad3974"
    },
    {
      "cell_type": "code",
      "execution_count": 43,
      "metadata": {},
      "outputs": [],
      "source": [
        "right_merged.loc[\n",
        "  right_merged['id_left'].isna(),\n",
        "  filosofi.columns.tolist() + emissions.columns.tolist()\n",
        "]"
      ],
      "id": "dabb86a2"
    },
    {
      "cell_type": "markdown",
      "metadata": {},
      "source": [
        "Il est suprenant de voir que Paris, Lyon et Marseille sont présents\n",
        "dans la base des statistiques communales mais pas dans celles des émissions.\n",
        "Pour comprendre pourquoi, recherchons dans nos données d’émissions les observations liées à Marseille:"
      ],
      "id": "0ff245b4-d79e-4f6a-8dbc-640de22c939d"
    },
    {
      "cell_type": "code",
      "execution_count": 44,
      "metadata": {},
      "outputs": [],
      "source": [
        "emissions.loc[\n",
        "  emissions[\"Commune\"]\n",
        "  .str.lower()\n",
        "  .str.contains('MARSEILLE')\n",
        "]"
      ],
      "id": "b0556355"
    },
    {
      "cell_type": "markdown",
      "metadata": {},
      "source": [
        "Cela vient du fait que le jeu de données des émissions de l’Ademe propose de l’information sur les arrondissements dans les trois plus grandes villes\n",
        "là où le jeu de données de l’Insee ne fait pas cette décomposition.\n",
        "\n",
        "### 5.2.3 *Inner join*\n",
        "\n",
        "![](https://minio.lab.sspcloud.fr/lgaliana/python-ENSAE/inputs/merge_pandas/inner.png)\n",
        "\n",
        "Il s’agit du jeu de données où les clés sont retrouvées à l’intersection des deux tables."
      ],
      "id": "8c52aa5e-e287-4101-a1b2-d7bf17787d7b"
    },
    {
      "cell_type": "code",
      "execution_count": 45,
      "metadata": {},
      "outputs": [],
      "source": [
        "inner_merged = emissions.merge(\n",
        "  filosofi,\n",
        "  left_on = [\"INSEE commune\", \"dep\"],\n",
        "  right_on = [\"CODGEO\", \"dep\"],\n",
        "  how = \"inner\"\n",
        ")\n",
        "inner_merged.head(3)"
      ],
      "id": "5c0bd752"
    },
    {
      "cell_type": "markdown",
      "metadata": {},
      "source": [
        "En SQL, cela donne\n",
        "\n",
        "``` sql\n",
        "SELECT *\n",
        "FROM emissions\n",
        "INNER JOIN filosofi\n",
        "  ON emissions.`INSEE commune` = filosofi.CODGEO\n",
        "  AND emissions.dep = filosofi.dep;\n",
        "```\n",
        "\n",
        "Le nombre de lignes dans notre jeu de données peut être comparé au jeu de droite et de gauche:"
      ],
      "id": "46a98859-09da-4c67-9b8f-15db9ff1d664"
    },
    {
      "cell_type": "code",
      "execution_count": 46,
      "metadata": {},
      "outputs": [],
      "source": [
        "inner_merged.shape[0] == (\n",
        "  left_merged.shape[0] - left_merged['id_right'].isna().sum()\n",
        ")"
      ],
      "id": "eec55fd1"
    },
    {
      "cell_type": "code",
      "execution_count": 47,
      "metadata": {},
      "outputs": [],
      "source": [
        "inner_merged.shape[0] == (\n",
        "  right_merged.shape[0] - right_merged['id_left'].isna().sum()\n",
        ")"
      ],
      "id": "800f0fe9"
    },
    {
      "cell_type": "markdown",
      "metadata": {},
      "source": [
        "### 5.2.4 *Full join*\n",
        "\n",
        "Le *full join* est un pivot à gauche puis à droite pour les informations qui n’ont pas été trouvées\n",
        "\n",
        "![](https://minio.lab.sspcloud.fr/lgaliana/python-ENSAE/inputs/merge_pandas/full_join.png)"
      ],
      "id": "762bcc45-8365-48fb-867c-cfdb7cf680b7"
    },
    {
      "cell_type": "code",
      "execution_count": 48,
      "metadata": {},
      "outputs": [],
      "source": [
        "full_merged = emissions.merge(\n",
        "  filosofi,\n",
        "  left_on = [\"INSEE commune\", \"dep\"],\n",
        "  right_on = [\"CODGEO\", \"dep\"],\n",
        "  how = \"outer\"\n",
        ")\n",
        "full_merged.head(3)"
      ],
      "id": "25bb4524"
    },
    {
      "cell_type": "markdown",
      "metadata": {},
      "source": [
        "Comme d’habitude, la traduction en SQL est presque immédiate:\n",
        "\n",
        "``` sql\n",
        "SELECT *\n",
        "FROM emissions\n",
        "FULL OUTER JOIN filosofi\n",
        "  ON emissions.`INSEE commune` = filosofi.CODGEO\n",
        "  AND emissions.dep = filosofi.dep;\n",
        "```\n",
        "\n",
        "Cette fois, on a une combinaison de nos trois jeux de données initiaux:\n",
        "\n",
        "-   Le *inner join* ;\n",
        "-   Le *left join* sur les observations sans clé de droite ;\n",
        "-   Le *right join* sur les observations sans clé de gauche ;"
      ],
      "id": "24bda5d1-db61-4083-a197-48a340bef452"
    },
    {
      "cell_type": "code",
      "execution_count": 49,
      "metadata": {},
      "outputs": [],
      "source": [
        "(\n",
        "  full_merged['id_left'].isna().sum() + full_merged['id_right'].isna().sum()\n",
        ") == (\n",
        "  left_merged['id_right'].isna().sum() + right_merged['id_left'].isna().sum()\n",
        ")"
      ],
      "id": "6c2bcbc6"
    },
    {
      "cell_type": "markdown",
      "metadata": {},
      "source": [
        "### 5.2.5 En résumé\n",
        "\n",
        "![](https://external-preview.redd.it/yOLzCR0qSzul2WpjQorxINB0xpU3_N9twmFVsgbGJwQ.jpg?auto=webp&s=4feedc91302ba635b3028a21b98d047def5cdc2b)\n",
        "\n",
        "## 5.3 Exemples d’identifiants dans les données françaises\n",
        "\n",
        "### 5.3.1 Le Code officiel géographique (COG): l’identifiant des données géographiques\n",
        "\n",
        "Pour les données géographiques, il existe de nombreux identifiants selon la problématique d’étude.\n",
        "Parmi les besoins principaux, on retrouve le fait d’apparier des données géographiques à partir d’un identifiant administratif commun. Par exemple, associer deux jeux de données au niveau communal.\n",
        "\n",
        "Pour cela, l’identifiant de référence est le code Insee, issu du [Code officiel géographique (COG)](https://www.insee.fr/fr/information/2560452) que nous utilisons depuis le dernier chapitre et que nous aurons amplement l’occasion d’exploiter au cours des différents chapitres de ce cours.\n",
        "La géographie administrative étant en évolution perpétuelle, la base des code Insee est une base vivante. Le site et les API de l’Insee permettent de récupérer l’historique d’après-guerre afin de pouvoir faire de l’analyse géographique sur longue période.\n",
        "\n",
        "Les codes postaux ne peuvent être considérés comme un identifiant : ils peuvent regrouper plusieurs communes ou, au contraire, une même commune peut avoir plusieurs codes postaux. Il s’agit d’un système de gestion de la Poste qui n’a pas été construit pour l’analyse statistique.\n",
        "\n",
        "Pour se convaincre du problème, à partir des données mises à disposition par La Poste, on peut voir que le code postal 11420 correspond à 11 communes:"
      ],
      "id": "49251e12-7e9d-4f3d-88df-0d75496c8ef9"
    },
    {
      "cell_type": "code",
      "execution_count": 50,
      "metadata": {},
      "outputs": [],
      "source": [
        "codes_postaux = pd.read_csv(\n",
        "  \"https://datanova.laposte.fr/data-fair/api/v1/datasets/laposte-hexasmal/raw\",\n",
        "  sep = \";\", encoding = \"latin1\",\n",
        "  dtype = {\"Code_postal\": \"str\", \"#Code_commune_INSEE\": \"str\"}\n",
        ")\n",
        "codes_postaux.loc[codes_postaux['Code_postal'] == \"11420\"]"
      ],
      "id": "7b2f779c"
    },
    {
      "cell_type": "markdown",
      "metadata": {},
      "source": [
        "En anticipant sur les compétences développées lors des prochains chapitres, nous pouvons représenter le problème sous forme cartographique en prenant l’exemple de l’Aude. Le code pour produire la carte des codes communes est donné tel quel, il n’est pas développé car il fait appel à des concepts et librairies qui seront présentés lors du prochain chapitre:"
      ],
      "id": "ea935d97-db1e-495d-b1db-2073294e6c9b"
    },
    {
      "cell_type": "code",
      "execution_count": 51,
      "metadata": {},
      "outputs": [],
      "source": [
        "from cartiflette import carti_download\n",
        "shp_communes = carti_download(\n",
        "  values = [\"11\"],\n",
        "  crs = 4326,\n",
        "  borders = \"COMMUNE\",\n",
        "  simplification=50,\n",
        "  filter_by=\"DEPARTEMENT\",\n",
        "  source=\"EXPRESS-COG-CARTO-TERRITOIRE\",\n",
        "  year=2022)\n",
        "\n",
        "codes_postaux11 = shp_communes.merge(\n",
        "  codes_postaux,\n",
        "  left_on = \"INSEE_COM\",\n",
        "  right_on = \"#Code_commune_INSEE\"\n",
        ")\n",
        "codes_postaux11 = codes_postaux11.dissolve(by = \"Code_postal\")\n",
        "\n",
        "# Carte\n",
        "ax = shp_communes.plot(color='white', edgecolor='blue', linewidth = 0.5)\n",
        "ax = codes_postaux11.plot(ax = ax, color='none', edgecolor='black')\n",
        "ax.set_axis_off()"
      ],
      "id": "f594df6a"
    },
    {
      "cell_type": "markdown",
      "metadata": {},
      "source": [
        "### 5.3.2 Sirene: l’identifiant dans les données d’entreprises\n",
        "\n",
        "Pour relier les microdonnées d’entreprises françaises, il existe un numéro unique d’identification : le [numéro `Siren`](https://entreprendre.service-public.fr/vosdroits/F32135). Il s’agit d’un numéro d’identification dans un répertoire légal d’entreprise indispensable pour toutes démarches juridiques, fiscales… Pour les entreprises qui possèdent plusieurs établissements - par exemple dans plusieurs villes - il existe un identifiant dérivé qui s’appelle le [`Siret`](https://www.economie.gouv.fr/cedef/numero-siret): aux 9 chiffres du numéro Sirene s’ajoutent 5 chiffres d’identifications de l’établissement. D’ailleurs, les administrations publiques sont également concernées par le numéro Siren: étant amenées à effectuer des opérations de marchés (achat de matériel, locations de biens, etc.) elles disposent également d’un identifiant Siren. Etant inscrits dans des répertoires légaux pour lesquels les citoyens sont publics, les numéros Siren et les noms des entreprises associées sont disponibles en *open data*, par exemple sur [annuaire-entreprises.data.gouv.fr/](https://annuaire-entreprises.data.gouv.fr/) pour une recherche ponctuelle, sur [data.gouv.fr](https://www.data.gouv.fr/fr/datasets/base-sirene-des-entreprises-et-de-leurs-etablissements-siren-siret/).\n",
        "\n",
        "Cette base Sirene est une mine d’information, parfois comique, sur les entreprises françaises. Par exemple, le site [tif.hair/](https://tif.hair/) s’est amusé à répertorier la part des salons de coiffures proposant des jeux de mots dans le nom du salon. Lorsqu’un entrepreneur déclare la création d’une entreprise, il reçoit un numéro Sirene et un code d’activité (le [code APE](https://entreprendre.service-public.fr/vosdroits/F33050)) relié à la description qu’il a déclaré de l’activité de son entreprise. Ce code permet de classer l’activité d’une entreprise dans la [Nomenclature d’activités françaises (NAF)](https://www.insee.fr/fr/information/2406147) ce qui servira à l’Insee pour la publication de statistiques sectorielles. En l’occurrence, pour les coiffeurs, le code dans la NAF est [`96.02A`](https://www.insee.fr/fr/metadonnees/nafr2/sousClasse/96.02A?champRecherche=false). Il est possible à partir de la base disponible en *open data* d’avoir en quelques lignes de `Python` la liste de tous les coiffeurs puis de s’amuser à explorer ces données (objet du prochain exercice optionnel).\n",
        "\n",
        "L’exercice suivant, optionnel, propose de s’amuser à reproduire de manière simplifiée le recensement fait par [tif.hair/](https://tif.hair/)\n",
        "des jeux de mots dans les salons de coiffure. Il permet de pratiquer quelques méthodes de manipulation textuelle, en avance de phase sur le chapitre consacré aux [expressions régulières](../../content/manipulation/04b_regex_TP.qmd).\n",
        "\n",
        "Le jeu de données de l’ensemble des entreprises étant assez volumineux (autour de 4Go en CSV après décompression), il est plus pratique de partir sur un jeu de données au format `Parquet`, plus optimisé (plus de détails sur ce format dans le [chapitre d’approfondissement](../../content/modern-ds/s3.qmd) qui lui est consacré).\n",
        "\n",
        "Pour lire ce type de fichiers de manière optimale, il est conseillé d’utiliser la librairie `DuckDB` qui permet de ne consommer que les données nécessaires et non de télécharger l’ensemble du fichier pour n’en lire qu’une partie comme ce serait le cas avec `Pandas` (voir la fin de ce chapitre, section “Aller au-delà de `Pandas`”). La requête SQL suivante se traduit en langage naturel par l’instruction suivante: *“A partir du fichier `Parquet`, je ne veux que quelques colonnes du fichier pour les coiffeurs (APE: 96.02A) dont le nom de l’entreprise (`denominationUsuelleEtablissement`) est renseigné”*:"
      ],
      "id": "52aafa99-0be7-42b3-8b98-1bacbd8f7688"
    },
    {
      "cell_type": "code",
      "execution_count": 53,
      "metadata": {},
      "outputs": [],
      "source": [
        "import duckdb\n",
        "coiffeurs = duckdb.sql(\"\"\"\n",
        "  SELECT\n",
        "    siren, siret, dateDebut, enseigne1Etablissement, activitePrincipaleEtablissement, denominationUsuelleEtablissement\n",
        "  FROM\n",
        "    read_parquet('https://minio.lab.sspcloud.fr/lgaliana/data/sirene2024.parquet')\n",
        "  WHERE\n",
        "    activitePrincipaleEtablissement == '96.02A'\n",
        "    AND\n",
        "    denominationUsuelleEtablissement IS NOT NULL\n",
        "\"\"\")\n",
        "coiffeurs = coiffeurs.df()"
      ],
      "id": "94225fa5"
    },
    {
      "cell_type": "code",
      "execution_count": 54,
      "metadata": {},
      "outputs": [],
      "source": [
        "coiffeurs.head(3)"
      ],
      "id": "dd924ed4"
    },
    {
      "cell_type": "markdown",
      "metadata": {},
      "source": [
        "<div class=\"alert alert-success\" role=\"alert\">\n",
        "<h3 class=\"alert-heading\"><i class=\"fa-solid fa-pencil\"></i> Exercice optionnel : les coiffeurs blagueurs</h3>\n",
        "\n",
        "Dans cet exercice, nous allons considérer exclusivement la variable `denominationUsuelleEtablissement`.\n",
        "\n",
        "1.  Dans cette base, `[ND]` est un code pour valeur manquante. Comme `Python` n’a pas de raison de le savoir *a priori* et donc d’avoir interprété ces valeurs comme étant manquantes, utiliser la méthode `replace` pour remplacer `[ND]` par un champ textuel vide. Recoder également les valeurs manquantes sous forme de champ textuel vide afin d’éviter des erreurs ultérieures liées à l’impossibilité d’appliquer certaines méthodes textuelles aux valeurs manquantes.\n",
        "2.  Rechercher toutes les observations où le terme `tif` apparaît en faisant attention à la capitalisation de la variable. Regarder quelques observations\n",
        "3.  A partir de [cet exemple](https://stackoverflow.com/a/23996414/9197726), normaliser les noms des salons en retirant les caractères spéciaux et compter les jeux de mots les plus fréquents\n",
        "\n",
        "</div>"
      ],
      "id": "7e84d4d5-6fc5-4aca-9934-0ded8f2752e2"
    },
    {
      "cell_type": "code",
      "execution_count": 55,
      "metadata": {},
      "outputs": [],
      "source": [
        "# Question 1\n",
        "coiffeurs['denominationUsuelleEtablissement'] = coiffeurs['denominationUsuelleEtablissement'].replace('[ND]', '').fillna('')"
      ],
      "id": "e01ebf67"
    },
    {
      "cell_type": "markdown",
      "metadata": {},
      "source": [
        "Avec la question 2, on retrouve une liste de jeux de mots assez imaginatifs à partir du terme `tif`:"
      ],
      "id": "6c9f17d9-816b-421a-8aec-35132f142ab1"
    },
    {
      "cell_type": "code",
      "execution_count": 56,
      "metadata": {},
      "outputs": [],
      "source": [
        "coiffeurs_tif = duckdb.sql(\"\"\"\n",
        "  SELECT\n",
        "    siren, siret, dateDebut, enseigne1Etablissement, activitePrincipaleEtablissement, denominationUsuelleEtablissement\n",
        "  FROM\n",
        "    read_parquet('https://minio.lab.sspcloud.fr/lgaliana/data/sirene2024.parquet')\n",
        "  WHERE\n",
        "    activitePrincipaleEtablissement == '96.02A'\n",
        "    AND\n",
        "    denominationUsuelleEtablissement IS NOT NULL\n",
        "    AND\n",
        "    contains(lower(denominationUsuelleEtablissement), 'tif')\n",
        "\"\"\")\n",
        "coiffeurs_tif = coiffeurs_tif.df()"
      ],
      "id": "abba7075"
    },
    {
      "cell_type": "code",
      "execution_count": 57,
      "metadata": {},
      "outputs": [],
      "source": [
        "\", \".join(\n",
        "    coiffeurs_tif.sample(10)[\"denominationUsuelleEtablissement\"]\n",
        ")"
      ],
      "id": "9828673c"
    },
    {
      "cell_type": "code",
      "execution_count": null,
      "metadata": {},
      "outputs": [
        {
          "output_type": "display_data",
          "metadata": {},
          "data": {}
        }
      ],
      "source": [
        "function underlineTif(x) {\n",
        "  // Use a regular expression to find all occurrences of \"tif\"\n",
        "  const modx = x.replace(/TIF/g, match =>\n",
        "    `<span style=\"text-transform: capitalize; border-bottom: solid 2px blue; margin-bottom: -2px;\">${match}</span>`\n",
        "  );\n",
        "\n",
        "  console.log(modx)\n",
        "\n",
        "  // Return the modified string wrapped in an HTML template\n",
        "  return html`${modx}`;\n",
        "}"
      ],
      "id": "61c5f920-c771-4038-b193-a9c9631fc481"
    },
    {
      "cell_type": "markdown",
      "metadata": {},
      "source": [
        "Voici sous une forme plus interactive l’ensemble des coiffeurs qui possèdent les termes `tif` dans le nom de leur entreprise déposée dans les données officielles:\n",
        "\n",
        "Bien sûr, pour aller plus loin, il faudrait mieux normaliser les données, vérifier que l’information recherchée n’est pas à cheval sur plusieurs colonnes et bien sûr faire de l’inspection visuelle pour détecter les jeux de mots cachés. Mais déjà, en quelques minutes, on a des statistiques partielles sur le phénomène des coiffeurs blagueurs.\n",
        "\n",
        "### 5.3.3 Le NIR et la question de la confidentialité des identifiants individuels\n",
        "\n",
        "En ce qui concerne les individus, il existe un identifiant unique permettant de relier ceux-ci dans différentes sources de données : le [NIR](https://www.cnil.fr/fr/definition/nir-numero-dinscription-au-repertoire), aussi connu sous le nom de numéro Insee ou numéro de sécurité sociale.\n",
        "Ce numéro est nécessaire à l’administration pour la gestion des droits à prestations sociales (maladie, vieillesse, famille…). Au-delà de cette fonction qui peut être utile au quotidien, ce numéro est un identifiant individuel unique dans le [Répertoire national d’identification des personnes physiques (RNIPP)](https://www.insee.fr/fr/metadonnees/definition/c1602).\n",
        "\n",
        "Cet identifiant est principalement présent dans des bases de gestion, liées aux fiches de paie, aux prestations sociales, etc. Cependant, *a contrario* du numéro Sirene, celui-ci contient en lui-même plusieurs informations sensibles - en plus d’être intrinsèquement relié à la problématique sensible des droits à la sécurité sociale.\n",
        "\n",
        "<figure>\n",
        "<img src=\"https://www.ameli.fr/sites/default/files/styles/webp_ckeditor/public/thumbnails/image/infographie_assures-regle-identification-assures.gif.webp?itok=j2owVDrB\" alt=\"Le numéro de sécurité sociale (Source: Améli)\" />\n",
        "<figcaption aria-hidden=\"true\">Le numéro de sécurité sociale (Source: <a href=\"https://www.ameli.fr/assure/droits-demarches/principes/numero-securite-sociale\">Améli</a>)</figcaption>\n",
        "</figure>\n",
        "\n",
        "Pour pallier ce problème, a récémment été mis en oeuvre le [code statistique non signifiant (CSNS)](https://www.insee.fr/fr/information/7635825?sommaire=7635842) ou NIR haché, un identifiant individuel anonyme non identifiant. L’objectif de cet identifiant anonymisé est de réduire la dissémination d’une information personnelle qui permettait certes aux fonctionnaires et chercheurs de relier de manière déterministe de nombreuses bases de données mais donnait une information non indispensable aux analystes sur les personnes en question.\n",
        "\n",
        "## 5.4 Exercices d’application\n",
        "\n",
        "### 5.4.1 Pourquoi a-t-on besoin d’un code commune quand on a déjà son nom ?\n",
        "\n",
        "Cet exercice va revenir un peu en arrière afin de saisir pourquoi nous avons pris comme hypothèse ci-dessus que le code commune était la clé de jointure.\n",
        "\n",
        "<div class=\"alert alert-success\" role=\"alert\">\n",
        "<h3 class=\"alert-heading\"><i class=\"fa-solid fa-pencil\"></i> Exercice 3: vérification des clés de jointure</h3>\n",
        "\n",
        "On commence par vérifier les dimensions des `DataFrames` et la structure de certaines variables clés.\n",
        "En l’occurrence, les variables fondamentales pour lier nos données sont les variables communales.\n",
        "Ici, on a deux variables géographiques: un code commune et un nom de commune.\n",
        "\n",
        "1.  Vérifier les dimensions des *DataFrames*.\n",
        "\n",
        "2.  Identifier dans `filosofi` les noms de communes qui correspondent à plusieurs codes communes et sélectionner leurs codes. En d’autres termes, identifier les `LIBGEO` tels qu’il existe des doublons de `CODGEO` et les stocker dans un vecteur `x` (conseil: faire attention à l’index de `x`).\n",
        "\n",
        "On se focalise temporairement sur les observations où le libellé comporte plus de deux codes communes différents\n",
        "\n",
        "-   *Question 3*. Regarder dans `filosofi` ces observations.\n",
        "\n",
        "-   *Question 4*. Pour mieux y voir, réordonner la base obtenue par order alphabétique.\n",
        "\n",
        "-   *Question 5*. Déterminer la taille moyenne (variable nombre de personnes: `NBPERSMENFISC16`) et quelques statistiques descriptives de ces données.\n",
        "    Comparer aux mêmes statistiques sur les données où libellés et codes communes coïncident.\n",
        "\n",
        "-   *Question 6*. Vérifier les grandes villes (plus de 100 000 personnes),\n",
        "    la proportion de villes pour lesquelles un même nom est associé à différents codes commune.\n",
        "\n",
        "-   *Question 7*. Vérifier dans `filosofi` les villes dont le libellé est égal à Montreuil.\n",
        "    Vérifier également celles qui contiennent le terme *‘Saint-Denis’*.\n",
        "\n",
        "</div>"
      ],
      "id": "be95ab86-4b54-4df1-90cf-1fd8cea46420"
    },
    {
      "cell_type": "code",
      "execution_count": 59,
      "metadata": {},
      "outputs": [],
      "source": [
        "# Question 1\n",
        "print(emissions.shape)\n",
        "print(filosofi.shape)"
      ],
      "id": "1e2d849e"
    },
    {
      "cell_type": "code",
      "execution_count": 60,
      "metadata": {},
      "outputs": [],
      "source": [
        "# Question 2\n",
        "filosofi = filosofi.reset_index(drop=False)\n",
        "doublons = filosofi.groupby('LIBGEO').count()['CODGEO']\n",
        "doublons = doublons.loc[doublons>1]\n",
        "doublons = doublons.reset_index()\n",
        "doublons"
      ],
      "id": "826bf987"
    },
    {
      "cell_type": "code",
      "execution_count": 61,
      "metadata": {},
      "outputs": [],
      "source": [
        "# Question 3\n",
        "filosofi.loc[\n",
        "  filosofi['LIBGEO'].isin(doublons['LIBGEO'])\n",
        "  ]"
      ],
      "id": "e4a8afa4"
    },
    {
      "cell_type": "code",
      "execution_count": 62,
      "metadata": {},
      "outputs": [],
      "source": [
        "# Question 4\n",
        "filosofi.loc[\n",
        "  filosofi['LIBGEO'].isin(doublons['LIBGEO'])\n",
        "  ].sort_values('LIBGEO')"
      ],
      "id": "33a7dab8"
    },
    {
      "cell_type": "code",
      "execution_count": 63,
      "metadata": {},
      "outputs": [],
      "source": [
        "# Question 5\n",
        "print(10*\"--\" + \"Communes dupliquées\" + 10*\"--\")\n",
        "print(\n",
        "  filosofi.loc[\n",
        "    filosofi['LIBGEO'].isin(doublons['LIBGEO']), 'NBPERSMENFISC16'\n",
        "    ].describe()\n",
        "  )\n",
        "print(10*\"--\" + \"Communes non dupliquées\" + 10*\"--\")\n",
        "print(\n",
        "  filosofi.loc[\n",
        "    ~filosofi['LIBGEO'].isin(doublons['LIBGEO']), 'NBPERSMENFISC16'\n",
        "    ].describe()\n",
        "  )"
      ],
      "id": "5d6cc6c0"
    },
    {
      "cell_type": "code",
      "execution_count": 64,
      "metadata": {},
      "outputs": [],
      "source": [
        "# Question 6\n",
        "emissions_big_city = filosofi.loc[filosofi['NBPERSMENFISC16']>100000].copy()\n",
        "emissions_big_city['probleme'] = emissions_big_city['LIBGEO'].isin(doublons['LIBGEO'])\n",
        "emissions_big_city['probleme'].mean() \n",
        "emissions_big_city[emissions_big_city['probleme']]\n",
        "print(100*emissions_big_city['probleme'].mean()) #8,33 %"
      ],
      "id": "a5a05eea"
    },
    {
      "cell_type": "code",
      "execution_count": 65,
      "metadata": {},
      "outputs": [],
      "source": [
        "# Question 7\n",
        "filosofi[filosofi['LIBGEO'] == 'Montreuil']\n",
        "filosofi[filosofi['LIBGEO'].str.contains('Saint-Denis')].head(10)"
      ],
      "id": "96182a0b"
    },
    {
      "cell_type": "markdown",
      "metadata": {},
      "source": [
        "Ce petit exercice permet donc de se rassurer car les libellés dupliqués\n",
        "sont en fait des noms de commune identiques mais qui ne sont pas dans le même département.\n",
        "Il ne s’agit donc pas d’observations dupliquées.\n",
        "On peut donc se fier aux codes communes, qui eux sont uniques.\n",
        "\n",
        "### 5.4.2 Calculer une empreinte carbone grâce à l’association entre des sources\n",
        "\n",
        "<div class=\"alert alert-success\" role=\"alert\">\n",
        "<h3 class=\"alert-heading\"><i class=\"fa-solid fa-pencil\"></i> Exercice 4: Calculer l’empreinte carbone par habitant</h3>\n",
        "\n",
        "En premier lieu, on va calculer l’empreinte carbone de chaque commune.\n",
        "\n",
        "1.  Créer une variable `emissions` qui correspond aux émissions totales d’une commune\n",
        "\n",
        "2.  Faire une jointure à gauche entre les données d’émissions et les données de cadrage[1].\n",
        "\n",
        "3.  Calculer l’empreinte carbone (émissions totales / population).\n",
        "\n",
        "A ce stade nous pourrions avoir envie d’aller vers la modélisation pour essayer d’expliquer\n",
        "les déterminants de l’empreinte carbone à partir de variables communales.\n",
        "Une approche inférentielle nécessite néanmoins pour être pertinente de\n",
        "vérifier en amont des statistiques descriptives.\n",
        "\n",
        "1.  Sortir un histogramme en niveau puis en log de l’empreinte carbone communale.\n",
        "\n",
        "Avec une meilleure compréhension de nos données, nous nous rapprochons\n",
        "de la statistique inférentielle. Néanmoins, nous avons jusqu’à présent\n",
        "construit des statistiques univariées mais n’avons pas cherché à comprendre\n",
        "les résultats en regardant le lien avec d’autres variables.\n",
        "Cela nous amène vers la statistique bivariée, notamment l’analyse des corrélations.\n",
        "Ce travail est important puisque toute modélisation ultérieure consistera à\n",
        "raffiner l’analyse des corrélations pour tenir compte des corrélations croisées\n",
        "entre multiples facteurs. On propose ici de faire cette analyse\n",
        "de manière minimale.\n",
        "\n",
        "1.  Regarder la corrélation entre les variables de cadrage et l’empreinte carbone. Certaines variables semblent-elles pouvoir potentiellement influer sur l’empreinte carbone ?\n",
        "\n",
        "</div>\n",
        "\n",
        "[1] Ideally, it would be necessary to ensure that this join does not introduce bias. Indeed, since our reference years are not necessarily identical, there may be a mismatch between our two sources. Since the exercise is already long, we will not go down this path. Interested readers can perform such an analysis as an additional exercise."
      ],
      "id": "0b71a4bb-3ca6-4bea-b752-101eaca48248"
    },
    {
      "cell_type": "code",
      "execution_count": 66,
      "metadata": {},
      "outputs": [],
      "source": [
        "# Question 1\n",
        "\n",
        "emissions['emissions'] = emissions.sum(axis = 1, numeric_only = True)"
      ],
      "id": "82c68242"
    },
    {
      "cell_type": "code",
      "execution_count": 67,
      "metadata": {},
      "outputs": [],
      "source": [
        "# Question 2\n",
        "\n",
        "emissions_merged = (\n",
        "    emissions.reset_index()\n",
        "    .merge(filosofi, left_on = \"INSEE commune\", right_on = \"CODGEO\")\n",
        ")"
      ],
      "id": "314b12c8"
    },
    {
      "cell_type": "code",
      "execution_count": 68,
      "metadata": {},
      "outputs": [],
      "source": [
        "# Question 3\n",
        "\n",
        "emissions_merged['empreinte'] = emissions_merged['emissions']/emissions_merged['NBPERSMENFISC16']\n",
        "emissions_merged['empreinte'] = emissions_merged['empreinte'].astype(float)"
      ],
      "id": "1de031da"
    },
    {
      "cell_type": "code",
      "execution_count": 69,
      "metadata": {},
      "outputs": [],
      "source": [
        "# Question 4\n",
        "\n",
        "emissions_merged['empreinte'].plot(kind = 'hist')\n",
        "np.log(emissions_merged['empreinte']).plot(kind = 'hist')\n",
        "emissions_merged['empreinte'].describe()"
      ],
      "id": "1f0fd8ad"
    },
    {
      "cell_type": "markdown",
      "metadata": {},
      "source": [
        "A l’issue de la question 5, le graphique des corrélations est le suivant :"
      ],
      "id": "98dffa70-bbfa-433d-b840-42b0e961b449"
    },
    {
      "cell_type": "code",
      "execution_count": 70,
      "metadata": {},
      "outputs": [],
      "source": [
        "# Question 5\n",
        "\n",
        "correlation = emissions_merged.corr(numeric_only=True)['empreinte']\n",
        "correlation = correlation.reset_index()\n",
        "correlation = correlation.loc[~correlation['index'].isin([\"empreinte\",\"emissions\"])]\n",
        "correlation['empreinte'].nlargest(10)"
      ],
      "id": "ae712d6e"
    },
    {
      "cell_type": "code",
      "execution_count": 71,
      "metadata": {},
      "outputs": [],
      "source": [
        "correlation.set_index(\"index\")['empreinte'].plot(kind = \"barh\")"
      ],
      "id": "7fdc166e"
    },
    {
      "cell_type": "markdown",
      "metadata": {},
      "source": [
        "# 6. Formatter des tableaux de statistiques descriptives\n",
        "\n",
        "Un *dataframe* `Pandas`\n",
        "est automatiquement mis en forme lorsqu’il est visualisé depuis un *notebook* sous forme de table HTML à la mise en forme minimaliste.\n",
        "Cette mise en forme est pratique pour voir\n",
        "les données, une tâche indispensable pour les *data scientists*\n",
        "mais ne permet pas d’aller vraiment au-delà.\n",
        "\n",
        "Dans une phase\n",
        "exploratoire, il peut être pratique d’avoir un tableau\n",
        "un peu plus complet, intégrant notamment des visualisations\n",
        "minimalistes, pour mieux connaître ses données. Dans la phase\n",
        "finale d’un projet, lorsqu’on communique sur un projet, il\n",
        "est avantageux de disposer d’une visualisation attrative.\n",
        "Pour ces deux besoins, les sorties des *notebooks* sont\n",
        "une réponse peu satisfaisante, en plus de nécessiter\n",
        "le *medium* du *notebook* qui peut en rebuter certains.\n",
        "\n",
        "Heureusement, le tout jeune *package* [`great_tables`](https://posit-dev.github.io/great-tables/get-started/) permet, simplement, de manière programmatique, la création de tableaux\n",
        "qui n’ont rien à envier à des productions manuelles fastidieuses faites dans `Excel`\n",
        "et difficilement répliquables. Ce *package* est un portage en `Python` du *package* [`GT`](https://gt.rstudio.com/).\n",
        "`great_tables` construit des tableaux\n",
        "*html* ce qui offre une grande richesse dans la mise en forme et permet une excellente intégration avec [`Quarto`](https://quarto.org/), l’outil de publication reproductible développé par\n",
        "L’exercice suivant proposera de construire un tableau avec\n",
        "ce *package*, pas à pas.\n",
        "\n",
        "Afin de se concentrer sur la construction du tableau,\n",
        "les préparations de données à faire en amont sont données\n",
        "directement. Nous allons repartir de ce jeu de données:\n",
        "\n",
        "Pour être sûr d’être en mesure d’effectuer le prochain exercice, voici le dataframe nécessaire pour celui-ci"
      ],
      "id": "a1c912d5-a253-4a85-aaf1-63ab3812fb5b"
    },
    {
      "cell_type": "code",
      "execution_count": 73,
      "metadata": {},
      "outputs": [],
      "source": [
        "emissions['emissions'] = emissions.sum(axis = 1, numeric_only = True)\n",
        "\n",
        "emissions_merged = (\n",
        "    emissions.reset_index()\n",
        "    .merge(filosofi, left_on = \"INSEE commune\", right_on = \"CODGEO\")\n",
        ")\n",
        "emissions_merged['empreinte'] = emissions_merged['emissions']/emissions_merged['NBPERSMENFISC16']\n",
        "emissions_merged['empreinte'] = emissions_merged['empreinte'].astype(float)"
      ],
      "id": "dc9241a2"
    },
    {
      "cell_type": "code",
      "execution_count": 74,
      "metadata": {},
      "outputs": [],
      "source": [
        "emissions_table = (\n",
        "    emissions_merged\n",
        "    .rename(columns={\"dep_y\": \"dep\", \"NBPERSMENFISC16\": \"population\", \"MED16\": \"revenu\"})\n",
        "    .groupby(\"dep\")\n",
        "    .agg({\"empreinte\": \"sum\", \"revenu\": \"median\", \"population\": \"sum\"}) #pas vraiment le revenu médian\n",
        "    .reset_index()\n",
        "    .sort_values(by = \"empreinte\")\n",
        ")"
      ],
      "id": "1c9b58e8"
    },
    {
      "cell_type": "markdown",
      "metadata": {},
      "source": [
        "Dans ce tableau nous allons intégrer des barres horizontales, à la manière des exemples présentés [ici](https://posit-dev.github.io/great-tables/examples/). Cela se fait en incluant directement le code *html* dans la colonne du *DataFrame*"
      ],
      "id": "2a7437fc-ed30-447b-8899-d22fc506f389"
    },
    {
      "cell_type": "code",
      "execution_count": 75,
      "metadata": {},
      "outputs": [],
      "source": [
        "def create_bar(prop_fill: float, max_width: int, height: int, color: str = \"green\") -> str:\n",
        "    \"\"\"Create divs to represent prop_fill as a bar.\"\"\"\n",
        "    width = round(max_width * prop_fill, 2)\n",
        "    px_width = f\"{width}px\"\n",
        "    return f\"\"\"\\\n",
        "    <div style=\"width: {max_width}px; background-color: lightgrey;\">\\\n",
        "        <div style=\"height:{height}px;width:{px_width};background-color:{color};\"></div>\\\n",
        "    </div>\\\n",
        "    \"\"\"\n",
        "\n",
        "colors = {'empreinte': \"green\", 'revenu': \"red\", 'population': \"blue\"}\n",
        "\n",
        "for variable in ['empreinte', 'revenu', 'population']:\n",
        "    emissions_table[f'raw_perc_{variable}'] = emissions_table[variable]/emissions_table[variable].max()\n",
        "    emissions_table[f'bar_{variable}'] = emissions_table[f'raw_perc_{variable}'].map(\n",
        "        lambda x: create_bar(x, max_width=75, height=20, color = colors[variable])\n",
        "    )"
      ],
      "id": "45b19f91"
    },
    {
      "cell_type": "markdown",
      "metadata": {},
      "source": [
        "Nous ne gardons que les 5 plus petites empreintes carbone, et les cinq plus importantes."
      ],
      "id": "bfb6f31c-db49-4af5-946c-9667804105fa"
    },
    {
      "cell_type": "code",
      "execution_count": 76,
      "metadata": {},
      "outputs": [],
      "source": [
        "emissions_min = emissions_table.head(5).assign(grp = \"5 départements les moins pollueurs\").reset_index(drop=True)\n",
        "emissions_max = emissions_table.tail(5).assign(grp = \"5 départements les plus pollueurs\").reset_index(drop=True)\n",
        "\n",
        "emissions_table = pd.concat([\n",
        "    emissions_min,\n",
        "    emissions_max\n",
        "])"
      ],
      "id": "86b9155e"
    },
    {
      "cell_type": "markdown",
      "metadata": {},
      "source": [
        "Enfin, pour pouvoir utiliser quelques fonctions pratiques pour sélectionner des colonnes à partir de motifs, nous allons convertir les données au format [`Polars`](https://pola.rs/)"
      ],
      "id": "b8eedf73-d044-495f-8edb-142d7fb0b284"
    },
    {
      "cell_type": "code",
      "execution_count": 77,
      "metadata": {},
      "outputs": [],
      "source": [
        "import polars as pl\n",
        "emissions_table = pl.from_pandas(emissions_table)"
      ],
      "id": "28b9a277"
    },
    {
      "cell_type": "markdown",
      "metadata": {},
      "source": [
        "<div class=\"alert alert-success\" role=\"alert\">\n",
        "<h3 class=\"alert-heading\"><i class=\"fa-solid fa-pencil\"></i> Exercice 5: Un beau tableau de statistiques descriptives (exercice libre)</h3>\n",
        "\n",
        "En prenant comme base ce tableau\n",
        "\n",
        "``` python\n",
        "GT(emissions_table, groupname_col=\"grp\", rowname_col=\"dep\")\n",
        "```\n",
        "\n",
        "construire un tableau dans le style de celui ci-dessous\n",
        "\n",
        "</div>"
      ],
      "id": "d1f19fc2-c17c-4f44-8b93-f3f20c8d94bf"
    },
    {
      "cell_type": "code",
      "execution_count": 78,
      "metadata": {},
      "outputs": [],
      "source": [
        "# Start from here\n",
        "from great_tables import GT\n",
        "GT(emissions_table, groupname_col=\"grp\", rowname_col=\"dep\")"
      ],
      "id": "fcc9900c"
    },
    {
      "cell_type": "markdown",
      "metadata": {},
      "source": [
        "Le tableau à obtenir:"
      ],
      "id": "6a3646dd-b4e9-4c57-bebf-541b8ae969df"
    },
    {
      "cell_type": "code",
      "execution_count": 79,
      "metadata": {},
      "outputs": [],
      "source": [
        "from great_tables import GT, md\n",
        "import polars.selectors as cs\n",
        "\n",
        "(\n",
        "    GT(emissions_table, groupname_col=\"grp\", rowname_col=\"dep\")\n",
        "    .tab_header(title=md(\"**Empreinte carbone**\"), subtitle = md(\"_Premières statistiques descriptives à affiner_\"))\n",
        "    .fmt_number(\"empreinte\", decimals = 2, scale_by=0.1)\n",
        "    .fmt_number(\"population\", compact=True)\n",
        "    .fmt_number(\"revenu\", compact=True, decimals = 1)\n",
        "    .fmt_percent(cs.starts_with(\"raw_perc\"), decimals = 1)\n",
        "    .cols_move(\n",
        "        columns=cs.ends_with(\"_empreinte\"),\n",
        "        after=\"empreinte\"\n",
        "    )\n",
        "    .cols_move(\n",
        "        columns=cs.ends_with(\"_population\"),\n",
        "        after=\"population\"\n",
        "    )\n",
        "    .cols_move(\n",
        "        columns=cs.ends_with(\"_revenu\"),\n",
        "        after=\"revenu\"\n",
        "    )\n",
        "    .cols_label(\n",
        "        dep=md(\"**Département**\"),\n",
        "        empreinte = md(\"**Empreinte carbone**\"),\n",
        "        revenu = md(\"**Revenu**\"),\n",
        "        population = md(\"**Population**\"),\n",
        "    )\n",
        "    .cols_label(\n",
        "        **{\n",
        "            val: md(\"_(%)_*\") for val in emissions_table.select(cs.contains(\"raw_perc\")).columns\n",
        "        }\n",
        "    )    \n",
        "    .cols_label(\n",
        "        **{\n",
        "            val: \"\" for val in emissions_table.select(cs.contains(\"bar\")).columns\n",
        "        }\n",
        "    )    \n",
        "    .tab_spanner(label=md(\"**Empreinte**\"), columns=cs.ends_with(\"empreinte\"))\n",
        "    .tab_spanner(label=md(\"**Revenu médian**\"), columns=cs.ends_with(\"revenu\"))\n",
        "    .tab_spanner(label=md(\"**Population**\"), columns=cs.ends_with(\"population\"))\n",
        "    .tab_source_note(\n",
        "        source_note=md(\"_*__Note__: Le revenu médian présenté ici est une approximation du revenu médian du département_.\")\n",
        "    )\n",
        "    .tab_source_note(\n",
        "        source_note=md(\"*__Lecture__: Les colonnes __(%)__ présentées ci-dessus sont rapportées à la valeur maximale de la variable*\")\n",
        "    )\n",
        "    .tab_source_note(\n",
        "        source_note=md(\"*__Source__: Calculs à partir des données de l'Ademe*\")\n",
        "    )\n",
        "    .tab_options(\n",
        "        heading_background_color=\"#0c540c\"\n",
        "    )\n",
        "\n",
        ")"
      ],
      "id": "6c802909"
    },
    {
      "cell_type": "markdown",
      "metadata": {},
      "source": [
        "Grâce à celui-ci, on peut déjà comprendre que notre définition\n",
        "de l’empreinte carbone est certainement défaillante. Il apparaît\n",
        "peu plausible que les habitants du 77 aient une empreinte 500 fois\n",
        "supérieure à celle de Paris intra-muros. La raison principale ?\n",
        "On n’est pas sur un concept d’émissions à la consommation mais à la\n",
        "production, ce qui pénalise les espaces industriels ou les espaces\n",
        "avec des aéroports…\n",
        "\n",
        "Pour aller plus loin sur la construction de tableaux\n",
        "avec `great_tables`, vous pouvez répliquer\n",
        "cet [exercice](https://rgeo.linogaliana.fr/exercises/eval.html)\n",
        "de production de tableaux électoraux\n",
        "que j’ai proposé pour un cours de `R` avec `gt`, l’équivalent\n",
        "de `great_tables` pour `R`.\n",
        "\n",
        "# 7. `Pandas`: vers la pratique et au-delà\n",
        "\n",
        "## 7.1 `Pandas` dans une chaine d’opérations\n",
        "\n",
        "En général, dans un projet, le nettoyage de données va consister en un ensemble de\n",
        "méthodes appliquées à un `DataFrame` ou alors une `Serie` lorsqu’on travaille exclusivement sur une colonne.\n",
        "Autrement dit, ce qui est généralement attendu lorsqu’on fait du `Pandas` c’est d’avoir une chaîne qui prend un `DataFrame` en entrée et ressort ce même `DataFrame` enrichi, ou une version agrégée de celui-ci, en sortie.\n",
        "\n",
        "Cette manière de procéder est le coeur de la syntaxe `dplyr` en `R` mais n’est pas forcément native en `Pandas` selon les opérations qu’on désire mettre en oeuvre. En effet, la manière naturelle de mettre à jour un *dataframe* en `Pandas` passe souvent par une syntaxe du type:"
      ],
      "id": "86372b90-7648-4eaa-a09c-03fc8297bec9"
    },
    {
      "cell_type": "code",
      "execution_count": 82,
      "metadata": {},
      "outputs": [],
      "source": [
        "import numpy as np\n",
        "import pandas as pd\n",
        "\n",
        "data = [[8000, 1000], [9500, np.nan], [5000, 2000]]\n",
        "df = pd.DataFrame(data, columns=['salaire', 'autre_info'])\n",
        "df['salaire_net'] = df['salaire']*0.8"
      ],
      "id": "a02f6352"
    },
    {
      "cell_type": "markdown",
      "metadata": {},
      "source": [
        "En `SQL` on pourrait directement mettre à jour notre base de données avec la nouvelle colonne :\n",
        "\n",
        "``` sql\n",
        "SELECT *, salaire*0.8 AS salaire_net FROM df\n",
        "```\n",
        "\n",
        "L’écosystème du *tidyverse* en `R`, l’équivalent de `Pandas`, fonctionne selon la même logique que SQL de mise à jour de table. On ferait en effet la commande suivante avec `dplyr`:\n",
        "\n",
        "``` r\n",
        "df %>% mutate(salaire_net = salaire*0.8)\n",
        "```\n",
        "\n",
        "Techniquement on pourrait faire ceci avec un `assign` en `Pandas`"
      ],
      "id": "727098bd-5376-4a56-81f5-ba5d8a086086"
    },
    {
      "cell_type": "code",
      "execution_count": 83,
      "metadata": {},
      "outputs": [],
      "source": [
        "df = df.drop(\"salaire_net\", axis = \"columns\")\n",
        "df = df.assign(salaire_net = lambda s: s['salaire']*0.8)"
      ],
      "id": "24ba22d5"
    },
    {
      "cell_type": "markdown",
      "metadata": {},
      "source": [
        "Cependant cette syntaxe `assign` n’est pas très naturelle. Il est nécessaire de lui passer une *lambda function* qui attend comme *input* un `DataFrame` là où on voudrait une colonne. Il ne s’agit donc pas vraiment d’une syntaxe lisible et pratique.\n",
        "\n",
        "Il est néanmoins possible d’enchaîner des opérations sur des jeux de données grâce aux [*pipes*](https://pandas.pydata.org/docs/reference/api/pandas.DataFrame.pipe.html). Ceux-ci reprennent la même philosophie que celle de `dplyr`, elle-même inspirée du *pipe* Linux.\n",
        "Cette approche permettra de rendre plus lisible le code en définissant des fonctions effectuant des opérations sur une ou plusieurs colonnes d’un DataFrame. Le premier argument à indiquer à la fonction est le `DataFrame`, les autres sont ceux permettant de contrôler son comportement"
      ],
      "id": "96612c00-1e11-48f3-b2e3-221a3c796fa5"
    },
    {
      "cell_type": "code",
      "execution_count": 85,
      "metadata": {},
      "outputs": [],
      "source": [
        "def calcul_salaire_net(df: pd.DataFrame, col: str, taux: float = 0.8):\n",
        "  df[\"salaire_net\"] = df[col]*taux\n",
        "  return df"
      ],
      "id": "8c7bee45"
    },
    {
      "cell_type": "markdown",
      "metadata": {},
      "source": [
        "Ce qui transforme notre chaine de production en"
      ],
      "id": "480f4f4e-8aef-446b-a028-899347631b1d"
    },
    {
      "cell_type": "code",
      "execution_count": 86,
      "metadata": {},
      "outputs": [],
      "source": [
        "(\n",
        "  df\n",
        "  .pipe(calcul_salaire_net, \"salaire\")\n",
        ")"
      ],
      "id": "75f23511"
    },
    {
      "cell_type": "markdown",
      "metadata": {},
      "source": [
        "## 7.2 Quelques limites sur la syntaxe de `Pandas`\n",
        "\n",
        "Il y a un avant et un après `Pandas` dans l’analyse de données en `Python`. Sans ce *package* ô combien pratique `Python`, malgré toutes les forces de ce langage, aurait eu du mal à s’installer dans le paysage de l’analyse de données. Cependant, si `Pandas` propose une syntaxe cohérente sur de nombreux aspects, elle n’est pas parfaite non plus. Les paradigmes plus récents d’analyse de données en `Python` ont d’ailleurs parfois l’ambition de corriger ces imperfections syntaxiques là.\n",
        "\n",
        "Parmi les points les plus génants au quoditien il y a le besoin de régulièrement faire des `reset_index` lorsqu’on construit des statistiques descriptives. En effet, il peut être dangereux de garder des indices qu’on ne contrôle pas bien car, sans attention de notre part lors des phases de *merge*, ils peuvent être utilisés à mauvais escient par `Pandas` pour joindre les données ce qui peut provoquer des suprises.\n",
        "\n",
        "`Pandas` est extrêmement bien fait pour restructurer des données du format *long* to *wide* ou *wide* to *long*. Cependant, ce n’est pas la seule manière de restructurer un jeu de données qu’on peut vouloir mettre en oeuvre. Il arrive régulièrement qu’on désire comparer la valeur d’une observation à celle d’un groupe à laquelle elle appartient. C’est notamment particulièrement utile dans une phase d’analyse des anomalies, valeurs aberrantes ou lors d’une investigation de détection de fraude. De manière native, en `Pandas`, il faut construire une statistique agrégée par groupe et refaire un *merge* aux données initiales par le biais de la variable de groupe. C’est un petit peu fastidieux:"
      ],
      "id": "71e7a8da-e1ed-4f31-b457-cc279183e5eb"
    },
    {
      "cell_type": "code",
      "execution_count": 87,
      "metadata": {},
      "outputs": [],
      "source": [
        "emissions_moyennes = emissions.groupby(\"dep\").agg({\"Agriculture\": \"mean\"}).reset_index()\n",
        "emissions_enrichies = (\n",
        "  emissions\n",
        "  .merge(emissions_moyennes, on = \"dep\", suffixes = ['', '_moyenne_dep'])\n",
        ")\n",
        "emissions_enrichies['relatives'] = emissions_enrichies[\"Agriculture\"]/emissions_enrichies[\"Agriculture_moyenne_dep\"]\n",
        "emissions_enrichies.head()"
      ],
      "id": "f80abaab"
    },
    {
      "cell_type": "markdown",
      "metadata": {},
      "source": [
        "Dans le *tidyverse*, cette opération en deux temps pourrait être faite en une seule étape, ce qui est plus pratique\n",
        "\n",
        "``` r\n",
        "emissions %>%\n",
        "  group_by(dep) %>%\n",
        "  mutate(relatives = Agriculture/mean(Agriculture))\n",
        "```\n",
        "\n",
        "Ce n’est pas si grave mais cela alourdit la longueur des chaines de traitement faites en `Pandas` et donc la charge de maintenance pour les faire durer dans le temps.\n",
        "\n",
        "De manière plus générale, les chaînes de traitement `Pandas` peuvent être assez verbeuses, car il faut régulièrement redéfinir le `DataFrame` qu’on utilise plutôt que simplement les colonnes. Par exemple, pour faire un filtre sur les lignes et les colonnes, il faudra faire:"
      ],
      "id": "285b013b-564f-453b-a91b-f7f91d4cd7db"
    },
    {
      "cell_type": "code",
      "execution_count": 88,
      "metadata": {},
      "outputs": [],
      "source": [
        "(\n",
        "  emissions\n",
        "  .loc[\n",
        "    (emissions[\"dep\"] == \"12\") & (emissions[\"Routier\"]>500), ['INSEE commune', 'Commune']\n",
        "  ]\n",
        "  .head(5)\n",
        ")"
      ],
      "id": "fec07fc3"
    },
    {
      "cell_type": "markdown",
      "metadata": {},
      "source": [
        "En SQL on pourrait se contenter de faire référence aux colonnes dans le filter\n",
        "\n",
        "``` sql\n",
        "SELECT \"INSEE commune\", 'Commune'\n",
        "FROM emissions\n",
        "WHERE dep==\"12\" AND Routier>500\n",
        "```\n",
        "\n",
        "Dans le *tidyverse* (`R`) on pourrait aussi faire ceci simplement\n",
        "\n",
        "``` r\n",
        "df %>%\n",
        "  filter(dep==\"12\", Routier>500) %>%\n",
        "  select(`INSEE commune`, `Commune`)\n",
        "```\n",
        "\n",
        "# 8. Les autres paradigmes\n",
        "\n",
        "Ces deux chapitres ont permis d’explorer en profondeur la richesse de l’écosystème `Pandas` qui est un indispensable dans la boite à outil du *data scientist*. Malgré toutes les limites que nous avons pu évoquer, et les solutions alternatives que nous allons présenter, `Pandas` reste LE *package* central de l’écosystème de la donnée avec `Python`. Nous allons voir dans les prochains chapitres son intégration native à l’écosystème `Scikit` pour le *machine learning* ou l’extension de `Pandas` aux données spatiales avec `GeoPandas`.\n",
        "\n",
        "Les autres solutions techniques que nous allons ici évoquer peuvent être pertinentes si on désire traiter des volumes de données importants ou si on désire utiliser des syntaxes alternatives.\n",
        "\n",
        "Les principales alternatives à `Pandas` sont [`Polars`](https://pola.rs/), [`DuckDB`](https://duckdb.org/) et [`Spark`](https://spark.apache.org/docs/latest/api/python/index.html). Il existe également [`Dask`](https://www.dask.org/), une librairie pour paralléliser des traitements écris en `Pandas`.\n",
        "\n",
        "## 8.1 `Polars`\n",
        "\n",
        "`Polars` est certainement le paradigme le plus inspiré de `Pandas`, jusqu’au choix du nom. La première différence fondamentale est dans les couches internes utilisées. `Polars` s’appuie sur l’implémentation `Rust` de `Arrow` là où `Pandas` s’appuie sur `Numpy` ce qui est facteur de perte de performance. Cela permet à `Polars` d’être plus efficace sur de gros volumes de données, d’autant que de nombreuses opérations sont parallélisées et reposent sur l’évaluation différées (*lazy evaluation*) un principe de programmation qui permet d’optimiser les requêtes pour ne pas les exécuter dans l’ordre de définition mais dans un ordre logique plus optimal.\n",
        "\n",
        "Une autre force de `Polars` est la syntaxe plus cohérente, qui bénéficie du recul d’une quinzaine d’années d’existence de `Pandas` et d’une petite dizaine d’années de `dplyr` (le *package* de manipulation de données au sein du paradigme du *tidyverse* en `R`). Pour reprendre l’exemple précédent, il n’est plus nécessaire de forcer la référence au *DataFrame*, dans une chaîne d’exécution toutes les références ultérieures seront faites au regard du *DataFrame* de départ"
      ],
      "id": "9313fe47-2e2b-44ef-9783-6ffc923295b6"
    },
    {
      "cell_type": "code",
      "execution_count": 89,
      "metadata": {},
      "outputs": [],
      "source": [
        "!pip install polars"
      ],
      "id": "27298901"
    },
    {
      "cell_type": "code",
      "execution_count": 90,
      "metadata": {},
      "outputs": [],
      "source": [
        "import polars as pl\n",
        "emissions_polars = pl.from_pandas(emissions)\n",
        "(\n",
        "  emissions_polars\n",
        "  .filter(pl.col(\"dep\") == \"12\", pl.col(\"Routier\") > 500)\n",
        "  .select('INSEE commune', 'Commune')\n",
        "  .head(5)\n",
        ")"
      ],
      "id": "053e0c54"
    },
    {
      "cell_type": "markdown",
      "metadata": {},
      "source": [
        "Pour découvrir `Polars`, de nombreuses ressources en ligne sont accessibles, notamment [ce *notebook*](https://github.com/InseeFrLab/ssphub/blob/main/post/polars/polars-tuto.ipynb) construit pour le réseau des *data scientists* de la statistique publique.\n",
        "\n",
        "## 8.2 `DuckDB`\n",
        "\n",
        "*DuckDB* est le nouveau venu dans l’écosystème de l’analyse de données repoussant les limites des données pouvant être traitées avec `Python` sans passer par des outils *big data* comme `Spark`.\n",
        "*DuckDB* est la quintessence d’un nouveau paradigme, celui du [*“Big data is dead”*](https://motherduck.com/blog/big-data-is-dead/), où on peut traiter des données de volumétrie importante sans recourir à des infrastructures imposantes.\n",
        "\n",
        "Outre sa grande efficacité, puisqu’avec *DuckDB* on peut traiter des données d’une volumétrie supérieure à la mémoire vive de l’ordinateur ou du serveur, *DuckDB* présente l’avantage de proposer une syntaxe uniforme quelle que soit le langage qui appelle *DuckDB* (`Python`, `R`, `C++` ou `Javascript`). *DuckDB* privilégie la syntaxe SQL pour traiter les données avec de nombreuses fonctions pré-implementées pour simplifier certaines transformations de données (par exemple pour les [données textuelles](https://duckdb.org/docs/sql/functions/char.html), les [données temporelles](https://duckdb.org/docs/sql/functions/time), etc.).\n",
        "\n",
        "Par rapport à d’autres systèmes s’appuyant sur SQL, comme [`PostGreSQL`](https://www.bing.com/search?go=Rechercher&q=PostGreSQL&qs=ds&form=QBRE), `DuckDB` est très simple d’installation, ce n’est qu’une librairie `Python` là où beaucoup d’outils comme `PostGreSQL` nécessite une infrastructure adaptée."
      ],
      "id": "d18135ab-89ea-4c0e-bb2d-9446ce00285d"
    },
    {
      "cell_type": "code",
      "execution_count": 91,
      "metadata": {},
      "outputs": [],
      "source": [
        "!pip install duckdb"
      ],
      "id": "494d4b8d"
    },
    {
      "cell_type": "markdown",
      "metadata": {},
      "source": [
        "Pour reprendre l’exemple précédent, on peut utiliser directement le code SQL précédent"
      ],
      "id": "ae49f3ac-a6ad-4a46-a163-5c2e1fa84cb4"
    },
    {
      "cell_type": "code",
      "execution_count": 92,
      "metadata": {},
      "outputs": [],
      "source": [
        "import duckdb\n",
        "duckdb.sql(\n",
        "  \"\"\"\n",
        "  SELECT \"INSEE commune\", \"Commune\"\n",
        "  FROM emissions\n",
        "  WHERE dep=='12' AND Routier>500\n",
        "  LIMIT 5\n",
        "  \"\"\")"
      ],
      "id": "89730770"
    },
    {
      "cell_type": "markdown",
      "metadata": {},
      "source": [
        "Ici la clause `FROM emissions` vient du fait qu’on peut directement exécuter du SQL depuis un objet `Pandas` par le biais de `DuckDB`. Si on fait la lecture directement dans la requête, celle-ci se complexifie un petit peu mais la logique est la même"
      ],
      "id": "54182427-bffc-4084-9271-6fff1dafff39"
    },
    {
      "cell_type": "code",
      "execution_count": 93,
      "metadata": {},
      "outputs": [],
      "source": [
        "import duckdb\n",
        "duckdb.sql(\n",
        "  f\"\"\"\n",
        "  SELECT \"INSEE commune\", \"Commune\"\n",
        "  FROM read_csv_auto(\"{url}\")\n",
        "  WHERE\n",
        "    substring(\"INSEE commune\",1,2)=='12'\n",
        "    AND\n",
        "    Routier>500\n",
        "  LIMIT 5\n",
        "  \"\"\")"
      ],
      "id": "bf02ff98"
    },
    {
      "cell_type": "markdown",
      "metadata": {},
      "source": [
        "Le rendu du *DataFrame* est légèrement différent de `Pandas` car, comme `Polars` et de nombreux systèmes de traitement de données volumineuses, `DuckDB` repose sur l’évaluation différée et donc ne présente en *display* qu’un échantillon de données.\n",
        "`DuckDB` et `Polars` sont d’ailleurs très bien intégrés l’un à l’autre. On peut très bien faire du SQL sur un objet `Polars` via `DuckDB` ou appliquer des fonctions `Polars` sur un objet initialement lu avec `DuckDB`.\n",
        "\n",
        "L’un des intérêts de `DuckDB` est son excellente intégration avec l’écosystème `Parquet`, le format de données déjà mentionné qui devient un standard dans le partage de données (il s’agit, par exemple, de la pierre angulaire du partage de données sur la plateforme *HuggingFace*). Pour en savoir plus sur `DuckDB` et découvrir son intérêt pour lire les données du recensement de la population française, vous pouvez consulter [ce post de blog](https://ssphub.netlify.app/post/parquetrp/).\n",
        "\n",
        "## 8.3 `Spark` et le *big data*\n",
        "\n",
        "`DuckDB` a repoussé les frontières du *big data* qu’on peut définir comme le volume de données à partir duquel on ne peut plus traiter celles-ci sur une machine sans mettre en oeuvre une stratégie de parallélisation.\n",
        "\n",
        "Néanmoins, pour les données très volumineuses, `Python` est très bien armé grâce à la librairie [`PySpark`](https://spark.apache.org/docs/latest/api/python/index.html). Celle-ci est une API en Python pour le langage `Spark`, un langage *big data* basé sur Scala. Ce paradigme est construit sur l’idée que les utilisateurs de `Python` y accèdent par le biais de *cluster* avec de nombreux noeuds pour traiter la donnée de manière parallèle. Celle-ci sera lue par blocs, qui seront traités en parallèle en fonction du nombre de noeuds parallèles. L’API DataFrame de `Spark` présente une syntaxe proche de celle des paradigmes précédents avec une ingénieurie plus complexe en arrière-plan liée à la parallélisation native."
      ],
      "id": "5fe095c8-0c0c-4ec8-a53b-84b043b9ed34"
    }
  ],
  "nbformat": 4,
  "nbformat_minor": 5,
  "metadata": {
    "kernelspec": {
      "name": "python3",
      "display_name": "Python 3 (ipykernel)",
      "language": "python",
      "path": "/opt/conda/share/jupyter/kernels/python3"
    },
    "language_info": {
      "name": "python",
      "codemirror_mode": {
        "name": "ipython",
        "version": "3"
      },
      "file_extension": ".py",
      "mimetype": "text/x-python",
      "nbconvert_exporter": "python",
      "pygments_lexer": "ipython3",
      "version": "3.12.6"
    }
  }
}