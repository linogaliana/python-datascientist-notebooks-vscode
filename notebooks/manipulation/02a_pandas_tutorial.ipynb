{
  "cells": [
    {
      "cell_type": "markdown",
      "metadata": {},
      "source": [
        "# Introduction à Pandas\n",
        "\n",
        "Lino Galiana  \n",
        "2025-03-19\n",
        "\n",
        "La partie `Pandas` a évolué récemment. Vous pouvez retrouver les contenus liés à `Pandas` dans les chapitres suivants:\n",
        "\n",
        "-   [Introduction à `Pandas` et à la logique du *DataFrame*](../../content/manipulation/02_pandas_intro.qmd) ;\n",
        "-   [Statistiques par groupe et association de plusieurs jeux de données avec `Pandas`](../../content/manipulation/02_pandas_suite.qmd) ;"
      ],
      "id": "bf0060ee-f6a7-4a8a-a009-0aa3d55bbb81"
    }
  ],
  "nbformat": 4,
  "nbformat_minor": 5,
  "metadata": {
    "kernelspec": {
      "display_name": "Python 3",
      "language": "python",
      "name": "python3"
    }
  }
}