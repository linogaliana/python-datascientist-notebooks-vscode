{
  "cells": [
    {
      "cell_type": "markdown",
      "metadata": {},
      "source": [
        "# Pratique de geopandas avec les données vélib\n",
        "\n",
        "Lino Galiana  \n",
        "2025-03-19\n",
        "\n",
        "La partie `GeoPandas` a évolué récemment. Vous pouvez retrouver les contenus liés à `GeoPandas` dans le chapitre suivant (éléments magistraux et exercices):\n",
        "\n",
        "-   [Introduction aux données spatiales avec `Geopandas`](../../content/manipulation/03_geopandas_intro.qmd)"
      ],
      "id": "9ac5c4e0-7345-493e-a47f-240f283d56b7"
    }
  ],
  "nbformat": 4,
  "nbformat_minor": 5,
  "metadata": {
    "kernelspec": {
      "display_name": "Python 3",
      "language": "python",
      "name": "python3"
    }
  }
}