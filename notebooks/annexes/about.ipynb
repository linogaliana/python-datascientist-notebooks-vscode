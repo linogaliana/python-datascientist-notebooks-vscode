{
  "cells": [
    {
      "cell_type": "markdown",
      "metadata": {},
      "source": [
        "# A propos de ce site\n",
        "\n",
        "Lino Galiana  \n",
        "2025-03-19\n",
        "\n",
        "Site web du cours [*Python pour la data science*](https://www.ensae.fr/courses/1425-python-pour-le-data-scientist)\n",
        "<a href=\"https://github.com/linogaliana/python-datascientist\" class=\"github\"><i class=\"fab fa-python\"></i></a>, une introduction à `Python` pour\n",
        "la deuxième année du cursus d’ingénieur de l’[`ENSAE`](https://www.ensae.fr/) (Master 1).\n",
        "\n",
        "<br>\n",
        "\n",
        "L’ensemble du contenu de ce groupe est librement disponible ici\n",
        "ou sur [`Github`](https://github.com/linogaliana/python-datascientist)\n",
        "<a href=\"https://github.com/linogaliana/python-datascientist\" class=\"github\"><i class=\"fab fa-github\"></i></a> et peut être testé\n",
        "sous forme de *notebooks* `Jupyter`.\n",
        "\n",
        "<br>"
      ],
      "id": "76c50197-7e91-4d7d-98f2-ac8089af3ba8"
    },
    {
      "cell_type": "raw",
      "metadata": {
        "raw_mimetype": "text/html"
      },
      "source": [
        "<details>"
      ],
      "id": "22b7df73-a128-494a-9f55-df90b47b0955"
    },
    {
      "cell_type": "raw",
      "metadata": {
        "raw_mimetype": "text/html"
      },
      "source": [
        "<summary>"
      ],
      "id": "141d6f02-6baf-492a-8033-31a091c2a127"
    },
    {
      "cell_type": "markdown",
      "metadata": {},
      "source": [
        "Exemple avec l’introduction à `Pandas`"
      ],
      "id": "93b958f2-a712-4daa-8bab-c4cd4a3bb4fc"
    },
    {
      "cell_type": "raw",
      "metadata": {
        "raw_mimetype": "text/html"
      },
      "source": [
        "</summary>"
      ],
      "id": "47f778a3-712b-4d2d-8a4d-1ea86f92f096"
    },
    {
      "cell_type": "code",
      "execution_count": null,
      "metadata": {},
      "outputs": [
        {
          "output_type": "display_data",
          "metadata": {},
          "data": {}
        }
      ],
      "source": [],
      "id": "3771c914-02b5-4cd0-ba0b-b5782fa326d4"
    },
    {
      "cell_type": "raw",
      "metadata": {
        "raw_mimetype": "text/html"
      },
      "source": [
        "</details>"
      ],
      "id": "f41da729-31ca-46c6-bd84-f1290c4fd128"
    },
    {
      "cell_type": "raw",
      "metadata": {
        "raw_mimetype": "text/html"
      },
      "source": [
        "<details>"
      ],
      "id": "b0bf3fca-04f9-4503-8aa4-41fbb3525cef"
    },
    {
      "cell_type": "raw",
      "metadata": {
        "raw_mimetype": "text/html"
      },
      "source": [
        "<summary>"
      ],
      "id": "382f649d-59a9-4be8-836c-be29f5876bb3"
    },
    {
      "cell_type": "markdown",
      "metadata": {},
      "source": [
        "Au programme:"
      ],
      "id": "49cb95d7-846f-42bb-b8dc-f3031e9e9850"
    },
    {
      "cell_type": "raw",
      "metadata": {
        "raw_mimetype": "text/html"
      },
      "source": [
        "</summary>"
      ],
      "id": "28af577a-334d-4963-a83b-89d576f09c8f"
    },
    {
      "cell_type": "markdown",
      "metadata": {},
      "source": [
        "Globalement, ce cours propose un contenu très complet pouvant autant\n",
        "satisfaire des débutants en\n",
        "*data science* que des personnes à la recherche de contenu plus avancé :\n",
        "<br>\n",
        "\n",
        "1.  **Manipulation de données** : manipulation de données standards (`Pandas`), données géographiques (`Geopandas`), récupération de données (webscraping, API)…\n",
        "2.  **Visualisation de données** : visualisations classiques (`Matplotlib`, `Seaborn`), cartographie, visualisations réactives (`Plotly`, `Folium`)\n",
        "3.  **Modélisation** : *machine learning* (`Scikit`), économétrie\n",
        "4.  **Traitement de données textuelles** (NLP): découverte de la tokenisation avec `NLTK` et `SpaCy`, modélisation…\n",
        "5.  **Introduction à la *data science* moderne** : *cloud computing*, `ElasticSearch`, intégration continue…\n",
        "\n",
        "L’ensemble du contenu de ce site s’appuie sur des **données\n",
        "ouvertes**, qu’il s’agisse de données françaises (principalement\n",
        "issues de la plateforme\n",
        "centralisatrice [`data.gouv`](https://www.data.gouv.fr) ou du site\n",
        "*web* de l’[Insee](https://www.insee.fr)) ou de données\n",
        "américaines. Le programme est présenté de manière linéaire dans la partie supérieure de cette page (👆️) ou de manière désordonnée ci-dessous (👇️).\n",
        "\n",
        "Un bon complément du contenu du site web est le cours que nous donnons avec Romain Avouac en dernière année de l’ENSAE plus tourné autour de la mise en production de projets *data science* : [https://ensae-reproductibilite.github.io/](https://ensae-reproductibilite.github.io/website/)"
      ],
      "id": "002a3bcd-aa54-44a3-b09b-ac87ca49faff"
    },
    {
      "cell_type": "raw",
      "metadata": {
        "raw_mimetype": "text/html"
      },
      "source": [
        "</details>"
      ],
      "id": "f38991f5-cf0a-4eca-896d-1802b7a29871"
    },
    {
      "cell_type": "markdown",
      "metadata": {},
      "source": [
        ":::::\n",
        "\n",
        "![](https://minio.lab.sspcloud.fr/lgaliana/generative-art/pythonds/kiddos.png)\n",
        "\n",
        "::::\n",
        "\n",
        ":::"
      ],
      "id": "c257a1f6-6d36-43d8-ba1a-2911a060d00d"
    }
  ],
  "nbformat": 4,
  "nbformat_minor": 5,
  "metadata": {
    "kernelspec": {
      "display_name": "Python 3",
      "language": "python",
      "name": "python3"
    }
  }
}