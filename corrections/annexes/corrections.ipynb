{
  "cells": [
    {
      "cell_type": "markdown",
      "metadata": {},
      "source": [
        "# Corrections\n",
        "\n",
        "Lino Galiana  \n",
        "2025-03-19\n",
        "\n",
        "Se rendre sur la page en question sur <https://pythonds.linogaliana.fr> pour consulter le contenu."
      ],
      "id": "cf2244b5-6de7-4055-bc2e-cdd4b36d8359"
    }
  ],
  "nbformat": 4,
  "nbformat_minor": 5,
  "metadata": {
    "kernelspec": {
      "display_name": "Python 3",
      "language": "python",
      "name": "python3"
    }
  }
}