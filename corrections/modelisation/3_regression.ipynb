{
  "cells": [
    {
      "cell_type": "markdown",
      "metadata": {},
      "source": [
        "# Introduction à la régression\n",
        "\n",
        "Lino Galiana  \n",
        "2025-03-19\n",
        "\n",
        "<div class=\"badge-container\"><div class=\"badge-text\">Pour essayer les exemples présents dans ce tutoriel :</div><a href=\"https://github.com/linogaliana/python-datascientist-notebooks/blob/main/notebooks/modelisation/3_regression.ipynb\" target=\"_blank\" rel=\"noopener\"><img src=\"https://img.shields.io/static/v1?logo=github&label=&message=View%20on%20GitHub&color=181717\" alt=\"View on GitHub\"></a>\n",
        "<a href=\"https://datalab.sspcloud.fr/launcher/ide/vscode-python?autoLaunch=true&name=«3_regression»&init.personalInit=«https%3A%2F%2Fraw.githubusercontent.com%2Flinogaliana%2Fpython-datascientist%2Fmain%2Fsspcloud%2Finit-vscode.sh»&init.personalInitArgs=«modelisation%203_regression%20correction»\" target=\"_blank\" rel=\"noopener\"><img src=\"https://custom-icon-badges.demolab.com/badge/SSP%20Cloud-Lancer_avec_VSCode-blue?logo=vsc&logoColor=white\" alt=\"Onyxia\"></a>\n",
        "<a href=\"https://datalab.sspcloud.fr/launcher/ide/jupyter-python?autoLaunch=true&name=«3_regression»&init.personalInit=«https%3A%2F%2Fraw.githubusercontent.com%2Flinogaliana%2Fpython-datascientist%2Fmain%2Fsspcloud%2Finit-jupyter.sh»&init.personalInitArgs=«modelisation%203_regression%20correction»\" target=\"_blank\" rel=\"noopener\"><img src=\"https://img.shields.io/badge/SSP%20Cloud-Lancer_avec_Jupyter-orange?logo=Jupyter&logoColor=orange\" alt=\"Onyxia\"></a>\n",
        "<a href=\"https://colab.research.google.com/github/linogaliana/python-datascientist-notebooks-colab//blob/main//notebooks/modelisation/3_regression.ipynb\" target=\"_blank\" rel=\"noopener\"><img src=\"https://colab.research.google.com/assets/colab-badge.svg\" alt=\"Open In Colab\"></a><br></div>\n",
        "\n",
        "Le précédent chapitre visait à proposer un premier modèle pour comprendre\n",
        "les comtés où le parti Républicain l’emporte. La variable d’intérêt étant\n",
        "bimodale (victoire ou défaite), on était dans le cadre d’un modèle de\n",
        "classification.\n",
        "\n",
        "Maintenant, sur les mêmes données, on va proposer un modèle de régression\n",
        "pour expliquer le score du parti Républicain. La variable est donc continue.\n",
        "Nous ignorerons le fait que ses bornes se trouvent entre 0 et 100 et donc\n",
        "qu’il faudrait, pour être rigoureux, transformer l’échelle afin d’avoir\n",
        "des données dans cet intervalle.\n",
        "\n",
        "Ce chapitre utilise toujours le même jeu de données, présenté dans l’[introduction\n",
        "de cette partie](index.qmd) : les données de vote aux élections présidentielles américaines\n",
        "croisées à des variables sociodémographiques.\n",
        "Le code\n",
        "est disponible [sur Github](https://github.com/linogaliana/python-datascientist/blob/main/content/modelisation/get_data.py)."
      ],
      "id": "161dc236-29ad-433b-add9-f23a663fb89e"
    },
    {
      "cell_type": "code",
      "execution_count": 1,
      "metadata": {},
      "outputs": [],
      "source": [
        "!pip install --upgrade xlrd #colab bug verson xlrd\n",
        "!pip install geopandas"
      ],
      "id": "649ee995"
    },
    {
      "cell_type": "code",
      "execution_count": 2,
      "metadata": {},
      "outputs": [],
      "source": [
        "import pandas as pd"
      ],
      "id": "a5d319f9"
    },
    {
      "cell_type": "code",
      "execution_count": 3,
      "metadata": {},
      "outputs": [],
      "source": [
        "import requests\n",
        "\n",
        "url = 'https://raw.githubusercontent.com/linogaliana/python-datascientist/main/content/modelisation/get_data.py'\n",
        "r = requests.get(url, allow_redirects=True)\n",
        "open('getdata.py', 'wb').write(r.content)\n",
        "\n",
        "import getdata\n",
        "votes = getdata.create_votes_dataframes()"
      ],
      "id": "e962b033"
    },
    {
      "cell_type": "markdown",
      "metadata": {},
      "source": [
        "Ce chapitre va utiliser plusieurs *packages*\n",
        "de modélisation, les principaux étant `Scikit` et `Statsmodels`.\n",
        "Voici une suggestion d’import pour tous ces *packages*."
      ],
      "id": "8d20e544-08c8-4a82-9007-dafdd5c9d3ba"
    },
    {
      "cell_type": "code",
      "execution_count": 4,
      "metadata": {},
      "outputs": [],
      "source": [
        "import numpy as np\n",
        "from sklearn.linear_model import LinearRegression\n",
        "from sklearn.model_selection import train_test_split\n",
        "import sklearn.metrics\n",
        "import matplotlib.pyplot as plt\n",
        "import seaborn as sns\n",
        "import pandas as pd"
      ],
      "id": "1a41e05d"
    },
    {
      "cell_type": "markdown",
      "metadata": {},
      "source": [
        "# 1. Principe général\n",
        "\n",
        "Le principe général de la régression consiste à trouver une loi $h_\\theta(X)$\n",
        "telle que\n",
        "\n",
        "$$\n",
        "h_\\theta(X) = \\mathbb{E}_\\theta(Y|X)\n",
        "$$\n",
        "\n",
        "Cette formalisation est extrêmement généraliste et ne se restreint d’ailleurs\n",
        "pas à la régression linéaire.\n",
        "\n",
        "En économétrie, la régression offre une alternative aux méthodes de maximum\n",
        "de vraisemblance et aux méthodes des moments. La régression est un ensemble\n",
        "très vaste de méthodes, selon la famille de modèles\n",
        "(paramétriques, non paramétriques, etc.) et la structure de modèles.\n",
        "\n",
        "## 1.1 La régression linéaire\n",
        "\n",
        "C’est la manière la plus simple de représenter la loi $h_\\theta(X)$ comme\n",
        "combinaison linéaire de variables $X$ et de paramètres $\\theta$. Dans ce\n",
        "cas,\n",
        "\n",
        "$$\n",
        "\\mathbb{E}_\\theta(Y|X) = X\\beta\n",
        "$$\n",
        "\n",
        "Cette relation est encore, sous cette formulation, théorique. Il convient\n",
        "de l’estimer à partir des données observées $y$. La méthode des moindres\n",
        "carrés consiste à minimiser l’erreur quadratique entre la prédiction et\n",
        "les données observées (ce qui explique qu’on puisse voir la régression comme\n",
        "un problème de *Machine Learning*). En toute généralité, la méthode des\n",
        "moindres carrés consiste à trouver l’ensemble de paramètres $\\theta$\n",
        "tel que\n",
        "\n",
        "$$\n",
        "\\theta = \\arg \\min_{\\theta \\in \\Theta} \\mathbb{E}\\bigg[ \\left( y - h_\\theta(X) \\right)^2 \\bigg]\n",
        "$$\n",
        "\n",
        "Ce qui, dans le cadre de la régression linéaire, s’exprime de la manière suivante :\n",
        "\n",
        "$$\n",
        "\\beta = \\arg\\min \\mathbb{E}\\bigg[ \\left( y - X\\beta \\right)^2 \\bigg]\n",
        "$$\n",
        "\n",
        "Lorsqu’on amène le modèle théorique ($\\mathbb{E}_\\theta(Y|X) = X\\beta$) aux données,\n",
        "on formalise le modèle de la manière suivante :\n",
        "\n",
        "$$\n",
        "Y = X\\beta + \\epsilon\n",
        "$$\n",
        "\n",
        "Avec une certaine distribution du bruit $\\epsilon$ qui dépend\n",
        "des hypothèses faites. Par exemple, avec des\n",
        "$\\epsilon \\sim \\mathcal{N}(0,\\sigma^2)$ i.i.d., l’estimateur $\\beta$ obtenu\n",
        "est équivalent à celui du Maximum de Vraisemblance dont la théorie asymptotique\n",
        "nous assure l’absence de biais, la variance minimale (borne de Cramer-Rao).\n",
        "\n",
        "### 1.1.1 Application\n",
        "\n",
        "Toujours sous le patronage des héritiers de Siegfried (1913), notre objectif, dans ce chapitre, est d’expliquer et prédire le score des Républicains à partir de quelques\n",
        "variables socioéconomiques. Contrairement au chapitre précédent, où on se focalisait sur\n",
        "un résultat binaire (victoire/défaite des Républicains), cette\n",
        "fois on va chercher à modéliser directement le score des Républicains.\n",
        "\n",
        "Le prochain exercice vise à illustrer la manière d’effectuer une régression linéaire avec `scikit`.\n",
        "Dans ce domaine,\n",
        "`statsmodels` est nettement plus complet, ce que montrera l’exercice suivant.\n",
        "L’intérêt principal de faire\n",
        "des régressions avec `scikit` est de pouvoir comparer les résultats d’une régression linéaire\n",
        "avec d’autres modèles de régression dans une perspective de sélection du meilleur modèle prédictif.\n",
        "\n",
        "<div class=\"alert alert-success\" role=\"alert\">\n",
        "<h3 class=\"alert-heading\"><i class=\"fa-solid fa-pencil\"></i> Exercice 1a : Régression linéaire avec scikit</h3>\n",
        "\n",
        "1.  A partir de quelques variables, par exemple, *‘Unemployment_rate_2019’, ‘Median_Household_Income_2021’, ‘Percent of adults with less than a high school diploma, 2018-22’, “Percent of adults with a bachelor’s degree or higher, 2018-22”*, expliquer la variable `per_gop` à l’aide d’un échantillon d’entraînement `X_train` constitué au préalable.\n",
        "\n",
        "⚠️ Utiliser la variable `Median_Household_Income_2021`\n",
        "en `log` sinon son échelle risque d’écraser tout effet.\n",
        "\n",
        "1.  Afficher les valeurs des coefficients, constante comprise\n",
        "\n",
        "2.  Evaluer la pertinence du modèle avec le $R^2$ et la qualité du fit avec le MSE.\n",
        "\n",
        "3.  Représenter un nuage de points des valeurs observées\n",
        "    et des erreurs de prédiction. Observez-vous\n",
        "    un problème de spécification ?\n",
        "\n",
        "</div>"
      ],
      "id": "f7907d3e-4377-4b6a-99fe-0f7703f9d474"
    },
    {
      "cell_type": "code",
      "execution_count": 5,
      "metadata": {},
      "outputs": [],
      "source": [
        "# Question 1\n",
        "xvars = [\n",
        "  'Unemployment_rate_2019', 'Median_Household_Income_2021',\n",
        "  'Percent of adults with less than a high school diploma, 2018-22',\n",
        "  \"Percent of adults with a bachelor's degree or higher, 2018-22\"\n",
        "]\n",
        "\n",
        "\n",
        "df2 = (\n",
        "  votes.loc[:,[\"per_gop\"] + xvars]\n",
        "  .dropna()\n",
        "  .copy()\n",
        ")\n",
        "df2['log_income'] = np.log(df2[\"Median_Household_Income_2021\"])\n",
        "df2 = df2.dropna().astype(np.float64)\n",
        "\n",
        "\n",
        "X_train, X_test, y_train, y_test = train_test_split(\n",
        "    df2.drop([\"Median_Household_Income_2021\",\"per_gop\"], axis = 1),\n",
        "    100*df2[['per_gop']].values.ravel(), test_size=0.2, random_state=0\n",
        ")\n",
        "\n",
        "ols = LinearRegression().fit(X_train, y_train)\n",
        "y_pred = ols.predict(X_test)"
      ],
      "id": "a3eeedc3"
    },
    {
      "cell_type": "code",
      "execution_count": 6,
      "metadata": {},
      "outputs": [],
      "source": [
        "# Question 2\n",
        "print(ols.intercept_, ols.coef_)"
      ],
      "id": "9f40228f"
    },
    {
      "cell_type": "code",
      "execution_count": 7,
      "metadata": {},
      "outputs": [],
      "source": [
        "# Question 3\n",
        "\n",
        "rmse = sklearn.metrics.root_mean_squared_error(y_test, y_pred)\n",
        "rsq = sklearn.metrics.r2_score(y_test, y_pred) \n",
        "\n",
        "print(\n",
        "  f'Root mean squared error: {rmse:.2f}'\n",
        ")\n",
        "\n",
        "print(\n",
        "  f'Coefficient of determination: {rsq:.2f}'\n",
        ")"
      ],
      "id": "5a77a971"
    },
    {
      "cell_type": "markdown",
      "metadata": {},
      "source": [
        "À la question 4, on peut voir que la répartition des erreurs n’est clairement pas aléatoire en fonction de $X$."
      ],
      "id": "05923602-2587-4b02-b13d-ec7213700971"
    },
    {
      "cell_type": "code",
      "execution_count": 8,
      "metadata": {},
      "outputs": [],
      "source": [
        "#4. Nuage de points des valeurs observées\n",
        "tempdf = pd.DataFrame(\n",
        "  {\n",
        "    \"prediction\": y_pred, \"observed\": y_test,\n",
        "    \"error\": y_test - y_pred\n",
        "  }\n",
        ")\n",
        "\n",
        "fig = plt.figure()\n",
        "g = sns.scatterplot(data = tempdf, x = \"observed\", y = \"error\")\n",
        "g.axhline(0, color = \"red\")"
      ],
      "id": "8b956f21"
    },
    {
      "cell_type": "code",
      "execution_count": 9,
      "metadata": {},
      "outputs": [
        {
          "output_type": "display_data",
          "metadata": {},
          "data": {
            "image/png": "[encoded data removed]"
          }
        }
      ],
      "source": [
        "g.figure.get_figure()"
      ],
      "id": "1f2cb2db"
    },
    {
      "cell_type": "markdown",
      "metadata": {},
      "source": [
        "Le modèle souffre donc d’un problème de spécification, il faudra par la suite faire un travail sur les variables sélectionnées. Avant cela, on peut refaire cet exercice avec le *package* `statsmodels`."
      ],
      "id": "c3c389c6-30ae-4f8c-93de-4e3749a5ab6e"
    },
    {
      "cell_type": "code",
      "execution_count": 10,
      "metadata": {},
      "outputs": [],
      "source": [
        "# packages utiles\n",
        "import statsmodels.api as sm\n",
        "import statsmodels.formula.api as smf"
      ],
      "id": "b1f6aa0c"
    },
    {
      "cell_type": "markdown",
      "metadata": {},
      "source": [
        "<div class=\"alert alert-success\" role=\"alert\">\n",
        "<h3 class=\"alert-heading\"><i class=\"fa-solid fa-pencil\"></i> Exercice 1b : Régression linéaire avec statsmodels</h3>\n",
        "\n",
        "Cet exercice vise à illustrer la manière d’effectuer une régression linéaire avec `statsmodels` qui offre des fonctionnalités plus proches de celles de `R`, et moins orientées *Machine Learning*.\n",
        "\n",
        "L’objectif est toujours d’expliquer le score des Républicains en fonction de quelques\n",
        "variables.\n",
        "\n",
        "1.  A partir de quelques variables, par exemple, *‘Unemployment_rate_2019’, ‘Median_Household_Income_2021’, ‘Percent of adults with less than a high school diploma, 2018-22’, “Percent of adults with a bachelor’s degree or higher, 2018-22”*, expliquer la variable `per_gop`.\n",
        "    ⚠️ utiliser la variable `Median_Household_Income_2021`\n",
        "    en `log` sinon son échelle risque d’écraser tout effet.\n",
        "2.  Afficher un tableau de régression.\n",
        "3.  Evaluer la pertinence du modèle avec le R^2.\n",
        "4.  Utiliser l’API `formula` pour régresser le score des républicains en fonction de la variable `Unemployment_rate_2021`, de `Unemployment_rate_2019` au carré et du log de\n",
        "    `Median_Household_Income_2021`.\n",
        "\n",
        "</div>"
      ],
      "id": "42bae2a0-f8c5-47f3-b1e7-3b7323ac83be"
    },
    {
      "cell_type": "code",
      "execution_count": 11,
      "metadata": {},
      "outputs": [],
      "source": [
        "# Question 1\n",
        "xvars = [\n",
        "  'Unemployment_rate_2019', 'Median_Household_Income_2021',\n",
        "  'Percent of adults with less than a high school diploma, 2018-22',\n",
        "  \"Percent of adults with a bachelor's degree or higher, 2018-22\"\n",
        "]\n",
        "\n",
        "df2 = (\n",
        "  votes.loc[:,[\"per_gop\"] + xvars]\n",
        "  .dropna()\n",
        "  .copy()\n",
        ")\n",
        "df2['log_income'] = np.log(df2[\"Median_Household_Income_2021\"])\n",
        "df2 = df2.dropna().astype(np.float64)\n",
        "\n",
        "X = sm.add_constant(df2.drop([\"Median_Household_Income_2021\",\"per_gop\"], axis = 1))\n",
        "results = sm.OLS(df2[['per_gop']], X).fit()"
      ],
      "id": "e13d5fe4"
    },
    {
      "cell_type": "code",
      "execution_count": 12,
      "metadata": {},
      "outputs": [],
      "source": [
        "# Question 2\n",
        "print(results.summary())"
      ],
      "id": "fbc392c8"
    },
    {
      "cell_type": "code",
      "execution_count": 13,
      "metadata": {},
      "outputs": [
        {
          "output_type": "stream",
          "name": "stdout",
          "text": [
            "R2:  0.4310933195576123"
          ]
        }
      ],
      "source": [
        "# 3. Calcul du R^2\n",
        "print(\"R2: \", results.rsquared)"
      ],
      "id": "79d1e2ba"
    },
    {
      "cell_type": "code",
      "execution_count": 14,
      "metadata": {},
      "outputs": [],
      "source": [
        "# 4. Nouvelle régression avec l'API formula\n",
        "results = smf.ols('per_gop ~ Unemployment_rate_2019 + I(Unemployment_rate_2019**2) + np.log(Median_Household_Income_2021)', data=df2).fit()\n",
        "print(results.summary())"
      ],
      "id": "8df495c8"
    },
    {
      "cell_type": "markdown",
      "metadata": {},
      "source": [
        "<div class=\"alert alert-success\" role=\"alert\">\n",
        "<h3 class=\"alert-heading\"><i class=\"fa-solid fa-lightbulb\"></i> Tip</h3>\n",
        "\n",
        "Pour sortir une belle table pour un rapport sous $\\LaTeX$, il est possible d’utiliser\n",
        "la méthode [`Summary.as_latex`](https://www.statsmodels.org/devel/generated/statsmodels.iolib.summary.Summary.as_latex.html#statsmodels.iolib.summary.Summary.as_latex). Pour un rapport HTML, on utilisera [`Summary.as_html`](https://www.statsmodels.org/devel/generated/statsmodels.iolib.summary.Summary.as_latex.html#statsmodels.iolib.summary.Summary.as_latex)\n",
        "\n",
        "</div>\n",
        "\n",
        "<div class=\"alert alert-info\" role=\"alert\">\n",
        "<h3 class=\"alert-heading\"><i class=\"fa-solid fa-comment\"></i> Note</h3>\n",
        "\n",
        "Les utilisateurs de `R` retrouveront des éléments très familiers avec `statsmodels`,\n",
        "notamment la possibilité d’utiliser une formule pour définir une régression.\n",
        "La philosophie de `statsmodels` est similaire à celle qui a influé sur la construction\n",
        "des packages `stats` et `MASS` de `R`: offrir une librairie généraliste, proposant\n",
        "une large gamme de modèles.\n",
        "\n",
        "Néanmoins, `statsmodels` bénéficie de sa jeunesse\n",
        "par rapport aux packages `R`. Depuis les années 1990, les packages `R` visant\n",
        "à proposer des fonctionalités manquantes dans `stats` et `MASS` se sont\n",
        "multipliés alors que `statsmodels`, enfant des années 2010, n’a eu qu’à\n",
        "proposer un cadre général (les *generalized estimating equations*) pour\n",
        "englober ces modèles.\n",
        "\n",
        "</div>\n",
        "\n",
        "## 1.2 La régression logistique\n",
        "\n",
        "Nous avons appliqué notre régression linéaire sur une variable d’*outcome* continue.\n",
        "Comment faire avec une distribution binaire ?  \n",
        "Dans ce cas, $\\mathbb{E}_{\\theta} (Y|X) = \\mathbb{P}_{\\theta} (Y = 1|X)$.  \n",
        "La régression logistique peut être vue comme un modèle linéaire en probabilité :\n",
        "\n",
        "$$\n",
        "\\text{logit}\\bigg(\\mathbb{E}_{\\theta}(Y|X)\\bigg) = \\text{logit}\\bigg(\\mathbb{P}_{\\theta}(Y = 1|X)\\bigg) = X\\beta\n",
        "$$\n",
        "\n",
        "La fonction $\\text{logit}$ est $]0,1[ \\to \\mathbb{R}: p \\mapsto \\log(\\frac{p}{1-p})$.\n",
        "\n",
        "Elle permet ainsi de transformer une probabilité dans $\\mathbb{R}$.\n",
        "Sa fonction réciproque est la sigmoïde ($\\frac{1}{1 + e^{-x}}$),\n",
        "objet central du *Deep Learning*.\n",
        "\n",
        "Il convient de noter que les probabilités ne sont pas observées, c’est l’*outcome*\n",
        "binaire (0/1) qui l’est. Cela amène à voir la régression logistique de deux\n",
        "manières différentes :\n",
        "\n",
        "-   En économétrie, on s’intéresse au modèle latent qui détermine le choix de\n",
        "    l’outcome. Par exemple, si on observe les choix de participer ou non au marché\n",
        "    du travail, on va modéliser les facteurs déterminant ce choix ;\n",
        "-   En *Machine Learning*, le modèle latent n’est nécessaire que pour classifier\n",
        "    dans la bonne catégorie les observations.\n",
        "\n",
        "L’estimation des paramètres $\\beta$ peut se faire par maximum de vraisemblance\n",
        "ou par régression, les deux solutions sont équivalentes sous certaines\n",
        "hypothèses.\n",
        "\n",
        "<div class=\"alert alert-info\" role=\"alert\">\n",
        "<h3 class=\"alert-heading\"><i class=\"fa-solid fa-comment\"></i> Note</h3>\n",
        "\n",
        "Par défaut, `scikit` applique une régularisation pour pénaliser les modèles\n",
        "peu parcimonieux (comportement différent\n",
        "de celui de `statsmodels`). Ce comportement par défaut est à garder à l’esprit\n",
        "si l’objectif n’est pas de faire de la prédiction.\n",
        "\n",
        "</div>\n",
        "\n",
        "<div class=\"alert alert-info\" role=\"alert\">\n",
        "<h3 class=\"alert-heading\"><i class=\"fa-solid fa-comment\"></i> Note</h3>\n",
        "\n",
        "By default, `scikit` applies regularization to penalize non-parsimonious models (a behavior different from that of `statsmodels`). This default behavior should be kept in mind if the objective is not prediction.\n",
        "\n",
        "</div>"
      ],
      "id": "7e04835b-d6cf-4fdb-aaeb-fd95e65293cf"
    },
    {
      "cell_type": "code",
      "execution_count": 15,
      "metadata": {},
      "outputs": [],
      "source": [
        "# packages utiles\n",
        "from sklearn.linear_model import LogisticRegression\n",
        "import sklearn.metrics"
      ],
      "id": "1fae360a"
    },
    {
      "cell_type": "markdown",
      "metadata": {},
      "source": [
        "<div class=\"alert alert-success\" role=\"alert\">\n",
        "<h3 class=\"alert-heading\"><i class=\"fa-solid fa-pencil\"></i> Exercice 2a : Régression logistique avec scikit</h3>\n",
        "\n",
        "Avec `scikit`, en utilisant échantillons d’apprentissage et d’estimation :\n",
        "\n",
        "1.  Evaluer l’effet des variables déjà utilisées sur la probabilité des Républicains\n",
        "    de gagner. Affichez la valeur des coefficients.\n",
        "2.  Déduire une matrice de confusion et\n",
        "    une mesure de qualité du modèle.\n",
        "3.  Supprimer la régularisation grâce au paramètre `penalty`. Quel effet sur les paramètres estimés ?\n",
        "\n",
        "</div>"
      ],
      "id": "eacae754-e329-4a7f-98e5-7e36fb678391"
    },
    {
      "cell_type": "code",
      "execution_count": 16,
      "metadata": {},
      "outputs": [],
      "source": [
        "#1. Modèle logit avec les mêmes variables que précédemment\n",
        "xvars = [\n",
        "  'Unemployment_rate_2019', 'Median_Household_Income_2021',\n",
        "  'Percent of adults with less than a high school diploma, 2018-22',\n",
        "  \"Percent of adults with a bachelor's degree or higher, 2018-22\"\n",
        "]\n",
        "\n",
        "df2 = votes.loc[:, [\"per_gop\"] + xvars].copy()\n",
        "df2['log_income'] = np.log(df2[\"Median_Household_Income_2021\"])\n",
        "df2 = df2.dropna().astype(np.float64)\n",
        "\n",
        "\n",
        "df2['y'] = (df2['per_gop']>0.5).astype(int)\n",
        "\n",
        "X_train, X_test, y_train, y_test = train_test_split(\n",
        "    df2.drop([\"Median_Household_Income_2021\",\"y\"], axis = 1),\n",
        "    1*df2[['y']].values.ravel(), test_size=0.2, random_state=0\n",
        ")\n",
        "\n",
        "clf = LogisticRegression().fit(X_train, y_train)\n",
        "y_pred = clf.predict(X_test)\n",
        "\n",
        "print(clf.intercept_, clf.coef_)"
      ],
      "id": "d9310561"
    },
    {
      "cell_type": "code",
      "execution_count": 17,
      "metadata": {},
      "outputs": [],
      "source": [
        "from sklearn.metrics import ConfusionMatrixDisplay\n",
        "\n",
        "# 2. Matrice de confusion\n",
        "ConfusionMatrixDisplay.from_predictions(y_test, y_pred)\n",
        "\n",
        "sc_accuracy = sklearn.metrics.accuracy_score(y_pred, y_test)\n",
        "sc_f1 = sklearn.metrics.f1_score(y_pred, y_test)\n",
        "sc_recall = sklearn.metrics.recall_score(y_pred, y_test)\n",
        "sc_precision = sklearn.metrics.precision_score(y_pred, y_test)\n",
        "\n",
        "print(sc_accuracy)\n",
        "print(sc_f1)\n",
        "print(sc_recall)\n",
        "print(sc_precision)"
      ],
      "id": "54822d8e"
    },
    {
      "cell_type": "code",
      "execution_count": 18,
      "metadata": {},
      "outputs": [],
      "source": [
        "#3. Supprimer la régularisation\n",
        "clf2 = LogisticRegression(penalty=None).fit(X_train, y_train)\n",
        "y_pred2 = clf.predict(X_test)\n",
        "print(clf2.intercept_, clf2.coef_)\n",
        "# Les coefficients sont complètement différents"
      ],
      "id": "5b6f3b17"
    },
    {
      "cell_type": "code",
      "execution_count": 19,
      "metadata": {},
      "outputs": [],
      "source": [
        "# packages utiles\n",
        "from scipy import stats"
      ],
      "id": "415c74fd"
    },
    {
      "cell_type": "markdown",
      "metadata": {},
      "source": [
        "<div class=\"alert alert-success\" role=\"alert\">\n",
        "<h3 class=\"alert-heading\"><i class=\"fa-solid fa-pencil\"></i> Exercice 2b : Régression logistique avec statmodels</h3>\n",
        "\n",
        "En utilisant échantillons d’apprentissage et d’estimation :\n",
        "\n",
        "1.  Evaluer l’effet des variables déjà utilisées sur la probabilité des Républicains\n",
        "    de gagner.\n",
        "2.  Faire un test de ratio de vraisemblance concernant l’inclusion de la variable de (log)-revenu.\n",
        "\n",
        "</div>"
      ],
      "id": "24a23e72-1754-4f3a-aea2-ad707b8094c6"
    },
    {
      "cell_type": "code",
      "execution_count": 20,
      "metadata": {},
      "outputs": [],
      "source": [
        "#1. Modèle logit avec les mêmes variables que précédemment\n",
        "xvars = [\n",
        "  'Unemployment_rate_2021', 'Median_Household_Income_2021',\n",
        "  'Percent of adults with less than a high school diploma, 2018-22',\n",
        "  \"Percent of adults with a bachelor's degree or higher, 2018-22\"]\n",
        "\n",
        "df2 = votes[[\"per_gop\"] + xvars]\n",
        "df2['log_income'] = np.log(df2[\"Median_Household_Income_2021\"])\n",
        "df2 = df2.dropna().astype(np.float64)\n",
        "\n",
        "df2['y'] = (df2['per_gop']>0.5).astype(int)\n",
        "\n",
        "mylogit = smf.logit(\n",
        "  formula = 'y ~ Unemployment_rate_2021 + I(Unemployment_rate_2021**2) + np.log(Median_Household_Income_2021)',\n",
        "  data=df2[df2['Median_Household_Income_2021']>0]).fit()\n",
        "print(mylogit.summary())"
      ],
      "id": "21c58a4c"
    },
    {
      "cell_type": "code",
      "execution_count": 21,
      "metadata": {},
      "outputs": [],
      "source": [
        "#2. Faire un test de ratio de vraisemblance \n",
        "logit_h0 = smf.logit(\n",
        "  formula = 'y ~ Unemployment_rate_2021 + I(Unemployment_rate_2021**2)',\n",
        "  data=df2[df2['Median_Household_Income_2021']>0]).fit()\n",
        "# print(logit_h0.summary())\n",
        "\n",
        "lr = -2*(mylogit.llf - logit_h0.llf)\n",
        "lrdf = (logit_h0.df_resid - mylogit.df_resid)\n",
        "\n",
        "lr_pvalue = stats.chi2.sf(lr, df=lrdf)\n",
        "lr_pvalue"
      ],
      "id": "32068860"
    },
    {
      "cell_type": "markdown",
      "metadata": {},
      "source": [
        "La p-value du test de maximum de ratio de vraisemblance étant proche de 1, cela signifie que la variable log revenu ajoute,\n",
        "presque à coup sûr, de l’information au modèle.\n",
        "\n",
        "<div class=\"alert alert-success\" role=\"alert\">\n",
        "<h3 class=\"alert-heading\"><i class=\"fa-solid fa-lightbulb\"></i> Tip</h3>\n",
        "\n",
        "La statistique du test est :\n",
        "$$\n",
        "LR = -2\\log\\bigg(\\frac{\\mathcal{L}_{\\theta}}{\\mathcal{L}_{\\theta_0}}\\bigg) = -2(\\mathcal{l}_{\\theta} - \\mathcal{l}_{\\theta_0})\n",
        "$$\n",
        "\n",
        "</div>\n",
        "\n",
        "# 2. Pour aller plus loin\n",
        "\n",
        "Ce chapitre n’évoque les enjeux de la régression\n",
        "que de manière très introductive. Pour compléter ceci,\n",
        "il est recommandé d’aller plus loin en fonction de vos centres d’intérêt et de vos besoins.\n",
        "\n",
        "Dans le domaine du *machine learning*, les principales voies d’approfondissement sont les suivantes:\n",
        "\n",
        "-   Les modèles de régression alternatifs comme les forêts\n",
        "    aléatoires.\n",
        "-   Les méthodes de *boosting* et *bagging* pour découvrir la manière dont plusieurs modèles peuvent être entraînés de manière conjointe et leur prédiction sélectionnée selon un principe démocratique pour converger vers une meilleure décision qu’un modèle simple.\n",
        "-   Les enjeux liés à l’explicabilité des modèles, un champ de recherche très actif, pour mieux comprendre les critères de décision des modèles.\n",
        "\n",
        "Dans le domaine de l’économétrie, les principales voies d’approfondissement sont les suivantes:\n",
        "\n",
        "-   Les modèles linéaires généralisés pour découvrir la régression\n",
        "    avec des hypothèses plus générales que celles que nous avons posées\n",
        "    jusqu’à présent ;\n",
        "-   Les tests d’hypothèses pour aller plus loin sur ces questions que notre\n",
        "    test de ratio de vraisemblance.\n",
        "\n",
        "## Références\n",
        "\n",
        "Siegfried, André. 1913. *Tableau politique de la France de l’ouest sous la troisième république: 102 cartes et croquis, 1 carte hors texte*. A. Colin."
      ],
      "id": "272f9aa2-e73e-48d9-a8b8-be89e8688a48"
    }
  ],
  "nbformat": 4,
  "nbformat_minor": 5,
  "metadata": {
    "kernelspec": {
      "name": "python3",
      "display_name": "Python 3 (ipykernel)",
      "language": "python",
      "path": "/opt/conda/share/jupyter/kernels/python3"
    },
    "language_info": {
      "name": "python",
      "codemirror_mode": {
        "name": "ipython",
        "version": "3"
      },
      "file_extension": ".py",
      "mimetype": "text/x-python",
      "nbconvert_exporter": "python",
      "pygments_lexer": "ipython3",
      "version": "3.12.6"
    }
  }
}