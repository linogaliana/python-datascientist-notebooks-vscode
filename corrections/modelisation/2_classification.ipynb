{
  "cells": [
    {
      "cell_type": "markdown",
      "metadata": {},
      "source": [
        "# Découverte de la classification avec la technique des SVM\n",
        "\n",
        "Lino Galiana  \n",
        "2025-03-19\n",
        "\n",
        "<div class=\"badge-container\"><div class=\"badge-text\">Pour essayer les exemples présents dans ce tutoriel :</div><a href=\"https://github.com/linogaliana/python-datascientist-notebooks/blob/main/notebooks/modelisation/2_classification.ipynb\" target=\"_blank\" rel=\"noopener\"><img src=\"https://img.shields.io/static/v1?logo=github&label=&message=View%20on%20GitHub&color=181717\" alt=\"View on GitHub\"></a>\n",
        "<a href=\"https://datalab.sspcloud.fr/launcher/ide/vscode-python?autoLaunch=true&name=«2_classification»&init.personalInit=«https%3A%2F%2Fraw.githubusercontent.com%2Flinogaliana%2Fpython-datascientist%2Fmain%2Fsspcloud%2Finit-vscode.sh»&init.personalInitArgs=«modelisation%202_classification%20correction»\" target=\"_blank\" rel=\"noopener\"><img src=\"https://custom-icon-badges.demolab.com/badge/SSP%20Cloud-Lancer_avec_VSCode-blue?logo=vsc&logoColor=white\" alt=\"Onyxia\"></a>\n",
        "<a href=\"https://datalab.sspcloud.fr/launcher/ide/jupyter-python?autoLaunch=true&name=«2_classification»&init.personalInit=«https%3A%2F%2Fraw.githubusercontent.com%2Flinogaliana%2Fpython-datascientist%2Fmain%2Fsspcloud%2Finit-jupyter.sh»&init.personalInitArgs=«modelisation%202_classification%20correction»\" target=\"_blank\" rel=\"noopener\"><img src=\"https://img.shields.io/badge/SSP%20Cloud-Lancer_avec_Jupyter-orange?logo=Jupyter&logoColor=orange\" alt=\"Onyxia\"></a>\n",
        "<a href=\"https://colab.research.google.com/github/linogaliana/python-datascientist-notebooks-colab//blob/main//notebooks/modelisation/2_classification.ipynb\" target=\"_blank\" rel=\"noopener\"><img src=\"https://colab.research.google.com/assets/colab-badge.svg\" alt=\"Open In Colab\"></a><br></div>\n",
        "\n",
        "# 1. Introduction\n",
        "\n",
        "Ce chapitre vise à présenter de manière très succincte le principe de l’entraînement de modèles dans un cadre de classification. L’objectif est d’illustrer la démarche à partir d’un algorithme dont le principe est assez intuitif. Il s’agit d’illustrer quelques uns des concepts évoqués dans les chapitres précédents, notamment ceux relatifs à l’entraînement d’un modèle. D’autres cours de votre scolarité vous permettront de découvrir d’autres algorithmes de classification et les limites de chaque technique.\n",
        "\n",
        "## 1.1 Données\n",
        "\n",
        "Ce chapitre utilise toujours le même jeu de données, présenté dans l’[introduction\n",
        "de cette partie](index.qmd) : les données de vote aux élections présidentielles américaines\n",
        "croisées à des variables sociodémographiques.\n",
        "Le code\n",
        "est disponible [sur Github](https://github.com/linogaliana/python-datascientist/blob/main/content/modelisation/get_data.py)."
      ],
      "id": "056c944e-8eec-4bcd-81c4-66366836c0dc"
    },
    {
      "cell_type": "code",
      "execution_count": 1,
      "metadata": {},
      "outputs": [],
      "source": [
        "!pip install --upgrade xlrd #colab bug verson xlrd\n",
        "!pip install geopandas"
      ],
      "id": "39ddec41"
    },
    {
      "cell_type": "code",
      "execution_count": 2,
      "metadata": {},
      "outputs": [],
      "source": [
        "import pandas as pd"
      ],
      "id": "fafc762c"
    },
    {
      "cell_type": "code",
      "execution_count": 3,
      "metadata": {},
      "outputs": [],
      "source": [
        "import requests\n",
        "\n",
        "url = 'https://raw.githubusercontent.com/linogaliana/python-datascientist/main/content/modelisation/get_data.py'\n",
        "r = requests.get(url, allow_redirects=True)\n",
        "open('getdata.py', 'wb').write(r.content)\n",
        "\n",
        "import getdata\n",
        "votes = getdata.create_votes_dataframes()"
      ],
      "id": "11997f79"
    },
    {
      "cell_type": "markdown",
      "metadata": {},
      "source": [
        "## 1.2 La méthode des *SVM* (*Support Vector Machines*)\n",
        "\n",
        "Les SVM (*Support Vector Machines*) font partie de la boîte à outil traditionnelle des *data scientists*.\n",
        "Le principe de cette technique est relativement intuitif grâce à son interprétation géométrique.\n",
        "Il s’agit de trouver une droite, avec des marges (les supports) qui discrimine au mieux le nuage de points de nos données.\n",
        "Bien-sûr, dans la vraie vie, il est rare d’avoir des nuages de points bien ordonnés pour pouvoir les séparer par une droite. Mais une projection adéquate (un noyau ou *kernel*) peut arranger des données pour permettre de discriminer les données."
      ],
      "id": "bc608626-3f06-48a0-9fdc-2f8354bfd5ac"
    },
    {
      "cell_type": "raw",
      "metadata": {
        "raw_mimetype": "text/html"
      },
      "source": [
        "<img src=\"https://scikit-learn.org/stable/_images/sphx_glr_plot_iris_svc_001.png\" alt=\"Iris SVC Plot\" width=\"300px\">"
      ],
      "id": "ac0fd8b2-cdc0-4dd8-8da5-3cb95b30a774"
    },
    {
      "cell_type": "markdown",
      "metadata": {},
      "source": [
        "<div class=\"alert alert-success\" role=\"alert\">\n",
        "<h3 class=\"alert-heading\"><i class=\"fa-solid fa-lightbulb\"></i> Formalisation mathématique</h3>\n",
        "\n",
        "Les SVM sont l’une des méthodes de *machine learning* les plus intuitives\n",
        "du fait de l’interprétation géométrique simple de la méthode. Il s’agit\n",
        "aussi d’un des algorithmes de *machine learning* à la formalisation\n",
        "la moins complexe pour les praticiens ayant des notions en statistique\n",
        "traditionnelle. Cette note revient dessus. Néanmoins,\n",
        "celle-ci n’est pas nécessaire à la compréhension du chapitre.\n",
        "En *machine learning*, plus que les détails mathématiques, l’important\n",
        "est d’avoir des intuitions.\n",
        "\n",
        "L’objectif des SVM est, rappelons-le, de trouver un hyperplan qui permette\n",
        "de séparer les différentes classes au mieux. Par exemple, dans un espace\n",
        "à deux dimensions, il s’agit de trouver une droite avec des marges\n",
        "qui permette de séparer au mieux l’espace en partie avec\n",
        "des *labels* homogènes.\n",
        "\n",
        "On peut, sans perdre de généralité,\n",
        "supposer que le problème consiste à supposer l’existence d’une loi de probabilité $\\mathbb{P}(x,y)$ ($\\mathbb{P} \\to \\{-1,1\\}$) qui est inconnue. Le problème de discrimination\n",
        "vise à construire un estimateur de la fonction de décision idéale qui minimise la probabilité d’erreur. Autrement dit\n",
        "\n",
        "</div>\n",
        "\n",
        "# 2. Application\n",
        "\n",
        "Pour appliquer un modèle de classification, il nous faut\n",
        "trouver une variable dichotomique. Le choix naturel est\n",
        "de prendre la variable dichotomique qu’est la victoire ou\n",
        "défaite d’un des partis.\n",
        "\n",
        "Même si les Républicains ont perdu en 2020, ils l’ont emporté\n",
        "dans plus de comtés (moins peuplés). Nous allons considérer\n",
        "que la victoire des Républicains est notre *label* 1 et la défaite *0*."
      ],
      "id": "34187da2-832a-48e8-99e0-40e90ccc03bc"
    },
    {
      "cell_type": "code",
      "execution_count": 4,
      "metadata": {},
      "outputs": [],
      "source": [
        "from sklearn import svm\n",
        "import sklearn.metrics\n",
        "from sklearn.model_selection import train_test_split\n",
        "from sklearn.model_selection import cross_val_score\n",
        "import matplotlib.pyplot as plt"
      ],
      "id": "42e80443"
    },
    {
      "cell_type": "markdown",
      "metadata": {},
      "source": [
        "<div class=\"alert alert-success\" role=\"alert\">\n",
        "<h3 class=\"alert-heading\"><i class=\"fa-solid fa-pencil\"></i> Exercice 1 : Premier algorithme de classification</h3>\n",
        "\n",
        "1.  Créer une variable *dummy* appelée `y` dont la valeur vaut 1 quand les républicains l’emportent.\n",
        "2.  En utilisant la fonction prête à l’emploi nommée `train_test_split` de la librairie `sklearn.model_selection`,\n",
        "    créer des échantillons de test (20 % des observations) et d’estimation (80 %) avec comme *features* : `'Unemployment_rate_2019', 'Median_Household_Income_2021', 'Percent of adults with less than a high school diploma, 2018-22', \"Percent of adults with a bachelor's degree or higher, 2018-22\"` et comme *label* la variable `y`.\n",
        "\n",
        "*Note: Il se peut que vous ayez le warning suivant :*\n",
        "\n",
        "> A column-vector y was passed when a 1d array was expected. Please change the shape of y to (n_samples, ), for example using ravel()\n",
        "\n",
        "*Note : Pour éviter ce warning à chaque fois que vous estimez votre modèle, vous pouvez utiliser `DataFrame[['y']].values.ravel()` plutôt que `DataFrame[['y']]` lorsque vous constituez vos échantillons.*\n",
        "\n",
        "1.  Entraîner un classifieur SVM avec comme paramètre de régularisation `C = 1`. Regarder les mesures de performance suivante : `accuracy`, `f1`, `recall` et `precision`.\n",
        "\n",
        "2.  Vérifier la matrice de confusion : vous devriez voir que malgré des scores en apparence pas si mauvais, il y a un problème notable.\n",
        "\n",
        "3.  Refaire les questions précédentes avec des variables normalisées. Le résultat est-il différent ?\n",
        "\n",
        "4.  Changer de variables *x*. Utiliser uniquement le résultat passé du vote démocrate (année 2016) et le revenu. Les variables en question sont `share_2016_republican` et `Median_Household_Income_2021`. Regarder les résultats, notamment la matrice de confusion.\n",
        "\n",
        "5.  \\[OPTIONNEL\\] Faire une 5-fold validation croisée pour déterminer le paramètre *C* idéal.\n",
        "\n",
        "</div>"
      ],
      "id": "dda1c54b-5485-44e5-882b-502dcf7a7986"
    },
    {
      "cell_type": "code",
      "execution_count": 5,
      "metadata": {},
      "outputs": [],
      "source": [
        "# 1. Création de la dummy y de victoire des républicains\n",
        "votes['y'] = (votes['votes_gop'] > votes['votes_dem']).astype(int)"
      ],
      "id": "b5800752"
    },
    {
      "cell_type": "code",
      "execution_count": 6,
      "metadata": {},
      "outputs": [],
      "source": [
        "#2. Création des échantillons d'entraînement et de validation\n",
        "xvars = [\n",
        "  'Unemployment_rate_2019', 'Median_Household_Income_2021',\n",
        "  'Percent of adults with less than a high school diploma, 2018-22',\n",
        "  \"Percent of adults with a bachelor's degree or higher, 2018-22\"\n",
        "]\n",
        "\n",
        "\n",
        "\n",
        "df = votes.loc[:, [\"y\"] + xvars]\n",
        "df = df.dropna()\n",
        "\n",
        "X_train, X_test, y_train, y_test = train_test_split(\n",
        "    df[xvars],\n",
        "    df[['y']].values.ravel(), test_size=0.2, random_state=123\n",
        ")"
      ],
      "id": "f6c73bcd"
    },
    {
      "cell_type": "markdown",
      "metadata": {},
      "source": [
        "On obtient donc un ensemble de *features* d’entraînement ayant cette forme:"
      ],
      "id": "789f65cf-b12b-421f-b1c2-b5b1cc1ccfed"
    },
    {
      "cell_type": "code",
      "execution_count": 7,
      "metadata": {},
      "outputs": [
        {
          "output_type": "display_data",
          "metadata": {},
          "data": {
            "text/html": [
              "\n",
              "</div>"
            ]
          }
        }
      ],
      "source": [
        "X_train.head()"
      ],
      "id": "f2ccd067"
    },
    {
      "cell_type": "markdown",
      "metadata": {},
      "source": [
        "Et les *labels* associés sont les suivants:"
      ],
      "id": "61419767-8cad-41a7-859d-113a618b730b"
    },
    {
      "cell_type": "code",
      "execution_count": 8,
      "metadata": {},
      "outputs": [
        {
          "output_type": "display_data",
          "metadata": {},
          "data": {
            "text/plain": [
              "array([0, 1, 1, 1, 1, 1, 1, 1, 1, 1, 1, 1, 1, 1, 1, 1, 1, 1, 1, 1, 0, 0,\n",
              "       1, 1, 1, 1, 1, 0, 0, 1, 1, 1, 1, 1, 1, 1, 1, 1, 1, 0, 1, 1, 1, 1,\n",
              "       1, 1, 1, 1, 1, 0, 1, 1, 1, 1, 1, 0, 1, 1, 1, 1, 1, 1, 1, 1, 0, 1,\n",
              "       0, 1, 1, 1, 0, 0, 1, 1, 1, 1, 0, 1, 1, 1, 1, 1, 0, 1, 1, 0, 1, 1,\n",
              "       1, 1, 1, 1, 0, 1, 0, 1, 1, 0, 1, 1, 1, 1, 0, 0, 1, 1, 1, 1, 1, 1,\n",
              "       1, 1, 1, 1, 1, 0, 1, 1, 1, 0, 1, 1, 1, 1, 1, 1, 1, 1, 1, 1, 1, 1,\n",
              "       1, 1, 0, 0, 1, 1, 1, 1, 0, 1, 0, 0, 1, 1, 1, 1, 1, 1, 1, 1, 1, 1,\n",
              "       1, 1, 1, 1, 1, 1, 1, 1, 1, 1, 1, 1, 1, 0, 1, 0, 0, 1, 1, 1, 1, 0,\n",
              "       1, 1, 1, 1, 1, 0, 1, 1, 1, 1, 1, 1, 0, 1, 0, 1, 0, 0, 1, 1, 1, 1,\n",
              "       1, 0, 1, 0, 1, 1, 0, 0, 1, 1, 0, 1, 1, 1, 1, 1, 1, 1, 1, 1, 1, 0,\n",
              "       1, 1, 1, 1, 1, 1, 0, 1, 0, 1, 0, 1, 0, 1, 1, 1, 1, 1, 1, 1, 1, 1,\n",
              "       0, 1, 1, 1, 1, 1, 1, 1, 1, 1, 1, 1, 1, 1, 1, 1, 1, 1, 1, 1, 1, 1,\n",
              "       1, 1, 1, 1, 1, 1, 1, 1, 0, 1, 1, 1, 1, 1, 0, 1, 1, 1, 0, 1, 1, 1,\n",
              "       1, 1, 1, 1, 1, 1, 1, 1, 1, 1, 0, 1, 1, 1, 1, 0, 1, 1, 1, 1, 1, 1,\n",
              "       1, 1, 1, 1, 1, 1, 1, 1, 1, 1, 1, 1, 1, 1, 1, 1, 1, 1, 1, 1, 1, 1,\n",
              "       1, 1, 1, 1, 1, 1, 1, 1, 0, 1, 1, 1, 1, 1, 1, 1, 1, 0, 1, 1, 1, 1,\n",
              "       1, 1, 1, 1, 1, 0, 1, 1, 0, 1, 0, 1, 1, 1, 1, 1, 1, 1, 1, 1, 1, 1,\n",
              "       1, 1, 1, 1, 1, 1, 1, 1, 1, 1, 1, 1, 1, 1, 1, 1, 1, 1, 1, 1, 0, 1,\n",
              "       1, 1, 1, 1, 1, 1, 1, 1, 1, 1, 1, 1, 1, 1, 1, 1, 1, 1, 1, 1, 1, 1,\n",
              "       1, 1, 0, 1, 1, 1, 1, 0, 1, 1, 0, 1, 1, 1, 1, 1, 1, 1, 0, 1, 1, 1,\n",
              "       1, 1, 1, 1, 1, 1, 1, 1, 1, 1, 1, 1, 0, 0, 1, 1, 1, 1, 1, 1, 1, 1,\n",
              "       1, 1, 1, 1, 1, 1, 1, 1, 0, 0, 1, 1, 1, 1, 0, 0, 1, 1, 1, 1, 0, 1,\n",
              "       1, 1, 1, 1, 1, 1, 1, 1, 0, 1, 0, 1, 1, 1, 1, 1, 0, 0, 1, 1, 1, 1,\n",
              "       0, 1, 1, 1, 0, 1, 1, 1, 1, 1, 1, 0, 1, 1, 0, 1, 1, 1, 1, 1, 1, 0,\n",
              "       1, 1, 1, 1, 0, 1, 1, 0, 1, 1, 1, 1, 0, 1, 1, 1, 1, 1, 1, 0, 1, 1,\n",
              "       0, 1, 1, 1, 1, 1, 1, 0, 0, 1, 1, 1, 1, 1, 1, 1, 1, 1, 1, 1, 1, 1,\n",
              "       1, 0, 1, 1, 1, 1, 1, 1, 1, 1, 1, 1, 1, 0, 1, 1, 0, 0, 1, 0, 1, 1,\n",
              "       0, 1, 1, 0, 0, 1, 0, 1, 1, 1, 0, 1, 1, 1, 1, 1, 1, 1, 0, 1, 0, 1,\n",
              "       1, 1, 1, 1])"
            ]
          }
        }
      ],
      "source": [
        "y_test"
      ],
      "id": "416cf8ef"
    },
    {
      "cell_type": "code",
      "execution_count": 9,
      "metadata": {},
      "outputs": [],
      "source": [
        "# 3. Entraînement du modèle et performances\n",
        "clf = svm.SVC(kernel='linear', C=1).fit(X_train, y_train)\n",
        "y_pred = clf.predict(X_test)\n",
        "\n",
        "sc_accuracy = sklearn.metrics.accuracy_score(y_pred, y_test)\n",
        "sc_f1 = sklearn.metrics.f1_score(y_pred, y_test)\n",
        "sc_recall = sklearn.metrics.recall_score(y_pred, y_test)\n",
        "sc_precision = sklearn.metrics.precision_score(y_pred, y_test)"
      ],
      "id": "db0edde2"
    },
    {
      "cell_type": "code",
      "execution_count": 10,
      "metadata": {},
      "outputs": [],
      "source": [
        "stats_perf = pd.DataFrame.from_dict(\n",
        "  {\n",
        "    \"Accuracy\": [sc_accuracy], \"Recall\": [sc_recall],\n",
        "    \"Precision\": [sc_precision], \"F1\": [sc_f1]\n",
        "  }, orient = \"index\", columns = [\"Score\"]\n",
        ")"
      ],
      "id": "3966d8db"
    },
    {
      "cell_type": "markdown",
      "metadata": {},
      "source": [
        "A l’issue de la question 3, notre classifieur manque totalement les labels 0, qui sont minoritaires. Parmi les raisons possibles : l’échelle des variables. Le revenu, notamment, a une distribution qui peut écraser celle des autres variables, dans un modèle linéaire. Il faut donc, a minima, standardiser les variables, ce qui est l’objet de la question 4."
      ],
      "id": "8c361dbc-a27e-4ff2-955c-22cc26756f93"
    },
    {
      "cell_type": "code",
      "execution_count": 11,
      "metadata": {},
      "outputs": [
        {
          "output_type": "display_data",
          "metadata": {},
          "data": {
            "image/png": "[encoded data removed]"
          }
        }
      ],
      "source": [
        "import matplotlib.pyplot as plt\n",
        "\n",
        "# 4. Matrice de confusion\n",
        "predictions = clf.predict(X_test)\n",
        "cm = sklearn.metrics.confusion_matrix(y_test, predictions, labels=clf.classes_)\n",
        "disp = sklearn.metrics.ConfusionMatrixDisplay(\n",
        "            confusion_matrix=cm,\n",
        "            display_labels=clf.classes_\n",
        "       )\n",
        "disp.plot()\n",
        "plt.show()"
      ],
      "id": "bbd7ba60"
    },
    {
      "cell_type": "markdown",
      "metadata": {},
      "source": [
        "Standardiser les variables n’apporte finalement pas de gain :"
      ],
      "id": "9db8d144-136a-46bc-955b-68602239b2c4"
    },
    {
      "cell_type": "code",
      "execution_count": 12,
      "metadata": {},
      "outputs": [
        {
          "output_type": "display_data",
          "metadata": {},
          "data": {
            "image/png": "[encoded data removed]"
          }
        }
      ],
      "source": [
        "import sklearn.preprocessing as preprocessing\n",
        "\n",
        "X = df.loc[:, xvars]\n",
        "y = df[['y']]\n",
        "scaler = preprocessing.StandardScaler().fit(X)\n",
        "X = scaler.transform(X)\n",
        "\n",
        "X_train, X_test, y_train, y_test = train_test_split(\n",
        "    X,\n",
        "    y.values.ravel(), test_size=0.2, random_state=0\n",
        ")\n",
        "\n",
        "clf = svm.SVC(kernel='linear', C=1).fit(X_train, y_train)\n",
        "predictions = clf.predict(X_test)\n",
        "cm = sklearn.metrics.confusion_matrix(y_test, predictions, labels=clf.classes_)\n",
        "disp = sklearn.metrics.ConfusionMatrixDisplay(\n",
        "  confusion_matrix=cm,\n",
        "  display_labels=clf.classes_\n",
        ")\n",
        "disp.plot()\n",
        "plt.show()"
      ],
      "id": "272047bf"
    },
    {
      "cell_type": "markdown",
      "metadata": {},
      "source": [
        "Il faut donc aller plus loin : le problème ne vient pas de l’échelle mais du choix des variables. C’est pour cette raison que l’étape de sélection de variables est cruciale et qu’un chapitre y est consacré.\n",
        "\n",
        "À l’issue de la question 6, le nouveau classifieur devrait avoir les performances suivantes :\n",
        "\n",
        "``` python\n",
        "out = pd.DataFrame.from_dict(\n",
        "  {\n",
        "    \"Accuracy\": [sc_accuracy], \"Recall\": [sc_recall],\n",
        "    \"Precision\": [sc_precision], \"F1\": [sc_f1]\n",
        "  }, orient = \"index\", columns = [\"Score\"]\n",
        ")\n",
        "```"
      ],
      "id": "3cef3bd6-64ad-4a8f-bc66-a2f4ac7cb9c5"
    },
    {
      "cell_type": "code",
      "execution_count": 14,
      "metadata": {},
      "outputs": [
        {
          "output_type": "display_data",
          "metadata": {},
          "data": {
            "image/png": "[encoded data removed]"
          }
        }
      ],
      "source": [
        "# Question 6\n",
        "votes['y'] = (votes['votes_gop'] > votes['votes_dem']).astype(int)\n",
        "df = votes[[\"y\", \"share_2016_republican\", 'Median_Household_Income_2021']]\n",
        "tempdf = df.dropna(how = \"any\")\n",
        "\n",
        "X = votes[['share_2016_republican', 'Median_Household_Income_2021']]\n",
        "y = tempdf[['y']]\n",
        "scaler = preprocessing.StandardScaler().fit(X)\n",
        "X = scaler.transform(X)\n",
        "\n",
        "X_train, X_test, y_train, y_test = train_test_split(\n",
        "    X,\n",
        "    y.values.ravel(), test_size=0.2, random_state=0\n",
        ")\n",
        "\n",
        "clf = svm.SVC(kernel='linear', C=1).fit(X_train, y_train)\n",
        "y_pred = clf.predict(X_test)\n",
        "\n",
        "sc_accuracy = sklearn.metrics.accuracy_score(y_pred, y_test)\n",
        "sc_f1 = sklearn.metrics.f1_score(y_pred, y_test)\n",
        "sc_recall = sklearn.metrics.recall_score(y_pred, y_test)\n",
        "sc_precision = sklearn.metrics.precision_score(y_pred, y_test)\n",
        "\n",
        "predictions = clf.predict(X_test)\n",
        "cm = sklearn.metrics.confusion_matrix(y_test, predictions, labels=clf.classes_)\n",
        "disp = sklearn.metrics.ConfusionMatrixDisplay(\n",
        "            confusion_matrix=cm,\n",
        "            display_labels=clf.classes_\n",
        "       )\n",
        "disp.plot()\n",
        "\n",
        "plt.savefig(\"confusion_matrix3.png\")"
      ],
      "id": "2f312390"
    }
  ],
  "nbformat": 4,
  "nbformat_minor": 5,
  "metadata": {
    "kernelspec": {
      "name": "python3",
      "display_name": "Python 3 (ipykernel)",
      "language": "python",
      "path": "/opt/conda/share/jupyter/kernels/python3"
    },
    "language_info": {
      "name": "python",
      "codemirror_mode": {
        "name": "ipython",
        "version": "3"
      },
      "file_extension": ".py",
      "mimetype": "text/x-python",
      "nbconvert_exporter": "python",
      "pygments_lexer": "ipython3",
      "version": "3.12.6"
    }
  }
}