{
  "cells": [
    {
      "cell_type": "markdown",
      "metadata": {},
      "source": [
        "# Mastering regular expressions\n",
        "\n",
        "Lino Galiana  \n",
        "2025-03-19\n",
        "\n",
        "<div class=\"badge-container\"><div class=\"badge-text\">If you want to try the examples in this tutorial:</div><a href=\"https://github.com/linogaliana/python-datascientist-notebooks/blob/main/notebooks/en/manipulation/04b_regex_TP.ipynb\" target=\"_blank\" rel=\"noopener\"><img src=\"https://img.shields.io/static/v1?logo=github&label=&message=View%20on%20GitHub&color=181717\" alt=\"View on GitHub\"></a>\n",
        "<a href=\"https://datalab.sspcloud.fr/launcher/ide/vscode-python?autoLaunch=true&name=«04b_regex_TP»&init.personalInit=«https%3A%2F%2Fraw.githubusercontent.com%2Flinogaliana%2Fpython-datascientist%2Fmain%2Fsspcloud%2Finit-vscode.sh»&init.personalInitArgs=«en/manipulation%2004b_regex_TP%20correction»\" target=\"_blank\" rel=\"noopener\"><img src=\"https://custom-icon-badges.demolab.com/badge/SSP%20Cloud-Lancer_avec_VSCode-blue?logo=vsc&logoColor=white\" alt=\"Onyxia\"></a>\n",
        "<a href=\"https://datalab.sspcloud.fr/launcher/ide/jupyter-python?autoLaunch=true&name=«04b_regex_TP»&init.personalInit=«https%3A%2F%2Fraw.githubusercontent.com%2Flinogaliana%2Fpython-datascientist%2Fmain%2Fsspcloud%2Finit-jupyter.sh»&init.personalInitArgs=«en/manipulation%2004b_regex_TP%20correction»\" target=\"_blank\" rel=\"noopener\"><img src=\"https://img.shields.io/badge/SSP%20Cloud-Lancer_avec_Jupyter-orange?logo=Jupyter&logoColor=orange\" alt=\"Onyxia\"></a>\n",
        "<a href=\"https://colab.research.google.com/github/linogaliana/python-datascientist-notebooks-colab//en/blob/main//notebooks/en/manipulation/04b_regex_TP.ipynb\" target=\"_blank\" rel=\"noopener\"><img src=\"https://colab.research.google.com/assets/colab-badge.svg\" alt=\"Open In Colab\"></a><br></div>\n",
        "\n",
        "<div class=\"callout callout-style-default callout-note callout-titled\">\n",
        "<div class=\"callout-header d-flex align-content-center\">\n",
        "<div class=\"callout-icon-container\"><i class=\"callout-icon\"></i>\n",
        "</div>\n",
        "<div class=\"callout-title-container flex-fill\">\n",
        "Version 🇫🇷\n",
        "</div>\n",
        "</div>\n",
        "<div class=\"callout-body-container callout-body\">\n",
        "This is the French version 🇫🇷 of that chapter,to see the English version go <a href=\"https://pythonds.linogaliana.fr/content/manipulation/04b_regex_TP.html\">there</a>\n",
        "</div>\n",
        "</div>\n",
        "\n",
        "# 1. Introduction\n",
        "\n",
        "`Python` offers a lot of very useful functionalities for handling textual data. This is one of the reasons for its success in the natural language processing (NLP) community (see the dedicated section).\n",
        "\n",
        "In previous chapters, we sometimes needed to search for basic textual elements. This was possible with the `str.find` method from the `Pandas` package, which is a vectorized version of the basic `find` method. We could also use the basic method directly, especially when performing *web scraping*.\n",
        "\n",
        "However, this search function quickly reaches its limits. For instance, if we want to find both the singular and plural occurrences of a term, we will need to use the `find` method at least twice. For conjugated verbs, it becomes even more complex, especially if their form changes according to the subject.\n",
        "\n",
        "For complicated expressions, it is advisable to use **regular expressions** or *“regex”*. This is a feature found in many programming languages. It is a form of grammar that allows for searching for patterns.\n",
        "\n",
        "Part of the content in this section is an adaptation of the\n",
        "[collaborative documentation on `R` called `utilitR`](https://www.book.utilitr.org/03_fiches_thematiques/fiche_donnees_textuelles#regex) to which I contributed. This chapter also draws from the book [*R for Data Science*](https://r4ds.hadley.nz/regexps.html) which presents a very pedagogical chapter on regex.\n",
        "\n",
        "We will use the *package* `re` to illustrate our examples of regular expressions. This is the reference package used by `Pandas` in the background to vectorize text searches."
      ],
      "id": "ce14abcc-e64d-4ff2-bb59-57d941d7813f"
    },
    {
      "cell_type": "code",
      "execution_count": 1,
      "metadata": {},
      "outputs": [],
      "source": [
        "import re\n",
        "import pandas as pd"
      ],
      "id": "2c431d40"
    },
    {
      "cell_type": "markdown",
      "metadata": {},
      "source": [
        "<div class=\"alert alert-success\" role=\"alert\">\n",
        "<h3 class=\"alert-heading\"><i class=\"fa-solid fa-lightbulb\"></i> Tip</h3>\n",
        "\n",
        "**Regular expressions (*regex*) are notoriously difficult to master.** There are tools that make working with regular expressions easier.\n",
        "\n",
        "-   The reference tool for this is \\[https://regex101.com/\\] which allows you to test `regex` in `Python` with an explanation accompanying the test.\n",
        "\n",
        "-   Similarly, [this site](https://ole.michelsen.dk/tools/regex/) has a cheat sheet at the bottom of the page.\n",
        "\n",
        "-   The [Regex Crossword](https://regexcrossword.com/) games allow you to learn regular expressions while having fun.\n",
        "\n",
        "It can be useful to ask assistant AIs, such as `Github Copilot` or `ChatGPT`, for a first version of a regex by explaining the content you want to extract. This can save a lot of time, except when the AI is overconfident and offers you a completely wrong regex…\n",
        "\n",
        "</div>\n",
        "\n",
        "# 2. Principle\n",
        "\n",
        "**Regular expressions are a tool used to describe a set of possible strings according to a precise syntax, and thus define a `pattern`.** Regular expressions are used, for example, when you want to extract a part of a string or replace a part of a string. A regular expression takes the form of a string, which can contain both literal elements and special characters with logical meaning.\n",
        "\n",
        "For example, `\"ch.+n\"` is a regular expression that describes the following pattern: the literal string `ch`, followed by any string of at least one character (`.+`), followed by the letter `n`. In the string `\"J'ai un chien.\"`, the substring `\"chien\"` matches this pattern. The same goes for `\"chapeau ron\"` in `\"J'ai un chapeau rond\"`. In contrast, in the string `\"La soupe est chaude.\"`, no substring matches this pattern (because no `n` appears after the `ch`).\n",
        "\n",
        "To convince ourselves, we can look at the first two cases:"
      ],
      "id": "d22e6921-7695-4f16-aa7f-a5b866720208"
    },
    {
      "cell_type": "code",
      "execution_count": 2,
      "metadata": {},
      "outputs": [
        {
          "output_type": "stream",
          "name": "stdout",
          "text": [
            "None"
          ]
        }
      ],
      "source": [
        "pattern = \"ch.+n\"\n",
        "print(re.search(pattern, \"La soupe est chaude.\"))"
      ],
      "id": "b922a8c3"
    },
    {
      "cell_type": "markdown",
      "metadata": {},
      "source": [
        "In the previous example, we had two adjacent quantifiers `.+`. The first (`.`) means any character[1]. The second (`+`) means *“repeat the previous pattern”*. In our case, the combination `.+` allows us to repeat any character before finding an *n*. The number of times is indeterminate: it may not be necessary to intersperse characters before the *n* or it may be necessary to capture several:\n",
        "\n",
        "[1] Any character except for the newline (`\\n`). Keep this in mind; I have already spent hours trying to understand why my `.` did not capture what I wanted spanning multiple lines…"
      ],
      "id": "91c2842d-e222-4176-af49-00f9cc6ae34d"
    },
    {
      "cell_type": "code",
      "execution_count": 3,
      "metadata": {},
      "outputs": [
        {
          "output_type": "stream",
          "name": "stdout",
          "text": [
            "<re.Match object; span=(8, 12), match='chin'>\n",
            "<re.Match object; span=(8, 25), match='chiot très mignon'>"
          ]
        }
      ],
      "source": [
        "print(re.search(pattern, \"J'ai un chino\"))\n",
        "print(re.search(pattern, \"J'ai un chiot très mignon.\"))"
      ],
      "id": "c4086090"
    },
    {
      "cell_type": "markdown",
      "metadata": {},
      "source": [
        "## 2.1 Character classes\n",
        "\n",
        "When searching, we are interested in characters and often in character classes: we look for a digit, a letter, a character in a specific set, or a character that does not belong to a specific set. Some sets are predefined, others must be defined using brackets.\n",
        "\n",
        "To define a character set, you need to write this set within brackets. For example, `[0123456789]` denotes a digit. Since it is a sequence of consecutive characters, we can summarize this notation as `[0-9]`.\n",
        "\n",
        "For example, if we want to find all patterns that start with a `c` followed by an `h` and then a vowel (a, e, i, o, u), we can try this regular expression:"
      ],
      "id": "8f762242-5392-4034-9e1a-583dc5c20f0c"
    },
    {
      "cell_type": "code",
      "execution_count": 4,
      "metadata": {},
      "outputs": [
        {
          "output_type": "display_data",
          "metadata": {},
          "data": {
            "text/plain": [
              "['cha', 'chi', 'che']"
            ]
          }
        }
      ],
      "source": [
        "re.findall(\"[c][h][aeiou]\", \"chat, chien, veau, vache, chèvre\")"
      ],
      "id": "cb535b09"
    },
    {
      "cell_type": "markdown",
      "metadata": {},
      "source": [
        "It would be more practical to use `Pandas` in this case to isolate the lines that meet the logical condition (by adding the accents that are otherwise not included):"
      ],
      "id": "23a7a067-5a3f-4d4c-a357-4baa34d20d99"
    },
    {
      "cell_type": "code",
      "execution_count": 5,
      "metadata": {},
      "outputs": [
        {
          "output_type": "display_data",
          "metadata": {},
          "data": {
            "text/plain": [
              "0     True\n",
              "1     True\n",
              "2    False\n",
              "3    False\n",
              "4     True\n",
              "dtype: bool"
            ]
          }
        }
      ],
      "source": [
        "import pandas as pd\n",
        "txt = pd.Series(\"chat, chien, veau, vache, chèvre\".split(\", \"))\n",
        "txt.str.match(\"ch[aeéèiou]\")"
      ],
      "id": "fec15dc0"
    },
    {
      "cell_type": "markdown",
      "metadata": {},
      "source": [
        "However, the usage of character classes as shown above is not the most common. They are preferred for identifying complex patterns rather than a sequence of literal characters. Memory aid tables illustrate some of the most common character classes (`[:digit:]` or `\\d`…)\n",
        "\n",
        "## 2.2 Quantifiers\n",
        "\n",
        "We encountered quantifiers with our first regular expression. They control the number of times a pattern is matched.\n",
        "\n",
        "The most common are:\n",
        "\n",
        "-   `?` : 0 or 1 match;\n",
        "-   `+` : 1 or more matches;\n",
        "-   `*` : 0 or more matches.\n",
        "\n",
        "For example, `colou?r` will match both the American and British spellings:"
      ],
      "id": "8e9861b6-aa5a-495c-81e5-36627ed128e9"
    },
    {
      "cell_type": "code",
      "execution_count": 6,
      "metadata": {},
      "outputs": [
        {
          "output_type": "display_data",
          "metadata": {},
          "data": {
            "text/plain": [
              "['color', 'colour']"
            ]
          }
        }
      ],
      "source": [
        "re.findall(\"colou?r\", \"Did you write color or colour?\")"
      ],
      "id": "e18ecfb9"
    },
    {
      "cell_type": "markdown",
      "metadata": {},
      "source": [
        "These quantifiers can of course be combined with other types of characters, especially character classes. This can be extremely useful. For example, `\\d+` will capture one or more digits, `\\s?` will optionally add a space, `[\\w]{6,8}` will match a word between six and eight letters.\n",
        "\n",
        "It is also possible to define the number of repetitions with `{}`:\n",
        "\n",
        "-   `{n}` matches exactly *n* times;\n",
        "-   `{n,}` matches at least *n* times;\n",
        "-   `{n,m}` matches between *n* and *m* times.\n",
        "\n",
        "However, the repetition of terms by default only applies to the last character preceding the quantifier. We can confirm this with the example above:"
      ],
      "id": "a324f70a-b9ed-4cab-b317-626656529a50"
    },
    {
      "cell_type": "code",
      "execution_count": 7,
      "metadata": {},
      "outputs": [
        {
          "output_type": "stream",
          "name": "stdout",
          "text": [
            "None"
          ]
        }
      ],
      "source": [
        "print(re.match(\"toc{4}\",\"toctoctoctoc\"))"
      ],
      "id": "4d207bd5"
    },
    {
      "cell_type": "markdown",
      "metadata": {},
      "source": [
        "To address this issue, parentheses are used. The principle is the same as with numeric rules: parentheses allow for introducing hierarchy. To revisit the previous example, we get the expected result thanks to the parentheses:"
      ],
      "id": "b1a4123c-b0cf-4db9-b33d-58267163350d"
    },
    {
      "cell_type": "code",
      "execution_count": 8,
      "metadata": {},
      "outputs": [
        {
          "output_type": "stream",
          "name": "stdout",
          "text": [
            "<re.Match object; span=(0, 12), match='toctoctoctoc'>\n",
            "None\n",
            "<re.Match object; span=(0, 12), match='toctoctoctoc'>"
          ]
        }
      ],
      "source": [
        "print(re.match(\"(toc){4}\",\"toctoctoctoc\"))\n",
        "print(re.match(\"(toc){5}\",\"toctoctoctoc\"))\n",
        "print(re.match(\"(toc){2,4}\",\"toctoctoctoc\"))"
      ],
      "id": "35cd2639"
    },
    {
      "cell_type": "markdown",
      "metadata": {},
      "source": [
        "<div class=\"alert alert-info\" role=\"alert\">\n",
        "<h3 class=\"alert-heading\"><i class=\"fa-solid fa-comment\"></i> Note</h3>\n",
        "\n",
        "The regular expression algorithm always tries to match the largest piece to the regular expression.\n",
        "\n",
        "For example, consider an HTML string:\n",
        "\n",
        "``` python\n",
        "s = \"<h1>Super titre HTML</h1>\"\n",
        "```\n",
        "\n",
        "The regular expression `re.findall(\"<.*>\", s)` potentially matches three pieces:\n",
        "\n",
        "-   `<h1>`\n",
        "-   `</h1>`\n",
        "-   `<h1>Super titre HTML</h1>`\n",
        "\n",
        "It is the last one that will be chosen, as it is the largest. To select the smallest, you need to write the quantifiers like this: `*?`, `+?`. Here are a few examples:\n",
        "\n",
        "``` python\n",
        "s = \"<h1>Super titre HTML</h1>\\n<p><code>Python</code> est un langage très flexible</p>\"\n",
        "print(re.findall(\"<.*>\", s))\n",
        "print(re.findall(\"<p>.*</p>\", s))\n",
        "print(re.findall(\"<p>.*?</p>\", s))\n",
        "print(re.compile(\"<.*?>\").findall(s))\n",
        "```\n",
        "\n",
        "    ['<h1>Super titre HTML</h1>', '<p><code>Python</code> est un langage très flexible</p>']\n",
        "    ['<p><code>Python</code> est un langage très flexible</p>']\n",
        "    ['<p><code>Python</code> est un langage très flexible</p>']\n",
        "    ['<h1>', '</h1>', '<p>', '<code>', '</code>', '</p>']\n",
        "\n",
        "</div>\n",
        "\n",
        "## 2.3 Cheat sheet\n",
        "\n",
        "The table below serves as a cheat sheet for regex:\n",
        "\n",
        "| Regular expression | Meaning |\n",
        "|--------------------------|----------------------------------------------|\n",
        "| `\"^\"` | Start of the string |\n",
        "| `\"$\"` | End of the string |\n",
        "| `\"\\\\.\"` | A dot |\n",
        "| `\".\"` | Any character |\n",
        "| `\".+\"` | Any non-empty sequence of characters |\n",
        "| `\".*\"` | Any sequence of characters, possibly empty |\n",
        "| `\"[:alnum:]\"` | An alphanumeric character |\n",
        "| `\"[:alpha:]\"` | A letter |\n",
        "| `\"[:digit:]\"` | A digit |\n",
        "| `\"[:lower:]\"` | A lowercase letter |\n",
        "| `\"[:punct:]\"` | A punctuation mark |\n",
        "| `\"[:space:]\"` | A space |\n",
        "| `\"[:upper:]\"` | An uppercase letter |\n",
        "| `\"[[:alnum:]]+\"` | A sequence of at least one alphanumeric character |\n",
        "| `\"[[:alpha:]]+\"` | A sequence of at least one letter |\n",
        "| `\"[[:digit:]]+\"` | A sequence of at least one digit |\n",
        "| `\"[[:lower:]]+\"` | A sequence of at least one lowercase letter |\n",
        "| `\"[[:punct:]]+\"` | A sequence of at least one punctuation mark |\n",
        "| `\"[[:space:]]+\"` | A sequence of at least one space |\n",
        "| `\"[[:upper:]]+\"` | A sequence of at least one uppercase letter |\n",
        "| `\"[[:alnum:]]*\"` | A sequence of alphanumeric characters, possibly empty |\n",
        "| `\"[[:alpha:]]*\"` | A sequence of letters, possibly empty |\n",
        "| `\"[[:digit:]]*\"` | A sequence of digits, possibly empty |\n",
        "| `\"[[:lower:]]*\"` | A sequence of lowercase letters, possibly empty |\n",
        "| `\"[[:upper:]]*\"` | A sequence of uppercase letters, possibly empty |\n",
        "| `\"[[:punct:]]*\"` | A sequence of punctuation marks, possibly empty |\n",
        "| `\"[^[:alpha:]]+\"` | A sequence of at least one character that is not a letter |\n",
        "| `\"[^[:digit:]]+\"` | A sequence of at least one character that is not a digit |\n",
        "| `\"\\|\"` | Either the expression `x` or `y` is present |\n",
        "| `[abyz]` | One of the specified characters |\n",
        "| `[abyz]+` | One or more of the specified characters (possibly repeated) |\n",
        "| `[^abyz]` | None of the specified characters are present |\n",
        "\n",
        "Some character classes have lighter syntax because they are very common. Among them:\n",
        "\n",
        "| Regular expression | Meaning                                      |\n",
        "|--------------------|----------------------------------------------|\n",
        "| `\\d`               | Any digit                                    |\n",
        "| `\\D`               | Any character that is not a digit            |\n",
        "| `\\s`               | Any space (space, tab, newline)              |\n",
        "| `\\S`               | Any character that is not a space            |\n",
        "| `\\w`               | Any word character (letters and numbers)     |\n",
        "| `\\W`               | Any non-word character (letters and numbers) |\n",
        "\n",
        "In the following exercise, you will be able to practice the previous examples on a slightly more complete `regex`. This exercise does not require knowledge of the nuances of the `re` package; you will only need `re.findall`.\n",
        "\n",
        "This exercise will use the following string:"
      ],
      "id": "28bb59b3-734e-4f4c-bcd7-80f879ab2102"
    },
    {
      "cell_type": "code",
      "execution_count": 11,
      "metadata": {},
      "outputs": [
        {
          "output_type": "display_data",
          "metadata": {},
          "data": {
            "text/plain": [
              "'date 0 : 14/9/2000\\ndate 1 : 20/04/1971     date 2 : 14/09/1913     date 3 : 2/3/1978\\ndate 4 : 1/7/1986     date 5 : 7/3/47     date 6 : 15/10/1914\\ndate 7 : 08/03/1941     date 8 : 8/1/1980     date 9 : 30/6/1976'"
            ]
          }
        }
      ],
      "source": [
        "s = \"\"\"date 0 : 14/9/2000\n",
        "date 1 : 20/04/1971     date 2 : 14/09/1913     date 3 : 2/3/1978\n",
        "date 4 : 1/7/1986     date 5 : 7/3/47     date 6 : 15/10/1914\n",
        "date 7 : 08/03/1941     date 8 : 8/1/1980     date 9 : 30/6/1976\"\"\"\n",
        "s"
      ],
      "id": "cf85109a"
    },
    {
      "cell_type": "markdown",
      "metadata": {},
      "source": [
        "<div class=\"alert alert-success\" role=\"alert\">\n",
        "<h3 class=\"alert-heading\"><i class=\"fa-solid fa-pencil\"></i> Exercise 1</h3>\n",
        "\n",
        "1.  First, extract the day of birth.\n",
        "    -   The first digit of the day is 0, 1, 2, or 3. Translate this into a `[X-X]` sequence.\n",
        "    -   The second digit of the day is between 0 and 9. Translate this into the appropriate sequence.\n",
        "    -   Note that the first digit of the day is optional. Insert the appropriate quantifier between the two character classes.\n",
        "    -   Add the slash after the pattern.\n",
        "    -   Test with `re.findall`. You should get many more matches than needed. This is normal; at this stage, the regex is not yet finalized.\n",
        "2.  Follow the same logic for the months, noting that Gregorian calendar months never exceed the first dozen. Test with `re.findall`.\n",
        "3.  Do the same for the birth years, noting that, unless proven otherwise, for people alive today, the relevant millennia are limited. Test with `re.findall`.\n",
        "4.  This regex is not natural; one could be satisfied with generic character classes `\\d`, even though they might practically select impossible birth dates (e.g., `43/78/4528`). This would simplify the regex, making it more readable. Don’t forget the usefulness of quantifiers.\n",
        "5.  How can the regex be adapted to always be valid for our cases but also capture dates of the type `YYYY/MM/DD`? Test with `1998/07/12`.\n",
        "\n",
        "</div>\n",
        "\n",
        "At the end of question 1, you should have this result:"
      ],
      "id": "6da8c8df-2b19-4803-886d-d6c5343731d6"
    },
    {
      "cell_type": "code",
      "execution_count": 21,
      "metadata": {},
      "outputs": [
        {
          "output_type": "display_data",
          "metadata": {},
          "data": {
            "text/plain": [
              "['14/',\n",
              " '9/',\n",
              " '20/',\n",
              " '04/',\n",
              " '14/',\n",
              " '09/',\n",
              " '2/',\n",
              " '3/',\n",
              " '1/',\n",
              " '7/',\n",
              " '7/',\n",
              " '3/',\n",
              " '15/',\n",
              " '10/',\n",
              " '08/',\n",
              " '03/',\n",
              " '8/',\n",
              " '1/',\n",
              " '30/',\n",
              " '6/']"
            ]
          }
        }
      ],
      "source": [],
      "id": "adf8193a"
    },
    {
      "cell_type": "markdown",
      "metadata": {},
      "source": [
        "At the end of question 2, you should have this result, which is starting to take shape:"
      ],
      "id": "5ddf640b-05c4-46c2-9a9b-94c807515034"
    },
    {
      "cell_type": "code",
      "execution_count": 22,
      "metadata": {},
      "outputs": [
        {
          "output_type": "display_data",
          "metadata": {},
          "data": {
            "text/plain": [
              "['14/9',\n",
              " '20/04',\n",
              " '14/09',\n",
              " '2/3',\n",
              " '1/7',\n",
              " '7/3',\n",
              " '15/10',\n",
              " '08/03',\n",
              " '8/1',\n",
              " '30/6']"
            ]
          }
        }
      ],
      "source": [],
      "id": "719b3430"
    },
    {
      "cell_type": "markdown",
      "metadata": {},
      "source": [
        "At the end of question 3, you should be able to extract the dates:"
      ],
      "id": "f1d697ce-cc33-453f-ad40-4afd448e2b0a"
    },
    {
      "cell_type": "code",
      "execution_count": 23,
      "metadata": {},
      "outputs": [
        {
          "output_type": "display_data",
          "metadata": {},
          "data": {
            "text/plain": [
              "['14/9/2000',\n",
              " '20/04/1971',\n",
              " '14/09/1913',\n",
              " '2/3/1978',\n",
              " '1/7/1986',\n",
              " '7/3/47',\n",
              " '15/10/1914',\n",
              " '08/03/1941',\n",
              " '8/1/1980',\n",
              " '30/6/1976']"
            ]
          }
        }
      ],
      "source": [],
      "id": "7f22d01c"
    },
    {
      "cell_type": "markdown",
      "metadata": {},
      "source": [
        "If all goes well, by question 5, your regex should work:"
      ],
      "id": "aca46169-b48b-42dd-933b-cb01670e6ee3"
    },
    {
      "cell_type": "code",
      "execution_count": 24,
      "metadata": {},
      "outputs": [
        {
          "output_type": "display_data",
          "metadata": {},
          "data": {
            "text/plain": [
              "['14/9/2000',\n",
              " '20/04/1971',\n",
              " '14/09/1913',\n",
              " '2/3/1978',\n",
              " '1/7/1986',\n",
              " '7/3/47',\n",
              " '15/10/1914',\n",
              " '08/03/1941',\n",
              " '8/1/1980',\n",
              " '30/6/1976',\n",
              " '1998/07/12']"
            ]
          }
        }
      ],
      "source": [],
      "id": "822e643c"
    },
    {
      "cell_type": "markdown",
      "metadata": {},
      "source": [
        "# 3. Main `re` functions\n",
        "\n",
        "Here is a summary table of the main functions of the `re` package with examples.\n",
        "\n",
        "We have mainly used `re.findall` so far, which is one of the most practical functions in the package. `re.sub` and `re.search` are also quite useful. The others are less critical but can be helpful in specific cases.\n",
        "\n",
        "| Function | Purpose |\n",
        "|-------------------------------------|-----------------------------------|\n",
        "| `re.match(<regex>, s)` | Find and return the **first** match of the regular expression `<regex>` **from the beginning** of the string `s` |\n",
        "| `re.search(<regex>, s)` | Find and return the **first** match of the regular expression `<regex>` **regardless of its position** in the string `s` |\n",
        "| `re.finditer(<regex>, s)` | Find and return an iterator storing all matches of the regular expression `<regex>` **regardless of their position(s)** in the string `s`. Typically, a loop is performed over this iterator |\n",
        "| `re.findall(<regex>, s)` | Find and return **all matches** of the regular expression `<regex>` **regardless of their position(s)** in the string `s` as a **list** |\n",
        "| `re.sub(<regex>, new_text, s)` | Find and **replace all** matches of the regular expression `<regex>` **regardless of their position(s)** in the string `s` |\n",
        "\n",
        "To illustrate these functions, here are some examples:"
      ],
      "id": "8d0bdc25-6b86-49e2-9884-df2118a1c886"
    },
    {
      "cell_type": "markdown",
      "metadata": {},
      "source": [
        "<details><summary>Example of <code>re.match</code> 👇</summary>\n",
        "\n",
        "`re.match` can only capture a pattern at the start of a string. Its utility is thus limited. Let’s capture `toto`:\n",
        "\n",
        "``` python\n",
        "re.match(\"(to){2}\", \"toto at the beach\")\n",
        "```\n",
        "\n",
        "    <re.Match object; span=(0, 4), match='toto'>\n",
        "\n",
        "</details>"
      ],
      "id": "cc1d323d-fcd8-4bf1-9568-cca754912f66"
    },
    {
      "cell_type": "markdown",
      "metadata": {},
      "source": [
        "<details><summary>Example of <code>re.search</code> 👇</summary>\n",
        "\n",
        "`re.search` is more powerful than `re.match`, allowing capture of terms regardless of their position in a string. For example, to capture *age*:\n",
        "\n",
        "``` python\n",
        "re.search(\"age\", \"toto is of age to go to the beach\")\n",
        "```\n",
        "\n",
        "    <re.Match object; span=(11, 14), match='age'>\n",
        "\n",
        "And to capture exclusively *“age”* at the end of the string:\n",
        "\n",
        "``` python\n",
        "re.search(\"age$\", \"toto is of age to go to the beach\")\n",
        "```\n",
        "\n",
        "</details>"
      ],
      "id": "8ae36887-7f2c-45c3-a155-f43e5e7f9dbf"
    },
    {
      "cell_type": "markdown",
      "metadata": {},
      "source": [
        "<details><summary>Example of <code>re.finditer</code> 👇</summary>\n",
        "\n",
        "`re.finditer` is, in my opinion, less practical than `re.findall`. Its main use compared to `re.findall` is capturing the position within a text field:\n",
        "\n",
        "``` python\n",
        "s = \"toto is of age to go to the beach\"\n",
        "for match in re.finditer(\"age\", s):\n",
        "    start = match.start()\n",
        "    end = match.end()\n",
        "    print(f'String match \"{s[start:end]}\" at {start}:{end}')\n",
        "```\n",
        "\n",
        "    String match \"age\" at 11:14\n",
        "\n",
        "</details>"
      ],
      "id": "92f4302a-2dac-4be9-984b-8b93095d1e9e"
    },
    {
      "cell_type": "markdown",
      "metadata": {},
      "source": [
        "<details><summary>Example of <code>re.sub</code> 👇</summary>\n",
        "\n",
        "`re.sub` allows capturing and replacing expressions. For example, let’s replace *“age”* with *“âge”*. But be careful, you don’t want to do this when the pattern is present in *“beach”*. So, we’ll add a negative condition: capture *“age”* only if it is not at the end of the string (which translates to regex as `?!$`).\n",
        "\n",
        "``` python\n",
        "re.sub(\"age(?!$)\", \"âge\", \"toto a l'age d'aller à la plage\")\n",
        "```\n",
        "\n",
        "    \"toto a l'âge d'aller à la plage\"\n",
        "\n",
        "</details>"
      ],
      "id": "e49c644f-2549-46a6-9789-853f92ffab57"
    },
    {
      "cell_type": "markdown",
      "metadata": {},
      "source": [
        "<div class=\"alert alert-success\" role=\"alert\">\n",
        "<h3 class=\"alert-heading\"><i class=\"fa-solid fa-lightbulb\"></i> When to use re.compile and raw strings?</h3>\n",
        "\n",
        "`re.compile` can be useful when you use a regular expression multiple times in your code. It allows you to compile the regular expression into an object recognized by `re`, which can be more efficient in terms of performance when the regular expression is used repeatedly or on large data sets.\n",
        "\n",
        "Raw strings (`raw string`) are special strings in `Python` that start with `r`. For example, `r\"toto at the beach\"`. They can be useful to prevent escape characters from being interpreted by `Python`. For instance, if you want to search for a string containing a backslash `\\` in a string, you need to use a raw string to prevent the backslash from being interpreted as an escape character (`\\t`, `\\n`, etc.). The tester <https://regex101.com/> also assumes you are using raw strings, so it can be useful to get used to them.\n",
        "\n",
        "</div>\n",
        "\n",
        "# 4. Generalization with `Pandas`\n",
        "\n",
        "`Pandas` methods are extensions of those in `re` that avoid looping to check each line with a regex. In practice, when working with `DataFrames`, the `pandas` API is preferred over `re`. Code of the form `df.apply(lambda x: re.<function>(<regex>,x), axis = 1)` should be avoided as it is very inefficient.\n",
        "\n",
        "The names sometimes change slightly compared to their `re` equivalents.\n",
        "\n",
        "| Method | Description |\n",
        "|-----------------------------------------|-------------------------------|\n",
        "| `str.count()` | Count the number of occurrences of the pattern in each line |\n",
        "| `str.replace()` | Replace the pattern with another value. Vectorized version of `re.sub()` |\n",
        "| `str.contains()` | Test if the pattern appears, line by line. Vectorized version of `re.search()` |\n",
        "| `str.extract()` | Extract groups that match a pattern and return them in a column |\n",
        "| `str.findall()` | Find and return all occurrences of a pattern. If a line contains multiple matches, a list is returned. Vectorized version of `re.findall()` |\n",
        "\n",
        "Additionally, there are `str.split()` and `str.rsplit()` methods which are quite useful."
      ],
      "id": "a415b0f6-a490-48f3-92c1-e195b6a23ab7"
    },
    {
      "cell_type": "markdown",
      "metadata": {},
      "source": [
        "<details><summary>Example of <code>str.count</code> 👇</summary>\n",
        "\n",
        "You can count the number of times a pattern appears with `str.count`:\n",
        "\n",
        "``` python\n",
        "df = pd.DataFrame({\"a\": [\"toto\", \"titi\"]})\n",
        "df['a'].str.count(\"to\")\n",
        "```\n",
        "\n",
        "    0    2\n",
        "    1    0\n",
        "    Name: a, dtype: int64\n",
        "\n",
        "</details>"
      ],
      "id": "b3732b82-5099-465f-b2b5-c2771c11b753"
    },
    {
      "cell_type": "markdown",
      "metadata": {},
      "source": [
        "<details><summary>Example of <code>str.replace</code> 👇</summary>\n",
        "\n",
        "Replace the pattern *“ti”* at the end of the string:\n",
        "\n",
        "``` python\n",
        "df = pd.DataFrame({\"a\": [\"toto\", \"titi\"]})\n",
        "df['a'].str.replace(\"ti$\", \" punch\")\n",
        "```\n",
        "\n",
        "    0    toto\n",
        "    1    titi\n",
        "    Name: a, dtype: object\n",
        "\n",
        "</details>"
      ],
      "id": "c4342f63-6d2b-419d-bb48-317d1528a554"
    },
    {
      "cell_type": "markdown",
      "metadata": {},
      "source": [
        "<details><summary>Example of <code>str.contains</code> 👇</summary>\n",
        "\n",
        "Check the cases where our line ends with *“ti”*:\n",
        "\n",
        "``` python\n",
        "df = pd.DataFrame({\"a\": [\"toto\", \"titi\"]})\n",
        "df['a'].str.contains(\"ti$\")\n",
        "```\n",
        "\n",
        "    0    False\n",
        "    1     True\n",
        "    Name: a, dtype: bool\n",
        "\n",
        "</details>"
      ],
      "id": "c2406826-a3f4-4110-aa3a-ec1819817862"
    },
    {
      "cell_type": "markdown",
      "metadata": {},
      "source": [
        "<details><summary>Example of <code>str.findall</code> 👇</summary>\n",
        "\n",
        "``` python\n",
        "df = pd.DataFrame({\"a\": [\"toto\", \"titi\"]})\n",
        "df['a'].str.findall(\"to\")\n",
        "```\n",
        "\n",
        "    0    [to, to]\n",
        "    1          []\n",
        "    Name: a, dtype: object\n",
        "\n",
        "</details>"
      ],
      "id": "281dd84c-55ad-4601-8880-df44f79a5d8d"
    },
    {
      "cell_type": "markdown",
      "metadata": {},
      "source": [
        "<div class=\"alert alert-danger\" role=\"alert\">\n",
        "<h3 class=\"alert-heading\"><i class=\"fa-solid fa-triangle-exclamation\"></i> Warning</h3>\n",
        "\n",
        "Currently, it is not necessary to add the `regex = True` argument, but this should be the case in a future version of `pandas`. It might be worth getting into the habit of adding it.\n",
        "\n",
        "</div>\n",
        "\n",
        "# 5. For more information\n",
        "\n",
        "-   [Collaborative documentation on `R` named `utilitR`](https://www.book.utilitr.org/03_fiches_thematiques/fiche_donnees_textuelles#regex)\n",
        "-   [*R for Data Science*](https://r4ds.hadley.nz/regexps.html)\n",
        "-   [*Regular Expression HOWTO* in the official `Python` documentation](https://docs.python.org/3/howto/regex.html)\n",
        "-   The reference tool \\[https://regex101.com/\\] for testing regular expressions\n",
        "-   [This site](https://ole.michelsen.dk/tools/regex/) which has a cheat sheet at the bottom of the page.\n",
        "-   The games on [Regex Crossword](https://regexcrossword.com/) allow you to learn regular expressions while having fun\n",
        "\n",
        "# 6. Additional exercises\n",
        "\n",
        "## 6.1 Extracting email addresses\n",
        "\n",
        "This is a classic use of *regex*"
      ],
      "id": "b2441370-47f1-401b-bf30-4fd62f8bd1b1"
    },
    {
      "cell_type": "code",
      "execution_count": 43,
      "metadata": {},
      "outputs": [],
      "source": [
        "text_emails = 'Hello from toto@gmail.com to titi.grominet@yahoo.com about the meeting @2PM'"
      ],
      "id": "f7cd2673"
    },
    {
      "cell_type": "markdown",
      "metadata": {},
      "source": [
        "<div class=\"alert alert-success\" role=\"alert\">\n",
        "<h3 class=\"alert-heading\"><i class=\"fa-solid fa-pencil\"></i> Exercise 2: Extracting email addresses</h3>\n",
        "\n",
        "Use the structure of an email address `[XXXX]@[XXXX]` to retrieve this content.\n",
        "\n",
        "</div>"
      ],
      "id": "59ce681d-6909-4368-bb6d-eab05d9cb1b3"
    },
    {
      "cell_type": "code",
      "execution_count": 45,
      "metadata": {},
      "outputs": [
        {
          "output_type": "display_data",
          "metadata": {},
          "data": {
            "text/plain": [
              "['toto@gmail.com', 'titi.grominet@yahoo.com']"
            ]
          }
        }
      ],
      "source": [],
      "id": "bc77b357"
    },
    {
      "cell_type": "markdown",
      "metadata": {},
      "source": [
        "## 6.2 Extracting years from a `pandas` `DataFrame`\n",
        "\n",
        "The general objective of the exercise is to clean columns in a DataFrame using regular expressions.\n",
        "\n",
        "<div class=\"alert alert-success\" role=\"alert\">\n",
        "<h3 class=\"alert-heading\"><i class=\"fa-solid fa-pencil\"></i> Exercise 3</h3>\n",
        "\n",
        "The dataset in question contains books from the British Library and some related information. The dataset is available here: https://raw.githubusercontent.com/realpython/python-data-cleaning/master/Datasets/BL-Flickr-Images-Book.csv\n",
        "\n",
        "The “Date of Publication” column is not always a year; sometimes there are other details. The goal of the exercise is to have **a clean book publication date** and to examine the **distribution of publication years**.\n",
        "\n",
        "To do this, you can:\n",
        "\n",
        "-   Either choose to perform the exercise without help. Your **reading of the instructions ends here**. You should carefully examine the dataset and transform it yourself.\n",
        "\n",
        "-   Or follow the step-by-step instructions below.\n",
        "\n",
        "<details>\n",
        "\n",
        "<summary>\n",
        "\n",
        "Guided version 👇\n",
        "\n",
        "</summary>\n",
        "\n",
        "1.  Read the data from the URL `https://raw.githubusercontent.com/realpython/python-data-cleaning/master/Datasets/BL-Flickr-Images-Book.csv`. Be careful with the separator.\n",
        "2.  Keep only the columns `['Identifier', 'Place of Publication', 'Date of Publication', 'Publisher', 'Title', 'Author']`.\n",
        "3.  Observe the *‘Date of Publication’* column and note the issues with some rows (e.g., row 13).\n",
        "4.  Start by looking at the number of missing values. We cannot do better after regex, and normally we should not have fewer…\n",
        "5.  Determine the regex pattern for a publication date. Presumably, there are 4 digits forming a year. Use the `str.extract()` method with the `expand = False` argument (to keep only the first date matching our pattern)?\n",
        "6.  We have 2 `NaN` values that were not present at the start of the exercise. What are they and why?\n",
        "7.  What is the distribution of publication dates in the dataset? You can, for example, display a histogram using the `plot` method with the `kind = \"hist\"` argument.\n",
        "\n",
        "</details>\n",
        "\n",
        "</div>\n",
        "\n",
        "Here is an example of the problem to detect in question 3:"
      ],
      "id": "443da675-7ec8-43aa-bab7-0dbc00251eb5"
    },
    {
      "cell_type": "code",
      "execution_count": 48,
      "metadata": {},
      "outputs": [
        {
          "output_type": "display_data",
          "metadata": {},
          "data": {
            "text/html": [
              "\n",
              "</div>"
            ]
          }
        }
      ],
      "source": [],
      "id": "e3d70b65"
    },
    {
      "cell_type": "markdown",
      "metadata": {},
      "source": [
        "Question 4 answer should be"
      ],
      "id": "111c142c-0991-40b4-b57f-c6e58c21b736"
    },
    {
      "cell_type": "code",
      "execution_count": 49,
      "metadata": {},
      "outputs": [
        {
          "output_type": "display_data",
          "metadata": {},
          "data": {
            "text/plain": [
              "np.int64(181)"
            ]
          }
        }
      ],
      "source": [],
      "id": "a0775c4f"
    },
    {
      "cell_type": "markdown",
      "metadata": {},
      "source": [
        "With our regex (question 5), we obtain a `DataFrame` that is more in line with our expectations:"
      ],
      "id": "67fd9f47-a3c6-4725-b5d0-3583a6b0700e"
    },
    {
      "cell_type": "code",
      "execution_count": 51,
      "metadata": {},
      "outputs": [
        {
          "output_type": "display_data",
          "metadata": {},
          "data": {
            "text/html": [
              "\n",
              "<p>1759 rows × 2 columns</p>\n",
              "</div>"
            ]
          }
        }
      ],
      "source": [],
      "id": "ffef6a72"
    },
    {
      "cell_type": "markdown",
      "metadata": {},
      "source": [
        "As for the new `NaN` values, they are rows that did not contain any strings resembling years:"
      ],
      "id": "6754bb78-268b-41da-b25e-8c6630c8ec3b"
    },
    {
      "cell_type": "code",
      "execution_count": 52,
      "metadata": {},
      "outputs": [
        {
          "output_type": "display_data",
          "metadata": {},
          "data": {
            "text/html": [
              "\n",
              "</div>"
            ]
          }
        }
      ],
      "source": [],
      "id": "7cf4e587"
    },
    {
      "cell_type": "markdown",
      "metadata": {},
      "source": [
        "Finally, we obtain the following histogram of publication dates:"
      ],
      "id": "05901bb1-5a12-4ee4-9352-4e1856ee8d2a"
    },
    {
      "cell_type": "code",
      "execution_count": 53,
      "metadata": {},
      "outputs": [
        {
          "output_type": "display_data",
          "metadata": {},
          "data": {
            "image/png": "[encoded data removed]"
          }
        }
      ],
      "source": [],
      "id": "884e6074"
    }
  ],
  "nbformat": 4,
  "nbformat_minor": 5,
  "metadata": {
    "kernelspec": {
      "name": "python3",
      "display_name": "Python 3 (ipykernel)",
      "language": "python",
      "path": "/opt/conda/share/jupyter/kernels/python3"
    },
    "language_info": {
      "name": "python",
      "codemirror_mode": {
        "name": "ipython",
        "version": "3"
      },
      "file_extension": ".py",
      "mimetype": "text/x-python",
      "nbconvert_exporter": "python",
      "pygments_lexer": "ipython3",
      "version": "3.12.6"
    }
  }
}