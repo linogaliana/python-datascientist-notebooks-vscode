{
  "cells": [
    {
      "cell_type": "markdown",
      "metadata": {},
      "source": [
        "# Introduction to Pandas\n",
        "\n",
        "Lino Galiana  \n",
        "2025-03-19\n",
        "\n",
        "<div class=\"badge-container\"><div class=\"badge-text\">If you want to try the examples in this tutorial:</div><a href=\"https://github.com/linogaliana/python-datascientist-notebooks/blob/main/notebooks/en/manipulation/02_pandas_intro.ipynb\" target=\"_blank\" rel=\"noopener\"><img src=\"https://img.shields.io/static/v1?logo=github&label=&message=View%20on%20GitHub&color=181717\" alt=\"View on GitHub\"></a>\n",
        "<a href=\"https://datalab.sspcloud.fr/launcher/ide/vscode-python?autoLaunch=true&name=«02_pandas_intro»&init.personalInit=«https%3A%2F%2Fraw.githubusercontent.com%2Flinogaliana%2Fpython-datascientist%2Fmain%2Fsspcloud%2Finit-vscode.sh»&init.personalInitArgs=«en/manipulation%2002_pandas_intro%20correction»\" target=\"_blank\" rel=\"noopener\"><img src=\"https://custom-icon-badges.demolab.com/badge/SSP%20Cloud-Lancer_avec_VSCode-blue?logo=vsc&logoColor=white\" alt=\"Onyxia\"></a>\n",
        "<a href=\"https://datalab.sspcloud.fr/launcher/ide/jupyter-python?autoLaunch=true&name=«02_pandas_intro»&init.personalInit=«https%3A%2F%2Fraw.githubusercontent.com%2Flinogaliana%2Fpython-datascientist%2Fmain%2Fsspcloud%2Finit-jupyter.sh»&init.personalInitArgs=«en/manipulation%2002_pandas_intro%20correction»\" target=\"_blank\" rel=\"noopener\"><img src=\"https://img.shields.io/badge/SSP%20Cloud-Lancer_avec_Jupyter-orange?logo=Jupyter&logoColor=orange\" alt=\"Onyxia\"></a>\n",
        "<a href=\"https://colab.research.google.com/github/linogaliana/python-datascientist-notebooks-colab//en/blob/main//notebooks/en/manipulation/02_pandas_intro.ipynb\" target=\"_blank\" rel=\"noopener\"><img src=\"https://colab.research.google.com/assets/colab-badge.svg\" alt=\"Open In Colab\"></a><br></div>\n",
        "\n",
        "<div class=\"callout callout-style-default callout-note callout-titled\">\n",
        "<div class=\"callout-header d-flex align-content-center\">\n",
        "<div class=\"callout-icon-container\"><i class=\"callout-icon\"></i>\n",
        "</div>\n",
        "<div class=\"callout-title-container flex-fill\">\n",
        "Version 🇫🇷\n",
        "</div>\n",
        "</div>\n",
        "<div class=\"callout-body-container callout-body\">\n",
        "This is the French version 🇫🇷 of that chapter,to see the English version go <a href=\"https://pythonds.linogaliana.fr/content/manipulation/02_pandas_intro.html\">there</a>\n",
        "</div>\n",
        "</div>\n",
        "\n",
        "<div class=\"alert alert-success\" role=\"alert\">\n",
        "<h3 class=\"alert-heading\"><i class=\"fa-solid fa-lightbulb\"></i> Skills to be acquired by the end of this chapter</h3>\n",
        "\n",
        "-   Import a dataset as a `Pandas` dataframe and explore its structure;\n",
        "-   Perform manipulations on columns and rows;\n",
        "-   Construct aggregate statistics and chain operations;\n",
        "-   Use `Pandas` graphical methods to quickly represent data distribution.\n",
        "\n",
        "</div>\n",
        "\n",
        "# 1. Introduction\n",
        "\n",
        "The `Pandas` package has been the central piece of the data science ecosystem for about a decade. The *DataFrame*, a central object in languages like `R` or `Stata`, had long been absent in the `Python` ecosystem. Yet, thanks to `Numpy`, all the basic components were present but needed to be reconfigured to meet the needs of data scientists.\n",
        "\n",
        "Wes McKinney, when he built `Pandas` to provide a dataframe leveraging the numerical computation library `Numpy` in the background, enabled a significant leap forward for `Python` in data analysis, explaining its popularity in the data science ecosystem. `Pandas` is not without limitations[1], which we will have the opportunity to discuss, but the vast array of analysis methods it offers greatly simplifies data analysis work. For more information on this package, the reference book by McKinney (2012) presents many of the package’s features.\n",
        "\n",
        "In this chapter, we will focus on the most relevant elements in the context of an introduction to data science, leaving interested users to deepen their knowledge with the abundant resources available on the subject.\n",
        "\n",
        "As datasets generally gain value by associating multiple sources, for example, to relate a record to contextual data or to link two client databases to obtain meaningful data, the next chapter will present how to merge different datasets with `Pandas`. By the end of the next chapter, thanks to data merging, we will have a detailed database on the carbon footprints of the French[2].\n",
        "\n",
        "## 1.1 Data used in this chapter\n",
        "\n",
        "In this `Pandas` tutorial, we will use:\n",
        "\n",
        "-   Greenhouse gas emissions estimated at the municipal level by ADEME. The dataset is available on [data.gouv](https://www.data.gouv.fr/fr/datasets/inventaire-de-gaz-a-effet-de-serre-territorialise/#_) and can be queried directly in `Python` with [this URL](https://koumoul.com/s/data-fair/api/v1/datasets/igt-pouvoir-de-rechauffement-global/convert).\n",
        "\n",
        "The [next chapter](../../content/manipulation/02_pandas_suite.qmd) will allow us to apply the elements presented in this chapter with the above data combined with contextual data at the municipal level.\n",
        "\n",
        "## 1.2 Environment\n",
        "\n",
        "We will follow the usual conventions in importing packages:\n",
        "\n",
        "[1] The equivalent ecosystem in `R`, the [`tidyverse`](https://www.tidyverse.org/), developed by *Posit*, is of more recent design than `Pandas`. Its philosophy could thus draw inspiration from `Pandas` while addressing some limitations of the `Pandas` syntax. Since both syntaxes are an implementation in `Python` or `R` of the `SQL` philosophy, it is natural that they resemble each other and that it is pertinent for data scientists to know both languages.\n",
        "\n",
        "[2] Actually, it is not the carbon footprint but the **national inventory** since the database corresponds to a production view, not consumption. Emissions made in one municipality to satisfy the consumption of another will be attributed to the former where the carbon footprint concept would attribute it to the latter. Moreover, the emissions presented here do not include those produced by goods made abroad. This exercise is not about constructing a reliable statistic but rather understanding the logic of data merging to construct descriptive statistics."
      ],
      "id": "95ba6e98-c909-4e6b-b938-73f631f7a629"
    },
    {
      "cell_type": "code",
      "execution_count": 1,
      "metadata": {},
      "outputs": [],
      "source": [
        "import numpy as np\n",
        "import pandas as pd\n",
        "import matplotlib.pyplot as plt"
      ],
      "id": "d19601e1"
    },
    {
      "cell_type": "markdown",
      "metadata": {},
      "source": [
        "To obtain reproducible results, you can set the seed of the pseudo-random number generator."
      ],
      "id": "4eedb600-bf64-41f6-aec3-e45b1268b5a2"
    },
    {
      "cell_type": "code",
      "execution_count": 2,
      "metadata": {},
      "outputs": [],
      "source": [
        "np.random.seed(123)"
      ],
      "id": "801ebe55"
    },
    {
      "cell_type": "markdown",
      "metadata": {},
      "source": [
        "Throughout this demonstration of the main `Pandas` functionalities, and in the next chapter, I recommend regularly referring to the following resources:\n",
        "\n",
        "-   The [official `Pandas` documentation](https://pandas.pydata.org/docs/user_guide/index.html), especially the [language comparison page](https://pandas.pydata.org/pandas-docs/stable/getting_started/comparison/index.html), which is very useful;\n",
        "-   [This tutorial](https://observablehq.com/@observablehq/data-wrangling-translations), designed for users of [`Observable Javascript`](https://observablehq.com), but offering many interesting examples for `Pandas` aficionados;\n",
        "-   The following [cheatsheet from this post](https://becominghuman.ai/cheat-sheets-for-ai-neural-networks-machine-learning-deep-learning-big-data-678c51b4b463).\n",
        "\n",
        "As a reminder, to execute the code examples in an interactive notebook, you can use the shortcuts at the top of the page to launch it in your preferred environment.\n",
        "\n",
        "# 2. `Pandas` logic\n",
        "\n",
        "## 2.1 Anatomy of a `Pandas` table\n",
        "\n",
        "The central object in the `Pandas` logic is the `DataFrame`. It is a special data structure with two dimensions, structured by aligning rows and columns. Unlike a matrix, columns can be of different types.\n",
        "\n",
        "A `DataFrame` consists of the following elements:\n",
        "\n",
        "-   the row index;\n",
        "-   the column name;\n",
        "-   the data value;\n",
        "\n",
        "<figure>\n",
        "<img src=\"https://minio.lab.sspcloud.fr/lgaliana/python-ENSAE/inputs/merge_pandas/pandasDF.png\" alt=\"Structure of a Pandas DataFrame, borrowed from https://x.com/epfl_exts/status/997506000600084480\" />\n",
        "<figcaption aria-hidden=\"true\">Structure of a <code>Pandas</code> <em>DataFrame</em>, borrowed from <a href=\"https://x.com/epfl_exts/status/997506000600084480\" class=\"uri\">https://x.com/epfl_exts/status/997506000600084480</a></figcaption>\n",
        "</figure>\n",
        "\n",
        "## 2.2 Before seeing `DataFrame`, we need to know `Pandas` `Series`\n",
        "\n",
        "In fact, a *DataFrame* is a collection of objects called `pandas.Series`. These `Series` are one-dimensional objects that are extensions of the one-dimensional `Numpy` arrays[1]. In particular, to facilitate the handling of categorical or temporal data, additional variable types are available in `Pandas` compared to `Numpy` (`categorical`, `datetime64`, and `timedelta64`). These types are associated with optimized methods to facilitate the processing of this data.\n",
        "\n",
        "There are several possible types for a `pandas.Series`, extending the basic data types in `Python`, which will determine the behavior of this variable. Indeed, many operations do not have the same meaning depending on whether the value is numeric or not.\n",
        "\n",
        "The simplest types (`int` or `float`) correspond to numeric values:\n",
        "\n",
        "[1] The original goal of `Pandas` is to provide a high-level library for more abstract low-level layers, such as `Numpy` arrays. `Pandas` is gradually changing these low-level layers to favor `Arrow` over `Numpy` without destabilizing the high-level commands familiar to `Pandas` users. This shift is due to the fact that `Arrow`, a low-level computation library, is more powerful and flexible than `Numpy`. For example, `Numpy` offers limited textual types, whereas `Arrow` provides greater freedom."
      ],
      "id": "d72a0ac3-4137-4854-bf81-c9979e0fd8ea"
    },
    {
      "cell_type": "code",
      "execution_count": 3,
      "metadata": {},
      "outputs": [
        {
          "output_type": "display_data",
          "metadata": {},
          "data": {
            "text/plain": [
              "0     3\n",
              "1     7\n",
              "2    12\n",
              "dtype: int64"
            ]
          }
        }
      ],
      "source": [
        "poids = pd.Series(\n",
        "    [3, 7, 12]\n",
        ")\n",
        "poids"
      ],
      "id": "391f33e5"
    },
    {
      "cell_type": "markdown",
      "metadata": {},
      "source": [
        "<div class=\"alert alert-danger\" role=\"alert\">\n",
        "<h3 class=\"alert-heading\"><i class=\"fa-solid fa-triangle-exclamation\"></i> Missing Values are tricky !</h3>\n",
        "\n",
        "In general, if `Pandas` exclusively detects integer values in a variable, it will use the `int` type to optimize memory. This choice makes sense. However, it has a drawback: `Numpy`, and therefore by extension `Pandas`, cannot represent missing values for the `int` type (more on missing values below).\n",
        "\n",
        "Pending the shift to `Arrow`, which can handle missing values in `int`, the method to use is to convert to the `float` type if the variable will have missing values, which is quite simple:\n",
        "\n",
        "</div>\n",
        "\n",
        "For textual data, it is just as simple:"
      ],
      "id": "046550e2-a0d4-4f10-9ba4-7d4ef6b4bf83"
    },
    {
      "cell_type": "code",
      "execution_count": 4,
      "metadata": {},
      "outputs": [
        {
          "output_type": "display_data",
          "metadata": {},
          "data": {
            "text/plain": [
              "0     chat\n",
              "1    chien\n",
              "2    koala\n",
              "dtype: object"
            ]
          }
        }
      ],
      "source": [
        "animal = pd.Series(\n",
        "  ['chat', 'chien', 'koala']\n",
        ")\n",
        "animal"
      ],
      "id": "81e51803"
    },
    {
      "cell_type": "markdown",
      "metadata": {},
      "source": [
        "The `object` type is a catch-all for exclusively textual data types (type `str`) or a mix of textual and numerical data (type `mixed`). Historically, it was an intermediate type between the `factor` and `character` of `R`. However, recently, there is an equivalent type to `factor` in `Pandas` for variables with a finite and relatively short list of values, the `category` type. The `object` type can cause unexpected errors due to its mixed nature, so it is recommended to choose the nature of a variable and convert it:"
      ],
      "id": "319dfcc4-3a9e-4667-9537-eda1a4c394a1"
    },
    {
      "cell_type": "code",
      "execution_count": 5,
      "metadata": {},
      "outputs": [
        {
          "output_type": "display_data",
          "metadata": {},
          "data": {
            "text/plain": [
              "0     chat\n",
              "1    chien\n",
              "2    koala\n",
              "dtype: object"
            ]
          }
        }
      ],
      "source": [
        "animal.astype(\"category\")\n",
        "animal.astype(str)"
      ],
      "id": "5f83f110"
    },
    {
      "cell_type": "markdown",
      "metadata": {},
      "source": [
        "It is important to examine the types of your `Pandas` objects and convert them if they do not make sense; `Pandas` makes optimized choices, but it may be necessary to correct them because `Pandas` does not know your future data usage. This is one of the tasks to do during *feature engineering*, the set of steps for preparing data for future use.\n",
        "\n",
        "# 3. From `Series` to `DataFrame`\n",
        "\n",
        "We have created two independent series, `animal` and `poids`, which are related. In the matrix world, this would correspond to moving from a vector to a matrix. In the `Pandas` world, this means moving from a `Series` to a `DataFrame`.\n",
        "\n",
        "This is done naturally with `Pandas`:"
      ],
      "id": "bb815eb7-88a6-4a71-b2b9-4657630d38ac"
    },
    {
      "cell_type": "code",
      "execution_count": 6,
      "metadata": {},
      "outputs": [
        {
          "output_type": "display_data",
          "metadata": {},
          "data": {
            "text/html": [
              "\n",
              "</div>"
            ]
          }
        }
      ],
      "source": [
        "animaux = pd.DataFrame(\n",
        "  zip(animal, poids),\n",
        "  columns = ['animal','poids']\n",
        ")\n",
        "animaux"
      ],
      "id": "b0630949"
    },
    {
      "cell_type": "markdown",
      "metadata": {},
      "source": [
        "1.  We need to use `zip` here because `Pandas` expects a structure like `{\"var1\": [val1, val2], \"var2\": [val1, val2]}`, which is not what we prepared previously. However, we will see that this approach is not the most common for creating a `DataFrame`.\n",
        "\n",
        "The essential difference between a `Series` and a `Numpy` object is indexing. In `Numpy`, indexing is implicit; it allows accessing data (the one at the index located at position *i*). With a `Series`, you can, of course, use a positional index, but more importantly, you can use more explicit indices.\n",
        "\n",
        "This allows accessing data more naturally, using column names, for example:"
      ],
      "id": "72f9df8b-516d-4cce-ad51-93b3943022e2"
    },
    {
      "cell_type": "code",
      "execution_count": 7,
      "metadata": {},
      "outputs": [
        {
          "output_type": "display_data",
          "metadata": {},
          "data": {
            "text/plain": [
              "0     3\n",
              "1     7\n",
              "2    12\n",
              "Name: poids, dtype: int64"
            ]
          }
        }
      ],
      "source": [
        "animaux['poids']"
      ],
      "id": "c4d91822"
    },
    {
      "cell_type": "markdown",
      "metadata": {},
      "source": [
        "The existence of an index makes subsetting, that is, selecting rows or columns, particularly easy. DataFrames have two indices: those for rows and those for columns. You can make selections on both dimensions. Anticipating later exercises, you can see that this will facilitate row selection:"
      ],
      "id": "218cc1b4-1fd3-4eec-a8e9-373995c64718"
    },
    {
      "cell_type": "code",
      "execution_count": 8,
      "metadata": {},
      "outputs": [
        {
          "output_type": "display_data",
          "metadata": {},
          "data": {
            "text/plain": [
              "0    3\n",
              "Name: poids, dtype: int64"
            ]
          }
        }
      ],
      "source": [
        "animaux.loc[animaux['animal'] == \"chat\", 'poids']"
      ],
      "id": "357cea57"
    },
    {
      "cell_type": "markdown",
      "metadata": {},
      "source": [
        "This instruction is equivalent to the SQL command:\n",
        "\n",
        "``` sql\n",
        "SELECT poids FROM animaux WHERE animal == \"chat\"\n",
        "```\n",
        "\n",
        "If we return to our `animaux` dataset, we can see the row number displayed on the left:"
      ],
      "id": "714affce-2414-42ab-96a9-f221060e6c08"
    },
    {
      "cell_type": "code",
      "execution_count": 10,
      "metadata": {},
      "outputs": [
        {
          "output_type": "display_data",
          "metadata": {},
          "data": {
            "text/html": [
              "\n",
              "</div>"
            ]
          }
        }
      ],
      "source": [
        "animaux"
      ],
      "id": "a6c95bf2"
    },
    {
      "cell_type": "markdown",
      "metadata": {},
      "source": [
        "This is the default index for the row dimension because we did not configure one. It is not mandatory; it is quite possible to have an index corresponding to a variable of interest (we will discover this when we explore `groupby` in the next chapter). However, this can be tricky, and it is recommended that this be only transitory, hence the importance of regularly performing `reset_index`.\n",
        "\n",
        "## 3.1 The concept of *tidy data*\n",
        "\n",
        "The concept of ***tidy*** data, popularized by Hadley Wickham through his `R` packages (see Wickham, Çetinkaya-Rundel, and Grolemund (2023)), is highly relevant for describing the structure of a `Pandas` DataFrame. The three rules of tidy data are as follows:\n",
        "\n",
        "-   Each **variable** has its own column;\n",
        "-   Each **observation** has its own row;\n",
        "-   A **value**, representing an observation of a variable, is located in a single cell.\n",
        "\n",
        "<figure>\n",
        "<img src=\"https://d33wubrfki0l68.cloudfront.net/6f1ddb544fc5c69a2478e444ab8112fb0eea23f8/91adc/images/tidy-1.png\" alt=\"Illustration of the tidy data concept (borrowed from H. Wickham)\" />\n",
        "<figcaption aria-hidden=\"true\">Illustration of the <em>tidy data</em> concept (borrowed from H. Wickham)</figcaption>\n",
        "</figure>\n",
        "\n",
        "These principles may seem like common sense, but you will find that many data formats do not adhere to them. For example, Excel spreadsheets often have values spanning multiple columns or several merged rows. Restructuring this data according to the tidy data principle will be crucial to performing analysis on it.\n",
        "\n",
        "# 4. Importing Data with `Pandas`\n",
        "\n",
        "If you had to manually create all your DataFrames from vectors, `Pandas` would not be practical. `Pandas` offers many functions to read data stored in different formats.\n",
        "\n",
        "The simplest data to read are tabular data stored in an appropriate format. The two main formats to know are `CSV` and `Parquet`. The former has the advantage of simplicity - it is universal, known to all, and readable by any text editor. The latter is gaining popularity in the data ecosystem because it addresses some limitations of CSV (optimized storage, predefined variable types…) but has the disadvantage of not being readable without a suitable tool (which fortunately are increasingly present in standard code editors like `VSCode`). For more information on the difference between `CSV` and `Parquet`, refer to the [deep dive chapters](../../content/modern-ds/s3.qmd) on the subject.\n",
        "\n",
        "Data stored in other text-derived formats from `CSV` (`.txt`, `.tsv`…) or formats like `JSON` are readable with `Pandas`, but sometimes it takes a bit of iteration to find the correct reading parameters. In other chapters, we will discover that other data formats related to different data structures are also readable with `Python`.\n",
        "\n",
        "Flat formats (`.csv`, `.txt`…) and the `Parquet` format are easy to use with `Pandas` because they are not proprietary and they store data in a tidy form. Data from spreadsheets, `Excel` or `LibreOffice`, are more or less complicated to import depending on whether they follow this schema or not. This is because these tools are used indiscriminately. While in the data science world, they should primarily be used to disseminate final tables for reporting, they are often used to disseminate raw data that could be better shared through more suitable channels.\n",
        "\n",
        "One of the main difficulties with spreadsheets is that the data are usually associated with documentation in the same tab - for example, the spreadsheet has some lines describing the sources before the table - which requires human intelligence to assist `Pandas` during the import phase. This will always be possible, but when there is an alternative in the form of a flat file, there should be no hesitation.\n",
        "\n",
        "## 4.1 Reading Data from a Local Path\n",
        "\n",
        "This exercise aims to demonstrate the benefit of using a relative path rather than an absolute path to enhance code reproducibility. However, we will later recommend reading directly from the internet when possible and when it does not involve the recurrent download of a large file.\n",
        "\n",
        "To prepare for this exercise, the following code will allow you to download data and write it locally:"
      ],
      "id": "173979c5-d90d-4706-a080-078d8d5b713a"
    },
    {
      "cell_type": "code",
      "execution_count": 14,
      "metadata": {},
      "outputs": [
        {
          "output_type": "stream",
          "name": "stdout",
          "text": [
            "Error : HTTPSConnectionPool(host='www.insee.fr', port=443): Read timed out. (read timeout=None)"
          ]
        }
      ],
      "source": [
        "import requests\n",
        "\n",
        "url = \"https://www.insee.fr/fr/statistiques/fichier/6800675/v_commune_2023.csv\"\n",
        "url_backup = \"https://minio.lab.sspcloud.fr/lgaliana/data/python-ENSAE/cog_2023.csv\"\n",
        "\n",
        "try:\n",
        "    response = requests.get(url)\n",
        "except requests.exceptions.RequestException as e:\n",
        "    print(f\"Error : {e}\")\n",
        "    response = requests.get(url_backup)\n",
        "\n",
        "# Only download if one of the request succeeded\n",
        "if response.status_code == 200:\n",
        "    with open(\"cog_2023.csv\", \"wb\") as file:\n",
        "        file.write(response.content)"
      ],
      "id": "1499e2e6"
    },
    {
      "cell_type": "markdown",
      "metadata": {},
      "source": [
        "<div class=\"alert alert-success\" role=\"alert\">\n",
        "<h3 class=\"alert-heading\"><i class=\"fa-solid fa-pencil\"></i> Preliminary Exercise: Importing a CSV (Optional)</h3>\n",
        "\n",
        "1.  Use the code above ☝️ to download the data. Use `Pandas` to read the downloaded file.\n",
        "2.  Find where the data was written. Observe the structure of this directory.\n",
        "3.  Create a new folder using the file explorer (on the left in `Jupyter` or `VSCode`). Move the CSV and the notebook. Restart the kernel and adjust your code if needed. Repeat this process several times with different folders. What issues might you encounter?\n",
        "\n",
        "</div>"
      ],
      "id": "699eaa2b-7069-42bb-a0a6-65d770fa92d0"
    },
    {
      "cell_type": "code",
      "execution_count": 15,
      "metadata": {},
      "outputs": [
        {
          "output_type": "display_data",
          "metadata": {},
          "data": {
            "text/html": [
              "\n",
              "</div>"
            ]
          }
        }
      ],
      "source": [],
      "id": "f57f0d04"
    },
    {
      "cell_type": "markdown",
      "metadata": {},
      "source": [
        "The main issue with reading from files stored locally is the risk of becoming dependent on a file system that is not necessarily shared. It is better, whenever possible, to directly read the data with an `HTTPS` link, which `Pandas` can handle. Moreover, when working with open data, this ensures that you are using the latest available data and not a local duplication that may not be up to date.\n",
        "\n",
        "## 4.2 Reading from a CSV Available on the Internet\n",
        "\n",
        "The URL to access the data can be stored in an ad hoc variable:"
      ],
      "id": "1e3eef06-6df0-426a-ada1-44290b22dbdb"
    },
    {
      "cell_type": "code",
      "execution_count": 18,
      "metadata": {},
      "outputs": [],
      "source": [
        "url = \"https://koumoul.com/s/data-fair/api/v1/datasets/igt-pouvoir-de-rechauffement-global/convert\""
      ],
      "id": "e57a09b8"
    },
    {
      "cell_type": "markdown",
      "metadata": {},
      "source": [
        "The goal of the next exercise is to get familiar with importing and displaying data using `Pandas` and displaying a few observations.\n",
        "\n",
        "<div class=\"alert alert-success\" role=\"alert\">\n",
        "<h3 class=\"alert-heading\"><i class=\"fa-solid fa-pencil\"></i> Exercise 1: Importing a CSV and Exploring Data Structure</h3>\n",
        "\n",
        "1.  Import the data from Ademe using the `Pandas` package and the dedicated command for importing CSVs. Name the obtained `DataFrame` `emissions`[1].\n",
        "2.  Use the appropriate methods to display the first 10 values, the last 15 values, and a random sample of 10 values using the appropriate methods from the `Pandas` package.\n",
        "3.  Draw 5 percent of the sample without replacement.\n",
        "4.  Keep only the first 10 rows and randomly draw from these to obtain a DataFrame of 100 data points.\n",
        "5.  Make 100 draws from the first 6 rows with a probability of 1/2 for the first observation and a uniform probability for the others.\n",
        "\n",
        "<details>\n",
        "\n",
        "<summary>\n",
        "\n",
        "If you get stuck on question 1\n",
        "\n",
        "</summary>\n",
        "\n",
        "Read the documentation for `read_csv` (very well done) or look for examples online to discover this function.\n",
        "\n",
        "</details>\n",
        "\n",
        "</div>\n",
        "\n",
        "As illustrated by this exercise, displaying DataFrames in notebooks is quite ergonomic. The first and last rows are displayed automatically. For valuation tables present in a report or research article, the next chapter introduces `great_tables`, which offers very rich table formatting features.\n",
        "\n",
        "<div class=\"alert alert-danger\" role=\"alert\">\n",
        "<h3 class=\"alert-heading\"><i class=\"fa-solid fa-triangle-exclamation\"></i> Warning</h3>\n",
        "\n",
        "Be careful with `display` and commands that reveal data (`head`, `tail`, etc.) in a notebook that handles confidential data when using version control software like `Git` (see dedicated chapters).\n",
        "\n",
        "Indeed, you may end up sharing data inadvertently in the `Git` history. As explained in the chapter dedicated to `Git`, a file named `.gitignore` is sufficient to create some rules to avoid unintentional sharing of data with `Git`.\n",
        "\n",
        "</div>\n",
        "\n",
        "# 5. Exploring the Structure of a DataFrame\n",
        "\n",
        "`Pandas` offers a data schema quite familiar to users of statistical software like `R`. Similar to the main data processing paradigms like the *tidyverse* (`R`), the grammar of `Pandas` inherits from `SQL` logic. The philosophy is very similar: operations are performed to select rows, columns, sort rows based on column values, apply standardized treatments to variables, etc. Generally, operations that reference variable names are preferred over those that reference row or column numbers.\n",
        "\n",
        "Whether you are familiar with `SQL` or `R`, you will find a similar logic to what you know, although the names might differ: `df.loc[df['y']=='b']` may be written as `df %>% filter(y=='b')` (`R`) or `SELECT * FROM df WHERE y == 'b'` (`SQL`), but the logic is the same.\n",
        "\n",
        "`Pandas` offers a plethora of pre-implemented functionalities. It is highly recommended, before writing a function, to consider if it is natively implemented in `Numpy`, `Pandas`, etc. Most of the time, if a solution is implemented in a library, it should be used as it will be more efficient than what you would implement.\n",
        "\n",
        "To present the most practical methods for data analysis, we can use the example of the municipal CO2 consumption data from Ademe, which was the focus of the previous exercises.\n",
        "\n",
        "[1] Due to a lack of imagination, we are often tempted to call our main *dataframe* `df` or `data`. This is often a bad idea because the name is not very informative when you read the code a few weeks later. Self-documenting code, an approach that consists of having code that is self-explanatory, is a good practice, and it is recommended to give a simple yet effective name to know the nature of the dataset in question."
      ],
      "id": "ee262f7e-ff55-4de6-974a-9eb1fae1f323"
    },
    {
      "cell_type": "code",
      "execution_count": 21,
      "metadata": {},
      "outputs": [
        {
          "output_type": "display_data",
          "metadata": {},
          "data": {
            "text/html": [
              "\n",
              "<p>35798 rows × 12 columns</p>\n",
              "</div>"
            ]
          }
        }
      ],
      "source": [
        "df = pd.read_csv(\"https://koumoul.com/s/data-fair/api/v1/datasets/igt-pouvoir-de-rechauffement-global/convert\")\n",
        "df"
      ],
      "id": "3b392db9"
    },
    {
      "cell_type": "markdown",
      "metadata": {},
      "source": [
        "## 5.1 Dimensions and Structure of a DataFrame\n",
        "\n",
        "The first useful methods allow displaying some attributes of a `DataFrame`."
      ],
      "id": "8c8651e1-6547-48e9-b13a-0ac2701aa9c1"
    },
    {
      "cell_type": "code",
      "execution_count": 22,
      "metadata": {},
      "outputs": [
        {
          "output_type": "display_data",
          "metadata": {},
          "data": {
            "text/plain": [
              "[RangeIndex(start=0, stop=35798, step=1),\n",
              " Index(['INSEE commune', 'Commune', 'Agriculture', 'Autres transports',\n",
              "        'Autres transports international', 'CO2 biomasse hors-total', 'Déchets',\n",
              "        'Energie', 'Industrie hors-énergie', 'Résidentiel', 'Routier',\n",
              "        'Tertiaire'],\n",
              "       dtype='object')]"
            ]
          }
        }
      ],
      "source": [
        "df.axes"
      ],
      "id": "d2690caa"
    },
    {
      "cell_type": "code",
      "execution_count": 23,
      "metadata": {},
      "outputs": [
        {
          "output_type": "display_data",
          "metadata": {},
          "data": {
            "text/plain": [
              "Index(['INSEE commune', 'Commune', 'Agriculture', 'Autres transports',\n",
              "       'Autres transports international', 'CO2 biomasse hors-total', 'Déchets',\n",
              "       'Energie', 'Industrie hors-énergie', 'Résidentiel', 'Routier',\n",
              "       'Tertiaire'],\n",
              "      dtype='object')"
            ]
          }
        }
      ],
      "source": [
        "df.columns"
      ],
      "id": "df3106b3"
    },
    {
      "cell_type": "code",
      "execution_count": 24,
      "metadata": {},
      "outputs": [
        {
          "output_type": "display_data",
          "metadata": {},
          "data": {
            "text/plain": [
              "RangeIndex(start=0, stop=35798, step=1)"
            ]
          }
        }
      ],
      "source": [
        "df.index"
      ],
      "id": "fd24161f"
    },
    {
      "cell_type": "markdown",
      "metadata": {},
      "source": [
        "## 5.2 Dimensions and Structure of a DataFrame\n",
        "\n",
        "The first useful methods allow displaying some attributes of a `DataFrame`."
      ],
      "id": "55c83406-6895-4506-8610-59d50ff2334e"
    },
    {
      "cell_type": "code",
      "execution_count": 25,
      "metadata": {},
      "outputs": [
        {
          "output_type": "display_data",
          "metadata": {},
          "data": {
            "text/plain": [
              "2"
            ]
          }
        }
      ],
      "source": [
        "df.ndim"
      ],
      "id": "3d5b1023"
    },
    {
      "cell_type": "code",
      "execution_count": 26,
      "metadata": {},
      "outputs": [
        {
          "output_type": "display_data",
          "metadata": {},
          "data": {
            "text/plain": [
              "(35798, 12)"
            ]
          }
        }
      ],
      "source": [
        "df.shape"
      ],
      "id": "47ad509b"
    },
    {
      "cell_type": "code",
      "execution_count": 27,
      "metadata": {},
      "outputs": [
        {
          "output_type": "display_data",
          "metadata": {},
          "data": {
            "text/plain": [
              "429576"
            ]
          }
        }
      ],
      "source": [
        "df.size"
      ],
      "id": "d300d06d"
    },
    {
      "cell_type": "markdown",
      "metadata": {},
      "source": [
        "To know the dimensions of a DataFrame, some practical methods can be used:"
      ],
      "id": "3d41f99d-b9d5-4de9-b775-8a96419ef5d2"
    },
    {
      "cell_type": "code",
      "execution_count": 29,
      "metadata": {},
      "outputs": [
        {
          "output_type": "display_data",
          "metadata": {},
          "data": {
            "text/plain": [
              "2"
            ]
          }
        }
      ],
      "source": [
        "df.ndim"
      ],
      "id": "27fee4a7"
    },
    {
      "cell_type": "code",
      "execution_count": 30,
      "metadata": {},
      "outputs": [
        {
          "output_type": "display_data",
          "metadata": {},
          "data": {
            "text/plain": [
              "(35798, 12)"
            ]
          }
        }
      ],
      "source": [
        "df.shape"
      ],
      "id": "015f9941"
    },
    {
      "cell_type": "code",
      "execution_count": 31,
      "metadata": {},
      "outputs": [
        {
          "output_type": "display_data",
          "metadata": {},
          "data": {
            "text/plain": [
              "429576"
            ]
          }
        }
      ],
      "source": [
        "df.size"
      ],
      "id": "cbf05774"
    },
    {
      "cell_type": "markdown",
      "metadata": {},
      "source": [
        "To determine the number of unique values of a variable, rather than writing a function yourself, use the `nunique` method. For example,"
      ],
      "id": "9c46e993-fec7-4848-b94a-c48c20b61718"
    },
    {
      "cell_type": "code",
      "execution_count": 32,
      "metadata": {},
      "outputs": [
        {
          "output_type": "display_data",
          "metadata": {},
          "data": {
            "text/plain": [
              "33338"
            ]
          }
        }
      ],
      "source": [
        "df['Commune'].nunique()"
      ],
      "id": "76ac7f70"
    },
    {
      "cell_type": "markdown",
      "metadata": {},
      "source": [
        "`Pandas` offers many useful methods. Here is a summary of those related to data structure, accompanied by a comparison with `R`:\n",
        "\n",
        "| Operation | pandas | dplyr (`R`) | data.table (`R`) |\n",
        "|---------------------|-----------------|----------------|-------------------|\n",
        "| Retrieve column names | `df.columns` | `colnames(df)` | `colnames(df)` |\n",
        "| Retrieve dimensions | `df.shape` | `dim(df)` | `dim(df)` |\n",
        "| Retrieve unique values of a variable | `df['myvar'].nunique()` | `df %>%  summarise(distinct(myvar))` | `df[,uniqueN(myvar)]` |\n",
        "\n",
        "## 5.3 Accessing elements of a DataFrame\n",
        "\n",
        "In SQL, performing operations on columns is done with the `SELECT` command. With `Pandas`, to access an entire column, several approaches can be used:\n",
        "\n",
        "-   `dataframe.variable`, for example `df.Energie`. This method requires column names without spaces or special characters, which excludes many real datasets. It is not recommended.\n",
        "-   `dataframe[['variable']]` to return the variable as a `DataFrame`. This method can be tricky for a single variable; it’s better to use `dataframe.loc[:,['variable']]`, which is more explicit about the nature of the resulting object.\n",
        "-   `dataframe['variable']` to return the variable as a `Series`. For example, `df[['Autres transports']]` or `df['Autres transports']`. This is the preferred method.\n",
        "\n",
        "To retrieve multiple columns at once, there are two approaches, with the second being preferable:\n",
        "\n",
        "-   `dataframe[['variable1', 'variable2']]`\n",
        "-   `dataframe.loc[:, ['variable1', 'variable2']]`\n",
        "\n",
        "This is equivalent to `SELECT variable1, variable2 FROM dataframe` in SQL.\n",
        "\n",
        "Using `.loc` may seem excessively verbose, but it ensures that you are performing a subset operation on the column dimension. DataFrames have two indices, for rows and columns, and implicit operations can sometimes cause surprises, so it’s more reliable to be explicit.\n",
        "\n",
        "## 5.4 Accessing rows\n",
        "\n",
        "To access one or more values in a `DataFrame`, there are two recommended methods, depending on the form of the row or column indices used:\n",
        "\n",
        "-   `df.iloc`: uses indices. This method is somewhat unreliable because a DataFrame’s indices can change during processing (especially when performing group operations).\n",
        "-   `df.loc`: uses labels. This method is recommended.\n",
        "\n",
        "<div class=\"alert alert-danger\" role=\"alert\">\n",
        "<h3 class=\"alert-heading\"><i class=\"fa-solid fa-triangle-exclamation\"></i> Warning</h3>\n",
        "\n",
        "Code snippets using the `df.ix` structure should be avoided as the function is deprecated and may disappear at any time.\n",
        "\n",
        "</div>\n",
        "\n",
        "`iloc` refers to the indexing from 0 to *N*, where *N* equals `df.shape[0]` of a `pandas.DataFrame`. `loc` refers to the values of `df`’s index. For example, with the `pandas.DataFrame` `df_example`:"
      ],
      "id": "1ef1e1b1-eebd-4746-b705-07f9233d7a2b"
    },
    {
      "cell_type": "code",
      "execution_count": 33,
      "metadata": {},
      "outputs": [
        {
          "output_type": "display_data",
          "metadata": {},
          "data": {
            "text/html": [
              "\n",
              "</div>"
            ]
          }
        }
      ],
      "source": [
        "df_example = pd.DataFrame(\n",
        "    {'month': [1, 4, 7, 10], 'year': [2012, 2014, 2013, 2014], 'sale': [55, 40, 84, 31]})\n",
        "df_example = df_example.set_index('month')\n",
        "df_example"
      ],
      "id": "b58dcfa6"
    },
    {
      "cell_type": "markdown",
      "metadata": {},
      "source": [
        "-   `df_example.loc[1, :]` will return the first row of `df` (row where the `month` index equals 1);\n",
        "-   `df_example.iloc[1, :]` will return the second row (since Python indexing starts at 0);\n",
        "-   `df_example.iloc[:, 1]` will return the second column, following the same principle.\n",
        "\n",
        "Later exercises will allow practicing this syntax on our dataset of carbon emissions.\n",
        "\n",
        "# 6. Main data wrangling routine\n",
        "\n",
        "The most frequent operations in `SQL` are summarized in the following table. It is useful to know them (many data manipulation syntaxes use these terms) because, one way or another, they cover most data manipulation uses. We will describe some of them later:\n",
        "\n",
        "| Operation | SQL | pandas | dplyr (`R`) | data.table (`R`) |\n",
        "|---------------|--------|-----------|-----------------|-----------------------|\n",
        "| Select variables by name | `SELECT` | `df[['Autres transports','Energie']]` | `df %>% select(Autres transports, Energie)` | `df[, c('Autres transports','Energie')]` |\n",
        "| Select observations based on one or more conditions | `FILTER` | `df[df['Agriculture']>2000]` | `df %>% filter(Agriculture>2000)` | `df[Agriculture>2000]` |\n",
        "| Sort the table by one or more variables | `SORT BY` | `df.sort_values(['Commune','Agriculture'])` | `df %>% arrange(Commune, Agriculture)` | `df[order(Commune, Agriculture)]` |\n",
        "| Add variables that are functions of other variables | `SELECT *, LOG(Agriculture) AS x FROM df` | `df['x'] = np.log(df['Agriculture'])` | `df %>% mutate(x = log(Agriculture))` | `df[,x := log(Agriculture)]` |\n",
        "| Perform an operation by group | `GROUP BY` | `df.groupby('Commune').mean()` | `df %>% group_by(Commune) %>% summarise(m = mean)` | `df[,mean(Commune), by = Commune]` |\n",
        "| Join two databases (inner join) | `SELECT * FROM table1 INNER JOIN table2 ON table1.id = table2.x` | `table1.merge(table2, left_on = 'id', right_on = 'x')` | `table1 %>% inner_join(table2, by = c('id'='x'))` | `merge(table1, table2, by.x = 'id', by.y = 'x')` |\n",
        "\n",
        "## 6.1 Operations on Columns: Adding or Removing Variables, Renaming Them, etc.\n",
        "\n",
        "Technically, `Pandas` DataFrames are *mutable* objects in the `Python` language, meaning it is possible to change the DataFrame as needed during processing.\n",
        "\n",
        "The most classic operation is adding or removing variables to the data table. The simplest way to add columns is by reassignment. For example, to create a `dep` variable that corresponds to the first two digits of the commune code (INSEE code), simply take the variable and apply the appropriate treatment (in this case, keep only its first two characters):"
      ],
      "id": "05fa89cb-16e3-433e-b1b8-cffdbd544e19"
    },
    {
      "cell_type": "code",
      "execution_count": 35,
      "metadata": {},
      "outputs": [
        {
          "output_type": "display_data",
          "metadata": {},
          "data": {
            "text/html": [
              "\n",
              "</div>"
            ]
          }
        }
      ],
      "source": [
        "df['dep'] = df['INSEE commune'].str[:2]\n",
        "df.head(3)"
      ],
      "id": "cdf9754c"
    },
    {
      "cell_type": "markdown",
      "metadata": {},
      "source": [
        "In SQL, the method depends on the execution engine. In pseudo-code, it would be:\n",
        "\n",
        "``` sql\n",
        "SELECT everything(), SUBSTR(\"code_insee\", 2) AS dep FROM df\n",
        "```\n",
        "\n",
        "It is possible to apply this approach to creating columns on multiple columns. One of the advantages of this approach is that it allows recycling column names."
      ],
      "id": "ca7f038d-06e1-41d0-adfa-c7e9dfbae984"
    },
    {
      "cell_type": "code",
      "execution_count": 36,
      "metadata": {},
      "outputs": [
        {
          "output_type": "display_data",
          "metadata": {},
          "data": {
            "text/html": [
              "\n",
              "</div>"
            ]
          }
        }
      ],
      "source": [
        "vars = ['Agriculture', 'Déchets', 'Energie']\n",
        "\n",
        "df[[v + \"_log\" for v in vars]] = np.log(df.loc[:, vars])\n",
        "df.head(3)"
      ],
      "id": "a5146852"
    },
    {
      "cell_type": "markdown",
      "metadata": {},
      "source": [
        "The equivalent SQL query would be quite tedious to write. For such operations, the benefit of a high-level library like `Pandas` becomes clear.\n",
        "\n",
        "<div class=\"alert alert-danger\" role=\"alert\">\n",
        "<h3 class=\"alert-heading\"><i class=\"fa-solid fa-triangle-exclamation\"></i> Warning</h3>\n",
        "\n",
        "This is possible thanks to the native vectorization of `Numpy` operations and the magic of `Pandas` that rearranges everything. This is not usable with just any function. For other functions, you will need to use `assign`, generally through lambda functions, temporary functions acting as pass-throughs. For example, to create a variable using this approach, you would do:\n",
        "\n",
        "``` python\n",
        "df.assign(\n",
        "  Energie_log = lambda x: np.log(x['Energie'])\n",
        ")\n",
        "```\n",
        "\n",
        "With methods from `Pandas` or `Numpy` like this, it is not beneficial and even counterproductive as it slows down the code.\n",
        "\n",
        "</div>\n",
        "\n",
        "Variables can be easily renamed using the `rename` method, which works well with dictionaries. To rename columns, specify the parameter `axis = 'columns'` or `axis=1`. The `axis` parameter is often necessary because many `Pandas` methods assume by default that operations are done on the row index:"
      ],
      "id": "c275eb97-1955-4914-a10e-9fb99dc21974"
    },
    {
      "cell_type": "code",
      "execution_count": 37,
      "metadata": {},
      "outputs": [
        {
          "output_type": "display_data",
          "metadata": {},
          "data": {
            "text/html": [
              "\n",
              "</div>"
            ]
          }
        }
      ],
      "source": [
        "df = df.rename({\"Energie\": \"eneg\", \"Agriculture\": \"agr\"}, axis=1)\n",
        "df.head()"
      ],
      "id": "27cd1854"
    },
    {
      "cell_type": "markdown",
      "metadata": {},
      "source": [
        "Finally, to delete columns, use the `drop` method with the `columns` argument:"
      ],
      "id": "39f05618-61ee-4d35-b8fc-f91fbd1ae30c"
    },
    {
      "cell_type": "code",
      "execution_count": 38,
      "metadata": {},
      "outputs": [],
      "source": [
        "df = df.drop(columns = [\"eneg\", \"agr\"])"
      ],
      "id": "2c0b53cb"
    },
    {
      "cell_type": "markdown",
      "metadata": {},
      "source": [
        "## 6.2 Reordering observations\n",
        "\n",
        "The `sort_values` method allows reordering observations in a `DataFrame`, keeping the column order the same.\n",
        "\n",
        "For example, to sort in descending order of CO2 consumption in the residential sector, you would do:"
      ],
      "id": "f5c10eb3-1f77-49a5-bbf3-b881f7bf565d"
    },
    {
      "cell_type": "code",
      "execution_count": 40,
      "metadata": {},
      "outputs": [
        {
          "output_type": "display_data",
          "metadata": {},
          "data": {
            "text/html": [
              "\n",
              "</div>"
            ]
          }
        }
      ],
      "source": [
        "df = df.sort_values(\"Résidentiel\", ascending = False)\n",
        "df.head(3)"
      ],
      "id": "aed6f4f6"
    },
    {
      "cell_type": "markdown",
      "metadata": {},
      "source": [
        "Thus, in one line of code, you can identify the cities where the residential sector consumes the most. In SQL, you would do:\n",
        "\n",
        "``` sql\n",
        "SELECT * FROM df ORDER BY \"Résidentiel\" DESC\n",
        "```\n",
        "\n",
        "## 6.3 Filtering\n",
        "\n",
        "The operation of selecting rows is called `FILTER` in SQL. It is used based on a logical condition (clause `WHERE`). Data is selected based on a logical condition.\n",
        "\n",
        "There are several methods in `Pandas`. The simplest is to use boolean masks, as seen in the chapter [`numpy`](../../content/manipulation/01_numpy.qmd).\n",
        "\n",
        "For example, to select the municipalities in Hauts-de-Seine, you can start by using the result of the `str.startswith` method (which returns `True` or `False`):"
      ],
      "id": "9e42f5a5-fd74-4721-86f6-944001d70ae0"
    },
    {
      "cell_type": "code",
      "execution_count": 43,
      "metadata": {},
      "outputs": [
        {
          "output_type": "display_data",
          "metadata": {},
          "data": {
            "text/plain": [
              "12167    False\n",
              "16774    False\n",
              "27294    False\n",
              "12729    False\n",
              "22834    False\n",
              "         ...  \n",
              "20742    False\n",
              "20817    False\n",
              "20861    False\n",
              "20898    False\n",
              "20957    False\n",
              "Name: INSEE commune, Length: 35798, dtype: bool"
            ]
          }
        }
      ],
      "source": [
        "df['INSEE commune'].str.startswith(\"92\")"
      ],
      "id": "fc1dbdab"
    },
    {
      "cell_type": "markdown",
      "metadata": {},
      "source": [
        "`str.` is a special method in `Pandas` that allows treating each value of a vector as a native `string` in `Python` to which a subsequent method (in this case, `startswith`) is applied.\n",
        "\n",
        "The above instruction returns a vector of booleans. We previously saw that the `loc` method is used for subsetting on both row and column indices. It works with boolean vectors. In this case, if subsetting on the row dimension (or column), it will return all observations (or variables) that satisfy this condition.\n",
        "\n",
        "Thus, by combining these two elements, we can filter our data to get only the results for the 92:"
      ],
      "id": "3531e1cd-6d71-4846-a289-8e6b89841f6b"
    },
    {
      "cell_type": "code",
      "execution_count": 44,
      "metadata": {},
      "outputs": [
        {
          "output_type": "display_data",
          "metadata": {},
          "data": {
            "text/html": [
              "\n",
              "</div>"
            ]
          }
        }
      ],
      "source": [
        "df.loc[df['INSEE commune'].str.startswith(\"92\")].head(2)"
      ],
      "id": "98e736b0"
    },
    {
      "cell_type": "markdown",
      "metadata": {},
      "source": [
        "The equivalent SQL code may vary depending on the execution engine (`DuckDB`, `PostGre`, `MySQL`) but would take a form similar to this:\n",
        "\n",
        "``` sql\n",
        "SELECT * FROM df WHERE STARTSWITH(\"INSEE commune\", \"92\")\n",
        "```\n",
        "\n",
        "## 6.4 Summary of main operations\n",
        "\n",
        "The main manipulations are as follows:\n",
        "\n",
        "<table>\n",
        "<colgroup>\n",
        "<col style=\"width: 50%\" />\n",
        "<col style=\"width: 50%\" />\n",
        "</colgroup>\n",
        "<tbody>\n",
        "<tr class=\"odd\">\n",
        "<td style=\"text-align: left;\"><div width=\"50.0%\" data-layout-align=\"left\">\n",
        "<p><img src=\"https://minio.lab.sspcloud.fr/lgaliana/generative-art/pythonds/select_pandas.png\" alt=\"Selecting Columns\" />\n",
        "<img src=\"https://minio.lab.sspcloud.fr/lgaliana/generative-art/pythonds/rename_pandas.png\" alt=\"Renaming Columns\" /></p>\n",
        "</div></td>\n",
        "<td style=\"text-align: left;\"><div width=\"50.0%\" data-layout-align=\"left\">\n",
        "<p><img src=\"https://minio.lab.sspcloud.fr/lgaliana/generative-art/pythonds/mutate_pandas.png\" alt=\"Creating New Columns\" />\n",
        "<img src=\"https://minio.lab.sspcloud.fr/lgaliana/generative-art/pythonds/filter_pandas.png\" alt=\"Selecting Rows\" /></p>\n",
        "</div></td>\n",
        "</tr>\n",
        "</tbody>\n",
        "</table>\n",
        "\n",
        "<table style=\"width:50%;\">\n",
        "<colgroup>\n",
        "<col style=\"width: 50%\" />\n",
        "</colgroup>\n",
        "<tbody>\n",
        "<tr class=\"odd\">\n",
        "<td style=\"text-align: left;\"><div width=\"50.0%\" data-layout-align=\"left\">\n",
        "<figure>\n",
        "<img src=\"https://minio.lab.sspcloud.fr/lgaliana/generative-art/pythonds/arrange_pandas.png\" alt=\"Reordering the DataFrame\" />\n",
        "<figcaption aria-hidden=\"true\">Reordering the DataFrame</figcaption>\n",
        "</figure>\n",
        "</div></td>\n",
        "</tr>\n",
        "</tbody>\n",
        "</table>\n",
        "\n",
        "# 7. Descriptive Statistics\n",
        "\n",
        "To start again from the raw source, let’s recreate our dataset for the examples:"
      ],
      "id": "afdf224a-2d51-491c-8cd0-73ada818a32c"
    },
    {
      "cell_type": "code",
      "execution_count": 45,
      "metadata": {},
      "outputs": [
        {
          "output_type": "display_data",
          "metadata": {},
          "data": {
            "text/html": [
              "\n",
              "</div>"
            ]
          }
        }
      ],
      "source": [
        "df = pd.read_csv(\"https://koumoul.com/s/data-fair/api/v1/datasets/igt-pouvoir-de-rechauffement-global/convert\")\n",
        "df.head(3)"
      ],
      "id": "1bbe8870"
    },
    {
      "cell_type": "markdown",
      "metadata": {},
      "source": [
        "`Pandas` includes several methods to construct aggregate statistics: sum, count of unique values, count of non-missing values, mean, variance, etc.\n",
        "\n",
        "The most generic method is `describe`"
      ],
      "id": "da510b35-2f9e-4637-beb7-ee9cb9749ae5"
    },
    {
      "cell_type": "code",
      "execution_count": 47,
      "metadata": {},
      "outputs": [
        {
          "output_type": "display_data",
          "metadata": {},
          "data": {
            "text/html": [
              "\n",
              "</div>"
            ]
          }
        }
      ],
      "source": [
        "df.describe()"
      ],
      "id": "9275244a"
    },
    {
      "cell_type": "markdown",
      "metadata": {},
      "source": [
        "which is similar to the eponymous method in `Stata` or the `PROC FREQ` of `SAS`, two proprietary languages. However, it provides a lot of information, which can often be overwhelming. Therefore, it is more practical to work directly on a few columns or choose the statistics you want to use.\n",
        "\n",
        "## 7.1 Counts\n",
        "\n",
        "The first type of statistics you might want to implement involves counting or enumerating values.\n",
        "\n",
        "For example, if you want to know the number of municipalities in your dataset, you can use the `count` method or `nunique` if you are interested in unique values."
      ],
      "id": "1a769164-7431-4a8b-8038-c1c52c69d0a1"
    },
    {
      "cell_type": "code",
      "execution_count": 48,
      "metadata": {},
      "outputs": [
        {
          "output_type": "display_data",
          "metadata": {},
          "data": {
            "text/plain": [
              "np.int64(35798)"
            ]
          }
        }
      ],
      "source": [
        "df['Commune'].count()"
      ],
      "id": "5c7567e2"
    },
    {
      "cell_type": "code",
      "execution_count": 49,
      "metadata": {},
      "outputs": [
        {
          "output_type": "display_data",
          "metadata": {},
          "data": {
            "text/plain": [
              "33338"
            ]
          }
        }
      ],
      "source": [
        "df['Commune'].nunique()"
      ],
      "id": "94836392"
    },
    {
      "cell_type": "markdown",
      "metadata": {},
      "source": [
        "In SQL, the first instruction would be `SELECT COUNT(Commune) FROM df`, the second `SELECT COUNT DISTINCT Commune FROM df`. Here, this allows us to understand that there may be duplicates in the `Commune` column, which needs to be considered if we want to uniquely identify our municipalities (this will be addressed in the next chapter on data merging).\n",
        "\n",
        "The coherence of the `Pandas` syntax allows you to do this for several columns simultaneously. In SQL, this would be possible but the code would start to become quite verbose:"
      ],
      "id": "53c6d681-3afa-4626-b281-ef521ee12038"
    },
    {
      "cell_type": "code",
      "execution_count": 50,
      "metadata": {},
      "outputs": [
        {
          "output_type": "display_data",
          "metadata": {},
          "data": {
            "text/plain": [
              "Commune          35798\n",
              "INSEE commune    35798\n",
              "dtype: int64"
            ]
          }
        }
      ],
      "source": [
        "df.loc[:, ['Commune', 'INSEE commune']].count()"
      ],
      "id": "50b96fdf"
    },
    {
      "cell_type": "code",
      "execution_count": 51,
      "metadata": {},
      "outputs": [
        {
          "output_type": "display_data",
          "metadata": {},
          "data": {
            "text/plain": [
              "Commune          33338\n",
              "INSEE commune    35798\n",
              "dtype: int64"
            ]
          }
        }
      ],
      "source": [
        "df.loc[:, ['Commune', 'INSEE commune']].nunique()"
      ],
      "id": "2d0f8ffc"
    },
    {
      "cell_type": "markdown",
      "metadata": {},
      "source": [
        "With these two simple commands, we understand that our `INSEE commune` variable (the INSEE code) will be more reliable for identifying municipalities than the names, which are not necessarily unique. The purpose of the INSEE code is to provide a unique identifier, unlike the postal code which can be shared by several municipalities.\n",
        "\n",
        "## 7.2 Aggregated statistics\n",
        "\n",
        "`Pandas` includes several methods to construct statistics on multiple columns: sum, mean, variance, etc.\n",
        "\n",
        "The methods are quite straightforward:"
      ],
      "id": "0cd47934-2f61-4f7d-8e36-2975cde6309a"
    },
    {
      "cell_type": "code",
      "execution_count": 55,
      "metadata": {},
      "outputs": [
        {
          "output_type": "display_data",
          "metadata": {},
          "data": {
            "text/plain": [
              "np.float64(2459.975759687974)"
            ]
          }
        }
      ],
      "source": [
        "df['Agriculture'].sum()\n",
        "df['Agriculture'].mean()"
      ],
      "id": "731914a5"
    },
    {
      "cell_type": "markdown",
      "metadata": {},
      "source": [
        "Again, the consistency of `Pandas` allows generalizing the calculation of statistics to multiple columns:"
      ],
      "id": "2f8c3968-4a5b-4b03-befa-d6a53278d864"
    },
    {
      "cell_type": "code",
      "execution_count": 56,
      "metadata": {},
      "outputs": [
        {
          "output_type": "display_data",
          "metadata": {},
          "data": {
            "text/plain": [
              "Agriculture    2459.975760\n",
              "Résidentiel    1783.677872\n",
              "dtype: float64"
            ]
          }
        }
      ],
      "source": [
        "df.loc[:, ['Agriculture', 'Résidentiel']].sum()\n",
        "df.loc[:, ['Agriculture', 'Résidentiel']].mean()"
      ],
      "id": "8649d943"
    },
    {
      "cell_type": "markdown",
      "metadata": {},
      "source": [
        "It is possible to generalize this to all columns. However, it is necessary to introduce the `numeric_only` parameter to perform the aggregation task only on the relevant variables:"
      ],
      "id": "2fd81dba-d7b2-46be-a379-e765f2b276c4"
    },
    {
      "cell_type": "code",
      "execution_count": 57,
      "metadata": {},
      "outputs": [
        {
          "output_type": "display_data",
          "metadata": {},
          "data": {
            "text/plain": [
              "Agriculture                        2459.975760\n",
              "Autres transports                   654.919940\n",
              "Autres transports international    7692.344960\n",
              "CO2 biomasse hors-total            1774.381550\n",
              "Déchets                             410.806329\n",
              "Energie                             662.569846\n",
              "Industrie hors-énergie             2423.127789\n",
              "Résidentiel                        1783.677872\n",
              "Routier                            3535.501245\n",
              "Tertiaire                          1105.165915\n",
              "dtype: float64"
            ]
          }
        }
      ],
      "source": [
        "df.mean(numeric_only = True)"
      ],
      "id": "a3c7f34d"
    },
    {
      "cell_type": "markdown",
      "metadata": {},
      "source": [
        "<div class=\"alert alert-danger\" role=\"alert\">\n",
        "<h3 class=\"alert-heading\"><i class=\"fa-solid fa-triangle-exclamation\"></i> Warning</h3>\n",
        "\n",
        "Version 2.0 of `Pandas` introduced a change in the behavior of aggregation methods.\n",
        "\n",
        "It is now necessary to specify whether you want to perform operations exclusively on numeric columns. This is why we explicitly state the argument `numeric_only = True` here. This behavior was previously implicit.\n",
        "\n",
        "</div>\n",
        "\n",
        "The practical method to know is `agg`. This allows defining the statistics you want to calculate for each variable:"
      ],
      "id": "f39ad625-ed56-4100-a98c-b4eeeec48a03"
    },
    {
      "cell_type": "code",
      "execution_count": 58,
      "metadata": {},
      "outputs": [
        {
          "output_type": "display_data",
          "metadata": {},
          "data": {
            "text/html": [
              "\n",
              "</div>"
            ]
          }
        }
      ],
      "source": [
        "df.agg(\n",
        "  {\n",
        "    'Agriculture': ['sum', 'mean'],\n",
        "    'Résidentiel': ['mean', 'std'],\n",
        "    'Commune': 'nunique'\n",
        "  }\n",
        ")"
      ],
      "id": "db60533f"
    },
    {
      "cell_type": "markdown",
      "metadata": {},
      "source": [
        "The output of aggregation methods is an indexed `Series` (methods like `df.sum()`) or directly a `DataFrame` (the `agg` method). It is generally more practical to have a `DataFrame` than an indexed `Series` if you want to rework the table to draw conclusions. Therefore, it is useful to transform the outputs from `Series` to `DataFrame` and then apply the `reset_index` method to convert the index into a column. From there, you can modify the `DataFrame` to make it more readable.\n",
        "\n",
        "For example, if you are interested in the share of each sector in total emissions, you can proceed in two steps. First, create an observation per sector representing its total emissions:"
      ],
      "id": "482df239-9caa-4c09-90a8-e521e80519ec"
    },
    {
      "cell_type": "code",
      "execution_count": 59,
      "metadata": {},
      "outputs": [
        {
          "output_type": "display_data",
          "metadata": {},
          "data": {
            "text/html": [
              "\n",
              "</div>"
            ]
          }
        }
      ],
      "source": [
        "# Etape 1: création d'un DataFrame propre\n",
        "emissions_totales = (\n",
        "  pd.DataFrame(\n",
        "    df.sum(numeric_only = True),\n",
        "    columns = [\"emissions\"]\n",
        "  )\n",
        "  .reset_index(names = \"secteur\")\n",
        ")\n",
        "emissions_totales"
      ],
      "id": "f933e300"
    },
    {
      "cell_type": "markdown",
      "metadata": {},
      "source": [
        "Then, work minimally on the dataset to get some interesting conclusions about the structure of emissions in France:"
      ],
      "id": "38117fd7-7b03-4961-bd74-eca8afa4c2d8"
    },
    {
      "cell_type": "code",
      "execution_count": 60,
      "metadata": {},
      "outputs": [
        {
          "output_type": "display_data",
          "metadata": {},
          "data": {
            "text/html": [
              "\n",
              "</div>"
            ]
          }
        }
      ],
      "source": [
        "emissions_totales['emissions (%)'] = (\n",
        "  100*emissions_totales['emissions']/emissions_totales['emissions'].sum()\n",
        ")\n",
        "(emissions_totales\n",
        "  .sort_values(\"emissions\", ascending = False).\n",
        "  round()\n",
        ")"
      ],
      "id": "8942d122"
    },
    {
      "cell_type": "markdown",
      "metadata": {},
      "source": [
        "This table is not well-formatted and far from being presentable, but it is already useful from an exploratory perspective. It helps us understand the most emitting sectors, namely transport, agriculture, and industry, excluding energy. The fact that energy is relatively low in emissions can be explained by the French energy mix, where nuclear power represents a majority of electricity production.\n",
        "\n",
        "To go further in formatting this table to have communicable statistics outside of `Python`, we will explore `great_tables` in the next chapter.\n",
        "\n",
        "<div class=\"alert alert-info\" role=\"alert\">\n",
        "<h3 class=\"alert-heading\"><i class=\"fa-solid fa-comment\"></i> Note</h3>\n",
        "\n",
        "The data structure resulting from `df.sum` is quite practical (it is tidy). We could do exactly the same operation as `df.sum(numeric_only = True)` with the following code:\n",
        "\n",
        "``` python\n",
        "df.select_dtypes(include='number').agg(func=sum)\n",
        "```\n",
        "\n",
        "    /tmp/ipykernel_5160/1114394405.py:1: FutureWarning:\n",
        "\n",
        "    The provided callable <built-in function sum> is currently using DataFrame.sum. In a future version of pandas, the provided callable will be used directly. To keep current behavior pass the string \"sum\" instead.\n",
        "\n",
        "    Agriculture                        8.790969e+07\n",
        "    Autres transports                  6.535446e+06\n",
        "    Autres transports international    2.223857e+07\n",
        "    CO2 biomasse hors-total            6.351931e+07\n",
        "    Déchets                            1.470358e+07\n",
        "    Energie                            2.285203e+07\n",
        "    Industrie hors-énergie             8.357368e+07\n",
        "    Résidentiel                        6.384140e+07\n",
        "    Routier                            1.264932e+08\n",
        "    Tertiaire                          3.956273e+07\n",
        "    dtype: float64\n",
        "\n",
        "</div>\n",
        "\n",
        "## 7.3 Missing values\n",
        "\n",
        "So far, we haven’t discussed what could be a stumbling block for a data scientist: missing values.\n",
        "\n",
        "Real datasets are rarely complete, and missing values can reflect many realities: data retrieval issues, irrelevant variables for a given observation, etc.\n",
        "\n",
        "Technically, `Pandas` handles missing values without issues (except for `int` variables, but that’s an exception). By default, missing values are displayed as `NaN` and are of type `np.nan` (for temporal values, i.e., of type `datetime64`, missing values are `NaT`). We get consistent aggregation behavior when combining two columns, one of which has missing values."
      ],
      "id": "91a9033e-c9d9-4731-880c-6e9871bb3f7a"
    },
    {
      "cell_type": "code",
      "execution_count": 62,
      "metadata": {},
      "outputs": [
        {
          "output_type": "display_data",
          "metadata": {},
          "data": {
            "text/html": [
              "\n",
              "</div>"
            ]
          }
        }
      ],
      "source": [
        "ventes = pd.DataFrame(\n",
        "    {'prix': np.random.uniform(size = 5),\n",
        "     'client1': [i+1 for i in range(5)],\n",
        "     'client2': [i+1 for i in range(4)] + [np.nan],\n",
        "     'produit': [np.nan] + ['yaourt','pates','riz','tomates']\n",
        "    }\n",
        ")\n",
        "ventes"
      ],
      "id": "5f7094bd"
    },
    {
      "cell_type": "markdown",
      "metadata": {},
      "source": [
        "`Pandas` will refuse to aggregate because, for it, a missing value is not zero:"
      ],
      "id": "83d7567f-c16c-4d0f-84f0-a7a3c98113b6"
    },
    {
      "cell_type": "code",
      "execution_count": 63,
      "metadata": {},
      "outputs": [
        {
          "output_type": "display_data",
          "metadata": {},
          "data": {
            "text/plain": [
              "0    2.0\n",
              "1    4.0\n",
              "2    6.0\n",
              "3    8.0\n",
              "4    NaN\n",
              "dtype: float64"
            ]
          }
        }
      ],
      "source": [
        "ventes[\"client1\"] + ventes[\"client2\"]"
      ],
      "id": "984e7080"
    },
    {
      "cell_type": "markdown",
      "metadata": {},
      "source": [
        "It is possible to remove missing values using `dropna()`. This method will remove all rows where there is at least one missing value."
      ],
      "id": "9e52a903-d967-4eff-bbcc-cd5d2ef33bb7"
    },
    {
      "cell_type": "code",
      "execution_count": 64,
      "metadata": {},
      "outputs": [
        {
          "output_type": "display_data",
          "metadata": {},
          "data": {
            "text/html": [
              "\n",
              "</div>"
            ]
          }
        }
      ],
      "source": [
        "ventes.dropna()"
      ],
      "id": "4313c047"
    },
    {
      "cell_type": "markdown",
      "metadata": {},
      "source": [
        "In this case, we lose two rows. It is also possible to remove only the columns where there are missing values in a DataFrame with `dropna()` using the `subset` parameter."
      ],
      "id": "a0cf6d01-084a-4758-bd0a-f6f0ea954560"
    },
    {
      "cell_type": "code",
      "execution_count": 65,
      "metadata": {},
      "outputs": [
        {
          "output_type": "display_data",
          "metadata": {},
          "data": {
            "text/html": [
              "\n",
              "</div>"
            ]
          }
        }
      ],
      "source": [
        "ventes.dropna(subset=[\"produit\"])"
      ],
      "id": "cc66b73c"
    },
    {
      "cell_type": "markdown",
      "metadata": {},
      "source": [
        "This time we lose only one row, the one where `produit` is missing.\n",
        "\n",
        "`Pandas` provides the ability to impute missing values using the `fillna()` method. For example, if you think the missing values in `produit` are zeros, you can do:"
      ],
      "id": "bbfa6776-709e-4b72-806f-c1eb82a4880d"
    },
    {
      "cell_type": "code",
      "execution_count": 66,
      "metadata": {},
      "outputs": [
        {
          "output_type": "display_data",
          "metadata": {},
          "data": {
            "text/html": [
              "\n",
              "</div>"
            ]
          }
        }
      ],
      "source": [
        "ventes.dropna(subset=[\"produit\"]).fillna(0)"
      ],
      "id": "11efd178"
    },
    {
      "cell_type": "markdown",
      "metadata": {},
      "source": [
        "If you want to impute the median for the `client2` variable, you can slightly change this code by encapsulating the median calculation inside:"
      ],
      "id": "164fcd21-d1d2-45a0-a219-a4a46b255ccd"
    },
    {
      "cell_type": "code",
      "execution_count": 67,
      "metadata": {},
      "outputs": [
        {
          "output_type": "display_data",
          "metadata": {},
          "data": {
            "text/plain": [
              "0    1.0\n",
              "1    2.0\n",
              "2    3.0\n",
              "3    4.0\n",
              "4    2.5\n",
              "Name: client2, dtype: float64"
            ]
          }
        }
      ],
      "source": [
        "(ventes[\"client2\"]\n",
        "  .fillna(\n",
        "    ventes[\"client2\"].median()\n",
        "  )\n",
        ")"
      ],
      "id": "b04bfc8f"
    },
    {
      "cell_type": "markdown",
      "metadata": {},
      "source": [
        "For real-world datasets, it is useful to use the `isna` (or `isnull`) method combined with `sum` or `mean` to understand the extent of missing values in a dataset."
      ],
      "id": "4395197e-0afb-4e3e-9916-379c6fe0e11b"
    },
    {
      "cell_type": "code",
      "execution_count": 68,
      "metadata": {},
      "outputs": [
        {
          "output_type": "display_data",
          "metadata": {},
          "data": {
            "text/plain": [
              "Autres transports international    0.919241\n",
              "Autres transports                  0.721241\n",
              "Energie                            0.036538\n",
              "Industrie hors-énergie             0.036538\n",
              "Agriculture                        0.001732\n",
              "Routier                            0.000559\n",
              "Résidentiel                        0.000168\n",
              "Déchets                            0.000168\n",
              "INSEE commune                      0.000000\n",
              "Commune                            0.000000\n",
              "CO2 biomasse hors-total            0.000000\n",
              "Tertiaire                          0.000000\n",
              "dtype: float64"
            ]
          }
        }
      ],
      "source": [
        "df.isnull().mean().sort_values(ascending = False)"
      ],
      "id": "5fbc483d"
    },
    {
      "cell_type": "markdown",
      "metadata": {},
      "source": [
        "This preparatory step is useful for anticipating the question of imputation or filtering on missing values: are they missing at random or do they reflect an issue in data retrieval? The choices related to handling missing values are not neutral methodological choices. `Pandas` provides the technical tools to do this, but the legitimacy and relevance of these choices are specific to each dataset. Data explorations aim to detect clues to make an informed decision.\n",
        "\n",
        "# 8. Quick graphical representations\n",
        "\n",
        "Numerical tables are certainly useful for understanding the structure of a dataset, but their dense aspect makes them difficult to grasp. Having a simple graph can be useful to visualize the distribution of the data at a glance and thus understand the normality of an observation.\n",
        "\n",
        "`Pandas` includes basic graphical methods to meet this need. They are practical for quickly producing a graph, especially after complex data manipulation operations. We will delve deeper into the issue of data visualizations in the [Communicate](../../content/visualisation.qmd) section.\n",
        "\n",
        "You can apply the `plot()` method directly to a `Series`:"
      ],
      "id": "8ed5dfe4-1c64-4e89-af77-b8c1bacc7159"
    },
    {
      "cell_type": "code",
      "execution_count": 69,
      "metadata": {},
      "outputs": [
        {
          "output_type": "display_data",
          "metadata": {},
          "data": {
            "image/png": "[encoded data removed]"
          }
        }
      ],
      "source": [
        "df['Déchets'].plot()"
      ],
      "id": "e20abad8"
    },
    {
      "cell_type": "markdown",
      "metadata": {},
      "source": [
        "The equivalent code with `matplotlib` would be:"
      ],
      "id": "b01bea4f-87e7-4a9d-824d-f0fc51298751"
    },
    {
      "cell_type": "code",
      "execution_count": 70,
      "metadata": {},
      "outputs": [
        {
          "output_type": "display_data",
          "metadata": {},
          "data": {
            "image/png": "[encoded data removed]"
          }
        }
      ],
      "source": [
        "import matplotlib.pyplot as plt\n",
        "plt.plot(df.index, df['Déchets'])"
      ],
      "id": "61f725aa"
    },
    {
      "cell_type": "markdown",
      "metadata": {},
      "source": [
        "By default, the obtained visualization is a series. This is not necessarily what is expected since it only makes sense for time series. As a data scientist working with microdata, you are more often interested in a histogram to get an idea of the data distribution. To do this, simply add the argument `kind = 'hist'`:"
      ],
      "id": "d66c5165-2875-4a53-a75e-c3dce09fc9a2"
    },
    {
      "cell_type": "code",
      "execution_count": 71,
      "metadata": {},
      "outputs": [
        {
          "output_type": "display_data",
          "metadata": {},
          "data": {
            "image/png": "[encoded data removed]"
          }
        }
      ],
      "source": [
        "df['Déchets'].hist()"
      ],
      "id": "e06067d0"
    },
    {
      "cell_type": "markdown",
      "metadata": {},
      "source": [
        "With data that has a non-normalized distribution, which represents many real-world variables, histograms are generally not very informative. The log can be a solution to bring some extreme values to a comparable scale:"
      ],
      "id": "829b51fb-33ae-4011-b0f6-3ec597f64fe7"
    },
    {
      "cell_type": "code",
      "execution_count": 72,
      "metadata": {},
      "outputs": [
        {
          "output_type": "display_data",
          "metadata": {},
          "data": {
            "image/png": "[encoded data removed]"
          }
        }
      ],
      "source": [
        "df['Déchets'].plot(kind = 'hist', logy = True)"
      ],
      "id": "807a901f"
    },
    {
      "cell_type": "markdown",
      "metadata": {},
      "source": [
        "The output is a `matplotlib` object. Customizing these figures is thus possible (and even desirable because the default `matplotlib` graphs are quite basic). However, this is a quick method for constructing figures that require work for a finalized visualization. This involves thorough work on the `matplotlib` object or using a higher-level library for graphical representation (`seaborn`, `plotnine`, `plotly`, etc.).\n",
        "\n",
        "The part of this course dedicated to data visualization will briefly present these different visualization paradigms. These do not exempt you from using common sense in choosing the graph used to represent a descriptive statistic (see [this conference by Eric Mauvière](https://ssphub.netlify.app/talk/2024-02-29-mauviere/)).\n",
        "\n",
        "# 9. Synthesis exercise\n",
        "\n",
        "This exercise synthesizes several steps of data preparation and exploration to better understand the structure of the phenomenon we want to study, namely carbon emissions in France.\n",
        "\n",
        "It is recommended to start from a clean session (in a notebook, you should do `Restart Kernel`) to avoid an environment polluted by other objects. You can then run the following code to get the necessary base:"
      ],
      "id": "1624f02f-8a5d-427a-b17f-cf24d3845a48"
    },
    {
      "cell_type": "code",
      "execution_count": 73,
      "metadata": {},
      "outputs": [
        {
          "output_type": "display_data",
          "metadata": {},
          "data": {
            "text/html": [
              "\n",
              "</div>"
            ]
          }
        }
      ],
      "source": [
        "import pandas as pd\n",
        "\n",
        "emissions = pd.read_csv(\"https://koumoul.com/s/data-fair/api/v1/datasets/igt-pouvoir-de-rechauffement-global/convert\")\n",
        "emissions.head(2)"
      ],
      "id": "cab3f19c"
    },
    {
      "cell_type": "markdown",
      "metadata": {},
      "source": [
        "<div class=\"alert alert-success\" role=\"alert\">\n",
        "<h3 class=\"alert-heading\"><i class=\"fa-solid fa-pencil\"></i> Exercise 2: Discovering the Pandas Verbs for Data Manipulation</h3>\n",
        "\n",
        "First, let’s get familiar with operations on columns.\n",
        "\n",
        "1.  Create a `DataFrame` `emissions_copy` keeping only the columns `INSEE commune`, `Commune`, `Autres transports`, and `Autres transports international`.\n",
        "\n",
        "<details>\n",
        "\n",
        "<summary>\n",
        "\n",
        "Hint for this question\n",
        "\n",
        "</summary>\n",
        "\n",
        "![](https://minio.lab.sspcloud.fr/lgaliana/generative-art/pythonds/select_pandas.png)\n",
        "\n",
        "</details>\n",
        "\n",
        "1.  Since the variable names are not practical, rename them as follows:\n",
        "    -   `INSEE commune` $\\to$ `code_insee`\n",
        "    -   `Autres transports` $\\to$ `transports`\n",
        "    -   `Autres transports international` $\\to$ `transports_international`\n",
        "\n",
        "<details>\n",
        "\n",
        "<summary>\n",
        "\n",
        "Hint for this question\n",
        "\n",
        "</summary>\n",
        "\n",
        "![](https://minio.lab.sspcloud.fr/lgaliana/generative-art/pythonds/rename_pandas.png)\n",
        "\n",
        "</details>\n",
        "\n",
        "1.  For simplicity, replace missing values (`NA`) with 0. Use the [`fillna`](https://pandas.pydata.org/docs/reference/api/pandas.DataFrame.fillna.html) method to transform missing values into 0.\n",
        "\n",
        "2.  Create the following variables:\n",
        "\n",
        "    -   `dep`: the department. This can be created using the first two characters of `code_insee` by applying the `str` method;\n",
        "    -   `transports_total`: the emissions of the transport sector (sum of the two variables).\n",
        "\n",
        "<details>\n",
        "\n",
        "<summary>\n",
        "\n",
        "Hint for this question\n",
        "\n",
        "</summary>\n",
        "\n",
        "![](https://minio.lab.sspcloud.fr/lgaliana/generative-art/pythonds/mutate_pandas.png)\n",
        "\n",
        "</details>\n",
        "\n",
        "1.  Order the data from the biggest polluter to the smallest, then order the data from the biggest polluter to the smallest by department (from 01 to 95).\n",
        "\n",
        "<details>\n",
        "\n",
        "<summary>\n",
        "\n",
        "Hint for this question\n",
        "\n",
        "</summary>\n",
        "\n",
        "![](https://minio.lab.sspcloud.fr/lgaliana/generative-art/pythonds/arrange_pandas.png)\n",
        "\n",
        "</details>\n",
        "\n",
        "1.  Keep only the municipalities belonging to departments 13 or 31. Order these municipalities from the biggest polluter to the smallest.\n",
        "\n",
        "<details>\n",
        "\n",
        "<summary>\n",
        "\n",
        "Hint for this question\n",
        "\n",
        "</summary>\n",
        "\n",
        "![](https://minio.lab.sspcloud.fr/lgaliana/generative-art/pythonds/filter_pandas.png)\n",
        "\n",
        "</details>\n",
        "\n",
        "Return to the initial `emission` dataset.\n",
        "\n",
        "1.  Calculate the total emissions by sector. Calculate the share of each sector in total emissions. Convert the volumes to tons before displaying the results.\n",
        "\n",
        "2.  Calculate the total emissions for each municipality after imputing missing values to 0. Keep the top 100 emitting municipalities. Calculate the share of each sector in this emission. Understand the factors that may explain this ranking.\n",
        "\n",
        "<details>\n",
        "\n",
        "<summary>\n",
        "\n",
        "Help if you are struggling with question 8\n",
        "\n",
        "</summary>\n",
        "\n",
        "Play with the `axis` parameter when constructing an aggregate statistic.\n",
        "\n",
        "</details>\n",
        "\n",
        "</div>\n",
        "\n",
        "In question 5, when the communes are ordered exclusively on the basis of the variable `transport_total`, the result is as follows:"
      ],
      "id": "75da3259-1e90-4b2b-986d-6b3833ce2c7e"
    },
    {
      "cell_type": "code",
      "execution_count": 75,
      "metadata": {},
      "outputs": [
        {
          "output_type": "display_data",
          "metadata": {},
          "data": {
            "text/html": [
              "\n",
              "</div>"
            ]
          }
        }
      ],
      "source": [],
      "id": "0dfda545"
    },
    {
      "cell_type": "markdown",
      "metadata": {},
      "source": [
        "Question 6 gives us this classification:"
      ],
      "id": "2b838ad7-05b7-4df8-8659-8ef55c1b97ef"
    },
    {
      "cell_type": "code",
      "execution_count": 76,
      "metadata": {},
      "outputs": [
        {
          "output_type": "display_data",
          "metadata": {},
          "data": {
            "text/html": [
              "\n",
              "</div>"
            ]
          }
        }
      ],
      "source": [],
      "id": "247173b8"
    },
    {
      "cell_type": "markdown",
      "metadata": {},
      "source": [
        "In question 7, the resulting table looks like this"
      ],
      "id": "ca1b2edc-a388-4037-a8f1-866d6b80c695"
    },
    {
      "cell_type": "code",
      "execution_count": 77,
      "metadata": {},
      "outputs": [
        {
          "output_type": "display_data",
          "metadata": {},
          "data": {
            "text/html": [
              "\n",
              "</div>"
            ]
          }
        }
      ],
      "source": [],
      "id": "088c5d98"
    },
    {
      "cell_type": "code",
      "execution_count": 78,
      "metadata": {},
      "outputs": [
        {
          "output_type": "display_data",
          "metadata": {},
          "data": {
            "text/html": [
              "\n",
              "<p>100 rows × 12 columns</p>\n",
              "</div>"
            ]
          }
        }
      ],
      "source": [],
      "id": "845a9394"
    },
    {
      "cell_type": "markdown",
      "metadata": {},
      "source": [
        "At the end of question 8, we better understand the factors that can explain high emissions at the municipal level. If we look at the top three emitting municipalities, we can see that they are cities with refineries:"
      ],
      "id": "66e627d1-ee61-436c-b0f1-7328762c3206"
    },
    {
      "cell_type": "code",
      "execution_count": 81,
      "metadata": {},
      "outputs": [
        {
          "output_type": "display_data",
          "metadata": {},
          "data": {
            "text/html": [
              "\n",
              "<p>3 rows × 24 columns</p>\n",
              "</div>"
            ]
          }
        }
      ],
      "source": [],
      "id": "f89e765e"
    },
    {
      "cell_type": "markdown",
      "metadata": {},
      "source": [
        "Thanks to our minimal explorations with `Pandas`, we see that this dataset provides information about the nature of the French productive fabric and the environmental consequences of certain activities.\n",
        "\n",
        "# References\n",
        "\n",
        "-   The site [pandas.pydata](https://pandas.pydata.org/pandas-docs/stable/user_guide/basics.html) serves as a reference\n",
        "\n",
        "-   The book `Modern Pandas` by Tom Augspurger: https://tomaugspurger.github.io/modern-1-intro.html\n",
        "\n",
        "McKinney, Wes. 2012. *Python for Data Analysis: Data Wrangling with Pandas, NumPy, and IPython*. \" O’Reilly Media, Inc.\".\n",
        "\n",
        "Wickham, Hadley, Mine Çetinkaya-Rundel, and Garrett Grolemund. 2023. *R for Data Science*. \" O’Reilly Media, Inc.\"."
      ],
      "id": "7a99f6e7-4efc-40d1-8765-ccc3804035ac"
    }
  ],
  "nbformat": 4,
  "nbformat_minor": 5,
  "metadata": {
    "kernelspec": {
      "name": "python3",
      "display_name": "Python 3 (ipykernel)",
      "language": "python",
      "path": "/opt/conda/share/jupyter/kernels/python3"
    },
    "language_info": {
      "name": "python",
      "codemirror_mode": {
        "name": "ipython",
        "version": "3"
      },
      "file_extension": ".py",
      "mimetype": "text/x-python",
      "nbconvert_exporter": "python",
      "pygments_lexer": "ipython3",
      "version": "3.12.6"
    }
  }
}